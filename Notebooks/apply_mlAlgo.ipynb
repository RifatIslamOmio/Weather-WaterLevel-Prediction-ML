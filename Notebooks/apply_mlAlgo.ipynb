{
  "nbformat": 4,
  "nbformat_minor": 0,
  "metadata": {
    "colab": {
      "name": "apply_mlAlgo.ipynb",
      "provenance": [],
      "collapsed_sections": [],
      "authorship_tag": "ABX9TyNsZ6SV18odBw7YmQVBhAOp",
      "include_colab_link": true
    },
    "kernelspec": {
      "name": "python3",
      "display_name": "Python 3"
    },
    "language_info": {
      "name": "python"
    }
  },
  "cells": [
    {
      "cell_type": "markdown",
      "metadata": {
        "id": "view-in-github",
        "colab_type": "text"
      },
      "source": [
        "<a href=\"https://colab.research.google.com/github/ferdouszislam/Weather-WaterLevel-Prediction-ML/blob/main/Notebooks/apply_mlAlgo.ipynb\" target=\"_parent\"><img src=\"https://colab.research.google.com/assets/colab-badge.svg\" alt=\"Open In Colab\"/></a>"
      ]
    },
    {
      "cell_type": "code",
      "metadata": {
        "id": "f6ghUk3asi-D"
      },
      "source": [
        "import pandas as pd\n",
        "import numpy as np\n",
        "import matplotlib.pyplot as plt"
      ],
      "execution_count": 1,
      "outputs": []
    },
    {
      "cell_type": "code",
      "metadata": {
        "id": "y3ujsdt94Xv_"
      },
      "source": [
        "# random seed\n",
        "RAND_SEED = 42"
      ],
      "execution_count": 2,
      "outputs": []
    },
    {
      "cell_type": "markdown",
      "metadata": {
        "id": "fuvqLmhSwBM9"
      },
      "source": [
        "## Regression"
      ]
    },
    {
      "cell_type": "code",
      "metadata": {
        "id": "S-Wrs3PA507j"
      },
      "source": [
        "from sklearn.linear_model import LinearRegression, Ridge\n",
        "from sklearn.model_selection import KFold, cross_val_score, GridSearchCV\n",
        "from sklearn.metrics import r2_score, mean_absolute_error, mean_squared_error\n",
        "from math import sqrt"
      ],
      "execution_count": 3,
      "outputs": []
    },
    {
      "cell_type": "code",
      "metadata": {
        "id": "Y8u5E48U5-vC"
      },
      "source": [
        "def train_regression(model, param_grid, X_train, y_train):\n",
        "\n",
        "  # 10-fold cross validation\n",
        "  cv = KFold(n_splits=10, random_state=RAND_SEED, shuffle= True)\n",
        "\n",
        "  # use gridsearch to check all values in param_grid\n",
        "  model = GridSearchCV(model, param_grid, scoring=['r2', 'neg_mean_absolute_error', 'neg_root_mean_squared_error'], refit='r2', cv=cv)\n",
        "  # fit model to data\n",
        "  model.fit(X_train, y_train)\n",
        "\n",
        "  selected_hyperparams = model.best_params_\n",
        "  train_r2 = round(model.cv_results_['mean_test_r2'][model.best_index_], 4)\n",
        "  train_mae = -1*round(model.cv_results_['mean_test_neg_mean_absolute_error'][model.best_index_], 4)\n",
        "  train_rmse = -1*round(model.cv_results_['mean_test_neg_root_mean_squared_error'][model.best_index_], 4)\n",
        "\n",
        "  return model, selected_hyperparams, train_r2, train_mae, train_rmse\n",
        "\n",
        "def eval_regression(model, X_test, y_test):\n",
        "  y_test_pred = model.predict(X_test)\n",
        "  test_r2 = round(r2_score(y_test, y_test_pred), 4)\n",
        "  test_mae = round(mean_absolute_error(y_test, y_test_pred), 4)\n",
        "  test_rmse = round(sqrt(mean_squared_error(y_test, y_test_pred)), 4)\n",
        "\n",
        "  return test_r2, test_mae, test_rmse"
      ],
      "execution_count": 4,
      "outputs": []
    },
    {
      "cell_type": "markdown",
      "metadata": {
        "id": "eBmryQFLlNOc"
      },
      "source": [
        "### Load the datasets"
      ]
    },
    {
      "cell_type": "code",
      "metadata": {
        "id": "zElPnptclMbD"
      },
      "source": [
        "# Load the train dataset\n",
        "train_df = pd.read_csv('https://raw.githubusercontent.com/ferdouszislam/Weather-WaterLevel-Prediction-ML/main/Datasets/brri-datasets/final-dataset/train/brri-weather_train_regression.csv')\n",
        "X_train = train_df.drop(columns='Rainfall (mm)')\n",
        "y_train = train_df['Rainfall (mm)']\n",
        "\n",
        "# Load test set\n",
        "test_df = pd.read_csv('https://raw.githubusercontent.com/ferdouszislam/Weather-WaterLevel-Prediction-ML/main/Datasets/brri-datasets/final-dataset/test/brri-weather_test_regression.csv')\n",
        "X_test = test_df.drop(columns='Rainfall (mm)')\n",
        "y_test = test_df['Rainfall (mm)']"
      ],
      "execution_count": 5,
      "outputs": []
    },
    {
      "cell_type": "markdown",
      "metadata": {
        "id": "D61S8fO6lUXQ"
      },
      "source": [
        "### Apply Linear Regression"
      ]
    },
    {
      "cell_type": "code",
      "metadata": {
        "colab": {
          "base_uri": "https://localhost:8080/"
        },
        "id": "s5OI6zS95KdW",
        "outputId": "5efd39b0-947e-427e-a06e-44480073c54b"
      },
      "source": [
        "# Linear Regression Model\n",
        "model = LinearRegression()\n",
        "# dictionary of hyper-parameters\n",
        "param_grid = {}\n",
        "\n",
        "# train model\n",
        "model, selected_hyperparams, train_r2, train_mae, train_rmse = train_regression(model, param_grid, X_train, y_train)\n",
        "print(f'Selected hyperparameters: {selected_hyperparams}')\n",
        "# performance on the train set\n",
        "print(f'Train set performance: r2-score={train_r2}, mae={train_mae}, rmse={train_rmse}')\n",
        "\n",
        "print()\n",
        "\n",
        "# test model\n",
        "test_r2, test_mae, test_rmse = eval_regression(model, X_test, y_test)\n",
        "# performance on the test set\n",
        "print(f'Test set performance: r2-score={test_r2}, mae={test_mae}, rmse={test_rmse}')"
      ],
      "execution_count": 6,
      "outputs": [
        {
          "output_type": "stream",
          "name": "stdout",
          "text": [
            "Selected hyperparameters: {}\n",
            "Train set performance: r2-score=0.1807, mae=7.3243, rmse=13.5442\n",
            "\n",
            "Test set performance: r2-score=0.1076, mae=7.8221, rmse=16.3342\n"
          ]
        }
      ]
    },
    {
      "cell_type": "markdown",
      "metadata": {
        "id": "udwD5rRRrMNv"
      },
      "source": [
        "### Apply Ridge Regression"
      ]
    },
    {
      "cell_type": "code",
      "metadata": {
        "colab": {
          "base_uri": "https://localhost:8080/"
        },
        "id": "8vr_wgQgrMNv",
        "outputId": "296b7c9d-45d0-4a24-f2fd-85a3958495ba"
      },
      "source": [
        "# Ridge Regression Model\n",
        "model = Ridge(random_state=RAND_SEED)\n",
        "# dictionary of hyper-parameters\n",
        "alpha_vals = [1.0]\n",
        "for i in range(1, 4):\n",
        "  b = 1.0/10**i\n",
        "  for j in range(1, 10):\n",
        "    alpha_vals.append(round(b*j, 3))\n",
        "solvers = ['sparse_cg', 'cholesky', 'svd', 'lsqr', 'sag', 'saga']\n",
        "param_grid = {'alpha': alpha_vals, 'solver': solvers}\n",
        "\n",
        "# train model\n",
        "model, selected_hyperparams, train_r2, train_mae, train_rmse = train_regression(model, param_grid, X_train, y_train)\n",
        "print(f'Selected hyperparameters: {selected_hyperparams}')\n",
        "# performance on the train set\n",
        "print(f'Train set performance: r2-score={train_r2}, mae={train_mae}, rmse={train_rmse}')\n",
        "\n",
        "print()\n",
        "\n",
        "# test model\n",
        "test_r2, test_mae, test_rmse = eval_regression(model, X_test, y_test)\n",
        "# performance on the test set\n",
        "print(f'Test set performance: r2-score={test_r2}, mae={test_mae}, rmse={test_rmse}')"
      ],
      "execution_count": 7,
      "outputs": [
        {
          "output_type": "stream",
          "name": "stdout",
          "text": [
            "Selected hyperparameters: {'alpha': 1.0, 'solver': 'lsqr'}\n",
            "Train set performance: r2-score=0.1818, mae=7.3124, rmse=13.5355\n",
            "\n",
            "Test set performance: r2-score=0.1075, mae=7.8176, rmse=16.3356\n"
          ]
        }
      ]
    },
    {
      "cell_type": "markdown",
      "metadata": {
        "id": "LUqIDxJ406uR"
      },
      "source": [
        "## Classification"
      ]
    },
    {
      "cell_type": "code",
      "metadata": {
        "id": "vzREvH872y9R"
      },
      "source": [
        "from sklearn.tree import DecisionTreeClassifier\n",
        "from sklearn.model_selection import StratifiedKFold\n",
        "from sklearn.metrics import accuracy_score, precision_score, recall_score, f1_score, roc_auc_score"
      ],
      "execution_count": 8,
      "outputs": []
    },
    {
      "cell_type": "code",
      "metadata": {
        "id": "h93lyitU231a"
      },
      "source": [
        "def train_classification(model, param_grid, X_train, y_train):\n",
        "\n",
        "  # 10-fold cross validation\n",
        "  cv = StratifiedKFold(n_splits=10, random_state=RAND_SEED, shuffle= True)\n",
        "\n",
        "  # use gridsearch to check all values in param_grid\n",
        "  model = GridSearchCV(model, param_grid, scoring=['accuracy', 'f1_macro'], refit='accuracy', cv=cv)\n",
        "  # fit model to data\n",
        "  model.fit(X_train, y_train)\n",
        "\n",
        "  selected_hyperparams = model.best_params_\n",
        "  train_accuracy = round(model.cv_results_['mean_test_accuracy'][model.best_index_], 4)\n",
        "  train_f1 = round(model.cv_results_['mean_test_f1_macro'][model.best_index_], 4)\n",
        "  # train_auc = round(model.cv_results_['mean_test_roc_auc'][model.best_index_], 4)\n",
        "\n",
        "  return model, selected_hyperparams, train_accuracy, train_f1\n",
        "\n",
        "def eval_classification(model, X_test, y_test):\n",
        "  y_test_pred = model.predict(X_test)\n",
        "  test_accuracy = round(accuracy_score(y_test, y_test_pred), 4)\n",
        "  test_f1 = round(f1_score(y_test, y_test_pred, average='macro'), 4)\n",
        "  # test_auc = round(roc_auc_score(y_test, y_test_pred), 4)\n",
        "\n",
        "  return test_accuracy, test_f1\n",
        "\n",
        "def showEvalutationGraph_classification(ModelClass, X, y, x_axis_param_name, x_axis_param_vals, selected_x_axis_param_val, other_model_params):\n",
        "  cv = StratifiedKFold(n_splits=10, random_state=RAND_SEED, shuffle= True)\n",
        "\n",
        "  accuracies = []\n",
        "  f1s = []\n",
        "  # aucs = []\n",
        "\n",
        "  for x_axis_param_val in x_axis_param_vals:\n",
        "    model_params = other_model_params\n",
        "    model_params[x_axis_param_name] = x_axis_param_val\n",
        "\n",
        "    model = ModelClass(**model_params)\n",
        "\n",
        "    accuracy_segments = cross_val_score(model, X, y, scoring='accuracy',cv=cv, n_jobs=1)\n",
        "    f1_segments = cross_val_score(model, X, y, scoring='f1_macro',cv=cv, n_jobs=1)\n",
        "    # auc_segments = cross_val_score(model, X, y, scoring='roc_auc',cv=cv, n_jobs=1)\n",
        "    accuracies.append(np.mean(accuracy_segments))\n",
        "    f1s.append(np.mean(f1_segments))\n",
        "    # aucs.append(np.mean(auc_segments))\n",
        "\n",
        "  plt.figure(figsize =(15,9))\n",
        "  plt.plot(x_axis_param_vals, accuracies, 'ro-',  x_axis_param_vals, f1s ,'bv-') #, x_axis_param_vals, aucs,'yo-')\n",
        "  plt.axvline(x=selected_x_axis_param_val, color='k', linestyle='--')\n",
        "  plt.legend(['Accuracy','Macro F1', f'selected value ({x_axis_param_name}={selected_x_axis_param_val})'], fontsize=16)\n",
        "  plt.xlabel(x_axis_param_name, fontsize=18)\n",
        "  plt.ylabel('Accuracy, Macro F1', fontsize=18)\n",
        "  plt.xticks(fontsize=18)\n",
        "  plt.yticks(fontsize=18)\n",
        "  plt.show()"
      ],
      "execution_count": 9,
      "outputs": []
    },
    {
      "cell_type": "markdown",
      "metadata": {
        "id": "pUVgVJL15b4y"
      },
      "source": [
        "### Load the datasets"
      ]
    },
    {
      "cell_type": "code",
      "metadata": {
        "id": "atDiLye14Et-"
      },
      "source": [
        "# Load the train dataset\n",
        "train_df = pd.read_csv('https://raw.githubusercontent.com/ferdouszislam/Weather-WaterLevel-Prediction-ML/main/Datasets/brri-datasets/final-dataset/train/brri-weather_train_classification.csv')\n",
        "X_train = train_df.drop(columns='Rainfall')\n",
        "y_train = train_df['Rainfall']\n",
        "\n",
        "# Load test set\n",
        "test_df = pd.read_csv('https://raw.githubusercontent.com/ferdouszislam/Weather-WaterLevel-Prediction-ML/main/Datasets/brri-datasets/final-dataset/test/brri-weather_test_classification.csv')\n",
        "X_test = test_df.drop(columns='Rainfall')\n",
        "y_test = test_df['Rainfall']"
      ],
      "execution_count": 10,
      "outputs": []
    },
    {
      "cell_type": "markdown",
      "metadata": {
        "id": "JknhlXRn4CVB"
      },
      "source": [
        "### Apply Decision Tree"
      ]
    },
    {
      "cell_type": "code",
      "metadata": {
        "colab": {
          "base_uri": "https://localhost:8080/"
        },
        "id": "cDMGp0Mr4BC4",
        "outputId": "c20b6386-af0e-4618-9953-1d5907fbde99"
      },
      "source": [
        "# Decision Tree Model\n",
        "model = DecisionTreeClassifier(random_state=RAND_SEED)\n",
        "# dictionary of hyper-parameters\n",
        "max_depths = [x for x in range (1, 31)]\n",
        "param_grid = {'max_depth': max_depths, 'criterion': ['gini', 'entropy'], 'class_weight': [None, 'balanced']}\n",
        "\n",
        "# train model\n",
        "model, selected_hyperparams, train_accuracy, train_f1 = train_classification(model, param_grid, X_train, y_train)\n",
        "print(f'Selected hyperparameters: {selected_hyperparams}')\n",
        "# performance on the train set\n",
        "print(f'Train set performance: accuracy={train_accuracy}, macro-f1={train_f1}')\n",
        "\n",
        "print()\n",
        "\n",
        "# test model\n",
        "test_accuracy, test_f1 = eval_classification(model, X_test, y_test)\n",
        "# performance on the test set\n",
        "print(f'Test set performance: accuracy={test_accuracy}, macro-f1={test_f1}')"
      ],
      "execution_count": 11,
      "outputs": [
        {
          "output_type": "stream",
          "name": "stdout",
          "text": [
            "Selected hyperparameters: {'class_weight': None, 'criterion': 'gini', 'max_depth': 2}\n",
            "Train set performance: accuracy=0.9997, macro-f1=0.9998\n",
            "\n",
            "Test set performance: accuracy=1.0, macro-f1=1.0\n"
          ]
        }
      ]
    },
    {
      "cell_type": "code",
      "metadata": {
        "colab": {
          "base_uri": "https://localhost:8080/",
          "height": 567
        },
        "id": "LNCG2hEx-nS8",
        "outputId": "c0d2273e-2aff-42c2-f6e6-9490f7556e32"
      },
      "source": [
        "model_params = dict(criterion='gini', max_depth=2, random_state=RAND_SEED)\n",
        "showEvalutationGraph_classification(DecisionTreeClassifier, X_train, y_train, 'max_depth', max_depths, 2, model_params)"
      ],
      "execution_count": 12,
      "outputs": [
        {
          "output_type": "display_data",
          "data": {
            "image/png": "[encoded data removed]",
            "text/plain": [
              "<Figure size 1080x648 with 1 Axes>"
            ]
          },
          "metadata": {
            "needs_background": "light"
          }
        }
      ]
    }
  ]
}