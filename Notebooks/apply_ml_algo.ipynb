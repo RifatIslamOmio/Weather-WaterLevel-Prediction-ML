{
  "nbformat": 4,
  "nbformat_minor": 0,
  "metadata": {
    "colab": {
      "name": "apply_ml-algo.ipynb",
      "provenance": [],
      "collapsed_sections": [],
      "authorship_tag": "ABX9TyOkXNsBjg+z9jQZrORtdECd",
      "include_colab_link": true
    },
    "kernelspec": {
      "name": "python3",
      "display_name": "Python 3"
    },
    "language_info": {
      "name": "python"
    }
  },
  "cells": [
    {
      "cell_type": "markdown",
      "metadata": {
        "id": "view-in-github",
        "colab_type": "text"
      },
      "source": [
        "<a href=\"https://colab.research.google.com/github/ferdouszislam/Weather-WaterLevel-Prediction-ML/blob/main/apply_ml_algo.ipynb\" target=\"_parent\"><img src=\"https://colab.research.google.com/assets/colab-badge.svg\" alt=\"Open In Colab\"/></a>"
      ]
    },
    {
      "cell_type": "code",
      "metadata": {
        "id": "f6ghUk3asi-D"
      },
      "source": [
        "import pandas as pd\n",
        "import numpy as np\n",
        "import matplotlib.pyplot as plt"
      ],
      "execution_count": 14,
      "outputs": []
    },
    {
      "cell_type": "code",
      "metadata": {
        "id": "y3ujsdt94Xv_"
      },
      "source": [
        "# random seed\n",
        "RAND_SEED = 42"
      ],
      "execution_count": 15,
      "outputs": []
    },
    {
      "cell_type": "markdown",
      "metadata": {
        "id": "fuvqLmhSwBM9"
      },
      "source": [
        "## Regression"
      ]
    },
    {
      "cell_type": "code",
      "metadata": {
        "id": "S-Wrs3PA507j"
      },
      "source": [
        "from sklearn.linear_model import LinearRegression, Ridge\n",
        "from sklearn.model_selection import KFold, StratifiedKFold, cross_val_score, GridSearchCV\n",
        "from sklearn.metrics import r2_score, mean_absolute_error, mean_squared_error\n",
        "from math import sqrt"
      ],
      "execution_count": 16,
      "outputs": []
    },
    {
      "cell_type": "code",
      "metadata": {
        "id": "Y8u5E48U5-vC"
      },
      "source": [
        "def train_regression(model, param_grid, X_train, y_train):\n",
        "\n",
        "  # 10-fold cross validation\n",
        "  cv = KFold(n_splits=10, random_state=RAND_SEED, shuffle= True)\n",
        "\n",
        "  # use gridsearch to check all values in param_grid\n",
        "  model = GridSearchCV(model, param_grid, scoring=['r2', 'neg_mean_absolute_error', 'neg_root_mean_squared_error'], refit='r2', cv=cv)\n",
        "  # fit model to data\n",
        "  model.fit(X_train, y_train)\n",
        "\n",
        "  selected_hyperparams = model.best_params_\n",
        "  train_r2 = -1*round(model.cv_results_['mean_test_r2'][model.best_index_], 4)\n",
        "  train_mae = -1*round(model.cv_results_['mean_test_neg_mean_absolute_error'][model.best_index_], 4)\n",
        "  train_rmse = -1*round(model.cv_results_['mean_test_neg_root_mean_squared_error'][model.best_index_], 4)\n",
        "\n",
        "  return model, selected_hyperparams, train_r2, train_mae, train_rmse\n",
        "\n",
        "def eval_regression(model, X_test, y_test):\n",
        "  y_test_pred = model.predict(X_test)\n",
        "  test_r2 = round(r2_score(y_test, y_test_pred), 4)\n",
        "  test_mae = round(mean_absolute_error(y_test, y_test_pred), 4)\n",
        "  test_rmse = round(sqrt(mean_squared_error(y_test, y_test_pred)), 4)\n",
        "\n",
        "  return test_r2, test_mae, test_rmse"
      ],
      "execution_count": 17,
      "outputs": []
    },
    {
      "cell_type": "markdown",
      "metadata": {
        "id": "eBmryQFLlNOc"
      },
      "source": [
        "### Load the datasets"
      ]
    },
    {
      "cell_type": "code",
      "metadata": {
        "id": "zElPnptclMbD"
      },
      "source": [
        "# Load the train dataset\n",
        "train_df = pd.read_csv('https://raw.githubusercontent.com/ferdouszislam/Weather-WaterLevel-Prediction-ML/main/Datasets/brri-datasets/final-dataset/train/brri-weather_train_regression.csv')\n",
        "X_train = train_df.drop(columns='Rainfall (mm)')\n",
        "y_train = train_df['Rainfall (mm)']\n",
        "\n",
        "# Load test set\n",
        "test_df = pd.read_csv('https://raw.githubusercontent.com/ferdouszislam/Weather-WaterLevel-Prediction-ML/main/Datasets/brri-datasets/final-dataset/test/brri-weather_test_regression.csv')\n",
        "X_test = test_df.drop(columns='Rainfall (mm)')\n",
        "y_test = test_df['Rainfall (mm)']"
      ],
      "execution_count": 19,
      "outputs": []
    },
    {
      "cell_type": "markdown",
      "metadata": {
        "id": "D61S8fO6lUXQ"
      },
      "source": [
        "### Apply Linear Regression"
      ]
    },
    {
      "cell_type": "code",
      "metadata": {
        "colab": {
          "base_uri": "https://localhost:8080/"
        },
        "id": "s5OI6zS95KdW",
        "outputId": "29982d92-5e7f-43e9-af10-4fbb89ce7af8"
      },
      "source": [
        "# Linear Regression Model\n",
        "model = LinearRegression()\n",
        "# dictionary of hyper-parameters\n",
        "param_grid = {}\n",
        "\n",
        "# train model\n",
        "model, selected_hyperparams, train_r2, train_mae, train_rmse = train_regression(model, param_grid, X_train, y_train)\n",
        "print(f'Selected hyperparameters: {selected_hyperparams}')\n",
        "# performance on the train set\n",
        "print(f'Train set performance: r2-score={train_r2}, mae={train_mae}, rmse={train_rmse}')\n",
        "\n",
        "print()\n",
        "\n",
        "# test model\n",
        "test_r2, test_mae, test_rmse = eval_regression(model, X_test, y_test)\n",
        "# performance on the test set\n",
        "print(f'Test set performance: r2-score={test_r2}, mae={test_mae}, rmse={test_rmse}')"
      ],
      "execution_count": 20,
      "outputs": [
        {
          "output_type": "stream",
          "name": "stdout",
          "text": [
            "Selected hyperparameters: {}\n",
            "Train set performance: r2-score=-0.1808, mae=7.3246, rmse=13.5433\n",
            "\n",
            "Test set performance: r2-score=0.1076, mae=7.8221, rmse=16.3342\n"
          ]
        }
      ]
    },
    {
      "cell_type": "markdown",
      "metadata": {
        "id": "udwD5rRRrMNv"
      },
      "source": [
        "### Apply Ridge Regression"
      ]
    },
    {
      "cell_type": "code",
      "metadata": {
        "colab": {
          "base_uri": "https://localhost:8080/"
        },
        "id": "8vr_wgQgrMNv",
        "outputId": "157cb408-6627-4d41-9cc4-174e1a00b1c4"
      },
      "source": [
        "# Ridge Regression Model\n",
        "model = Ridge(random_state=RAND_SEED)\n",
        "# dictionary of hyper-parameters\n",
        "alpha_vals = [1.0]\n",
        "for i in range(1, 4):\n",
        "  b = 1.0/10**i\n",
        "  for j in range(1, 10):\n",
        "    alpha_vals.append(round(b*j, 3))\n",
        "solvers = ['sparse_cg', 'cholesky', 'svd', 'lsqr', 'sag', 'saga']\n",
        "param_grid = {'alpha': alpha_vals, 'solver': solvers}\n",
        "\n",
        "# train model\n",
        "model, selected_hyperparams, train_r2, train_mae, train_rmse = train_regression(model, param_grid, X_train, y_train)\n",
        "print(f'Selected hyperparameters: {selected_hyperparams}')\n",
        "# performance on the train set\n",
        "print(f'Train set performance: r2-score={train_r2}, mae={train_mae}, rmse={train_rmse}')\n",
        "\n",
        "print()\n",
        "\n",
        "# test model\n",
        "test_r2, test_mae, test_rmse = eval_regression(model, X_test, y_test)\n",
        "# performance on the test set\n",
        "print(f'Test set performance: r2-score={test_r2}, mae={test_mae}, rmse={test_rmse}')"
      ],
      "execution_count": 29,
      "outputs": [
        {
          "output_type": "stream",
          "name": "stdout",
          "text": [
            "Selected hyperparameters: {'alpha': 1.0, 'solver': 'saga'}\n",
            "Train set performance: r2-score=-0.1829, mae=7.3103, rmse=13.5292\n",
            "\n",
            "Test set performance: r2-score=0.1124, mae=7.7839, rmse=16.2905\n"
          ]
        }
      ]
    },
    {
      "cell_type": "markdown",
      "metadata": {
        "id": "LUqIDxJ406uR"
      },
      "source": [
        "## Classification"
      ]
    }
  ]
}