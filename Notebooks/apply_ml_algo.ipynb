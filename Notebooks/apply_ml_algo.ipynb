{
  "nbformat": 4,
  "nbformat_minor": 0,
  "metadata": {
    "colab": {
      "name": "apply_ml-algo.ipynb",
      "provenance": [],
      "authorship_tag": "ABX9TyNX/e7p0e7qyDpPedJkYi68",
      "include_colab_link": true
    },
    "kernelspec": {
      "name": "python3",
      "display_name": "Python 3"
    },
    "language_info": {
      "name": "python"
    }
  },
  "cells": [
    {
      "cell_type": "markdown",
      "metadata": {
        "id": "view-in-github",
        "colab_type": "text"
      },
      "source": [
        "<a href=\"https://colab.research.google.com/github/ferdouszislam/Weather-WaterLevel-Prediction-ML/blob/main/Notebooks/apply_ml_algo.ipynb\" target=\"_parent\"><img src=\"https://colab.research.google.com/assets/colab-badge.svg\" alt=\"Open In Colab\"/></a>"
      ]
    },
    {
      "cell_type": "code",
      "metadata": {
        "id": "f6ghUk3asi-D"
      },
      "source": [
        "import pandas as pd\n",
        "import numpy as np\n",
        "import matplotlib.pyplot as plt"
      ],
      "execution_count": 1,
      "outputs": []
    },
    {
      "cell_type": "code",
      "metadata": {
        "id": "y3ujsdt94Xv_"
      },
      "source": [
        "# random seed\n",
        "RAND_SEED = 42"
      ],
      "execution_count": 2,
      "outputs": []
    },
    {
      "cell_type": "markdown",
      "metadata": {
        "id": "fuvqLmhSwBM9"
      },
      "source": [
        "## Regression"
      ]
    },
    {
      "cell_type": "code",
      "metadata": {
        "id": "S-Wrs3PA507j"
      },
      "source": [
        "from sklearn.linear_model import LinearRegression\n",
        "from sklearn.model_selection import KFold, cross_val_score, GridSearchCV\n",
        "from sklearn.metrics import r2_score, mean_absolute_error, mean_squared_error\n",
        "from math import sqrt"
      ],
      "execution_count": 3,
      "outputs": []
    },
    {
      "cell_type": "code",
      "metadata": {
        "id": "Y8u5E48U5-vC"
      },
      "source": [
        "def train_regression(model, param_grid, X_train, y_train):\n",
        "\n",
        "  # 10-fold cross validation\n",
        "  cv = KFold(n_splits=10, random_state=RAND_SEED, shuffle= True)\n",
        "\n",
        "  # use gridsearch to check all values in param_grid\n",
        "  model = GridSearchCV(model, param_grid, scoring=['r2', 'neg_mean_absolute_error', 'neg_root_mean_squared_error'], refit='r2', cv=cv)\n",
        "  # fit model to data\n",
        "  model.fit(X_train, y_train)\n",
        "\n",
        "  selected_hyperparams = model.best_params_\n",
        "  train_r2 = round(model.cv_results_['mean_test_r2'][model.best_index_], 3)\n",
        "  train_mae = round(model.cv_results_['mean_test_neg_mean_absolute_error'][model.best_index_], 3)\n",
        "  train_rmse = round(model.cv_results_['mean_test_neg_root_mean_squared_error'][model.best_index_], 3)\n",
        "\n",
        "  return model, selected_hyperparams, train_r2, train_mae, train_rmse\n",
        "\n",
        "def eval_regression(model, X_test, y_test):\n",
        "  y_test_pred = model.predict(X_test)\n",
        "  test_r2 = round(r2_score(y_test, y_test_pred), 3)\n",
        "  test_mae = round(mean_absolute_error(y_test, y_test_pred), 3)\n",
        "  test_rmse = round(sqrt(mean_squared_error(y_test, y_test_pred)), 3)\n",
        "\n",
        "  return test_r2, test_mae, test_rmse"
      ],
      "execution_count": 4,
      "outputs": []
    },
    {
      "cell_type": "code",
      "metadata": {
        "id": "ibcy15kO-L3o"
      },
      "source": [
        "def showEvalutationGraph_regression(model, X, y, x_axis_param_name, x_axis_param_vals, selected_x_axis_param_val, other_model_params):\n",
        "  # FUNCTION NOT TESTED!!!\n",
        "\n",
        "  cv = StratifiedKFold(n_splits=10, random_state=RAND_SEED, shuffle= True)\n",
        "\n",
        "  r2s = []\n",
        "  maes = []\n",
        "  rmses = []\n",
        "\n",
        "  for x_axis_param_val in x_axis_param_vals:\n",
        "    model_params = other_model_params\n",
        "    model_params[x_axis_param_name] = x_axis_param_val\n",
        "\n",
        "    model = model(**model_params)\n",
        "\n",
        "    r2_segments = cross_val_score(model, X, y, scoring='r2',cv=cv, n_jobs=1)\n",
        "    mae_segments = cross_val_score(model, X, y, scoring='neg_mean_absolute_error',cv=cv, n_jobs=1)\n",
        "    rmse_segments = cross_val_score(model, X, y, scoring='neg_root_mean_squared_error',cv=cv, n_jobs=1)\n",
        "    r2s.append(np.mean(r2_segments))\n",
        "    maes.append(np.mean(mae_segments))\n",
        "    rmses.append(np.mean(rmse_segments))\n",
        "\n",
        "  plt.figure(figsize =(15,9))\n",
        "  plt.plot(max_depth, accuracies, 'ro-',  max_depth, f1s ,'bv-', max_depth, aucs,'yo-')\n",
        "  plt.axvline(x=selected_x_axis_param_val, color='k', linestyle='--')\n",
        "  plt.legend(['R2','MAE','RMSE', f'selected value ({x_axis_param_name}={selected_x_axis_param_val})'], fontsize=16)\n",
        "  plt.xlabel(x_axis_param_name, fontsize=18)\n",
        "  plt.ylabel('R2, MAE, RMSE', fontsize=18)\n",
        "  plt.xticks(fontsize=18)\n",
        "  plt.yticks(fontsize=18)\n",
        "  plt.show()"
      ],
      "execution_count": 5,
      "outputs": []
    },
    {
      "cell_type": "markdown",
      "metadata": {
        "id": "eBmryQFLlNOc"
      },
      "source": [
        "### Load the datasets"
      ]
    },
    {
      "cell_type": "code",
      "metadata": {
        "id": "zElPnptclMbD"
      },
      "source": [
        "# Load the train dataset\n",
        "train_df = pd.read_csv('https://raw.githubusercontent.com/ferdouszislam/Weather-WaterLevel-Prediction-ML/main/Datasets/brri-datasets/final-dataset/train/brri-weather_train_regression.csv')\n",
        "X_train = train_df.drop(columns='Rainfall (mm)')\n",
        "y_train = train_df['Rainfall (mm)']\n",
        "\n",
        "# Load test set\n",
        "test_df = pd.read_csv('https://raw.githubusercontent.com/ferdouszislam/Weather-WaterLevel-Prediction-ML/main/Datasets/brri-datasets/final-dataset/test/brri-weather_test_regression.csv')\n",
        "X_test = test_df.drop(columns='Rainfall (mm)')\n",
        "y_test = test_df['Rainfall (mm)']"
      ],
      "execution_count": 6,
      "outputs": []
    },
    {
      "cell_type": "markdown",
      "metadata": {
        "id": "D61S8fO6lUXQ"
      },
      "source": [
        "### Apply Linear Regression"
      ]
    },
    {
      "cell_type": "code",
      "metadata": {
        "colab": {
          "base_uri": "https://localhost:8080/"
        },
        "id": "s5OI6zS95KdW",
        "outputId": "f508e7fb-13b4-4287-9742-d373dd129127"
      },
      "source": [
        "# Linear Regression\n",
        "model = LinearRegression()\n",
        "# dictionary of hyper-parameters\n",
        "param_grid = {}\n",
        "\n",
        "# train model\n",
        "model, selected_hyperparams, train_r2, train_mae, train_rmse = train_regression(model, param_grid, X_train, y_train)\n",
        "print(f'Selected hyperparameters: {selected_hyperparams}')\n",
        "# performance on the train set\n",
        "print(f'Train set performance: r2-score={train_r2}, mae={train_mae}, rmse={train_rmse}')\n",
        "\n",
        "print()\n",
        "\n",
        "# test model\n",
        "test_r2, test_mae, test_rmse = eval_regression(model, X_test, y_test)\n",
        "# performance on the test set\n",
        "print(f'Test set performance: r2-score={test_r2}, mae={test_mae}, rmse={test_rmse}')"
      ],
      "execution_count": 7,
      "outputs": [
        {
          "output_type": "stream",
          "name": "stdout",
          "text": [
            "Selected hyperparameters: {}\n",
            "Train set performance: r2-score=0.181, mae=-7.325, rmse=-13.543\n",
            "\n",
            "Test set performance: r2-score=0.108, mae=7.822, rmse=16.334\n"
          ]
        }
      ]
    }
  ]
}