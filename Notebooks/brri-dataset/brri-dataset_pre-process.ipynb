{
 "cells": [
  {
   "cell_type": "code",
   "execution_count": 1,
   "id": "d304f3f6",
   "metadata": {},
   "outputs": [],
   "source": [
    "# required for jupyter notebook\n",
    "%matplotlib inline \n",
    "\n",
    "import pandas as pd\n",
    "import numpy as np\n",
    "import matplotlib.pyplot as plt\n",
    "\n",
    "import seaborn as sns\n",
    "sns.set(rc={'figure.figsize':(8,6)}) # set sns figure size\n",
    "\n",
    "import os\n",
    "import math"
   ]
  },
  {
   "cell_type": "code",
   "execution_count": 2,
   "id": "bf43afe9",
   "metadata": {},
   "outputs": [
    {
     "data": {
      "text/html": [
       "<div>\n",
       "<style scoped>\n",
       "    .dataframe tbody tr th:only-of-type {\n",
       "        vertical-align: middle;\n",
       "    }\n",
       "\n",
       "    .dataframe tbody tr th {\n",
       "        vertical-align: top;\n",
       "    }\n",
       "\n",
       "    .dataframe thead th {\n",
       "        text-align: right;\n",
       "    }\n",
       "</style>\n",
       "<table border=\"1\" class=\"dataframe\">\n",
       "  <thead>\n",
       "    <tr style=\"text-align: right;\">\n",
       "      <th></th>\n",
       "      <th>Station</th>\n",
       "      <th>Year</th>\n",
       "      <th>Month</th>\n",
       "      <th>Day</th>\n",
       "      <th>Max Temp. (degree Celcius)</th>\n",
       "      <th>Min Temp. (degree Celcius)</th>\n",
       "      <th>Rainfall (mm)</th>\n",
       "      <th>Actual Evaporation (mm)</th>\n",
       "      <th>Relative Humidity (morning, %)</th>\n",
       "      <th>Relative Humidity (afternoon, %)</th>\n",
       "      <th>Sunshine (hour/day)</th>\n",
       "      <th>Cloudy (hour/day)</th>\n",
       "      <th>Solar Radiation (cal/cm^2/day)</th>\n",
       "    </tr>\n",
       "  </thead>\n",
       "  <tbody>\n",
       "    <tr>\n",
       "      <th>3211</th>\n",
       "      <td>Gazipur</td>\n",
       "      <td>2020</td>\n",
       "      <td>10</td>\n",
       "      <td>24</td>\n",
       "      <td>28.4</td>\n",
       "      <td>24.2</td>\n",
       "      <td>1.2</td>\n",
       "      <td>0.0</td>\n",
       "      <td>95.0</td>\n",
       "      <td>95.0</td>\n",
       "      <td>0.0</td>\n",
       "      <td>11.5</td>\n",
       "      <td>144.40</td>\n",
       "    </tr>\n",
       "    <tr>\n",
       "      <th>636</th>\n",
       "      <td>Barisal</td>\n",
       "      <td>2018</td>\n",
       "      <td>10</td>\n",
       "      <td>7</td>\n",
       "      <td>34.6</td>\n",
       "      <td>25.4</td>\n",
       "      <td>0.0</td>\n",
       "      <td>3.0</td>\n",
       "      <td>96.0</td>\n",
       "      <td>59.0</td>\n",
       "      <td>8.0</td>\n",
       "      <td>3.6</td>\n",
       "      <td>379.66</td>\n",
       "    </tr>\n",
       "    <tr>\n",
       "      <th>1862</th>\n",
       "      <td>Gazipur</td>\n",
       "      <td>2017</td>\n",
       "      <td>2</td>\n",
       "      <td>13</td>\n",
       "      <td>30.7</td>\n",
       "      <td>18.2</td>\n",
       "      <td>0.0</td>\n",
       "      <td>4.0</td>\n",
       "      <td>60.0</td>\n",
       "      <td>39.0</td>\n",
       "      <td>7.3</td>\n",
       "      <td>3.9</td>\n",
       "      <td>343.37</td>\n",
       "    </tr>\n",
       "    <tr>\n",
       "      <th>4477</th>\n",
       "      <td>Habiganj</td>\n",
       "      <td>2019</td>\n",
       "      <td>3</td>\n",
       "      <td>12</td>\n",
       "      <td>32.2</td>\n",
       "      <td>20.8</td>\n",
       "      <td>0.0</td>\n",
       "      <td>3.0</td>\n",
       "      <td>86.0</td>\n",
       "      <td>83.0</td>\n",
       "      <td>3.7</td>\n",
       "      <td>8.1</td>\n",
       "      <td>279.86</td>\n",
       "    </tr>\n",
       "    <tr>\n",
       "      <th>3197</th>\n",
       "      <td>Gazipur</td>\n",
       "      <td>2020</td>\n",
       "      <td>10</td>\n",
       "      <td>10</td>\n",
       "      <td>36.2</td>\n",
       "      <td>27.2</td>\n",
       "      <td>0.0</td>\n",
       "      <td>5.0</td>\n",
       "      <td>71.0</td>\n",
       "      <td>62.0</td>\n",
       "      <td>6.3</td>\n",
       "      <td>5.2</td>\n",
       "      <td>326.34</td>\n",
       "    </tr>\n",
       "  </tbody>\n",
       "</table>\n",
       "</div>"
      ],
      "text/plain": [
       "       Station  Year  Month  Day  Max Temp. (degree Celcius)  \\\n",
       "3211   Gazipur  2020     10   24                        28.4   \n",
       "636    Barisal  2018     10    7                        34.6   \n",
       "1862   Gazipur  2017      2   13                        30.7   \n",
       "4477  Habiganj  2019      3   12                        32.2   \n",
       "3197   Gazipur  2020     10   10                        36.2   \n",
       "\n",
       "      Min Temp. (degree Celcius)  Rainfall (mm)  Actual Evaporation (mm)  \\\n",
       "3211                        24.2            1.2                      0.0   \n",
       "636                         25.4            0.0                      3.0   \n",
       "1862                        18.2            0.0                      4.0   \n",
       "4477                        20.8            0.0                      3.0   \n",
       "3197                        27.2            0.0                      5.0   \n",
       "\n",
       "      Relative Humidity (morning, %)  Relative Humidity (afternoon, %)  \\\n",
       "3211                            95.0                              95.0   \n",
       "636                             96.0                              59.0   \n",
       "1862                            60.0                              39.0   \n",
       "4477                            86.0                              83.0   \n",
       "3197                            71.0                              62.0   \n",
       "\n",
       "      Sunshine (hour/day)  Cloudy (hour/day)  Solar Radiation (cal/cm^2/day)  \n",
       "3211                  0.0               11.5                          144.40  \n",
       "636                   8.0                3.6                          379.66  \n",
       "1862                  7.3                3.9                          343.37  \n",
       "4477                  3.7                8.1                          279.86  \n",
       "3197                  6.3                5.2                          326.34  "
      ]
     },
     "execution_count": 2,
     "metadata": {},
     "output_type": "execute_result"
    }
   ],
   "source": [
    "# read raw csv by marking dropping missing values\n",
    "missing_values = ['NIL', 'nil', '']\n",
    "raw_df = pd.read_csv(os.path.join('..', '..', 'Datasets', 'brri-datasets', 'all-station_raw.csv'), \n",
    "                     na_values=missing_values)\n",
    "\n",
    "raw_df.sample(5)"
   ]
  },
  {
   "cell_type": "code",
   "execution_count": 3,
   "id": "8489e358",
   "metadata": {},
   "outputs": [],
   "source": [
    "preProcessed_df = raw_df.copy()"
   ]
  },
  {
   "cell_type": "markdown",
   "id": "ff687307",
   "metadata": {},
   "source": [
    "## 1. Replace invalid values with NaN\n",
    "\n",
    "- Max/Min Temp. (degree Celcius) > 50 \n",
    "- Relative Humidity (afternoon, %) > 100, \n",
    "- Sunshine/Cloudy (hour/day) > 24, \n",
    "- Solar Radiation (cal/cm^2/day) > 1000 (from the box plot)"
   ]
  },
  {
   "cell_type": "code",
   "execution_count": 4,
   "id": "44dbd113",
   "metadata": {},
   "outputs": [],
   "source": [
    "preProcessed_df.loc[preProcessed_df['Max Temp. (degree Celcius)'] > 50, 'Max Temp. (degree Celcius)'] = math.nan\n",
    "preProcessed_df.loc[preProcessed_df['Min Temp. (degree Celcius)'] > 50, 'Min Temp. (degree Celcius)'] = math.nan\n",
    "preProcessed_df.loc[preProcessed_df['Relative Humidity (afternoon, %)'] > 100, 'Relative Humidity (afternoon, %)'] = math.nan\n",
    "preProcessed_df.loc[preProcessed_df['Sunshine (hour/day)'] > 24, 'Sunshine (hour/day)'] = math.nan\n",
    "preProcessed_df.loc[preProcessed_df['Cloudy (hour/day)'] > 24, 'Cloudy (hour/day)'] = math.nan\n",
    "preProcessed_df.loc[preProcessed_df['Solar Radiation (cal/cm^2/day)'] > 1000, 'Solar Radiation (cal/cm^2/day)'] = math.nan"
   ]
  },
  {
   "cell_type": "code",
   "execution_count": 5,
   "id": "af43d07e",
   "metadata": {},
   "outputs": [],
   "source": [
    "# show_missing_data(preProcessed_df)"
   ]
  },
  {
   "cell_type": "markdown",
   "id": "9f43d3e5",
   "metadata": {},
   "source": [
    "## 2. Fill up (or drop) the missing values"
   ]
  },
  {
   "cell_type": "code",
   "execution_count": 6,
   "id": "8227e2ea",
   "metadata": {},
   "outputs": [
    {
     "name": "stdout",
     "output_type": "stream",
     "text": [
      "Total instances=4954, missing=880(17.76%)\n"
     ]
    }
   ],
   "source": [
    "def show_missing_data(_df):\n",
    "    df = _df.copy()\n",
    "    total_cnt = df.shape[0]\n",
    "    missing_cnt = df.shape[0]-df.dropna().shape[0]\n",
    "    print(f'Total instances={total_cnt}, missing={missing_cnt}({round(missing_cnt*100.0/total_cnt, 2)}%)')\n",
    "\n",
    "show_missing_data(preProcessed_df)"
   ]
  },
  {
   "cell_type": "markdown",
   "id": "e089416f",
   "metadata": {},
   "source": [
    "**fillup with monthly average (of all years) for each station**"
   ]
  },
  {
   "cell_type": "code",
   "execution_count": 7,
   "id": "5b619c6b",
   "metadata": {},
   "outputs": [
    {
     "name": "stdout",
     "output_type": "stream",
     "text": [
      "Total instances=4954, missing=210(4.24%)\n"
     ]
    }
   ],
   "source": [
    "for column in preProcessed_df.columns:\n",
    "    if column in ['Station', 'Year', 'Month', 'Day']:\n",
    "        continue\n",
    "        \n",
    "    preProcessed_df[column] = preProcessed_df.groupby(['Station', 'Month'])[column].transform(\n",
    "        lambda grp: grp.fillna(np.mean(grp))\n",
    "    )\n",
    "    \n",
    "show_missing_data(preProcessed_df)"
   ]
  },
  {
   "cell_type": "code",
   "execution_count": 8,
   "id": "3ebc5490",
   "metadata": {},
   "outputs": [],
   "source": [
    "# missing_df = preProcessed_df[(preProcessed_df['Station']=='Habiganj') & (preProcessed_df.isna().any(axis=1))]\n",
    "# missing_df['Month'].value_counts()"
   ]
  },
  {
   "cell_type": "code",
   "execution_count": 9,
   "id": "d7eb56c4",
   "metadata": {},
   "outputs": [],
   "source": [
    "# preProcessed_df[preProcessed_df['Station']=='Habiganj']['Month'].value_counts()"
   ]
  },
  {
   "cell_type": "markdown",
   "id": "2eb11d35",
   "metadata": {},
   "source": [
    "**Whole month data is missing (all years) for Habiganj, have to drop them**"
   ]
  },
  {
   "cell_type": "code",
   "execution_count": 10,
   "id": "c6a8d16b",
   "metadata": {},
   "outputs": [
    {
     "name": "stdout",
     "output_type": "stream",
     "text": [
      "Total instances=4744, missing=0(0.0%)\n"
     ]
    }
   ],
   "source": [
    "preProcessed_df.dropna(inplace=True)\n",
    "show_missing_data(preProcessed_df)"
   ]
  },
  {
   "cell_type": "code",
   "execution_count": 11,
   "id": "817476b5",
   "metadata": {},
   "outputs": [
    {
     "data": {
      "text/plain": [
       "Gazipur     1827\n",
       "Barisal     1453\n",
       "Rangpur     1127\n",
       "Habiganj     337\n",
       "Name: Station, dtype: int64"
      ]
     },
     "execution_count": 11,
     "metadata": {},
     "output_type": "execute_result"
    }
   ],
   "source": [
    "preProcessed_df['Station'].value_counts()"
   ]
  },
  {
   "cell_type": "markdown",
   "id": "c535fedd",
   "metadata": {},
   "source": [
    "## Save the pre-processed dataset"
   ]
  },
  {
   "cell_type": "code",
   "execution_count": 12,
   "id": "2ceed88f",
   "metadata": {},
   "outputs": [],
   "source": [
    "preProcessed_df.to_csv(os.path.join('..', '..', 'Datasets', 'brri-datasets', 'pre-processed', 'brri-weather_preprocessed.csv'))"
   ]
  }
 ],
 "metadata": {
  "kernelspec": {
   "display_name": "Python 3",
   "language": "python",
   "name": "python3"
  },
  "language_info": {
   "codemirror_mode": {
    "name": "ipython",
    "version": 3
   },
   "file_extension": ".py",
   "mimetype": "text/x-python",
   "name": "python",
   "nbconvert_exporter": "python",
   "pygments_lexer": "ipython3",
   "version": "3.8.8"
  }
 },
 "nbformat": 4,
 "nbformat_minor": 5
}
