{
 "cells": [
  {
   "cell_type": "code",
   "execution_count": 1,
   "id": "e6e776e3",
   "metadata": {},
   "outputs": [],
   "source": [
    "# required for jupyter notebook\n",
    "%matplotlib inline \n",
    "\n",
    "import pandas as pd\n",
    "import numpy as np\n",
    "import matplotlib.pyplot as plt\n",
    "\n",
    "import seaborn as sns\n",
    "sns.set(rc={'figure.figsize':(8,6)}) # set sns figure size\n",
    "\n",
    "import os\n",
    "import math"
   ]
  },
  {
   "cell_type": "code",
   "execution_count": 2,
   "id": "c9a3eaa0",
   "metadata": {},
   "outputs": [
    {
     "data": {
      "text/html": [
       "<div>\n",
       "<style scoped>\n",
       "    .dataframe tbody tr th:only-of-type {\n",
       "        vertical-align: middle;\n",
       "    }\n",
       "\n",
       "    .dataframe tbody tr th {\n",
       "        vertical-align: top;\n",
       "    }\n",
       "\n",
       "    .dataframe thead th {\n",
       "        text-align: right;\n",
       "    }\n",
       "</style>\n",
       "<table border=\"1\" class=\"dataframe\">\n",
       "  <thead>\n",
       "    <tr style=\"text-align: right;\">\n",
       "      <th></th>\n",
       "      <th>Station</th>\n",
       "      <th>Year</th>\n",
       "      <th>Month</th>\n",
       "      <th>Day</th>\n",
       "      <th>Max Temp. (degree Celcius)</th>\n",
       "      <th>Min Temp. (degree Celcius)</th>\n",
       "      <th>Rainfall (mm)</th>\n",
       "      <th>Actual Evaporation (mm)</th>\n",
       "      <th>Relative Humidity (morning, %)</th>\n",
       "      <th>Relative Humidity (afternoon, %)</th>\n",
       "      <th>Sunshine (hour/day)</th>\n",
       "      <th>Cloudy (hour/day)</th>\n",
       "      <th>Solar Radiation (cal/cm^2/day)</th>\n",
       "    </tr>\n",
       "  </thead>\n",
       "  <tbody>\n",
       "    <tr>\n",
       "      <th>3299</th>\n",
       "      <td>Rangpur</td>\n",
       "      <td>2017</td>\n",
       "      <td>7</td>\n",
       "      <td>20</td>\n",
       "      <td>30.2</td>\n",
       "      <td>25.8</td>\n",
       "      <td>2.0</td>\n",
       "      <td>3.0</td>\n",
       "      <td>87.0</td>\n",
       "      <td>88.0</td>\n",
       "      <td>4.3</td>\n",
       "      <td>9.2</td>\n",
       "      <td>326.760</td>\n",
       "    </tr>\n",
       "    <tr>\n",
       "      <th>229</th>\n",
       "      <td>Barisal</td>\n",
       "      <td>2017</td>\n",
       "      <td>8</td>\n",
       "      <td>20</td>\n",
       "      <td>32.0</td>\n",
       "      <td>26.2</td>\n",
       "      <td>0.0</td>\n",
       "      <td>4.0</td>\n",
       "      <td>96.0</td>\n",
       "      <td>77.0</td>\n",
       "      <td>9.6</td>\n",
       "      <td>3.2</td>\n",
       "      <td>499.765</td>\n",
       "    </tr>\n",
       "    <tr>\n",
       "      <th>2027</th>\n",
       "      <td>Gazipur</td>\n",
       "      <td>2017</td>\n",
       "      <td>7</td>\n",
       "      <td>28</td>\n",
       "      <td>32.3</td>\n",
       "      <td>26.0</td>\n",
       "      <td>0.0</td>\n",
       "      <td>0.0</td>\n",
       "      <td>91.0</td>\n",
       "      <td>79.0</td>\n",
       "      <td>4.8</td>\n",
       "      <td>8.7</td>\n",
       "      <td>342.100</td>\n",
       "    </tr>\n",
       "    <tr>\n",
       "      <th>626</th>\n",
       "      <td>Barisal</td>\n",
       "      <td>2018</td>\n",
       "      <td>9</td>\n",
       "      <td>27</td>\n",
       "      <td>34.0</td>\n",
       "      <td>26.6</td>\n",
       "      <td>0.0</td>\n",
       "      <td>2.0</td>\n",
       "      <td>96.0</td>\n",
       "      <td>59.0</td>\n",
       "      <td>7.7</td>\n",
       "      <td>4.5</td>\n",
       "      <td>398.640</td>\n",
       "    </tr>\n",
       "    <tr>\n",
       "      <th>2455</th>\n",
       "      <td>Gazipur</td>\n",
       "      <td>2018</td>\n",
       "      <td>9</td>\n",
       "      <td>29</td>\n",
       "      <td>35.6</td>\n",
       "      <td>26.8</td>\n",
       "      <td>0.0</td>\n",
       "      <td>2.0</td>\n",
       "      <td>84.0</td>\n",
       "      <td>62.0</td>\n",
       "      <td>5.4</td>\n",
       "      <td>6.8</td>\n",
       "      <td>324.900</td>\n",
       "    </tr>\n",
       "  </tbody>\n",
       "</table>\n",
       "</div>"
      ],
      "text/plain": [
       "      Station  Year  Month  Day  Max Temp. (degree Celcius)  \\\n",
       "3299  Rangpur  2017      7   20                        30.2   \n",
       "229   Barisal  2017      8   20                        32.0   \n",
       "2027  Gazipur  2017      7   28                        32.3   \n",
       "626   Barisal  2018      9   27                        34.0   \n",
       "2455  Gazipur  2018      9   29                        35.6   \n",
       "\n",
       "      Min Temp. (degree Celcius)  Rainfall (mm)  Actual Evaporation (mm)  \\\n",
       "3299                        25.8            2.0                      3.0   \n",
       "229                         26.2            0.0                      4.0   \n",
       "2027                        26.0            0.0                      0.0   \n",
       "626                         26.6            0.0                      2.0   \n",
       "2455                        26.8            0.0                      2.0   \n",
       "\n",
       "      Relative Humidity (morning, %)  Relative Humidity (afternoon, %)  \\\n",
       "3299                            87.0                              88.0   \n",
       "229                             96.0                              77.0   \n",
       "2027                            91.0                              79.0   \n",
       "626                             96.0                              59.0   \n",
       "2455                            84.0                              62.0   \n",
       "\n",
       "      Sunshine (hour/day)  Cloudy (hour/day)  Solar Radiation (cal/cm^2/day)  \n",
       "3299                  4.3                9.2                         326.760  \n",
       "229                   9.6                3.2                         499.765  \n",
       "2027                  4.8                8.7                         342.100  \n",
       "626                   7.7                4.5                         398.640  \n",
       "2455                  5.4                6.8                         324.900  "
      ]
     },
     "execution_count": 2,
     "metadata": {},
     "output_type": "execute_result"
    }
   ],
   "source": [
    "# read raw csv by marking dropping missing values\n",
    "missing_values = ['NIL', 'nil', '']\n",
    "raw_df = pd.read_csv(os.path.join('..', '..', 'Datasets', 'brri-datasets', 'all-station_raw.csv'), \n",
    "                     na_values=missing_values)\n",
    "\n",
    "raw_df.sample(5)"
   ]
  },
  {
   "cell_type": "code",
   "execution_count": 3,
   "id": "642b2b03",
   "metadata": {},
   "outputs": [],
   "source": [
    "preProcessed_df = raw_df.copy()"
   ]
  },
  {
   "cell_type": "markdown",
   "id": "b208928f",
   "metadata": {},
   "source": [
    "## 1. Replace invalid values with NaN\n",
    "\n",
    "- Max/Min Temp. (degree Celcius) > 50 \n",
    "- Relative Humidity (afternoon, %) > 100, \n",
    "- Sunshine/Cloudy (hour/day) > 24, \n",
    "- Solar Radiation (cal/cm^2/day) > 1000 (from the box plot)"
   ]
  },
  {
   "cell_type": "code",
   "execution_count": 4,
   "id": "49d86a10",
   "metadata": {},
   "outputs": [],
   "source": [
    "preProcessed_df.loc[preProcessed_df['Max Temp. (degree Celcius)'] > 50, 'Max Temp. (degree Celcius)'] = math.nan\n",
    "preProcessed_df.loc[preProcessed_df['Min Temp. (degree Celcius)'] > 50, 'Min Temp. (degree Celcius)'] = math.nan\n",
    "preProcessed_df.loc[preProcessed_df['Relative Humidity (afternoon, %)'] > 100, 'Relative Humidity (afternoon, %)'] = math.nan\n",
    "preProcessed_df.loc[preProcessed_df['Sunshine (hour/day)'] > 24, 'Sunshine (hour/day)'] = math.nan\n",
    "preProcessed_df.loc[preProcessed_df['Cloudy (hour/day)'] > 24, 'Cloudy (hour/day)'] = math.nan\n",
    "preProcessed_df.loc[preProcessed_df['Solar Radiation (cal/cm^2/day)'] > 1000, 'Solar Radiation (cal/cm^2/day)'] = math.nan"
   ]
  },
  {
   "cell_type": "code",
   "execution_count": 5,
   "id": "2e8d3d54",
   "metadata": {},
   "outputs": [],
   "source": [
    "# show_missing_data(preProcessed_df)"
   ]
  },
  {
   "cell_type": "markdown",
   "id": "d988c8f5",
   "metadata": {},
   "source": [
    "## 2. Fill up (or drop) the missing values"
   ]
  },
  {
   "cell_type": "code",
   "execution_count": 6,
   "id": "5cac75c8",
   "metadata": {},
   "outputs": [
    {
     "name": "stdout",
     "output_type": "stream",
     "text": [
      "Total instances=4954, missing=880(17.76%)\n"
     ]
    }
   ],
   "source": [
    "def show_missing_data(_df):\n",
    "    df = _df.copy()\n",
    "    total_cnt = df.shape[0]\n",
    "    missing_cnt = df.shape[0]-df.dropna().shape[0]\n",
    "    print(f'Total instances={total_cnt}, missing={missing_cnt}({round(missing_cnt*100.0/total_cnt, 2)}%)')\n",
    "\n",
    "show_missing_data(preProcessed_df)"
   ]
  },
  {
   "cell_type": "markdown",
   "id": "5d23fd38",
   "metadata": {},
   "source": [
    "**fillup with monthly average (of all years) for each station**"
   ]
  },
  {
   "cell_type": "code",
   "execution_count": 7,
   "id": "1b12c006",
   "metadata": {},
   "outputs": [
    {
     "name": "stdout",
     "output_type": "stream",
     "text": [
      "Total instances=4954, missing=210(4.24%)\n"
     ]
    }
   ],
   "source": [
    "for column in preProcessed_df.columns:\n",
    "    if column in ['Station', 'Year', 'Month', 'Day']:\n",
    "        continue\n",
    "        \n",
    "    preProcessed_df[column] = preProcessed_df.groupby(['Station', 'Month'])[column].transform(\n",
    "        lambda grp: grp.fillna(np.mean(grp))\n",
    "    )\n",
    "    \n",
    "show_missing_data(preProcessed_df)"
   ]
  },
  {
   "cell_type": "code",
   "execution_count": 8,
   "id": "8e280e2b",
   "metadata": {},
   "outputs": [],
   "source": [
    "# missing_df = preProcessed_df[(preProcessed_df['Station']=='Habiganj') & (preProcessed_df.isna().any(axis=1))]\n",
    "# missing_df['Month'].value_counts()"
   ]
  },
  {
   "cell_type": "code",
   "execution_count": 9,
   "id": "06c6f769",
   "metadata": {},
   "outputs": [],
   "source": [
    "# preProcessed_df[preProcessed_df['Station']=='Habiganj']['Month'].value_counts()"
   ]
  },
  {
   "cell_type": "markdown",
   "id": "f5a9ec7f",
   "metadata": {},
   "source": [
    "**Whole month data is missing (all years) for Habiganj, have to drop them**"
   ]
  },
  {
   "cell_type": "code",
   "execution_count": 10,
   "id": "d230bdcc",
   "metadata": {},
   "outputs": [
    {
     "name": "stdout",
     "output_type": "stream",
     "text": [
      "Total instances=4744, missing=0(0.0%)\n"
     ]
    }
   ],
   "source": [
    "preProcessed_df.dropna(inplace=True)\n",
    "show_missing_data(preProcessed_df)"
   ]
  },
  {
   "cell_type": "code",
   "execution_count": 11,
   "id": "366915fa",
   "metadata": {},
   "outputs": [
    {
     "data": {
      "text/plain": [
       "Gazipur     1827\n",
       "Barisal     1453\n",
       "Rangpur     1127\n",
       "Habiganj     337\n",
       "Name: Station, dtype: int64"
      ]
     },
     "execution_count": 11,
     "metadata": {},
     "output_type": "execute_result"
    }
   ],
   "source": [
    "preProcessed_df['Station'].value_counts()"
   ]
  },
  {
   "cell_type": "markdown",
   "id": "c7bd354c",
   "metadata": {},
   "source": [
    "## 3. Drop unnecessary columns- 'Year', 'Day'"
   ]
  },
  {
   "cell_type": "code",
   "execution_count": 12,
   "id": "11002469",
   "metadata": {},
   "outputs": [],
   "source": [
    "preProcessed_df.drop(columns=['Year', 'Day'], inplace=True)"
   ]
  },
  {
   "cell_type": "markdown",
   "id": "12619a09",
   "metadata": {},
   "source": [
    "## 4. Convert categorical column- 'Station' to numerical using One Hot Encoding"
   ]
  },
  {
   "cell_type": "code",
   "execution_count": 13,
   "id": "2b6706de",
   "metadata": {},
   "outputs": [
    {
     "data": {
      "text/html": [
       "<div>\n",
       "<style scoped>\n",
       "    .dataframe tbody tr th:only-of-type {\n",
       "        vertical-align: middle;\n",
       "    }\n",
       "\n",
       "    .dataframe tbody tr th {\n",
       "        vertical-align: top;\n",
       "    }\n",
       "\n",
       "    .dataframe thead th {\n",
       "        text-align: right;\n",
       "    }\n",
       "</style>\n",
       "<table border=\"1\" class=\"dataframe\">\n",
       "  <thead>\n",
       "    <tr style=\"text-align: right;\">\n",
       "      <th></th>\n",
       "      <th>Month</th>\n",
       "      <th>Max Temp. (degree Celcius)</th>\n",
       "      <th>Min Temp. (degree Celcius)</th>\n",
       "      <th>Rainfall (mm)</th>\n",
       "      <th>Actual Evaporation (mm)</th>\n",
       "      <th>Relative Humidity (morning, %)</th>\n",
       "      <th>Relative Humidity (afternoon, %)</th>\n",
       "      <th>Sunshine (hour/day)</th>\n",
       "      <th>Cloudy (hour/day)</th>\n",
       "      <th>Solar Radiation (cal/cm^2/day)</th>\n",
       "      <th>Station_Barisal</th>\n",
       "      <th>Station_Gazipur</th>\n",
       "      <th>Station_Habiganj</th>\n",
       "      <th>Station_Rangpur</th>\n",
       "    </tr>\n",
       "  </thead>\n",
       "  <tbody>\n",
       "    <tr>\n",
       "      <th>4920</th>\n",
       "      <td>5</td>\n",
       "      <td>30.5</td>\n",
       "      <td>21.5</td>\n",
       "      <td>0.0</td>\n",
       "      <td>3.9</td>\n",
       "      <td>87.0</td>\n",
       "      <td>70.000000</td>\n",
       "      <td>8.7</td>\n",
       "      <td>4.6</td>\n",
       "      <td>514.71</td>\n",
       "      <td>0</td>\n",
       "      <td>0</td>\n",
       "      <td>1</td>\n",
       "      <td>0</td>\n",
       "    </tr>\n",
       "    <tr>\n",
       "      <th>131</th>\n",
       "      <td>5</td>\n",
       "      <td>31.0</td>\n",
       "      <td>25.0</td>\n",
       "      <td>0.0</td>\n",
       "      <td>3.0</td>\n",
       "      <td>96.0</td>\n",
       "      <td>68.441667</td>\n",
       "      <td>9.3</td>\n",
       "      <td>3.9</td>\n",
       "      <td>489.50</td>\n",
       "      <td>1</td>\n",
       "      <td>0</td>\n",
       "      <td>0</td>\n",
       "      <td>0</td>\n",
       "    </tr>\n",
       "    <tr>\n",
       "      <th>3816</th>\n",
       "      <td>5</td>\n",
       "      <td>32.3</td>\n",
       "      <td>23.5</td>\n",
       "      <td>0.0</td>\n",
       "      <td>3.0</td>\n",
       "      <td>83.0</td>\n",
       "      <td>77.000000</td>\n",
       "      <td>3.0</td>\n",
       "      <td>10.3</td>\n",
       "      <td>284.92</td>\n",
       "      <td>0</td>\n",
       "      <td>0</td>\n",
       "      <td>0</td>\n",
       "      <td>1</td>\n",
       "    </tr>\n",
       "    <tr>\n",
       "      <th>797</th>\n",
       "      <td>3</td>\n",
       "      <td>36.0</td>\n",
       "      <td>21.8</td>\n",
       "      <td>5.2</td>\n",
       "      <td>4.0</td>\n",
       "      <td>90.0</td>\n",
       "      <td>60.000000</td>\n",
       "      <td>8.5</td>\n",
       "      <td>3.4</td>\n",
       "      <td>435.01</td>\n",
       "      <td>1</td>\n",
       "      <td>0</td>\n",
       "      <td>0</td>\n",
       "      <td>0</td>\n",
       "    </tr>\n",
       "    <tr>\n",
       "      <th>3094</th>\n",
       "      <td>6</td>\n",
       "      <td>33.0</td>\n",
       "      <td>25.8</td>\n",
       "      <td>0.0</td>\n",
       "      <td>8.6</td>\n",
       "      <td>87.0</td>\n",
       "      <td>70.000000</td>\n",
       "      <td>5.8</td>\n",
       "      <td>7.8</td>\n",
       "      <td>376.76</td>\n",
       "      <td>0</td>\n",
       "      <td>1</td>\n",
       "      <td>0</td>\n",
       "      <td>0</td>\n",
       "    </tr>\n",
       "  </tbody>\n",
       "</table>\n",
       "</div>"
      ],
      "text/plain": [
       "      Month  Max Temp. (degree Celcius)  Min Temp. (degree Celcius)  \\\n",
       "4920      5                        30.5                        21.5   \n",
       "131       5                        31.0                        25.0   \n",
       "3816      5                        32.3                        23.5   \n",
       "797       3                        36.0                        21.8   \n",
       "3094      6                        33.0                        25.8   \n",
       "\n",
       "      Rainfall (mm)  Actual Evaporation (mm)  Relative Humidity (morning, %)  \\\n",
       "4920            0.0                      3.9                            87.0   \n",
       "131             0.0                      3.0                            96.0   \n",
       "3816            0.0                      3.0                            83.0   \n",
       "797             5.2                      4.0                            90.0   \n",
       "3094            0.0                      8.6                            87.0   \n",
       "\n",
       "      Relative Humidity (afternoon, %)  Sunshine (hour/day)  \\\n",
       "4920                         70.000000                  8.7   \n",
       "131                          68.441667                  9.3   \n",
       "3816                         77.000000                  3.0   \n",
       "797                          60.000000                  8.5   \n",
       "3094                         70.000000                  5.8   \n",
       "\n",
       "      Cloudy (hour/day)  Solar Radiation (cal/cm^2/day)  Station_Barisal  \\\n",
       "4920                4.6                          514.71                0   \n",
       "131                 3.9                          489.50                1   \n",
       "3816               10.3                          284.92                0   \n",
       "797                 3.4                          435.01                1   \n",
       "3094                7.8                          376.76                0   \n",
       "\n",
       "      Station_Gazipur  Station_Habiganj  Station_Rangpur  \n",
       "4920                0                 1                0  \n",
       "131                 0                 0                0  \n",
       "3816                0                 0                1  \n",
       "797                 0                 0                0  \n",
       "3094                1                 0                0  "
      ]
     },
     "execution_count": 13,
     "metadata": {},
     "output_type": "execute_result"
    }
   ],
   "source": [
    "preProcessed_df = pd.get_dummies(preProcessed_df, columns=['Station'])\n",
    "preProcessed_df.sample(5)"
   ]
  },
  {
   "cell_type": "markdown",
   "id": "057660d0",
   "metadata": {},
   "source": [
    "## Save the pre-processed dataset"
   ]
  },
  {
   "cell_type": "code",
   "execution_count": 14,
   "id": "4ff4572c",
   "metadata": {},
   "outputs": [],
   "source": [
    "preProcessed_df.to_csv(os.path.join('..', '..', 'Datasets', 'brri-datasets', 'pre-processed', 'brri-weather_preprocessed.csv'), index=False)"
   ]
  }
 ],
 "metadata": {
  "kernelspec": {
   "display_name": "Python 3",
   "language": "python",
   "name": "python3"
  },
  "language_info": {
   "codemirror_mode": {
    "name": "ipython",
    "version": 3
   },
   "file_extension": ".py",
   "mimetype": "text/x-python",
   "name": "python",
   "nbconvert_exporter": "python",
   "pygments_lexer": "ipython3",
   "version": "3.8.8"
  }
 },
 "nbformat": 4,
 "nbformat_minor": 5
}
