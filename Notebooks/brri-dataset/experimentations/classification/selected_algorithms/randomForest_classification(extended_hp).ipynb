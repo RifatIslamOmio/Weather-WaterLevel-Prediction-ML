{
  "cells": [
    {
      "cell_type": "markdown",
      "metadata": {
        "id": "view-in-github",
        "colab_type": "text"
      },
      "source": [
        "<a href=\"https://colab.research.google.com/github/ferdouszislam/Weather-WaterLevel-Prediction-ML/blob/main/Notebooks/brri-dataset/experimentations/classification/selected_algorithms/randomForest_classification(extended_hp).ipynb\" target=\"_parent\"><img src=\"https://colab.research.google.com/assets/colab-badge.svg\" alt=\"Open In Colab\"/></a>"
      ]
    },
    {
      "cell_type": "code",
      "execution_count": 1,
      "metadata": {
        "id": "I95S5GeUMsc-"
      },
      "outputs": [],
      "source": [
        "# # the imports in this cell are required when running on local device\n",
        "# import os, sys\n",
        "# sys.path.append(os.path.join('..', '..'))\n",
        "# from utils.applyML_util import train_classification, eval_classification\n",
        "# from utils.featureSelection_util import (pearson_correlation_fs, \n",
        "#                                          seleckKBest_fs, selectSequential_fs)"
      ]
    },
    {
      "cell_type": "code",
      "execution_count": 2,
      "metadata": {
        "id": "oxumaP1_Oxv4"
      },
      "outputs": [],
      "source": [
        "# the imports in this cell are required when running from Cloud (Colab/Kaggle)\n",
        "# before running on cloud you nee to upload the .py files \n",
        "# from 'Notebooks/utils' directory\n",
        "from applyML_util import train_classification, eval_classification, showEvalutationGraph_classification\n",
        "from featureSelection_util import (pearson_correlation_fs, \n",
        "                                   seleckKBest_fs, selectSequential_fs)"
      ]
    },
    {
      "cell_type": "markdown",
      "metadata": {
        "id": "UJ4-Bu_iQt6r"
      },
      "source": [
        "**Random Forest Documentation link:** https://scikit-learn.org/stable/modules/generated/sklearn.ensemble.RandomForestClassifier.html"
      ]
    },
    {
      "cell_type": "code",
      "execution_count": 3,
      "metadata": {
        "id": "1tVvVKjkQsmG"
      },
      "outputs": [],
      "source": [
        "import pandas as pd\n",
        "import numpy as np\n",
        "import matplotlib.pyplot as plt\n",
        "from sklearn.ensemble import RandomForestClassifier"
      ]
    },
    {
      "cell_type": "code",
      "execution_count": 4,
      "metadata": {
        "id": "K0b41I0RRkkE"
      },
      "outputs": [],
      "source": [
        "# global random seed\n",
        "RAND_SEED = 42\n",
        "\n",
        "# initial model with only random seed and not any hyper-parametes\n",
        "initial_model = RandomForestClassifier(random_state=RAND_SEED)\n",
        "\n",
        "# hyper-parameters\n",
        "n_estimators = list(range(100,360,5))\n",
        "criterion = ['gini', 'entropy']\n",
        "max_features = ['sqrt', 7]\n",
        "\n",
        "# dictonary of all hyperparameters\n",
        "param_grid = {\n",
        "    'n_estimators': n_estimators,\n",
        "    'criterion': criterion,\n",
        "    'max_features': max_features\n",
        "}\n",
        "\n",
        "# variables needed for showEvalGraph_regression() function\n",
        "MODEL_CLASS = RandomForestClassifier\n",
        "class_label = 'Rainfall'\n",
        "x_axis_param_name = 'n_estimators'\n",
        "x_axis_param_vals = n_estimators"
      ]
    },
    {
      "cell_type": "markdown",
      "metadata": {
        "id": "sMvRYb6AQLj9"
      },
      "source": [
        "## 1. Experimentation on the Weather Daily Dataset"
      ]
    },
    {
      "cell_type": "code",
      "execution_count": 5,
      "metadata": {
        "id": "bNmGnNV1QPE8"
      },
      "outputs": [],
      "source": [
        "# Load the train dataset\n",
        "weather_daily_train_df = pd.read_csv('https://raw.githubusercontent.com/ferdouszislam/Weather-WaterLevel-Prediction-ML/main/Datasets/brri-datasets/final-dataset/train/brri-weather_train_classification.csv')\n",
        "\n",
        "# Load the test set\n",
        "weather_daily_test_df = pd.read_csv('https://raw.githubusercontent.com/ferdouszislam/Weather-WaterLevel-Prediction-ML/main/Datasets/brri-datasets/final-dataset/test/brri-weather_test_classification.csv')"
      ]
    },
    {
      "cell_type": "markdown",
      "metadata": {
        "id": "z0BMd6EBK6PQ"
      },
      "source": [
        "### 1.0 No technique"
      ]
    },
    {
      "cell_type": "code",
      "execution_count": 6,
      "metadata": {
        "colab": {
          "base_uri": "https://localhost:8080/"
        },
        "id": "N8lrGQEjMmhO",
        "outputId": "51e75874-8e7e-4c5a-be41-4693c883c074"
      },
      "outputs": [
        {
          "output_type": "stream",
          "name": "stdout",
          "text": [
            "Selected hyperparameters: {'criterion': 'gini', 'max_features': 7, 'n_estimators': 215}\n",
            "Train set performance: accuracy=0.7473, macro-f1=0.5513\n"
          ]
        }
      ],
      "source": [
        "# train model\n",
        "model, selected_hyperparams, train_accuracy, train_f1 = train_classification(initial_model, param_grid, weather_daily_train_df, cls=class_label)\n",
        "print(f'Selected hyperparameters: {selected_hyperparams}')\n",
        "# performance on the train set\n",
        "print(f'Train set performance: accuracy={train_accuracy}, macro-f1={train_f1}')"
      ]
    },
    {
      "cell_type": "code",
      "execution_count": 7,
      "metadata": {
        "colab": {
          "base_uri": "https://localhost:8080/",
          "height": 567
        },
        "id": "_D5Pz_IM2dUj",
        "outputId": "af3967a1-2455-498e-bd44-761e27f8d5e6"
      },
      "outputs": [
        {
          "output_type": "display_data",
          "data": {
            "text/plain": [
              "<Figure size 1080x648 with 1 Axes>"
            ],
            "image/png": "[encoded data removed]"
          },
          "metadata": {
            "needs_background": "light"
          }
        }
      ],
      "source": [
        "# graph on train set performance\n",
        "\n",
        "# hyper-parameters selected by GridSearchCV\n",
        "selected_model_params = selected_hyperparams\n",
        "selected_model_params['random_state'] = RAND_SEED\n",
        "\n",
        "showEvalutationGraph_classification(MODEL_CLASS, weather_daily_train_df, cls=class_label, \n",
        "                                    x_axis_param_name=x_axis_param_name, x_axis_param_vals=x_axis_param_vals, \n",
        "                                    selected_model_params=selected_model_params)"
      ]
    },
    {
      "cell_type": "code",
      "execution_count": 8,
      "metadata": {
        "colab": {
          "base_uri": "https://localhost:8080/"
        },
        "id": "fj1I73i2WBYF",
        "outputId": "67f7a42f-9ca1-44f2-878c-d050df6a2974"
      },
      "outputs": [
        {
          "output_type": "stream",
          "name": "stdout",
          "text": [
            "Test set performance: accuracy=0.7471, macro-f1=0.5493, auc=0.6766\n"
          ]
        }
      ],
      "source": [
        "# test model\n",
        "test_accuracy, test_f1, test_auc = eval_classification(model, weather_daily_test_df, cls=class_label)\n",
        "# performance on the test set\n",
        "print(f'Test set performance: accuracy={test_accuracy}, macro-f1={test_f1}, auc={test_auc}')"
      ]
    },
    {
      "cell_type": "markdown",
      "metadata": {
        "id": "VcGsKgTkDS60"
      },
      "source": [
        "### 1.1 Apply Pearson Feature Selection to Daily Weather Dataset"
      ]
    },
    {
      "cell_type": "code",
      "execution_count": 9,
      "metadata": {
        "colab": {
          "base_uri": "https://localhost:8080/"
        },
        "id": "xUGFfg6FDSB3",
        "outputId": "e5f322ea-c554-42b8-8e03-65610c41af8c"
      },
      "outputs": [
        {
          "output_type": "stream",
          "name": "stdout",
          "text": [
            "dropping Sunshine (hour/day) from (Cloudy (hour/day), Sunshine (hour/day))\n"
          ]
        }
      ],
      "source": [
        "# select features from the train dataset\n",
        "weather_daily_fs1_train_df, cols_to_drop = pearson_correlation_fs(weather_daily_train_df, class_label)\n",
        "\n",
        "# keep only selected features on the test dataset\n",
        "weather_daily_fs1_test_df = weather_daily_test_df.drop(columns=cols_to_drop)"
      ]
    },
    {
      "cell_type": "code",
      "execution_count": 10,
      "metadata": {
        "colab": {
          "base_uri": "https://localhost:8080/"
        },
        "id": "Z4Aj4bDCEBFE",
        "outputId": "992136d5-ff81-4b0a-a8a8-fc81813eddee"
      },
      "outputs": [
        {
          "output_type": "stream",
          "name": "stdout",
          "text": [
            "Selected hyperparameters: {'criterion': 'gini', 'max_features': 'sqrt', 'n_estimators': 130}\n",
            "Train set performance: accuracy=0.7515, macro-f1=0.5645\n"
          ]
        }
      ],
      "source": [
        "# train model\n",
        "model, selected_hyperparams, train_accuracy, train_f1 = train_classification(initial_model, param_grid, weather_daily_fs1_train_df, cls=class_label)\n",
        "print(f'Selected hyperparameters: {selected_hyperparams}')\n",
        "# performance on the train set\n",
        "print(f'Train set performance: accuracy={train_accuracy}, macro-f1={train_f1}')"
      ]
    },
    {
      "cell_type": "code",
      "execution_count": 11,
      "metadata": {
        "colab": {
          "base_uri": "https://localhost:8080/",
          "height": 567
        },
        "id": "Wnlx9lRX6cOT",
        "outputId": "d5a77cd5-c8f4-4a03-bef6-3efdd909a1d4"
      },
      "outputs": [
        {
          "output_type": "display_data",
          "data": {
            "text/plain": [
              "<Figure size 1080x648 with 1 Axes>"
            ],
            "image/png": "[encoded data removed]"
          },
          "metadata": {
            "needs_background": "light"
          }
        }
      ],
      "source": [
        "# graph on train set performance\n",
        "\n",
        "# hyper-parameters selected by GridSearchCV\n",
        "selected_model_params = selected_hyperparams\n",
        "selected_model_params['random_state'] = RAND_SEED\n",
        "\n",
        "showEvalutationGraph_classification(MODEL_CLASS, weather_daily_fs1_train_df, cls=class_label, \n",
        "                                x_axis_param_name=x_axis_param_name, x_axis_param_vals=x_axis_param_vals, \n",
        "                                selected_model_params=selected_model_params)"
      ]
    },
    {
      "cell_type": "code",
      "execution_count": 12,
      "metadata": {
        "colab": {
          "base_uri": "https://localhost:8080/"
        },
        "id": "Q56t8VALEOLV",
        "outputId": "ddbf10a3-51aa-4e96-e128-2fd82dc2b35f"
      },
      "outputs": [
        {
          "output_type": "stream",
          "name": "stdout",
          "text": [
            "Test set performance: accuracy=0.7576, macro-f1=0.5599, auc=0.6809\n"
          ]
        }
      ],
      "source": [
        "# test model\n",
        "test_accuracy, test_f1, test_auc = eval_classification(model, weather_daily_fs1_test_df, cls=class_label)\n",
        "# performance on the test set\n",
        "print(f'Test set performance: accuracy={test_accuracy}, macro-f1={test_f1}, auc={test_auc}')"
      ]
    },
    {
      "cell_type": "markdown",
      "metadata": {
        "id": "r0f0shnaTaEd"
      },
      "source": [
        "### 1.2 Apply SelectKBest Feature Selection to Daily Weather Dataset"
      ]
    },
    {
      "cell_type": "code",
      "execution_count": 13,
      "metadata": {
        "colab": {
          "base_uri": "https://localhost:8080/"
        },
        "id": "aP0zT8cDTaEe",
        "outputId": "a2491333-1ca7-4a6d-d059-d16b2999ad03"
      },
      "outputs": [
        {
          "output_type": "stream",
          "name": "stdout",
          "text": [
            "features dropped: ['Max Temp. (degree Celcius)', 'Relative Humidity (morning, %)']\n"
          ]
        }
      ],
      "source": [
        "# select features from the train dataset\n",
        "weather_daily_fs2_train_df, cols_to_drop = seleckKBest_fs(weather_daily_train_df, class_label, is_regression=True)\n",
        "\n",
        "print('features dropped:', cols_to_drop)\n",
        "\n",
        "# keep only selected features on the test dataset\n",
        "weather_daily_fs2_test_df = weather_daily_test_df.drop(columns=cols_to_drop)"
      ]
    },
    {
      "cell_type": "code",
      "execution_count": null,
      "metadata": {
        "id": "obBlfL4DTaEg"
      },
      "outputs": [],
      "source": [
        "# train model\n",
        "model, selected_hyperparams, train_accuracy, train_f1 = train_classification(initial_model, param_grid, weather_daily_fs2_train_df, cls=class_label)\n",
        "print(f'Selected hyperparameters: {selected_hyperparams}')\n",
        "# performance on the train set\n",
        "print(f'Train set performance: accuracy={train_accuracy}, macro-f1={train_f1}')"
      ]
    },
    {
      "cell_type": "code",
      "execution_count": null,
      "metadata": {
        "id": "FmIkmj59TaEh"
      },
      "outputs": [],
      "source": [
        "# r2-scores graph on the train set\n",
        "\n",
        "# hyper-parameters selected by GridSearchCV\n",
        "selected_model_params = selected_hyperparams\n",
        "selected_model_params['random_state'] = RAND_SEED\n",
        "\n",
        "showEvalutationGraph_classification(MODEL_CLASS, weather_daily_fs2_train_df, cls=class_label, \n",
        "                                x_axis_param_name=x_axis_param_name, x_axis_param_vals=x_axis_param_vals, \n",
        "                                selected_model_params=selected_model_params)"
      ]
    },
    {
      "cell_type": "code",
      "execution_count": null,
      "metadata": {
        "id": "DFeHpfLrTaEh"
      },
      "outputs": [],
      "source": [
        "# test model\n",
        "test_accuracy, test_f1, test_auc = eval_classification(model, weather_daily_fs2_test_df, cls=class_label)\n",
        "# performance on the test set\n",
        "print(f'Test set performance: accuracy={test_accuracy}, macro-f1={test_f1}, auc={test_auc}')"
      ]
    },
    {
      "cell_type": "markdown",
      "metadata": {
        "id": "uPWtfgzLLYJI"
      },
      "source": [
        "### 1.3 SMOTE on Daily Dataset"
      ]
    },
    {
      "cell_type": "code",
      "execution_count": null,
      "metadata": {
        "id": "9Q9UhID9LYJI"
      },
      "outputs": [],
      "source": [
        "# train model\n",
        "model, selected_hyperparams, train_accuracy, train_f1 = train_classification(initial_model, param_grid, weather_daily_train_df, \n",
        "                                                                             cls=class_label, sampling_technique='smote')\n",
        "print(f'Selected hyperparameters: {selected_hyperparams}')\n",
        "# performance on the train set\n",
        "print(f'Train set performance: accuracy={train_accuracy}, macro-f1={train_f1}')"
      ]
    },
    {
      "cell_type": "code",
      "execution_count": null,
      "metadata": {
        "id": "sdm9243wLYJJ"
      },
      "outputs": [],
      "source": [
        "# r2-scores graph on the train set\n",
        "\n",
        "# hyper-parameters selected by GridSearchCV\n",
        "selected_model_params = selected_hyperparams\n",
        "selected_model_params['random_state'] = RAND_SEED\n",
        "\n",
        "showEvalutationGraph_classification(MODEL_CLASS, weather_daily_train_df, cls=class_label, \n",
        "                                    x_axis_param_name=x_axis_param_name, x_axis_param_vals=x_axis_param_vals, \n",
        "                                    selected_model_params=selected_model_params)"
      ]
    },
    {
      "cell_type": "code",
      "execution_count": null,
      "metadata": {
        "id": "y8RoOykDLYJK"
      },
      "outputs": [],
      "source": [
        "# test model\n",
        "test_accuracy, test_f1, test_auc = eval_classification(model, weather_daily_test_df, cls=class_label)\n",
        "# performance on the test set\n",
        "print(f'Test set performance: accuracy={test_accuracy}, macro-f1={test_f1}, auc={test_auc}')"
      ]
    },
    {
      "cell_type": "markdown",
      "metadata": {
        "id": "tCwFqnH6Lq17"
      },
      "source": [
        "### 1.4 Random Undersampling + SMOTE on Daily Dataset"
      ]
    },
    {
      "cell_type": "code",
      "execution_count": null,
      "metadata": {
        "id": "lTdi5bbLLq17"
      },
      "outputs": [],
      "source": [
        "# train model\n",
        "model, selected_hyperparams, train_accuracy, train_f1 = train_classification(initial_model, param_grid, weather_daily_train_df, \n",
        "                                                                             cls=class_label, sampling_technique='hybrid')\n",
        "print(f'Selected hyperparameters: {selected_hyperparams}')\n",
        "# performance on the train set\n",
        "print(f'Train set performance: accuracy={train_accuracy}, macro-f1={train_f1}')"
      ]
    },
    {
      "cell_type": "code",
      "execution_count": null,
      "metadata": {
        "id": "76m-rcuvLq18"
      },
      "outputs": [],
      "source": [
        "# graph on train set performance\n",
        "\n",
        "# hyper-parameters selected by GridSearchCV\n",
        "selected_model_params = selected_hyperparams\n",
        "selected_model_params['random_state'] = RAND_SEED\n",
        "\n",
        "showEvalutationGraph_classification(MODEL_CLASS, weather_daily_train_df, cls=class_label, \n",
        "                                    x_axis_param_name=x_axis_param_name, x_axis_param_vals=x_axis_param_vals, \n",
        "                                    selected_model_params=selected_model_params)"
      ]
    },
    {
      "cell_type": "code",
      "execution_count": null,
      "metadata": {
        "id": "Z5o9BQOHLq18"
      },
      "outputs": [],
      "source": [
        "# test model\n",
        "test_accuracy, test_f1, test_auc = eval_classification(model, weather_daily_test_df, cls=class_label)\n",
        "# performance on the test set\n",
        "print(f'Test set performance: accuracy={test_accuracy}, macro-f1={test_f1}, auc={test_auc}')"
      ]
    },
    {
      "cell_type": "markdown",
      "metadata": {
        "id": "XVMCfgbKahtE"
      },
      "source": [
        "### 1.5 Pearson Feature Selection + Hybrid Sampling to Daily Weather Dataset"
      ]
    },
    {
      "cell_type": "code",
      "execution_count": null,
      "metadata": {
        "id": "ck48Q9VQahtN"
      },
      "outputs": [],
      "source": [
        "# train model\n",
        "model, selected_hyperparams, train_accuracy, train_f1 = train_classification(initial_model, param_grid, weather_daily_fs1_train_df, \n",
        "                                                                             cls=class_label, sampling_technique='hybrid')\n",
        "print(f'Selected hyperparameters: {selected_hyperparams}')\n",
        "# performance on the train set\n",
        "print(f'Train set performance: accuracy={train_accuracy}, macro-f1={train_f1}')"
      ]
    },
    {
      "cell_type": "code",
      "execution_count": null,
      "metadata": {
        "id": "ioTeYyewahtN"
      },
      "outputs": [],
      "source": [
        "# graph on train set performance\n",
        "\n",
        "# hyper-parameters selected by GridSearchCV\n",
        "selected_model_params = selected_hyperparams\n",
        "selected_model_params['random_state'] = RAND_SEED\n",
        "\n",
        "showEvalutationGraph_classification(MODEL_CLASS, weather_daily_fs1_train_df, cls=class_label, \n",
        "                                x_axis_param_name=x_axis_param_name, x_axis_param_vals=x_axis_param_vals, \n",
        "                                selected_model_params=selected_model_params)"
      ]
    },
    {
      "cell_type": "code",
      "execution_count": null,
      "metadata": {
        "id": "yKfAZyE_ahtN"
      },
      "outputs": [],
      "source": [
        "# test model\n",
        "test_accuracy, test_f1, test_auc = eval_classification(model, weather_daily_fs1_test_df, cls=class_label)\n",
        "# performance on the test set\n",
        "print(f'Test set performance: accuracy={test_accuracy}, macro-f1={test_f1}, auc={test_auc}')"
      ]
    },
    {
      "cell_type": "markdown",
      "metadata": {
        "id": "FSPsOKznhZlT"
      },
      "source": [
        "### 1.6 SelecKBest Feature Selection + Hybrid Sampling to Daily Weather Dataset"
      ]
    },
    {
      "cell_type": "code",
      "execution_count": null,
      "metadata": {
        "id": "i-ZIHmixhZlV"
      },
      "outputs": [],
      "source": [
        "# train model\n",
        "model, selected_hyperparams, train_accuracy, train_f1 = train_classification(initial_model, param_grid, weather_daily_fs2_train_df, \n",
        "                                                                             cls=class_label, sampling_technique='hybrid')\n",
        "print(f'Selected hyperparameters: {selected_hyperparams}')\n",
        "# performance on the train set\n",
        "print(f'Train set performance: accuracy={train_accuracy}, macro-f1={train_f1}')"
      ]
    },
    {
      "cell_type": "code",
      "execution_count": null,
      "metadata": {
        "id": "d0CpcJB_hZlV"
      },
      "outputs": [],
      "source": [
        "# graph on train set performance\n",
        "\n",
        "# hyper-parameters selected by GridSearchCV\n",
        "selected_model_params = selected_hyperparams\n",
        "selected_model_params['random_state'] = RAND_SEED\n",
        "\n",
        "showEvalutationGraph_classification(MODEL_CLASS, weather_daily_fs2_train_df, cls=class_label, \n",
        "                                x_axis_param_name=x_axis_param_name, x_axis_param_vals=x_axis_param_vals, \n",
        "                                selected_model_params=selected_model_params)"
      ]
    },
    {
      "cell_type": "code",
      "execution_count": null,
      "metadata": {
        "id": "sBlMerD3hZlW"
      },
      "outputs": [],
      "source": [
        "# test model\n",
        "test_accuracy, test_f1, test_auc = eval_classification(model, weather_daily_fs2_test_df, cls=class_label)\n",
        "# performance on the test set\n",
        "print(f'Test set performance: accuracy={test_accuracy}, macro-f1={test_f1}, auc={test_auc}')"
      ]
    }
  ],
  "metadata": {
    "colab": {
      "collapsed_sections": [],
      "name": "randomForest_classification(extended-hp).ipynb",
      "provenance": [],
      "include_colab_link": true
    },
    "kernelspec": {
      "display_name": "Python 3",
      "language": "python",
      "name": "python3"
    },
    "language_info": {
      "codemirror_mode": {
        "name": "ipython",
        "version": 3
      },
      "file_extension": ".py",
      "mimetype": "text/x-python",
      "name": "python",
      "nbconvert_exporter": "python",
      "pygments_lexer": "ipython3",
      "version": "3.7.10"
    }
  },
  "nbformat": 4,
  "nbformat_minor": 0
}