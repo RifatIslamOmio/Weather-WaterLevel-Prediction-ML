{
  "nbformat": 4,
  "nbformat_minor": 0,
  "metadata": {
    "colab": {
      "name": "mlp_classification.ipynb",
      "provenance": [],
      "include_colab_link": true
    },
    "kernelspec": {
      "display_name": "Python 3",
      "language": "python",
      "name": "python3"
    },
    "language_info": {
      "codemirror_mode": {
        "name": "ipython",
        "version": 3
      },
      "file_extension": ".py",
      "mimetype": "text/x-python",
      "name": "python",
      "nbconvert_exporter": "python",
      "pygments_lexer": "ipython3",
      "version": "3.7.10"
    }
  },
  "cells": [
    {
      "cell_type": "markdown",
      "metadata": {
        "id": "view-in-github",
        "colab_type": "text"
      },
      "source": [
        "<a href=\"https://colab.research.google.com/github/ferdouszislam/Weather-WaterLevel-Prediction-ML/blob/main/Notebooks/brri-dataset/experimentations/mlp_classification.ipynb\" target=\"_parent\"><img src=\"https://colab.research.google.com/assets/colab-badge.svg\" alt=\"Open In Colab\"/></a>"
      ]
    },
    {
      "cell_type": "code",
      "metadata": {
        "id": "I95S5GeUMsc-"
      },
      "source": [
        "# # the imports in this cell are required when running on local device\n",
        "# import os, sys\n",
        "# sys.path.append(os.path.join('..', '..'))\n",
        "# from utils.applyML_util import train_classification, eval_classification\n",
        "# from utils.featureSelection_util import (pearson_correlation_fs, \n",
        "#                                          seleckKBest_fs, selectSequential_fs)"
      ],
      "execution_count": 1,
      "outputs": []
    },
    {
      "cell_type": "code",
      "metadata": {
        "id": "oxumaP1_Oxv4"
      },
      "source": [
        "# the imports in this cell are required when running from Cloud (Colab/Kaggle)\n",
        "# before running on cloud you nee to upload the .py files \n",
        "# from 'Notebooks/utils' directory\n",
        "from applyML_util import train_classification, eval_classification, showEvalutationGraph_classification\n",
        "from featureSelection_util import (pearson_correlation_fs, \n",
        "                                   seleckKBest_fs, selectSequential_fs)"
      ],
      "execution_count": 2,
      "outputs": []
    },
    {
      "cell_type": "markdown",
      "metadata": {
        "id": "UJ4-Bu_iQt6r"
      },
      "source": [
        "**MLP (aka Artificial Neural Networks) Documentation link:** https://scikit-learn.org/stable/modules/generated/sklearn.neural_network.MLPClassifier.html"
      ]
    },
    {
      "cell_type": "code",
      "metadata": {
        "id": "1tVvVKjkQsmG"
      },
      "source": [
        "import pandas as pd\n",
        "import numpy as np\n",
        "import matplotlib.pyplot as plt\n",
        "\n",
        "from sklearn.neural_network import MLPClassifier\n",
        "\n",
        "# ignore warnings\n",
        "import warnings\n",
        "warnings.filterwarnings('ignore')"
      ],
      "execution_count": 3,
      "outputs": []
    },
    {
      "cell_type": "code",
      "metadata": {
        "id": "K0b41I0RRkkE"
      },
      "source": [
        "# global random seed\n",
        "RAND_SEED = 42\n",
        "\n",
        "# initial model with only random seed and not any hyper-parametes\n",
        "initial_model = MLPClassifier(random_state=RAND_SEED)\n",
        "\n",
        "# hyper-parameters\n",
        "hidden_layer_sizes = [(32, 16), (100)]\n",
        "activation = ['relu']\n",
        "solver = ['adam']\n",
        "alpha = [0.0001, 0.001, 0.01]\n",
        "max_iter = [x*5 for x in range(1, 41)]\n",
        "\n",
        "\n",
        "# dictonary of all hyperparameters\n",
        "param_grid = {\n",
        "    'hidden_layer_sizes': hidden_layer_sizes,\n",
        "    'activation': activation,\n",
        "    'solver': solver,\n",
        "    'alpha': alpha,\n",
        "    'max_iter': max_iter\n",
        "}\n",
        "\n",
        "# variables needed for showEvalGraph_regression() function\n",
        "MODEL_CLASS = MLPClassifier\n",
        "class_label = 'Rainfall'\n",
        "x_axis_param_name = 'max_iter'\n",
        "x_axis_param_vals = max_iter"
      ],
      "execution_count": 4,
      "outputs": []
    },
    {
      "cell_type": "markdown",
      "metadata": {
        "id": "sMvRYb6AQLj9"
      },
      "source": [
        "## 1. Experimentation on the Weather Daily Dataset"
      ]
    },
    {
      "cell_type": "code",
      "metadata": {
        "id": "bNmGnNV1QPE8"
      },
      "source": [
        "# Load the train dataset\n",
        "weather_daily_train_df = pd.read_csv('https://raw.githubusercontent.com/ferdouszislam/Weather-WaterLevel-Prediction-ML/main/Datasets/brri-datasets/final-dataset/train/brri-weather_train_classification.csv')\n",
        "\n",
        "# Load the test set\n",
        "weather_daily_test_df = pd.read_csv('https://raw.githubusercontent.com/ferdouszislam/Weather-WaterLevel-Prediction-ML/main/Datasets/brri-datasets/final-dataset/test/brri-weather_test_classification.csv')"
      ],
      "execution_count": 5,
      "outputs": []
    },
    {
      "cell_type": "markdown",
      "metadata": {
        "id": "z0BMd6EBK6PQ"
      },
      "source": [
        "### 1.0 No technique"
      ]
    },
    {
      "cell_type": "code",
      "metadata": {
        "colab": {
          "base_uri": "https://localhost:8080/"
        },
        "id": "N8lrGQEjMmhO",
        "outputId": "8eecac22-b074-404d-9ac8-3c69bb30bb3a"
      },
      "source": [
        "# train model\n",
        "model, selected_hyperparams, train_accuracy, train_f1 = train_classification(initial_model, param_grid, weather_daily_train_df, cls=class_label)\n",
        "print(f'Selected hyperparameters: {selected_hyperparams}')\n",
        "# performance on the train set\n",
        "print(f'Train set performance: accuracy={train_accuracy}, macro-f1={train_f1}')"
      ],
      "execution_count": 6,
      "outputs": [
        {
          "output_type": "stream",
          "name": "stdout",
          "text": [
            "Selected hyperparameters: {'activation': 'relu', 'alpha': 0.0001, 'hidden_layer_sizes': 100, 'max_iter': 185, 'solver': 'adam'}\n",
            "Train set performance: accuracy=0.7283, macro-f1=0.4927\n"
          ]
        }
      ]
    },
    {
      "cell_type": "code",
      "metadata": {
        "colab": {
          "base_uri": "https://localhost:8080/",
          "height": 567
        },
        "id": "_D5Pz_IM2dUj",
        "outputId": "ad13e39f-7d79-4f14-d73b-8dd9e2327c9e"
      },
      "source": [
        "# graph on train set performance\n",
        "\n",
        "# hyper-parameters selected by GridSearchCV\n",
        "selected_model_params = selected_hyperparams\n",
        "selected_model_params['random_state'] = RAND_SEED\n",
        "\n",
        "showEvalutationGraph_classification(MODEL_CLASS, weather_daily_train_df, cls=class_label, \n",
        "                                    x_axis_param_name=x_axis_param_name, x_axis_param_vals=x_axis_param_vals, \n",
        "                                    selected_model_params=selected_model_params)"
      ],
      "execution_count": 7,
      "outputs": [
        {
          "output_type": "display_data",
          "data": {
            "image/png": "[encoded data removed]",
            "text/plain": [
              "<Figure size 1080x648 with 1 Axes>"
            ]
          },
          "metadata": {
            "needs_background": "light"
          }
        }
      ]
    },
    {
      "cell_type": "code",
      "metadata": {
        "colab": {
          "base_uri": "https://localhost:8080/"
        },
        "id": "fj1I73i2WBYF",
        "outputId": "1f3128cc-81d6-4f3d-f618-03d7e18ea673"
      },
      "source": [
        "# test model\n",
        "test_accuracy, test_f1 = eval_classification(model, weather_daily_test_df, cls=class_label)\n",
        "# performance on the test set\n",
        "print(f'Test set performance: accuracy={test_accuracy}, macro-f1={test_f1}')"
      ],
      "execution_count": 8,
      "outputs": [
        {
          "metadata": {
            "tags": null
          },
          "name": "stdout",
          "output_type": "stream",
          "text": [
            "Test set performance: accuracy=0.7334, macro-f1=0.4935\n"
          ]
        }
      ]
    },
    {
      "cell_type": "markdown",
      "metadata": {
        "id": "VcGsKgTkDS60"
      },
      "source": [
        "### 1.1 Apply Pearson Feature Selection to Daily Weather Dataset"
      ]
    },
    {
      "cell_type": "code",
      "metadata": {
        "colab": {
          "base_uri": "https://localhost:8080/"
        },
        "id": "xUGFfg6FDSB3",
        "outputId": "add0435a-c671-4673-9f10-c8084c51eab4"
      },
      "source": [
        "# select features from the train dataset\n",
        "weather_daily_fs1_train_df, cols_to_drop = pearson_correlation_fs(weather_daily_train_df, class_label)\n",
        "\n",
        "# keep only selected features on the test dataset\n",
        "weather_daily_fs1_test_df = weather_daily_test_df.drop(columns=cols_to_drop)"
      ],
      "execution_count": 9,
      "outputs": [
        {
          "output_type": "stream",
          "name": "stdout",
          "text": [
            "dropping Sunshine (hour/day) from (Cloudy (hour/day), Sunshine (hour/day))\n"
          ]
        }
      ]
    },
    {
      "cell_type": "code",
      "metadata": {
        "id": "Z4Aj4bDCEBFE"
      },
      "source": [
        "# train model\n",
        "model, selected_hyperparams, train_accuracy, train_f1 = train_classification(initial_model, param_grid, weather_daily_fs1_train_df, cls=class_label)\n",
        "print(f'Selected hyperparameters: {selected_hyperparams}')\n",
        "# performance on the train set\n",
        "print(f'Train set performance: accuracy={train_accuracy}, macro-f1={train_f1}')"
      ],
      "execution_count": null,
      "outputs": []
    },
    {
      "cell_type": "code",
      "metadata": {
        "id": "Wnlx9lRX6cOT"
      },
      "source": [
        "# graph on train set performance\n",
        "\n",
        "# hyper-parameters selected by GridSearchCV\n",
        "selected_model_params = selected_hyperparams\n",
        "selected_model_params['random_state'] = RAND_SEED\n",
        "\n",
        "showEvalutationGraph_classification(MODEL_CLASS, weather_daily_fs1_train_df, cls=class_label, \n",
        "                                x_axis_param_name=x_axis_param_name, x_axis_param_vals=x_axis_param_vals, \n",
        "                                selected_model_params=selected_model_params)"
      ],
      "execution_count": null,
      "outputs": []
    },
    {
      "cell_type": "code",
      "metadata": {
        "id": "Q56t8VALEOLV"
      },
      "source": [
        "# test model\n",
        "test_accuracy, test_f1 = eval_classification(model, weather_daily_fs1_test_df, cls=class_label)\n",
        "# performance on the test set\n",
        "print(f'Test set performance: accuracy={test_accuracy}, macro-f1={test_f1}')"
      ],
      "execution_count": null,
      "outputs": []
    },
    {
      "cell_type": "markdown",
      "metadata": {
        "id": "r0f0shnaTaEd"
      },
      "source": [
        "### 1.2 Apply SelectKBest Feature Selection to Daily Weather Dataset"
      ]
    },
    {
      "cell_type": "code",
      "metadata": {
        "id": "aP0zT8cDTaEe"
      },
      "source": [
        "# select features from the train dataset\n",
        "weather_daily_fs2_train_df, cols_to_drop = seleckKBest_fs(weather_daily_train_df, class_label, is_regression=True)\n",
        "\n",
        "print('features dropped:', cols_to_drop)\n",
        "\n",
        "# keep only selected features on the test dataset\n",
        "weather_daily_fs2_test_df = weather_daily_test_df.drop(columns=cols_to_drop)"
      ],
      "execution_count": null,
      "outputs": []
    },
    {
      "cell_type": "code",
      "metadata": {
        "id": "obBlfL4DTaEg"
      },
      "source": [
        "# train model\n",
        "model, selected_hyperparams, train_accuracy, train_f1 = train_classification(initial_model, param_grid, weather_daily_fs2_train_df, cls=class_label)\n",
        "print(f'Selected hyperparameters: {selected_hyperparams}')\n",
        "# performance on the train set\n",
        "print(f'Train set performance: accuracy={train_accuracy}, macro-f1={train_f1}')"
      ],
      "execution_count": null,
      "outputs": []
    },
    {
      "cell_type": "code",
      "metadata": {
        "id": "FmIkmj59TaEh"
      },
      "source": [
        "# r2-scores graph on the train set\n",
        "\n",
        "# hyper-parameters selected by GridSearchCV\n",
        "selected_model_params = selected_hyperparams\n",
        "selected_model_params['random_state'] = RAND_SEED\n",
        "\n",
        "showEvalutationGraph_classification(MODEL_CLASS, weather_daily_fs2_train_df, cls=class_label, \n",
        "                                x_axis_param_name=x_axis_param_name, x_axis_param_vals=x_axis_param_vals, \n",
        "                                selected_model_params=selected_model_params)"
      ],
      "execution_count": null,
      "outputs": []
    },
    {
      "cell_type": "code",
      "metadata": {
        "id": "DFeHpfLrTaEh"
      },
      "source": [
        "# test model\n",
        "test_accuracy, test_f1 = eval_classification(model, weather_daily_fs2_test_df, cls=class_label)\n",
        "# performance on the test set\n",
        "print(f'Test set performance: accuracy={test_accuracy}, macro-f1={test_f1}')"
      ],
      "execution_count": null,
      "outputs": []
    },
    {
      "cell_type": "markdown",
      "metadata": {
        "id": "uPWtfgzLLYJI"
      },
      "source": [
        "### 1.3 SMOTE on Daily Dataset"
      ]
    },
    {
      "cell_type": "code",
      "metadata": {
        "id": "9Q9UhID9LYJI"
      },
      "source": [
        "# train model\n",
        "model, selected_hyperparams, train_accuracy, train_f1 = train_classification(initial_model, param_grid, weather_daily_train_df, \n",
        "                                                                             cls=class_label, sampling_technique='smote')\n",
        "print(f'Selected hyperparameters: {selected_hyperparams}')\n",
        "# performance on the train set\n",
        "print(f'Train set performance: accuracy={train_accuracy}, macro-f1={train_f1}')"
      ],
      "execution_count": null,
      "outputs": []
    },
    {
      "cell_type": "code",
      "metadata": {
        "id": "sdm9243wLYJJ"
      },
      "source": [
        "# r2-scores graph on the train set\n",
        "\n",
        "# hyper-parameters selected by GridSearchCV\n",
        "selected_model_params = selected_hyperparams\n",
        "selected_model_params['random_state'] = RAND_SEED\n",
        "\n",
        "showEvalutationGraph_classification(MODEL_CLASS, weather_daily_train_df, cls=class_label, \n",
        "                                    x_axis_param_name=x_axis_param_name, x_axis_param_vals=x_axis_param_vals, \n",
        "                                    selected_model_params=selected_model_params)"
      ],
      "execution_count": null,
      "outputs": []
    },
    {
      "cell_type": "code",
      "metadata": {
        "id": "y8RoOykDLYJK"
      },
      "source": [
        "# test model\n",
        "test_accuracy, test_f1 = eval_classification(model, weather_daily_test_df, cls=class_label)\n",
        "# performance on the test set\n",
        "print(f'Test set performance: accuracy={test_accuracy}, macro-f1={test_f1}')"
      ],
      "execution_count": null,
      "outputs": []
    },
    {
      "cell_type": "markdown",
      "metadata": {
        "id": "tCwFqnH6Lq17"
      },
      "source": [
        "### 1.4 Random Undersampling + SMOTE on Daily Dataset"
      ]
    },
    {
      "cell_type": "code",
      "metadata": {
        "id": "lTdi5bbLLq17"
      },
      "source": [
        "# train model\n",
        "model, selected_hyperparams, train_accuracy, train_f1 = train_classification(initial_model, param_grid, weather_daily_train_df, \n",
        "                                                                             cls=class_label, sampling_technique='hybrid')\n",
        "print(f'Selected hyperparameters: {selected_hyperparams}')\n",
        "# performance on the train set\n",
        "print(f'Train set performance: accuracy={train_accuracy}, macro-f1={train_f1}')"
      ],
      "execution_count": null,
      "outputs": []
    },
    {
      "cell_type": "code",
      "metadata": {
        "id": "76m-rcuvLq18"
      },
      "source": [
        "# graph on train set performance\n",
        "\n",
        "# hyper-parameters selected by GridSearchCV\n",
        "selected_model_params = selected_hyperparams\n",
        "selected_model_params['random_state'] = RAND_SEED\n",
        "\n",
        "showEvalutationGraph_classification(MODEL_CLASS, weather_daily_train_df, cls=class_label, \n",
        "                                    x_axis_param_name=x_axis_param_name, x_axis_param_vals=x_axis_param_vals, \n",
        "                                    selected_model_params=selected_model_params)"
      ],
      "execution_count": null,
      "outputs": []
    },
    {
      "cell_type": "code",
      "metadata": {
        "id": "Z5o9BQOHLq18"
      },
      "source": [
        "# test model\n",
        "test_accuracy, test_f1 = eval_classification(model, weather_daily_test_df, cls=class_label)\n",
        "# performance on the test set\n",
        "print(f'Test set performance: accuracy={test_accuracy}, macro-f1={test_f1}')"
      ],
      "execution_count": null,
      "outputs": []
    },
    {
      "cell_type": "markdown",
      "metadata": {
        "id": "XVMCfgbKahtE"
      },
      "source": [
        "### 1.5 Pearson Feature Selection + Hybrid Sampling to Daily Weather Dataset"
      ]
    },
    {
      "cell_type": "code",
      "metadata": {
        "id": "ck48Q9VQahtN"
      },
      "source": [
        "# train model\n",
        "model, selected_hyperparams, train_accuracy, train_f1 = train_classification(initial_model, param_grid, weather_daily_fs1_train_df, \n",
        "                                                                             cls=class_label, sampling_technique='hybrid')\n",
        "print(f'Selected hyperparameters: {selected_hyperparams}')\n",
        "# performance on the train set\n",
        "print(f'Train set performance: accuracy={train_accuracy}, macro-f1={train_f1}')"
      ],
      "execution_count": null,
      "outputs": []
    },
    {
      "cell_type": "code",
      "metadata": {
        "id": "ioTeYyewahtN"
      },
      "source": [
        "# graph on train set performance\n",
        "\n",
        "# hyper-parameters selected by GridSearchCV\n",
        "selected_model_params = selected_hyperparams\n",
        "selected_model_params['random_state'] = RAND_SEED\n",
        "\n",
        "showEvalutationGraph_classification(MODEL_CLASS, weather_daily_fs1_train_df, cls=class_label, \n",
        "                                x_axis_param_name=x_axis_param_name, x_axis_param_vals=x_axis_param_vals, \n",
        "                                selected_model_params=selected_model_params)"
      ],
      "execution_count": null,
      "outputs": []
    },
    {
      "cell_type": "code",
      "metadata": {
        "id": "yKfAZyE_ahtN"
      },
      "source": [
        "# test model\n",
        "test_accuracy, test_f1 = eval_classification(model, weather_daily_fs1_test_df, cls=class_label)\n",
        "# performance on the test set\n",
        "print(f'Test set performance: accuracy={test_accuracy}, macro-f1={test_f1}')"
      ],
      "execution_count": null,
      "outputs": []
    },
    {
      "cell_type": "markdown",
      "metadata": {
        "id": "FSPsOKznhZlT"
      },
      "source": [
        "### 1.6 SelecKBest Feature Selection + Hybrid Sampling to Daily Weather Dataset"
      ]
    },
    {
      "cell_type": "code",
      "metadata": {
        "id": "i-ZIHmixhZlV"
      },
      "source": [
        "# train model\n",
        "model, selected_hyperparams, train_accuracy, train_f1 = train_classification(initial_model, param_grid, weather_daily_fs2_train_df, \n",
        "                                                                             cls=class_label, sampling_technique='hybrid')\n",
        "print(f'Selected hyperparameters: {selected_hyperparams}')\n",
        "# performance on the train set\n",
        "print(f'Train set performance: accuracy={train_accuracy}, macro-f1={train_f1}')"
      ],
      "execution_count": null,
      "outputs": []
    },
    {
      "cell_type": "code",
      "metadata": {
        "id": "d0CpcJB_hZlV"
      },
      "source": [
        "# graph on train set performance\n",
        "\n",
        "# hyper-parameters selected by GridSearchCV\n",
        "selected_model_params = selected_hyperparams\n",
        "selected_model_params['random_state'] = RAND_SEED\n",
        "\n",
        "showEvalutationGraph_classification(MODEL_CLASS, weather_daily_fs2_train_df, cls=class_label, \n",
        "                                x_axis_param_name=x_axis_param_name, x_axis_param_vals=x_axis_param_vals, \n",
        "                                selected_model_params=selected_model_params)"
      ],
      "execution_count": null,
      "outputs": []
    },
    {
      "cell_type": "code",
      "metadata": {
        "id": "sBlMerD3hZlW"
      },
      "source": [
        "# test model\n",
        "test_accuracy, test_f1 = eval_classification(model, weather_daily_fs2_test_df, cls=class_label)\n",
        "# performance on the test set\n",
        "print(f'Test set performance: accuracy={test_accuracy}, macro-f1={test_f1}')"
      ],
      "execution_count": null,
      "outputs": []
    }
  ]
}