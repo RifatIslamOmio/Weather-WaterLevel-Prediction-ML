{
  "nbformat": 4,
  "nbformat_minor": 0,
  "metadata": {
    "colab": {
      "name": "svm_classification.ipynb",
      "provenance": [],
      "collapsed_sections": []
    },
    "kernelspec": {
      "display_name": "Python 3",
      "language": "python",
      "name": "python3"
    },
    "language_info": {
      "codemirror_mode": {
        "name": "ipython",
        "version": 3
      },
      "file_extension": ".py",
      "mimetype": "text/x-python",
      "name": "python",
      "nbconvert_exporter": "python",
      "pygments_lexer": "ipython3",
      "version": "3.7.10"
    }
  },
  "cells": [
    {
      "cell_type": "code",
      "metadata": {
        "id": "I95S5GeUMsc-"
      },
      "source": [
        "# # the imports in this cell are required when running on local device\n",
        "# import os, sys\n",
        "# sys.path.append(os.path.join('..', '..'))\n",
        "# from utils.applyML_util import train_classification, eval_classification\n",
        "# from utils.featureSelection_util import (pearson_correlation_fs, \n",
        "#                                          seleckKBest_fs, selectSequential_fs)"
      ],
      "execution_count": null,
      "outputs": []
    },
    {
      "cell_type": "code",
      "metadata": {
        "id": "oxumaP1_Oxv4"
      },
      "source": [
        "# the imports in this cell are required when running from Cloud (Colab/Kaggle)\n",
        "# before running on cloud you nee to upload the .py files \n",
        "# from 'Notebooks/utils' directory\n",
        "from applyML_util import train_classification, eval_classification, showEvalutationGraph_classification\n",
        "from featureSelection_util import (pearson_correlation_fs, \n",
        "                                   seleckKBest_fs, selectSequential_fs)"
      ],
      "execution_count": 1,
      "outputs": []
    },
    {
      "cell_type": "markdown",
      "metadata": {
        "id": "UJ4-Bu_iQt6r"
      },
      "source": [
        "**Bernoulli Naive Bayes Documentation link:** https://scikit-learn.org/stable/modules/generated/sklearn.naive_bayes.BernoulliNB.html#sklearn.naive_bayes.BernoulliNB\n"
      ]
    },
    {
      "cell_type": "code",
      "metadata": {
        "id": "1tVvVKjkQsmG"
      },
      "source": [
        "import pandas as pd\n",
        "import numpy as np\n",
        "import matplotlib.pyplot as plt\n",
        "from sklearn.svm import SVC"
      ],
      "execution_count": 2,
      "outputs": []
    },
    {
      "cell_type": "code",
      "metadata": {
        "id": "K0b41I0RRkkE"
      },
      "source": [
        "# global random seed\n",
        "RAND_SEED = 42\n",
        "\n",
        "# initial model with only random seed and not any hyper-parametes\n",
        "initial_model = SVC(random_state=RAND_SEED)\n",
        "\n",
        "# hyper-parameters\n",
        "\n",
        "kernel = ['linear']\n",
        "gamma =  [0.1, 1, 10, 100]\n",
        "c_values = [0.1, 1, 10, 100, 1000]\n",
        "\n",
        "# dictonary of all hyperparameters\n",
        "\n",
        "param_grid = {'C': c_values, 'gamma': gamma, 'kernel':kernel }\n",
        "\n",
        "# variables needed for showEvalGraph_regression() function\n",
        "MODEL_CLASS = SVC\n",
        "\n",
        "class_label = 'Rainfall'\n",
        "x_axis_param_name = 'C'\n",
        "x_axis_param_vals = c_values\n"
      ],
      "execution_count": 4,
      "outputs": []
    },
    {
      "cell_type": "markdown",
      "metadata": {
        "id": "sMvRYb6AQLj9"
      },
      "source": [
        "## 1. Experimentation on the Weather Daily Dataset"
      ]
    },
    {
      "cell_type": "code",
      "metadata": {
        "id": "bNmGnNV1QPE8"
      },
      "source": [
        "# Load the train dataset\n",
        "weather_daily_train_df = pd.read_csv('https://raw.githubusercontent.com/ferdouszislam/Weather-WaterLevel-Prediction-ML/main/Datasets/brri-datasets/final-dataset/train/brri-weather_train_classification.csv')\n",
        "\n",
        "# Load the test set\n",
        "weather_daily_test_df = pd.read_csv('https://raw.githubusercontent.com/ferdouszislam/Weather-WaterLevel-Prediction-ML/main/Datasets/brri-datasets/final-dataset/test/brri-weather_test_classification.csv')"
      ],
      "execution_count": 7,
      "outputs": []
    },
    {
      "cell_type": "markdown",
      "metadata": {
        "id": "z0BMd6EBK6PQ"
      },
      "source": [
        "### 1.0 No technique"
      ]
    },
    {
      "cell_type": "code",
      "metadata": {
        "id": "N8lrGQEjMmhO",
        "colab": {
          "base_uri": "https://localhost:8080/"
        },
        "outputId": "aef2ba2f-3763-433a-8da8-5ba4085f25fc"
      },
      "source": [
        "# train model\n",
        "model, selected_hyperparams, train_accuracy, train_f1 = train_classification(initial_model, param_grid, weather_daily_train_df, cls=class_label)\n",
        "print(f'Selected hyperparameters: {selected_hyperparams}')\n",
        "# performance on the train set\n",
        "print(f'Train set performance: accuracy={train_accuracy}, macro-f1={train_f1}')"
      ],
      "execution_count": null,
      "outputs": [
        {
          "output_type": "stream",
          "name": "stdout",
          "text": [
            "Selected hyperparameters: {'C': 1, 'degree': 5, 'gamma': 0.1, 'kernel': 'linear'}\n",
            "Train set performance: accuracy=0.7212, macro-f1=0.4453\n"
          ]
        }
      ]
    },
    {
      "cell_type": "code",
      "metadata": {
        "id": "_D5Pz_IM2dUj",
        "colab": {
          "base_uri": "https://localhost:8080/",
          "height": 567
        },
        "outputId": "7df4138c-d29d-43f6-a235-9cf7f93e9b07"
      },
      "source": [
        "# graph on train set performance\n",
        "\n",
        "# hyper-parameters selected by GridSearchCV\n",
        "selected_model_params = selected_hyperparams\n",
        "#selected_model_params['random_state'] = RAND_SEED\n",
        "\n",
        "showEvalutationGraph_classification(MODEL_CLASS, weather_daily_train_df, cls=class_label, \n",
        "                                    x_axis_param_name=x_axis_param_name, x_axis_param_vals=x_axis_param_vals, \n",
        "                                    selected_model_params=selected_model_params)"
      ],
      "execution_count": null,
      "outputs": [
        {
          "output_type": "display_data",
          "data": {
            "image/png": "[encoded data removed]",
            "text/plain": [
              "<Figure size 1080x648 with 1 Axes>"
            ]
          },
          "metadata": {
            "needs_background": "light"
          }
        }
      ]
    },
    {
      "cell_type": "code",
      "metadata": {
        "id": "fj1I73i2WBYF",
        "colab": {
          "base_uri": "https://localhost:8080/"
        },
        "outputId": "7b3da70a-fe6d-4fd1-9b1c-1916ec93e129"
      },
      "source": [
        "# test model\n",
        "test_accuracy, test_f1 = eval_classification(model, weather_daily_test_df, cls=class_label)\n",
        "# performance on the test set\n",
        "print(f'Test set performance: accuracy={test_accuracy}, macro-f1={test_f1}')"
      ],
      "execution_count": null,
      "outputs": [
        {
          "output_type": "stream",
          "name": "stdout",
          "text": [
            "Test set performance: accuracy=0.726, macro-f1=0.4437\n"
          ]
        }
      ]
    },
    {
      "cell_type": "markdown",
      "metadata": {
        "id": "VcGsKgTkDS60"
      },
      "source": [
        "### 1.1 Apply Pearson Feature Selection to Daily Weather Dataset"
      ]
    },
    {
      "cell_type": "code",
      "metadata": {
        "id": "xUGFfg6FDSB3",
        "colab": {
          "base_uri": "https://localhost:8080/"
        },
        "outputId": "696e02e5-35a3-4a6e-86f5-8c8e67dddb4c"
      },
      "source": [
        "# select features from the train dataset\n",
        "weather_daily_fs1_train_df, cols_to_drop = pearson_correlation_fs(weather_daily_train_df, class_label)\n",
        "\n",
        "# keep only selected features on the test dataset\n",
        "weather_daily_fs1_test_df = weather_daily_test_df.drop(columns=cols_to_drop)"
      ],
      "execution_count": null,
      "outputs": [
        {
          "output_type": "stream",
          "name": "stdout",
          "text": [
            "dropping Sunshine (hour/day) from (Cloudy (hour/day), Sunshine (hour/day))\n"
          ]
        }
      ]
    },
    {
      "cell_type": "code",
      "metadata": {
        "id": "Z4Aj4bDCEBFE",
        "colab": {
          "base_uri": "https://localhost:8080/"
        },
        "outputId": "668dc714-57dd-48b9-e3a8-8e61f2add576"
      },
      "source": [
        "# train model\n",
        "model, selected_hyperparams, train_accuracy, train_f1 = train_classification(initial_model, param_grid, weather_daily_fs1_train_df, cls=class_label)\n",
        "print(f'Selected hyperparameters: {selected_hyperparams}')\n",
        "# performance on the train set\n",
        "print(f'Train set performance: accuracy={train_accuracy}, macro-f1={train_f1}')"
      ],
      "execution_count": null,
      "outputs": [
        {
          "output_type": "stream",
          "name": "stdout",
          "text": [
            "Selected hyperparameters: {'C': 1, 'degree': 5, 'gamma': 0.1, 'kernel': 'linear'}\n",
            "Train set performance: accuracy=0.7196, macro-f1=0.4443\n"
          ]
        }
      ]
    },
    {
      "cell_type": "code",
      "metadata": {
        "id": "Wnlx9lRX6cOT",
        "colab": {
          "base_uri": "https://localhost:8080/",
          "height": 567
        },
        "outputId": "0ddd4465-1ee1-46c7-f8c1-3bda7e56a6da"
      },
      "source": [
        "# graph on train set performance\n",
        "\n",
        "# hyper-parameters selected by GridSearchCV\n",
        "selected_model_params = selected_hyperparams\n",
        "#selected_model_params['random_state'] = RAND_SEED\n",
        "\n",
        "showEvalutationGraph_classification(MODEL_CLASS, weather_daily_fs1_train_df, cls=class_label, \n",
        "                                x_axis_param_name=x_axis_param_name, x_axis_param_vals=x_axis_param_vals, \n",
        "                                selected_model_params=selected_model_params)"
      ],
      "execution_count": null,
      "outputs": [
        {
          "output_type": "display_data",
          "data": {
            "image/png": "[encoded data removed]",
            "text/plain": [
              "<Figure size 1080x648 with 1 Axes>"
            ]
          },
          "metadata": {
            "needs_background": "light"
          }
        }
      ]
    },
    {
      "cell_type": "code",
      "metadata": {
        "id": "Q56t8VALEOLV",
        "colab": {
          "base_uri": "https://localhost:8080/"
        },
        "outputId": "c1681694-025d-493b-ce0c-788a22a20444"
      },
      "source": [
        "# test model\n",
        "test_accuracy, test_f1 = eval_classification(model, weather_daily_fs1_test_df, cls=class_label)\n",
        "# performance on the test set\n",
        "print(f'Test set performance: accuracy={test_accuracy}, macro-f1={test_f1}')"
      ],
      "execution_count": null,
      "outputs": [
        {
          "output_type": "stream",
          "name": "stdout",
          "text": [
            "Test set performance: accuracy=0.726, macro-f1=0.4437\n"
          ]
        }
      ]
    },
    {
      "cell_type": "markdown",
      "metadata": {
        "id": "r0f0shnaTaEd"
      },
      "source": [
        "### 1.2 Apply SelectKBest Feature Selection to Daily Weather Dataset"
      ]
    },
    {
      "cell_type": "code",
      "metadata": {
        "id": "aP0zT8cDTaEe",
        "colab": {
          "base_uri": "https://localhost:8080/"
        },
        "outputId": "bf6671a2-b5da-48c8-b435-501fb960022e"
      },
      "source": [
        "# select features from the train dataset\n",
        "weather_daily_fs2_train_df, cols_to_drop = seleckKBest_fs(weather_daily_train_df, class_label, is_regression=True)\n",
        "\n",
        "print('features dropped:', cols_to_drop)\n",
        "\n",
        "# keep only selected features on the test dataset\n",
        "weather_daily_fs2_test_df = weather_daily_test_df.drop(columns=cols_to_drop)"
      ],
      "execution_count": null,
      "outputs": [
        {
          "output_type": "stream",
          "name": "stdout",
          "text": [
            "features dropped: ['Max Temp. (degree Celcius)', 'Relative Humidity (morning, %)']\n"
          ]
        }
      ]
    },
    {
      "cell_type": "code",
      "metadata": {
        "id": "obBlfL4DTaEg",
        "colab": {
          "base_uri": "https://localhost:8080/"
        },
        "outputId": "954ddfda-b634-4576-8fd8-e4e0cb18d972"
      },
      "source": [
        "# train model\n",
        "model, selected_hyperparams, train_accuracy, train_f1 = train_classification(initial_model, param_grid, weather_daily_fs2_train_df, cls=class_label)\n",
        "print(f'Selected hyperparameters: {selected_hyperparams}')\n",
        "# performance on the train set\n",
        "print(f'Train set performance: accuracy={train_accuracy}, macro-f1={train_f1}')"
      ],
      "execution_count": null,
      "outputs": [
        {
          "output_type": "stream",
          "name": "stdout",
          "text": [
            "Selected hyperparameters: {'C': 1, 'degree': 5, 'gamma': 0.1, 'kernel': 'linear'}\n",
            "Train set performance: accuracy=0.7196, macro-f1=0.4435\n"
          ]
        }
      ]
    },
    {
      "cell_type": "code",
      "metadata": {
        "id": "FmIkmj59TaEh",
        "colab": {
          "base_uri": "https://localhost:8080/",
          "height": 567
        },
        "outputId": "02666972-3f6f-41fe-dba2-f516e39556d2"
      },
      "source": [
        "# r2-scores graph on the train set\n",
        "\n",
        "# hyper-parameters selected by GridSearchCV\n",
        "selected_model_params = selected_hyperparams\n",
        "#selected_model_params['random_state'] = RAND_SEED\n",
        "\n",
        "showEvalutationGraph_classification(MODEL_CLASS, weather_daily_fs2_train_df, cls=class_label, \n",
        "                                x_axis_param_name=x_axis_param_name, x_axis_param_vals=x_axis_param_vals, \n",
        "                                selected_model_params=selected_model_params)"
      ],
      "execution_count": null,
      "outputs": [
        {
          "output_type": "display_data",
          "data": {
            "image/png": "[encoded data removed]",
            "text/plain": [
              "<Figure size 1080x648 with 1 Axes>"
            ]
          },
          "metadata": {
            "needs_background": "light"
          }
        }
      ]
    },
    {
      "cell_type": "code",
      "metadata": {
        "id": "DFeHpfLrTaEh",
        "colab": {
          "base_uri": "https://localhost:8080/"
        },
        "outputId": "7520dba3-5069-469f-8f1e-9248ac5d2129"
      },
      "source": [
        "# test model\n",
        "test_accuracy, test_f1 = eval_classification(model, weather_daily_fs2_test_df, cls=class_label)\n",
        "# performance on the test set\n",
        "print(f'Test set performance: accuracy={test_accuracy}, macro-f1={test_f1}')"
      ],
      "execution_count": null,
      "outputs": [
        {
          "output_type": "stream",
          "name": "stdout",
          "text": [
            "Test set performance: accuracy=0.7302, macro-f1=0.4482\n"
          ]
        }
      ]
    },
    {
      "cell_type": "markdown",
      "metadata": {
        "id": "uPWtfgzLLYJI"
      },
      "source": [
        "### 1.3 SMOTE on Daily Dataset"
      ]
    },
    {
      "cell_type": "code",
      "metadata": {
        "id": "9Q9UhID9LYJI",
        "colab": {
          "base_uri": "https://localhost:8080/"
        },
        "outputId": "2f3dbe7c-6679-4626-a61d-4d56811145e2"
      },
      "source": [
        "# train model\n",
        "model, selected_hyperparams, train_accuracy, train_f1 = train_classification(initial_model, param_grid, weather_daily_train_df, \n",
        "                                                                             cls=class_label, sampling_technique='smote')\n",
        "print(f'Selected hyperparameters: {selected_hyperparams}')\n",
        "# performance on the train set\n",
        "print(f'Train set performance: accuracy={train_accuracy}, macro-f1={train_f1}')"
      ],
      "execution_count": null,
      "outputs": [
        {
          "output_type": "stream",
          "name": "stdout",
          "text": [
            "class distribution before sampling: {1: 1008, 0: 2477, 2: 310}\n",
            "class distribution after sampling: {1: 2477, 0: 2477, 2: 2477}\n"
          ]
        }
      ]
    },
    {
      "cell_type": "code",
      "metadata": {
        "id": "sdm9243wLYJJ"
      },
      "source": [
        "# r2-scores graph on the train set\n",
        "\n",
        "# hyper-parameters selected by GridSearchCV\n",
        "selected_model_params = selected_hyperparams\n",
        "#selected_model_params['random_state'] = RAND_SEED\n",
        "\n",
        "showEvalutationGraph_classification(MODEL_CLASS, weather_daily_train_df, cls=class_label, \n",
        "                                    x_axis_param_name=x_axis_param_name, x_axis_param_vals=x_axis_param_vals, \n",
        "                                    selected_model_params=selected_model_params)"
      ],
      "execution_count": null,
      "outputs": []
    },
    {
      "cell_type": "code",
      "metadata": {
        "id": "y8RoOykDLYJK"
      },
      "source": [
        "# test model\n",
        "test_accuracy, test_f1 = eval_classification(model, weather_daily_test_df, cls=class_label)\n",
        "# performance on the test set\n",
        "print(f'Test set performance: accuracy={test_accuracy}, macro-f1={test_f1}')"
      ],
      "execution_count": null,
      "outputs": []
    },
    {
      "cell_type": "markdown",
      "metadata": {
        "id": "tCwFqnH6Lq17"
      },
      "source": [
        "### 1.4 Random Undersampling + SMOTE on Daily Dataset"
      ]
    },
    {
      "cell_type": "code",
      "metadata": {
        "id": "lTdi5bbLLq17"
      },
      "source": [
        "# train model\n",
        "model, selected_hyperparams, train_accuracy, train_f1 = train_classification(initial_model, param_grid, weather_daily_train_df, \n",
        "                                                                             cls=class_label, sampling_technique='hybrid')\n",
        "print(f'Selected hyperparameters: {selected_hyperparams}')\n",
        "# performance on the train set\n",
        "print(f'Train set performance: accuracy={train_accuracy}, macro-f1={train_f1}')"
      ],
      "execution_count": null,
      "outputs": []
    },
    {
      "cell_type": "code",
      "metadata": {
        "id": "76m-rcuvLq18"
      },
      "source": [
        "# graph on train set performance\n",
        "\n",
        "# hyper-parameters selected by GridSearchCV\n",
        "selected_model_params = selected_hyperparams\n",
        "#selected_model_params['random_state'] = RAND_SEED\n",
        "\n",
        "showEvalutationGraph_classification(MODEL_CLASS, weather_daily_train_df, cls=class_label, \n",
        "                                    x_axis_param_name=x_axis_param_name, x_axis_param_vals=x_axis_param_vals, \n",
        "                                    selected_model_params=selected_model_params)"
      ],
      "execution_count": null,
      "outputs": []
    },
    {
      "cell_type": "code",
      "metadata": {
        "id": "Z5o9BQOHLq18"
      },
      "source": [
        "# test model\n",
        "test_accuracy, test_f1 = eval_classification(model, weather_daily_test_df, cls=class_label)\n",
        "# performance on the test set\n",
        "print(f'Test set performance: accuracy={test_accuracy}, macro-f1={test_f1}')"
      ],
      "execution_count": null,
      "outputs": []
    },
    {
      "cell_type": "markdown",
      "metadata": {
        "id": "XVMCfgbKahtE"
      },
      "source": [
        "### 1.5 Pearson Feature Selection + Hybrid Sampling to Daily Weather Dataset"
      ]
    },
    {
      "cell_type": "code",
      "metadata": {
        "id": "ck48Q9VQahtN"
      },
      "source": [
        "# train model\n",
        "model, selected_hyperparams, train_accuracy, train_f1 = train_classification(initial_model, param_grid, weather_daily_fs1_train_df, \n",
        "                                                                             cls=class_label, sampling_technique='hybrid')\n",
        "print(f'Selected hyperparameters: {selected_hyperparams}')\n",
        "# performance on the train set\n",
        "print(f'Train set performance: accuracy={train_accuracy}, macro-f1={train_f1}')"
      ],
      "execution_count": null,
      "outputs": []
    },
    {
      "cell_type": "code",
      "metadata": {
        "id": "ioTeYyewahtN"
      },
      "source": [
        "# graph on train set performance\n",
        "\n",
        "# hyper-parameters selected by GridSearchCV\n",
        "selected_model_params = selected_hyperparams\n",
        "#selected_model_params['random_state'] = RAND_SEED\n",
        "\n",
        "showEvalutationGraph_classification(MODEL_CLASS, weather_daily_fs1_train_df, cls=class_label, \n",
        "                                x_axis_param_name=x_axis_param_name, x_axis_param_vals=x_axis_param_vals, \n",
        "                                selected_model_params=selected_model_params)"
      ],
      "execution_count": null,
      "outputs": []
    },
    {
      "cell_type": "code",
      "metadata": {
        "id": "yKfAZyE_ahtN"
      },
      "source": [
        "# test model\n",
        "test_accuracy, test_f1 = eval_classification(model, weather_daily_fs1_test_df, cls=class_label)\n",
        "# performance on the test set\n",
        "print(f'Test set performance: accuracy={test_accuracy}, macro-f1={test_f1}')"
      ],
      "execution_count": null,
      "outputs": []
    },
    {
      "cell_type": "markdown",
      "metadata": {
        "id": "FSPsOKznhZlT"
      },
      "source": [
        "### 1.6 SelecKBest Feature Selection + Hybrid Sampling to Daily Weather Dataset"
      ]
    },
    {
      "cell_type": "code",
      "metadata": {
        "id": "i-ZIHmixhZlV"
      },
      "source": [
        "# train model\n",
        "model, selected_hyperparams, train_accuracy, train_f1 = train_classification(initial_model, param_grid, weather_daily_fs2_train_df, \n",
        "                                                                             cls=class_label, sampling_technique='hybrid')\n",
        "print(f'Selected hyperparameters: {selected_hyperparams}')\n",
        "# performance on the train set\n",
        "print(f'Train set performance: accuracy={train_accuracy}, macro-f1={train_f1}')"
      ],
      "execution_count": null,
      "outputs": []
    },
    {
      "cell_type": "code",
      "metadata": {
        "id": "d0CpcJB_hZlV"
      },
      "source": [
        "# graph on train set performance\n",
        "\n",
        "# hyper-parameters selected by GridSearchCV\n",
        "selected_model_params = selected_hyperparams\n",
        "#selected_model_params['random_state'] = RAND_SEED\n",
        "\n",
        "showEvalutationGraph_classification(MODEL_CLASS, weather_daily_fs2_train_df, cls=class_label, \n",
        "                                x_axis_param_name=x_axis_param_name, x_axis_param_vals=x_axis_param_vals, \n",
        "                                selected_model_params=selected_model_params)"
      ],
      "execution_count": null,
      "outputs": []
    },
    {
      "cell_type": "code",
      "metadata": {
        "id": "sBlMerD3hZlW"
      },
      "source": [
        "# test model\n",
        "test_accuracy, test_f1 = eval_classification(model, weather_daily_fs2_test_df, cls=class_label)\n",
        "# performance on the test set\n",
        "print(f'Test set performance: accuracy={test_accuracy}, macro-f1={test_f1}')"
      ],
      "execution_count": null,
      "outputs": []
    }
  ]
}