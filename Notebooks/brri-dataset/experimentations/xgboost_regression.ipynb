{
  "nbformat": 4,
  "nbformat_minor": 0,
  "metadata": {
    "kernelspec": {
      "language": "python",
      "display_name": "Python 3",
      "name": "python3"
    },
    "language_info": {
      "name": "python",
      "version": "3.7.10",
      "mimetype": "text/x-python",
      "codemirror_mode": {
        "name": "ipython",
        "version": 3
      },
      "pygments_lexer": "ipython3",
      "nbconvert_exporter": "python",
      "file_extension": ".py"
    },
    "colab": {
      "name": "xgboost_regression.ipynb",
      "provenance": [],
      "include_colab_link": true
    }
  },
  "cells": [
    {
      "cell_type": "markdown",
      "metadata": {
        "id": "view-in-github",
        "colab_type": "text"
      },
      "source": [
        "<a href=\"https://colab.research.google.com/github/ferdouszislam/Weather-WaterLevel-Prediction-ML/blob/main/Notebooks/brri-dataset/experimentations/xgboost_regression.ipynb\" target=\"_parent\"><img src=\"https://colab.research.google.com/assets/colab-badge.svg\" alt=\"Open In Colab\"/></a>"
      ]
    },
    {
      "cell_type": "code",
      "metadata": {
        "id": "I95S5GeUMsc-",
        "execution": {
          "iopub.status.busy": "2021-11-22T00:33:16.821427Z",
          "iopub.execute_input": "2021-11-22T00:33:16.822066Z",
          "iopub.status.idle": "2021-11-22T00:33:16.840076Z",
          "shell.execute_reply.started": "2021-11-22T00:33:16.821972Z",
          "shell.execute_reply": "2021-11-22T00:33:16.839013Z"
        },
        "trusted": true
      },
      "source": [
        "# # the imports in this cell are required when running on local device\n",
        "# import os, sys\n",
        "# sys.path.append(os.path.join('..', '..'))\n",
        "# from utils.applyML_util import train_regression, eval_regression\n",
        "# from utils.featureSelection_util import (pearson_correlation_fs, \n",
        "#                                          seleckKBest_fs, selectSequential_fs)"
      ],
      "execution_count": 1,
      "outputs": []
    },
    {
      "cell_type": "code",
      "metadata": {
        "id": "oxumaP1_Oxv4",
        "execution": {
          "iopub.status.busy": "2021-11-22T00:33:16.841794Z",
          "iopub.execute_input": "2021-11-22T00:33:16.842282Z",
          "iopub.status.idle": "2021-11-22T00:33:17.957126Z",
          "shell.execute_reply.started": "2021-11-22T00:33:16.842248Z",
          "shell.execute_reply": "2021-11-22T00:33:17.956237Z"
        },
        "trusted": true
      },
      "source": [
        "# the imports in this cell are required when running from Cloud (Colab/Kaggle)\n",
        "# before running on cloud you nee to upload the .py files \n",
        "# from 'Notebooks/utils' directory\n",
        "from applyML_util import train_regression, eval_regression, showEvalutationGraph_regression\n",
        "from featureSelection_util import (pearson_correlation_fs, \n",
        "                                   seleckKBest_fs, selectSequential_fs)"
      ],
      "execution_count": 2,
      "outputs": []
    },
    {
      "cell_type": "markdown",
      "metadata": {
        "id": "UJ4-Bu_iQt6r"
      },
      "source": [
        "**XGBoost documentation link:** https://xgboost.readthedocs.io/en/latest/python/python_api.html#xgboost.XGBRegressor  \n",
        "**Hyper-parameters:** https://kevinvecmanis.io/machine%20learning/hyperparameter%20tuning/dataviz/python/2019/05/11/XGBoost-Tuning-Visual-Guide.html\n"
      ]
    },
    {
      "cell_type": "code",
      "metadata": {
        "id": "1tVvVKjkQsmG",
        "execution": {
          "iopub.status.busy": "2021-11-22T00:33:17.958885Z",
          "iopub.execute_input": "2021-11-22T00:33:17.959118Z",
          "iopub.status.idle": "2021-11-22T00:33:18.014493Z",
          "shell.execute_reply.started": "2021-11-22T00:33:17.959091Z",
          "shell.execute_reply": "2021-11-22T00:33:18.013470Z"
        },
        "trusted": true
      },
      "source": [
        "import pandas as pd\n",
        "import numpy as np\n",
        "import matplotlib.pyplot as plt\n",
        "\n",
        "from xgboost.sklearn import XGBRegressor"
      ],
      "execution_count": 3,
      "outputs": []
    },
    {
      "cell_type": "code",
      "metadata": {
        "id": "K0b41I0RRkkE",
        "execution": {
          "iopub.status.busy": "2021-11-22T00:33:18.015856Z",
          "iopub.execute_input": "2021-11-22T00:33:18.016109Z",
          "iopub.status.idle": "2021-11-22T00:33:18.022402Z",
          "shell.execute_reply.started": "2021-11-22T00:33:18.016080Z",
          "shell.execute_reply": "2021-11-22T00:33:18.021080Z"
        },
        "trusted": true
      },
      "source": [
        "# global random seed\n",
        "RAND_SEED = 42\n",
        "\n",
        "# initial model with only random seed and not any hyper-parametes\n",
        "initial_model = XGBRegressor(random_state=RAND_SEED, n_jobs=-1, objective ='reg:squarederror')\n",
        "\n",
        "# hyper-parameters\n",
        "n_estimators_list = [1, 10, 50, 100, 150, 200]\n",
        "max_depths = [max(1, x*3) for x in range(0, 11)]\n",
        "early_stopping_rounds_list = [5, 10, 20]\n",
        "learning_rates = [0.001, 0.01, 0.1, 1.0]\n",
        "gammas = [0, 0.5, 2, 5, 10, 20]\n",
        "subsamples = [0.25, 0.5, 1.0]\n",
        "\n",
        "# dictonary of all hyperparameters\n",
        "param_grid = {\n",
        "    'n_estimator': n_estimators_list,\n",
        "    'learning_rate': learning_rates,\n",
        "    'gamma': gammas,\n",
        "    'subsample': subsamples,\n",
        "    'early_stopping_rounds': early_stopping_rounds_list,\n",
        "}"
      ],
      "execution_count": 4,
      "outputs": []
    },
    {
      "cell_type": "markdown",
      "metadata": {
        "id": "sMvRYb6AQLj9"
      },
      "source": [
        "## 1. Experimentation on the Weather Daily dataset"
      ]
    },
    {
      "cell_type": "code",
      "metadata": {
        "id": "bNmGnNV1QPE8",
        "execution": {
          "iopub.status.busy": "2021-11-22T00:33:18.025025Z",
          "iopub.execute_input": "2021-11-22T00:33:18.026931Z",
          "iopub.status.idle": "2021-11-22T00:33:18.514420Z",
          "shell.execute_reply.started": "2021-11-22T00:33:18.026873Z",
          "shell.execute_reply": "2021-11-22T00:33:18.513569Z"
        },
        "trusted": true
      },
      "source": [
        "# Load the train dataset\n",
        "weather_daily_train_df = pd.read_csv('https://raw.githubusercontent.com/ferdouszislam/Weather-WaterLevel-Prediction-ML/main/Datasets/brri-datasets/final-dataset/train/brri-weather_train_regression.csv')\n",
        "\n",
        "# Load the test set\n",
        "weather_daily_test_df = pd.read_csv('https://raw.githubusercontent.com/ferdouszislam/Weather-WaterLevel-Prediction-ML/main/Datasets/brri-datasets/final-dataset/test/brri-weather_test_regression.csv')"
      ],
      "execution_count": 5,
      "outputs": []
    },
    {
      "cell_type": "code",
      "metadata": {
        "id": "N8lrGQEjMmhO",
        "execution": {
          "iopub.status.busy": "2021-11-22T00:33:18.515975Z",
          "iopub.execute_input": "2021-11-22T00:33:18.516512Z",
          "iopub.status.idle": "2021-11-22T00:37:36.903606Z",
          "shell.execute_reply.started": "2021-11-22T00:33:18.516467Z",
          "shell.execute_reply": "2021-11-22T00:37:36.902636Z"
        },
        "trusted": true,
        "colab": {
          "base_uri": "https://localhost:8080/"
        },
        "outputId": "e912ae82-ea70-498a-9b4e-bfb73d7646d7"
      },
      "source": [
        "# train model\n",
        "model, selected_hyperparams, train_r2, train_mae, train_rmse = train_regression(initial_model, param_grid, weather_daily_train_df, cls='Rainfall (mm)')\n",
        "print(f'Selected hyperparameters: {selected_hyperparams}')\n",
        "# performance on the train set\n",
        "print(f'Train set performance: r2-score={train_r2}, mae={train_mae}, rmse={train_rmse}')"
      ],
      "execution_count": 6,
      "outputs": [
        {
          "output_type": "stream",
          "name": "stdout",
          "text": [
            "Selected hyperparameters: {'early_stopping_rounds': 5, 'gamma': 0, 'learning_rate': 0.1, 'n_estimator': 1, 'subsample': 1.0}\n",
            "Train set performance: r2-score=0.259, mae=6.1925, rmse=12.8065\n"
          ]
        }
      ]
    },
    {
      "cell_type": "code",
      "metadata": {
        "id": "_D5Pz_IM2dUj",
        "colab": {
          "base_uri": "https://localhost:8080/",
          "height": 567
        },
        "outputId": "6bdf561c-fd23-4114-b65a-0cdedf6cd4f7"
      },
      "source": [
        "# r2-scores graph on the train set\n",
        "\n",
        "# hyper-parameters selected by GridSearchCV\n",
        "selected_model_params = selected_hyperparams\n",
        "selected_model_params['random_state'] = RAND_SEED\n",
        "selected_model_params['n_jobs'] = -1\n",
        "selected_model_params['objective'] = 'reg:squarederror'\n",
        "\n",
        "showEvalutationGraph_regression(XGBRegressor, weather_daily_train_df, cls='Rainfall (mm)', \n",
        "                                x_axis_param_name='n_estimator', x_axis_param_vals=n_estimators_list, \n",
        "                                selected_model_params=selected_model_params)"
      ],
      "execution_count": 7,
      "outputs": [
        {
          "output_type": "display_data",
          "data": {
            "image/png": "[encoded data removed]",
            "text/plain": [
              "<Figure size 1080x648 with 1 Axes>"
            ]
          },
          "metadata": {
            "needs_background": "light"
          }
        }
      ]
    },
    {
      "cell_type": "code",
      "metadata": {
        "id": "fj1I73i2WBYF",
        "execution": {
          "iopub.status.busy": "2021-11-22T00:37:36.905101Z",
          "iopub.execute_input": "2021-11-22T00:37:36.905398Z",
          "iopub.status.idle": "2021-11-22T00:37:37.017469Z",
          "shell.execute_reply.started": "2021-11-22T00:37:36.905334Z",
          "shell.execute_reply": "2021-11-22T00:37:37.016632Z"
        },
        "trusted": true,
        "colab": {
          "base_uri": "https://localhost:8080/"
        },
        "outputId": "912322df-a6a6-4f01-b013-c5fac4a0df45"
      },
      "source": [
        "# test model\n",
        "test_r2, test_mae, test_rmse = eval_regression(model, weather_daily_test_df, cls='Rainfall (mm)')\n",
        "# performance on the test set\n",
        "print(f'Test set performance: r2-score={test_r2}, mae={test_mae}, rmse={test_rmse}')"
      ],
      "execution_count": 8,
      "outputs": [
        {
          "output_type": "stream",
          "name": "stdout",
          "text": [
            "Test set performance: r2-score=0.1843, mae=6.4299, rmse=15.6168\n"
          ]
        }
      ]
    },
    {
      "cell_type": "markdown",
      "metadata": {
        "id": "VcGsKgTkDS60"
      },
      "source": [
        "### 1.1 Apply Pearson Feature Selection to Daily Weather Dataset"
      ]
    },
    {
      "cell_type": "code",
      "metadata": {
        "id": "xUGFfg6FDSB3",
        "execution": {
          "iopub.status.busy": "2021-11-22T00:37:37.018767Z",
          "iopub.execute_input": "2021-11-22T00:37:37.019004Z",
          "iopub.status.idle": "2021-11-22T00:37:37.034921Z",
          "shell.execute_reply.started": "2021-11-22T00:37:37.018975Z",
          "shell.execute_reply": "2021-11-22T00:37:37.034043Z"
        },
        "trusted": true,
        "colab": {
          "base_uri": "https://localhost:8080/"
        },
        "outputId": "237dee83-50ac-417e-db73-0f38896861a1"
      },
      "source": [
        "# select features from the train dataset\n",
        "weather_daily_fs_train_df, cols_to_drop = pearson_correlation_fs(weather_daily_train_df, 'Rainfall (mm)')\n",
        "\n",
        "# keep only selected features on the test dataset\n",
        "weather_daily_fs_test_df = weather_daily_test_df.drop(columns=cols_to_drop)"
      ],
      "execution_count": 9,
      "outputs": [
        {
          "output_type": "stream",
          "name": "stdout",
          "text": [
            "dropping Sunshine (hour/day) from (Cloudy (hour/day), Sunshine (hour/day))\n",
            "dropping Solar Radiation (cal/cm^2/day) from (Solar Radiation (cal/cm^2/day), Sunshine (hour/day))\n"
          ]
        }
      ]
    },
    {
      "cell_type": "code",
      "metadata": {
        "id": "Z4Aj4bDCEBFE",
        "execution": {
          "iopub.status.busy": "2021-11-22T00:37:37.036406Z",
          "iopub.execute_input": "2021-11-22T00:37:37.036797Z",
          "iopub.status.idle": "2021-11-22T00:41:29.000748Z",
          "shell.execute_reply.started": "2021-11-22T00:37:37.036753Z",
          "shell.execute_reply": "2021-11-22T00:41:28.999786Z"
        },
        "trusted": true,
        "colab": {
          "base_uri": "https://localhost:8080/"
        },
        "outputId": "2b4b1140-b1bd-4a84-ffee-2dcafd12439d"
      },
      "source": [
        "# train model\n",
        "model, selected_hyperparams, train_r2, train_mae, train_rmse = train_regression(initial_model, param_grid, weather_daily_fs_train_df, cls='Rainfall (mm)')\n",
        "print(f'Selected hyperparameters: {selected_hyperparams}')\n",
        "# performance on the train set\n",
        "print(f'Train set performance: r2-score={train_r2}, mae={train_mae}, rmse={train_rmse}')"
      ],
      "execution_count": 10,
      "outputs": [
        {
          "output_type": "stream",
          "name": "stdout",
          "text": [
            "Selected hyperparameters: {'early_stopping_rounds': 5, 'gamma': 20, 'learning_rate': 0.1, 'n_estimator': 1, 'subsample': 1.0}\n",
            "Train set performance: r2-score=0.2302, mae=6.2898, rmse=13.0647\n"
          ]
        }
      ]
    },
    {
      "cell_type": "code",
      "metadata": {
        "id": "Wnlx9lRX6cOT",
        "colab": {
          "base_uri": "https://localhost:8080/",
          "height": 567
        },
        "outputId": "735a0a33-0a43-4020-f73a-cad70efc85c7"
      },
      "source": [
        "# r2-scores graph on the train set\n",
        "\n",
        "# hyper-parameters selected by GridSearchCV\n",
        "selected_model_params = selected_hyperparams\n",
        "selected_model_params['random_state'] = RAND_SEED\n",
        "selected_model_params['n_jobs'] = -1\n",
        "selected_model_params['objective'] ='reg:squarederror'\n",
        "\n",
        "showEvalutationGraph_regression(XGBRegressor, weather_daily_fs_train_df, cls='Rainfall (mm)', \n",
        "                                x_axis_param_name='n_estimator', x_axis_param_vals=n_estimators_list, \n",
        "                                selected_model_params=selected_model_params)"
      ],
      "execution_count": 11,
      "outputs": [
        {
          "output_type": "display_data",
          "data": {
            "image/png": "[encoded data removed]",
            "text/plain": [
              "<Figure size 1080x648 with 1 Axes>"
            ]
          },
          "metadata": {
            "needs_background": "light"
          }
        }
      ]
    },
    {
      "cell_type": "code",
      "metadata": {
        "id": "Q56t8VALEOLV",
        "execution": {
          "iopub.status.busy": "2021-11-22T00:41:29.001950Z",
          "iopub.execute_input": "2021-11-22T00:41:29.002240Z",
          "iopub.status.idle": "2021-11-22T00:41:29.114525Z",
          "shell.execute_reply.started": "2021-11-22T00:41:29.002188Z",
          "shell.execute_reply": "2021-11-22T00:41:29.113549Z"
        },
        "trusted": true,
        "colab": {
          "base_uri": "https://localhost:8080/"
        },
        "outputId": "c3f6305f-b228-43b6-9c8d-3b11bf8026bd"
      },
      "source": [
        "# test model\n",
        "test_r2, test_mae, test_rmse = eval_regression(model, weather_daily_fs_test_df, cls='Rainfall (mm)')\n",
        "# performance on the test set\n",
        "print(f'Test set performance: r2-score={test_r2}, mae={test_mae}, rmse={test_rmse}')"
      ],
      "execution_count": 12,
      "outputs": [
        {
          "output_type": "stream",
          "name": "stdout",
          "text": [
            "Test set performance: r2-score=0.1661, mae=6.4783, rmse=15.7897\n"
          ]
        }
      ]
    }
  ]
}