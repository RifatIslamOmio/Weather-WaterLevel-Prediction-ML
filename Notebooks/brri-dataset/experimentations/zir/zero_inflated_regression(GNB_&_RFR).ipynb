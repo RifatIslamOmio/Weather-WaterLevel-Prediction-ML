{
  "nbformat": 4,
  "nbformat_minor": 0,
  "metadata": {
    "colab": {
      "name": "zero-inflated_regression(GNB & RFR).ipynb",
      "provenance": [],
      "collapsed_sections": []
    },
    "kernelspec": {
      "display_name": "Python 3",
      "language": "python",
      "name": "python3"
    },
    "language_info": {
      "codemirror_mode": {
        "name": "ipython",
        "version": 3
      },
      "file_extension": ".py",
      "mimetype": "text/x-python",
      "name": "python",
      "nbconvert_exporter": "python",
      "pygments_lexer": "ipython3",
      "version": "3.7.10"
    }
  },
  "cells": [
    {
      "cell_type": "code",
      "metadata": {
        "id": "I95S5GeUMsc-"
      },
      "source": [
        "# # the imports in this cell are required when running on local device\n",
        "# import os, sys\n",
        "# sys.path.append(os.path.join('..', '..'))\n",
        "# from utils.applyML_util import train_regression, eval_regression\n",
        "# from utils.featureSelection_util import (pearson_correlation_fs, \n",
        "#                                          seleckKBest_fs, selectSequential_fs)"
      ],
      "execution_count": 1,
      "outputs": []
    },
    {
      "cell_type": "code",
      "metadata": {
        "id": "oxumaP1_Oxv4"
      },
      "source": [
        "# the imports in this cell are required when running from Cloud (Colab/Kaggle)\n",
        "# before running on cloud you nee to upload the .py files \n",
        "# from 'Notebooks/utils' directory\n",
        "from applyML_util import train_regression, eval_regression, showEvalutationGraph_regression\n",
        "from featureSelection_util import (pearson_correlation_fs, \n",
        "                                   seleckKBest_fs, selectSequential_fs)"
      ],
      "execution_count": 2,
      "outputs": []
    },
    {
      "cell_type": "markdown",
      "metadata": {
        "id": "AqwNJBzumHl2"
      },
      "source": [
        "# New Section"
      ]
    },
    {
      "cell_type": "markdown",
      "metadata": {
        "id": "UJ4-Bu_iQt6r"
      },
      "source": [
        "**GNB Documentation link:** https://scikit-learn.org/stable/modules/generated/sklearn.naive_bayes.GaussianNB.html\n",
        "\n",
        "**RFR Documentation link:** https://scikit-learn.org/stable/modules/generated/sklearn.ensemble.RandomForestRegressor.html\n",
        "\n",
        "**SK-Lego Documentation link:** https://scikit-lego.netlify.app/meta.html#Zero-Inflated-Regressor"
      ]
    },
    {
      "cell_type": "code",
      "metadata": {
        "id": "p0UKkvHXy2Sh"
      },
      "source": [
        "!pip install sklego"
      ],
      "execution_count": null,
      "outputs": []
    },
    {
      "cell_type": "code",
      "metadata": {
        "id": "1tVvVKjkQsmG"
      },
      "source": [
        "import pandas as pd\n",
        "import numpy as np\n",
        "import matplotlib.pyplot as plt\n",
        "from sklearn.linear_model import LinearRegression\n",
        "from sklego.meta import ZeroInflatedRegressor #!pip install sklego\n",
        "from sklearn.svm import SVR\n",
        "from sklearn.svm import SVC\n",
        "from sklearn.ensemble import RandomForestRegressor\n",
        "from sklearn.naive_bayes import GaussianNB"
      ],
      "execution_count": 4,
      "outputs": []
    },
    {
      "cell_type": "code",
      "metadata": {
        "id": "GTIGzWJevsGS"
      },
      "source": [
        "# global random seed\n",
        "RAND_SEED = 42\n",
        "\n",
        "ziReg = ZeroInflatedRegressor(classifier=GaussianNB(), regressor=RandomForestRegressor(random_state=RAND_SEED, n_jobs=-1))\n",
        "\n",
        "# initial model with only random seed and not any hyper-parametes\n",
        "initial_model = ziReg\n",
        "\n",
        "# hyper-parameters\n",
        "n_estimators = [x*5 for x in range(1, 25)]\n",
        "classifier__var_smoothing = [1e-14,1e-13, 1e-12,1e-11, 1e-10, 1e-9, 1e-8, 1e-7]\n",
        "\n",
        "param_grid = {\n",
        "    'classifier__var_smoothing' : classifier__var_smoothing,\n",
        "    'regressor__n_estimators': n_estimators,\n",
        "    'regressor__max_features': ['sqrt']\n",
        "}\n",
        "\n",
        "# variables needed for showEvalGraph_regression() function\n",
        "# MODEL_CLASS = ziReg\n",
        "# x_axis_param_name = 'regressor__n_estimators'\n",
        "# x_axis_vals = n_estimators"
      ],
      "execution_count": 5,
      "outputs": []
    },
    {
      "cell_type": "code",
      "metadata": {
        "id": "1sPzmUjRmU7c",
        "colab": {
          "base_uri": "https://localhost:8080/"
        },
        "outputId": "d3c04552-3ad3-47ce-bea9-b564a92130c0"
      },
      "source": [
        "ziReg.get_params().keys()\n"
      ],
      "execution_count": 6,
      "outputs": [
        {
          "output_type": "execute_result",
          "data": {
            "text/plain": [
              "dict_keys(['classifier__priors', 'classifier__var_smoothing', 'classifier', 'regressor__bootstrap', 'regressor__ccp_alpha', 'regressor__criterion', 'regressor__max_depth', 'regressor__max_features', 'regressor__max_leaf_nodes', 'regressor__max_samples', 'regressor__min_impurity_decrease', 'regressor__min_samples_leaf', 'regressor__min_samples_split', 'regressor__min_weight_fraction_leaf', 'regressor__n_estimators', 'regressor__n_jobs', 'regressor__oob_score', 'regressor__random_state', 'regressor__verbose', 'regressor__warm_start', 'regressor'])"
            ]
          },
          "metadata": {},
          "execution_count": 6
        }
      ]
    },
    {
      "cell_type": "markdown",
      "metadata": {
        "id": "sMvRYb6AQLj9"
      },
      "source": [
        "## 1. Experimentation on the Weather Daily dataset"
      ]
    },
    {
      "cell_type": "code",
      "metadata": {
        "id": "bNmGnNV1QPE8"
      },
      "source": [
        "# Load the train dataset\n",
        "weather_daily_train_df = pd.read_csv('https://raw.githubusercontent.com/ferdouszislam/Weather-WaterLevel-Prediction-ML/main/Datasets/brri-datasets/final-dataset/train/brri-weather_train_regression.csv')\n",
        "\n",
        "# Load the test set\n",
        "weather_daily_test_df = pd.read_csv('https://raw.githubusercontent.com/ferdouszislam/Weather-WaterLevel-Prediction-ML/main/Datasets/brri-datasets/final-dataset/test/brri-weather_test_regression.csv')"
      ],
      "execution_count": 7,
      "outputs": []
    },
    {
      "cell_type": "code",
      "metadata": {
        "id": "N8lrGQEjMmhO",
        "colab": {
          "base_uri": "https://localhost:8080/"
        },
        "outputId": "2cbf7faf-1288-4504-9bfc-c80c29909b40"
      },
      "source": [
        "# train model\n",
        "model, selected_hyperparams, train_r2, train_mae, train_rmse = train_regression(initial_model, param_grid, weather_daily_train_df, cls='Rainfall (mm)')\n",
        "print(f'Selected hyperparameters: {selected_hyperparams}')\n",
        "# performance on the train set\n",
        "print(f'Train set performance: r2-score={train_r2}, mae={train_mae}, rmse={train_rmse}')"
      ],
      "execution_count": 8,
      "outputs": [
        {
          "output_type": "stream",
          "name": "stdout",
          "text": [
            "Selected hyperparameters: {'classifier__var_smoothing': 1e-14, 'regressor__max_features': 'sqrt', 'regressor__n_estimators': 100}\n",
            "Train set performance: r2-score=0.227, mae=5.6584, rmse=13.0823\n"
          ]
        }
      ]
    },
    {
      "cell_type": "code",
      "metadata": {
        "id": "_D5Pz_IM2dUj"
      },
      "source": [
        "# # r2-scores graph on the train set\n",
        "# # hyper-parameters selected by GridSearchCV\n",
        "# selected_model_params = selected_hyperparams\n",
        "# #selected_model_params['random_state'] = RAND_SEED\n",
        "\n",
        "# showEvalutationGraph_regression(MODEL_CLASS, weather_daily_train_df, cls='Rainfall (mm)', \n",
        "#                                 x_axis_param_name=x_axis_param_name, x_axis_param_vals=x_axis_vals, \n",
        "#                                 selected_model_params=selected_model_params)"
      ],
      "execution_count": 9,
      "outputs": []
    },
    {
      "cell_type": "code",
      "metadata": {
        "id": "fj1I73i2WBYF",
        "colab": {
          "base_uri": "https://localhost:8080/"
        },
        "outputId": "121e0395-3c7e-4858-8ce2-b39b874f2223"
      },
      "source": [
        "# test model\n",
        "test_r2, test_mae, test_rmse = eval_regression(model, weather_daily_test_df, cls='Rainfall (mm)')\n",
        "# performance on the test set\n",
        "print(f'Test set performance: r2-score={test_r2}, mae={test_mae}, rmse={test_rmse}')"
      ],
      "execution_count": 10,
      "outputs": [
        {
          "output_type": "stream",
          "name": "stdout",
          "text": [
            "Test set performance: r2-score=0.1593, mae=5.9629, rmse=15.854\n"
          ]
        }
      ]
    },
    {
      "cell_type": "markdown",
      "metadata": {
        "id": "VcGsKgTkDS60"
      },
      "source": [
        "### 1.1 Apply Pearson Feature Selection to Daily Weather Dataset"
      ]
    },
    {
      "cell_type": "code",
      "metadata": {
        "colab": {
          "base_uri": "https://localhost:8080/"
        },
        "id": "xUGFfg6FDSB3",
        "outputId": "be9caba3-30ed-49df-d8bd-628a444d316f"
      },
      "source": [
        "# select features from the train dataset\n",
        "weather_daily_fs1_train_df, cols_to_drop = pearson_correlation_fs(weather_daily_train_df, 'Rainfall (mm)')\n",
        "\n",
        "# keep only selected features on the test dataset\n",
        "weather_daily_fs1_test_df = weather_daily_test_df.drop(columns=cols_to_drop)"
      ],
      "execution_count": 11,
      "outputs": [
        {
          "output_type": "stream",
          "name": "stdout",
          "text": [
            "dropping Sunshine (hour/day) from (Cloudy (hour/day), Sunshine (hour/day))\n"
          ]
        }
      ]
    },
    {
      "cell_type": "code",
      "metadata": {
        "colab": {
          "base_uri": "https://localhost:8080/"
        },
        "id": "Z4Aj4bDCEBFE",
        "outputId": "0f386dcf-deb5-4829-a74a-3b3002f9b936"
      },
      "source": [
        "# train model\n",
        "model, selected_hyperparams, train_r2, train_mae, train_rmse = train_regression(initial_model, param_grid, weather_daily_fs1_train_df, cls='Rainfall (mm)')\n",
        "print(f'Selected hyperparameters: {selected_hyperparams}')\n",
        "# performance on the train set\n",
        "print(f'Train set performance: r2-score={train_r2}, mae={train_mae}, rmse={train_rmse}')"
      ],
      "execution_count": 12,
      "outputs": [
        {
          "output_type": "stream",
          "name": "stdout",
          "text": [
            "Selected hyperparameters: {'classifier__var_smoothing': 1e-14, 'regressor__max_features': 'sqrt', 'regressor__n_estimators': 100}\n",
            "Train set performance: r2-score=0.2323, mae=5.7112, rmse=13.0282\n"
          ]
        }
      ]
    },
    {
      "cell_type": "code",
      "metadata": {
        "id": "Wnlx9lRX6cOT"
      },
      "source": [
        "# # r2-scores graph on the train set\n",
        "\n",
        "# # hyper-parameters selected by GridSearchCV\n",
        "# selected_model_params = selected_hyperparams\n",
        "# #selected_model_params['random_state'] = RAND_SEED\n",
        "\n",
        "# showEvalutationGraph_regression(MODEL_CLASS, weather_daily_fs1_train_df, cls='Rainfall (mm)', \n",
        "#                                 x_axis_param_name=x_axis_param_name, x_axis_param_vals=x_axis_vals, \n",
        "#                                 selected_model_params=selected_model_params)"
      ],
      "execution_count": 13,
      "outputs": []
    },
    {
      "cell_type": "code",
      "metadata": {
        "id": "Q56t8VALEOLV",
        "colab": {
          "base_uri": "https://localhost:8080/"
        },
        "outputId": "4d51f0f2-f72d-4c60-f924-e0a9990c7c20"
      },
      "source": [
        "# test model\n",
        "test_r2, test_mae, test_rmse = eval_regression(model, weather_daily_fs1_test_df, cls='Rainfall (mm)')\n",
        "# performance on the test set\n",
        "print(f'Test set performance: r2-score={test_r2}, mae={test_mae}, rmse={test_rmse}')"
      ],
      "execution_count": 14,
      "outputs": [
        {
          "output_type": "stream",
          "name": "stdout",
          "text": [
            "Test set performance: r2-score=0.1515, mae=6.1221, rmse=15.9271\n"
          ]
        }
      ]
    },
    {
      "cell_type": "markdown",
      "metadata": {
        "id": "r0f0shnaTaEd"
      },
      "source": [
        "### 1.2 Apply SelectKBest Feature Selection to Daily Weather Dataset"
      ]
    },
    {
      "cell_type": "code",
      "metadata": {
        "colab": {
          "base_uri": "https://localhost:8080/"
        },
        "id": "aP0zT8cDTaEe",
        "outputId": "afd0d32b-b827-4154-e0e2-748c285c3008"
      },
      "source": [
        "# select features from the train dataset\n",
        "weather_daily_fs2_train_df, cols_to_drop = seleckKBest_fs(weather_daily_train_df, 'Rainfall (mm)', is_regression=True)\n",
        "\n",
        "print('features dropped:', cols_to_drop)\n",
        "\n",
        "# keep only selected features on the test dataset\n",
        "weather_daily_fs2_test_df = weather_daily_test_df.drop(columns=cols_to_drop)"
      ],
      "execution_count": 15,
      "outputs": [
        {
          "output_type": "stream",
          "name": "stdout",
          "text": [
            "features dropped: ['Max Temp. (degree Celcius)', 'Solar Radiation (cal/cm^2/day)']\n"
          ]
        }
      ]
    },
    {
      "cell_type": "code",
      "metadata": {
        "colab": {
          "base_uri": "https://localhost:8080/"
        },
        "id": "obBlfL4DTaEg",
        "outputId": "918e998d-6877-4d07-c4bb-167302c917db"
      },
      "source": [
        "# train model\n",
        "model, selected_hyperparams, train_r2, train_mae, train_rmse = train_regression(initial_model, param_grid, weather_daily_fs2_train_df, cls='Rainfall (mm)')\n",
        "print(f'Selected hyperparameters: {selected_hyperparams}')\n",
        "# performance on the train set\n",
        "print(f'Train set performance: r2-score={train_r2}, mae={train_mae}, rmse={train_rmse}')"
      ],
      "execution_count": 16,
      "outputs": [
        {
          "output_type": "stream",
          "name": "stdout",
          "text": [
            "Selected hyperparameters: {'classifier__var_smoothing': 1e-14, 'regressor__max_features': 'sqrt', 'regressor__n_estimators': 90}\n",
            "Train set performance: r2-score=0.2317, mae=5.6649, rmse=13.079\n"
          ]
        }
      ]
    },
    {
      "cell_type": "code",
      "metadata": {
        "id": "FmIkmj59TaEh"
      },
      "source": [
        "# # r2-scores graph on the train set\n",
        "\n",
        "# # hyper-parameters selected by GridSearchCV\n",
        "# selected_model_params = selected_hyperparams\n",
        "# #selected_model_params['random_state'] = RAND_SEED\n",
        "\n",
        "# showEvalutationGraph_regression(MODEL_CLASS, weather_daily_fs2_train_df, cls='Rainfall (mm)', \n",
        "#                                 x_axis_param_name=x_axis_param_name, x_axis_param_vals=x_axis_vals, \n",
        "#                                 selected_model_params=selected_model_params)"
      ],
      "execution_count": 17,
      "outputs": []
    },
    {
      "cell_type": "code",
      "metadata": {
        "colab": {
          "base_uri": "https://localhost:8080/"
        },
        "id": "DFeHpfLrTaEh",
        "outputId": "16bb03d7-e65f-432c-b93c-60801edfc4ef"
      },
      "source": [
        "# test model\n",
        "test_r2, test_mae, test_rmse = eval_regression(model, weather_daily_fs2_test_df, cls='Rainfall (mm)')\n",
        "# performance on the test set\n",
        "print(f'Test set performance: r2-score={test_r2}, mae={test_mae}, rmse={test_rmse}')"
      ],
      "execution_count": 18,
      "outputs": [
        {
          "output_type": "stream",
          "name": "stdout",
          "text": [
            "Test set performance: r2-score=0.1578, mae=6.1758, rmse=15.8686\n"
          ]
        }
      ]
    },
    {
      "cell_type": "markdown",
      "metadata": {
        "id": "V4Vicl4dUhtA"
      },
      "source": [
        "### 1.3 Apply SelectSequential Feature Selection to Daily Weather Dataset"
      ]
    },
    {
      "cell_type": "code",
      "metadata": {
        "colab": {
          "base_uri": "https://localhost:8080/"
        },
        "id": "gmsQWFWtUhtB",
        "outputId": "18dbaeb4-60cb-4189-9f0b-55866927e4e1"
      },
      "source": [
        "# select features from the train dataset\n",
        "weather_daily_fs3_train_df, cols_to_drop = selectSequential_fs(weather_daily_train_df, 'Rainfall (mm)', is_regression=True)\n",
        "\n",
        "print('features dropped:', cols_to_drop)\n",
        "\n",
        "# keep only selected features on the test dataset\n",
        "weather_daily_fs3_test_df = weather_daily_test_df.drop(columns=cols_to_drop)"
      ],
      "execution_count": 19,
      "outputs": [
        {
          "output_type": "stream",
          "name": "stdout",
          "text": [
            "features dropped: ['Actual Evaporation (mm)', 'Relative Humidity (morning, %)']\n"
          ]
        }
      ]
    },
    {
      "cell_type": "code",
      "metadata": {
        "colab": {
          "base_uri": "https://localhost:8080/"
        },
        "id": "qTud3d6gUhtB",
        "outputId": "751ba7a8-c2ef-4dd6-bdb6-9dd0ad72c9b0"
      },
      "source": [
        "# train model\n",
        "model, selected_hyperparams, train_r2, train_mae, train_rmse = train_regression(initial_model, param_grid, weather_daily_fs3_train_df, cls='Rainfall (mm)')\n",
        "print(f'Selected hyperparameters: {selected_hyperparams}')\n",
        "# performance on the train set\n",
        "print(f'Train set performance: r2-score={train_r2}, mae={train_mae}, rmse={train_rmse}')"
      ],
      "execution_count": 20,
      "outputs": [
        {
          "output_type": "stream",
          "name": "stdout",
          "text": [
            "Selected hyperparameters: {'classifier__var_smoothing': 1e-14, 'regressor__max_features': 'sqrt', 'regressor__n_estimators': 75}\n",
            "Train set performance: r2-score=0.1817, mae=5.8926, rmse=13.4495\n"
          ]
        }
      ]
    },
    {
      "cell_type": "code",
      "metadata": {
        "id": "OChWCxcRUhtC"
      },
      "source": [
        "# # r2-scores graph on the train set\n",
        "\n",
        "# # hyper-parameters selected by GridSearchCV\n",
        "# selected_model_params = selected_hyperparams\n",
        "# #selected_model_params['random_state'] = RAND_SEED\n",
        "\n",
        "# showEvalutationGraph_regression(MODEL_CLASS, weather_daily_fs3_train_df, cls='Rainfall (mm)', \n",
        "#                                 x_axis_param_name=x_axis_param_name, x_axis_param_vals=x_axis_vals, \n",
        "#                                 selected_model_params=selected_model_params)"
      ],
      "execution_count": 21,
      "outputs": []
    },
    {
      "cell_type": "code",
      "metadata": {
        "colab": {
          "base_uri": "https://localhost:8080/"
        },
        "id": "vl3SK-UDUhtD",
        "outputId": "7dd41229-05e3-45e3-976f-2fc1e5d5bcee"
      },
      "source": [
        "# test model\n",
        "test_r2, test_mae, test_rmse = eval_regression(model, weather_daily_fs3_test_df, cls='Rainfall (mm)')\n",
        "# performance on the test set\n",
        "print(f'Test set performance: r2-score={test_r2}, mae={test_mae}, rmse={test_rmse}')"
      ],
      "execution_count": 22,
      "outputs": [
        {
          "output_type": "stream",
          "name": "stdout",
          "text": [
            "Test set performance: r2-score=0.0939, mae=6.3274, rmse=16.4589\n"
          ]
        }
      ]
    }
  ]
}