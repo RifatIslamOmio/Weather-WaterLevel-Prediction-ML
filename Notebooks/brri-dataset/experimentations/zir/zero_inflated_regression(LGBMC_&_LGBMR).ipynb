{
  "nbformat": 4,
  "nbformat_minor": 0,
  "metadata": {
    "colab": {
      "name": "zero-inflated_regression(LGBMC & LGBMR).ipynb",
      "provenance": [],
      "collapsed_sections": []
    },
    "kernelspec": {
      "display_name": "Python 3",
      "language": "python",
      "name": "python3"
    },
    "language_info": {
      "codemirror_mode": {
        "name": "ipython",
        "version": 3
      },
      "file_extension": ".py",
      "mimetype": "text/x-python",
      "name": "python",
      "nbconvert_exporter": "python",
      "pygments_lexer": "ipython3",
      "version": "3.7.10"
    }
  },
  "cells": [
    {
      "cell_type": "code",
      "metadata": {
        "id": "oxumaP1_Oxv4"
      },
      "source": [
        "# the imports in this cell are required when running from Cloud (Colab/Kaggle)\n",
        "# before running on cloud you nee to upload the .py files \n",
        "# from 'Notebooks/utils' directory\n",
        "from applyML_util import train_regression, eval_regression, showEvalutationGraph_regression\n",
        "from featureSelection_util import (pearson_correlation_fs, \n",
        "                                   seleckKBest_fs, selectSequential_fs)"
      ],
      "execution_count": 4,
      "outputs": []
    },
    {
      "cell_type": "markdown",
      "metadata": {
        "id": "AqwNJBzumHl2"
      },
      "source": [
        "# New Section"
      ]
    },
    {
      "cell_type": "markdown",
      "metadata": {
        "id": "UJ4-Bu_iQt6r"
      },
      "source": [
        "**LGBMR Documentation link:** https://lightgbm.readthedocs.io/en/latest/pythonapi/lightgbm.LGBMRegressor.html\n",
        "\n",
        "**LGBMC Documentation link:** https://lightgbm.readthedocs.io/en/latest/pythonapi/lightgbm.LGBMClassifier.html\n",
        "\n",
        "**SK-Lego Documentation link:** https://scikit-lego.netlify.app/meta.html"
      ]
    },
    {
      "cell_type": "code",
      "metadata": {
        "id": "p0UKkvHXy2Sh"
      },
      "source": [
        "!pip install sklego"
      ],
      "execution_count": null,
      "outputs": []
    },
    {
      "cell_type": "code",
      "metadata": {
        "id": "1tVvVKjkQsmG"
      },
      "source": [
        "import pandas as pd\n",
        "import numpy as np\n",
        "import matplotlib.pyplot as plt\n",
        "from sklearn.linear_model import LinearRegression\n",
        "from sklego.meta import ZeroInflatedRegressor #!pip install sklego\n",
        "from lightgbm import LGBMClassifier\n",
        "from lightgbm import LGBMRegressor"
      ],
      "execution_count": 5,
      "outputs": []
    },
    {
      "cell_type": "code",
      "metadata": {
        "id": "6KT8DZiidBKH"
      },
      "source": [
        "# global random seed\n",
        "RAND_SEED = 42\n",
        "\n",
        "ziReg = ZeroInflatedRegressor(classifier=LGBMClassifier(random_state=RAND_SEED), regressor=LGBMRegressor(random_state=RAND_SEED))\n",
        "\n",
        "# initial model with only random seed and not any hyper-parametes\n",
        "initial_model = ziReg\n",
        "\n",
        "# hyper-parameters\n",
        "n_estimators =  [x*5 for x in range(20, 41)]\n",
        "\n",
        "learning_rate = [0.01]\n",
        "\n",
        "param_grid = { 'classifier__learning_rate' : learning_rate,\n",
        "              'classifier__n_estimators': n_estimators,\n",
        "              'regressor__learning_rate': learning_rate,\n",
        "              'regressor__n_estimators': n_estimators\n",
        "    }\n",
        "\n",
        "# variables needed for showEvalGraph_regression() function\n",
        "# MODEL_CLASS = ziReg\n",
        "# x_axis_param_name = 'regressor__C'\n",
        "# x_axis_vals = regressor__C"
      ],
      "execution_count": 6,
      "outputs": []
    },
    {
      "cell_type": "markdown",
      "metadata": {
        "id": "sMvRYb6AQLj9"
      },
      "source": [
        "## 1. Experimentation on the Weather Daily dataset"
      ]
    },
    {
      "cell_type": "code",
      "metadata": {
        "id": "bNmGnNV1QPE8"
      },
      "source": [
        "# Load the train dataset\n",
        "weather_daily_train_df = pd.read_csv('https://raw.githubusercontent.com/ferdouszislam/Weather-WaterLevel-Prediction-ML/main/Datasets/brri-datasets/final-dataset/train/brri-weather_train_regression.csv')\n",
        "\n",
        "# Load the test set\n",
        "weather_daily_test_df = pd.read_csv('https://raw.githubusercontent.com/ferdouszislam/Weather-WaterLevel-Prediction-ML/main/Datasets/brri-datasets/final-dataset/test/brri-weather_test_regression.csv')"
      ],
      "execution_count": 7,
      "outputs": []
    },
    {
      "cell_type": "code",
      "metadata": {
        "id": "N8lrGQEjMmhO",
        "colab": {
          "base_uri": "https://localhost:8080/"
        },
        "outputId": "1c815bb4-cb61-4761-c685-1ee616d3a243"
      },
      "source": [
        "# train model\n",
        "model, selected_hyperparams, train_r2, train_mae, train_rmse = train_regression(initial_model, param_grid, weather_daily_train_df, cls='Rainfall (mm)')\n",
        "print(f'Selected hyperparameters: {selected_hyperparams}')\n",
        "# performance on the train set\n",
        "print(f'Train set performance: r2-score={train_r2}, mae={train_mae}, rmse={train_rmse}')"
      ],
      "execution_count": null,
      "outputs": [
        {
          "output_type": "stream",
          "name": "stdout",
          "text": [
            "Selected hyperparameters: {'classifier__learning_rate': 0.01, 'classifier__n_estimators': 195, 'regressor__learning_rate': 0.01, 'regressor__n_estimators': 185}\n",
            "Train set performance: r2-score=0.2372, mae=5.5899, rmse=13.04\n"
          ]
        }
      ]
    },
    {
      "cell_type": "code",
      "metadata": {
        "id": "_D5Pz_IM2dUj"
      },
      "source": [
        "# # r2-scores graph on the train set\n",
        "\n",
        "# # hyper-parameters selected by GridSearchCV\n",
        "# selected_model_params = selected_hyperparams\n",
        "# #selected_model_params['random_state'] = RAND_SEED\n",
        "\n",
        "# showEvalutationGraph_regression(MODEL_CLASS, weather_daily_train_df, cls='Rainfall (mm)', \n",
        "#                                 x_axis_param_name=x_axis_param_name, x_axis_param_vals=x_axis_vals, \n",
        "#                                 selected_model_params=selected_model_params)"
      ],
      "execution_count": null,
      "outputs": []
    },
    {
      "cell_type": "code",
      "metadata": {
        "id": "fj1I73i2WBYF",
        "colab": {
          "base_uri": "https://localhost:8080/"
        },
        "outputId": "90353d59-e2db-4df5-fbe5-b37808648a0b"
      },
      "source": [
        "# test model\n",
        "test_r2, test_mae, test_rmse = eval_regression(model, weather_daily_test_df, cls='Rainfall (mm)')\n",
        "# performance on the test set\n",
        "print(f'Test set performance: r2-score={test_r2}, mae={test_mae}, rmse={test_rmse}')"
      ],
      "execution_count": null,
      "outputs": [
        {
          "output_type": "stream",
          "name": "stdout",
          "text": [
            "Test set performance: r2-score=0.1629, mae=5.8279, rmse=15.8206\n"
          ]
        }
      ]
    },
    {
      "cell_type": "markdown",
      "metadata": {
        "id": "VcGsKgTkDS60"
      },
      "source": [
        "### 1.1 Apply Pearson Feature Selection to Daily Weather Dataset"
      ]
    },
    {
      "cell_type": "code",
      "metadata": {
        "id": "xUGFfg6FDSB3",
        "colab": {
          "base_uri": "https://localhost:8080/"
        },
        "outputId": "1bde0321-310f-4ffd-d800-b5d210a49847"
      },
      "source": [
        "# select features from the train dataset\n",
        "weather_daily_fs1_train_df, cols_to_drop = pearson_correlation_fs(weather_daily_train_df, 'Rainfall (mm)')\n",
        "\n",
        "# keep only selected features on the test dataset\n",
        "weather_daily_fs1_test_df = weather_daily_test_df.drop(columns=cols_to_drop)"
      ],
      "execution_count": null,
      "outputs": [
        {
          "output_type": "stream",
          "name": "stdout",
          "text": [
            "dropping Sunshine (hour/day) from (Cloudy (hour/day), Sunshine (hour/day))\n"
          ]
        }
      ]
    },
    {
      "cell_type": "code",
      "metadata": {
        "id": "Z4Aj4bDCEBFE",
        "colab": {
          "base_uri": "https://localhost:8080/"
        },
        "outputId": "5d207c95-f37b-461b-f764-fff76ec58a9f"
      },
      "source": [
        "# train model\n",
        "model, selected_hyperparams, train_r2, train_mae, train_rmse = train_regression(initial_model, param_grid, weather_daily_fs1_train_df, cls='Rainfall (mm)')\n",
        "print(f'Selected hyperparameters: {selected_hyperparams}')\n",
        "# performance on the train set\n",
        "print(f'Train set performance: r2-score={train_r2}, mae={train_mae}, rmse={train_rmse}')"
      ],
      "execution_count": null,
      "outputs": [
        {
          "output_type": "stream",
          "name": "stdout",
          "text": [
            "Selected hyperparameters: {'classifier__learning_rate': 0.01, 'classifier__n_estimators': 200, 'regressor__learning_rate': 0.01, 'regressor__n_estimators': 175}\n",
            "Train set performance: r2-score=0.222, mae=5.5934, rmse=13.1607\n"
          ]
        }
      ]
    },
    {
      "cell_type": "code",
      "metadata": {
        "id": "Wnlx9lRX6cOT"
      },
      "source": [
        "# # r2-scores graph on the train set\n",
        "\n",
        "# # hyper-parameters selected by GridSearchCV\n",
        "# selected_model_params = selected_hyperparams\n",
        "# #selected_model_params['random_state'] = RAND_SEED\n",
        "\n",
        "# showEvalutationGraph_regression(MODEL_CLASS, weather_daily_fs1_train_df, cls='Rainfall (mm)', \n",
        "#                                 x_axis_param_name=x_axis_param_name, x_axis_param_vals=x_axis_vals, \n",
        "#                                 selected_model_params=selected_model_params)"
      ],
      "execution_count": null,
      "outputs": []
    },
    {
      "cell_type": "code",
      "metadata": {
        "id": "Q56t8VALEOLV",
        "colab": {
          "base_uri": "https://localhost:8080/"
        },
        "outputId": "0fc40083-c168-45bf-f28d-2f5a9c9d0262"
      },
      "source": [
        "# test model\n",
        "test_r2, test_mae, test_rmse = eval_regression(model, weather_daily_fs1_test_df, cls='Rainfall (mm)')\n",
        "# performance on the test set\n",
        "print(f'Test set performance: r2-score={test_r2}, mae={test_mae}, rmse={test_rmse}')"
      ],
      "execution_count": null,
      "outputs": [
        {
          "output_type": "stream",
          "name": "stdout",
          "text": [
            "Test set performance: r2-score=0.166, mae=5.7953, rmse=15.7905\n"
          ]
        }
      ]
    },
    {
      "cell_type": "markdown",
      "metadata": {
        "id": "r0f0shnaTaEd"
      },
      "source": [
        "### 1.2 Apply SelectKBest Feature Selection to Daily Weather Dataset"
      ]
    },
    {
      "cell_type": "code",
      "metadata": {
        "id": "aP0zT8cDTaEe",
        "colab": {
          "base_uri": "https://localhost:8080/"
        },
        "outputId": "1943879a-6f5d-4446-b826-e126d4679937"
      },
      "source": [
        "# select features from the train dataset\n",
        "weather_daily_fs2_train_df, cols_to_drop = seleckKBest_fs(weather_daily_train_df, 'Rainfall (mm)', is_regression=True)\n",
        "\n",
        "print('features dropped:', cols_to_drop)\n",
        "\n",
        "# keep only selected features on the test dataset\n",
        "weather_daily_fs2_test_df = weather_daily_test_df.drop(columns=cols_to_drop)"
      ],
      "execution_count": null,
      "outputs": [
        {
          "output_type": "stream",
          "name": "stdout",
          "text": [
            "features dropped: ['Max Temp. (degree Celcius)', 'Sunshine (hour/day)']\n"
          ]
        }
      ]
    },
    {
      "cell_type": "code",
      "metadata": {
        "id": "obBlfL4DTaEg",
        "colab": {
          "base_uri": "https://localhost:8080/"
        },
        "outputId": "53125788-5832-4872-9c7e-0aa6ffaa9cb9"
      },
      "source": [
        "# train model\n",
        "model, selected_hyperparams, train_r2, train_mae, train_rmse = train_regression(initial_model, param_grid, weather_daily_fs2_train_df, cls='Rainfall (mm)')\n",
        "print(f'Selected hyperparameters: {selected_hyperparams}')\n",
        "# performance on the train set\n",
        "print(f'Train set performance: r2-score={train_r2}, mae={train_mae}, rmse={train_rmse}')"
      ],
      "execution_count": null,
      "outputs": [
        {
          "output_type": "stream",
          "name": "stdout",
          "text": [
            "Selected hyperparameters: {'classifier__learning_rate': 0.01, 'classifier__n_estimators': 200, 'regressor__learning_rate': 0.01, 'regressor__n_estimators': 145}\n",
            "Train set performance: r2-score=0.2233, mae=5.5901, rmse=13.1547\n"
          ]
        }
      ]
    },
    {
      "cell_type": "code",
      "metadata": {
        "id": "FmIkmj59TaEh"
      },
      "source": [
        "# # r2-scores graph on the train set\n",
        "\n",
        "# # hyper-parameters selected by GridSearchCV\n",
        "# selected_model_params = selected_hyperparams\n",
        "# #selected_model_params['random_state'] = RAND_SEED\n",
        "\n",
        "# showEvalutationGraph_regression(MODEL_CLASS, weather_daily_fs2_train_df, cls='Rainfall (mm)', \n",
        "#                                 x_axis_param_name=x_axis_param_name, x_axis_param_vals=x_axis_vals, \n",
        "#                                 selected_model_params=selected_model_params)"
      ],
      "execution_count": null,
      "outputs": []
    },
    {
      "cell_type": "code",
      "metadata": {
        "id": "DFeHpfLrTaEh",
        "colab": {
          "base_uri": "https://localhost:8080/"
        },
        "outputId": "aa110213-a94a-44fb-9b5f-79cb7dc2d775"
      },
      "source": [
        "# test model\n",
        "test_r2, test_mae, test_rmse = eval_regression(model, weather_daily_fs2_test_df, cls='Rainfall (mm)')\n",
        "# performance on the test set\n",
        "print(f'Test set performance: r2-score={test_r2}, mae={test_mae}, rmse={test_rmse}')"
      ],
      "execution_count": null,
      "outputs": [
        {
          "output_type": "stream",
          "name": "stdout",
          "text": [
            "Test set performance: r2-score=0.1809, mae=5.897, rmse=15.6493\n"
          ]
        }
      ]
    },
    {
      "cell_type": "markdown",
      "metadata": {
        "id": "V4Vicl4dUhtA"
      },
      "source": [
        "### 1.3 Apply SelectSequential Feature Selection to Daily Weather Dataset"
      ]
    },
    {
      "cell_type": "code",
      "metadata": {
        "id": "gmsQWFWtUhtB",
        "colab": {
          "base_uri": "https://localhost:8080/"
        },
        "outputId": "bb1658f1-b0db-43c9-9070-59a7ca974c6d"
      },
      "source": [
        "# select features from the train dataset\n",
        "weather_daily_fs3_train_df, cols_to_drop = selectSequential_fs(weather_daily_train_df, 'Rainfall (mm)', is_regression=True)\n",
        "\n",
        "print('features dropped:', cols_to_drop)\n",
        "\n",
        "# keep only selected features on the test dataset\n",
        "weather_daily_fs3_test_df = weather_daily_test_df.drop(columns=cols_to_drop)"
      ],
      "execution_count": 9,
      "outputs": [
        {
          "output_type": "stream",
          "name": "stdout",
          "text": [
            "features dropped: ['Actual Evaporation (mm)', 'Relative Humidity (morning, %)']\n"
          ]
        }
      ]
    },
    {
      "cell_type": "code",
      "metadata": {
        "id": "qTud3d6gUhtB",
        "colab": {
          "base_uri": "https://localhost:8080/"
        },
        "outputId": "6951445d-6838-43db-e9d4-96c64c2866e7"
      },
      "source": [
        "# train model\n",
        "model, selected_hyperparams, train_r2, train_mae, train_rmse = train_regression(initial_model, param_grid, weather_daily_fs3_train_df, cls='Rainfall (mm)')\n",
        "print(f'Selected hyperparameters: {selected_hyperparams}')\n",
        "# performance on the train set\n",
        "print(f'Train set performance: r2-score={train_r2}, mae={train_mae}, rmse={train_rmse}')"
      ],
      "execution_count": 10,
      "outputs": [
        {
          "output_type": "stream",
          "name": "stdout",
          "text": [
            "Selected hyperparameters: {'classifier__learning_rate': 0.01, 'classifier__n_estimators': 160, 'regressor__learning_rate': 0.01, 'regressor__n_estimators': 105}\n",
            "Train set performance: r2-score=0.1826, mae=5.7971, rmse=13.4935\n"
          ]
        }
      ]
    },
    {
      "cell_type": "code",
      "metadata": {
        "id": "OChWCxcRUhtC"
      },
      "source": [
        "# # r2-scores graph on the train set\n",
        "\n",
        "# # hyper-parameters selected by GridSearchCV\n",
        "# selected_model_params = selected_hyperparams\n",
        "# #selected_model_params['random_state'] = RAND_SEED\n",
        "\n",
        "# showEvalutationGraph_regression(MODEL_CLASS, weather_daily_fs3_train_df, cls='Rainfall (mm)', \n",
        "#                                 x_axis_param_name=x_axis_param_name, x_axis_param_vals=x_axis_vals, \n",
        "#                                 selected_model_params=selected_model_params)"
      ],
      "execution_count": null,
      "outputs": []
    },
    {
      "cell_type": "code",
      "metadata": {
        "id": "vl3SK-UDUhtD",
        "colab": {
          "base_uri": "https://localhost:8080/"
        },
        "outputId": "aef37087-ef06-4bb8-90d6-19cf7f6d89c9"
      },
      "source": [
        "# # test model\n",
        "test_r2, test_mae, test_rmse = eval_regression(model, weather_daily_fs3_test_df, cls='Rainfall (mm)')\n",
        "# performance on the test set\n",
        "print(f'Test set performance: r2-score={test_r2}, mae={test_mae}, rmse={test_rmse}')"
      ],
      "execution_count": 11,
      "outputs": [
        {
          "output_type": "stream",
          "name": "stdout",
          "text": [
            "Test set performance: r2-score=0.1264, mae=6.1399, rmse=16.1617\n"
          ]
        }
      ]
    }
  ]
}