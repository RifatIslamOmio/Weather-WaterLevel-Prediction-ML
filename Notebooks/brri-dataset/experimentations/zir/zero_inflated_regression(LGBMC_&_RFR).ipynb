{
  "cells": [
    {
      "cell_type": "code",
      "execution_count": 1,
      "metadata": {
        "id": "oxumaP1_Oxv4"
      },
      "outputs": [],
      "source": [
        "# the imports in this cell are required when running from Cloud (Colab/Kaggle)\n",
        "# before running on cloud you nee to upload the .py files \n",
        "# from 'Notebooks/utils' directory\n",
        "from applyML_util import train_regression, eval_regression, showEvalutationGraph_regression\n",
        "from featureSelection_util import (pearson_correlation_fs, \n",
        "                                   seleckKBest_fs, selectSequential_fs)"
      ]
    },
    {
      "cell_type": "markdown",
      "metadata": {
        "id": "AqwNJBzumHl2"
      },
      "source": [
        "# New Section"
      ]
    },
    {
      "cell_type": "markdown",
      "metadata": {
        "id": "UJ4-Bu_iQt6r"
      },
      "source": [
        "**Random Forest Documentation link:** https://scikit-learn.org/stable/modules/generated/sklearn.ensemble.RandomForestRegressor.html\n",
        "\n",
        "**LGBMC Documentation link:** https://lightgbm.readthedocs.io/en/latest/pythonapi/lightgbm.LGBMClassifier.html\n",
        "\n",
        "**SK-Lego Documentation link:** https://scikit-lego.netlify.app/meta.html#Zero-Inflated-Regressor"
      ]
    },
    {
      "cell_type": "code",
      "execution_count": null,
      "metadata": {
        "id": "p0UKkvHXy2Sh"
      },
      "outputs": [],
      "source": [
        "!pip install sklego"
      ]
    },
    {
      "cell_type": "code",
      "execution_count": 3,
      "metadata": {
        "id": "1tVvVKjkQsmG"
      },
      "outputs": [],
      "source": [
        "import pandas as pd\n",
        "import numpy as np\n",
        "import matplotlib.pyplot as plt\n",
        "from sklearn.linear_model import LinearRegression\n",
        "from lightgbm import LGBMClassifier\n",
        "from sklearn.ensemble import RandomForestRegressor\n",
        "from sklego.meta import ZeroInflatedRegressor #!pip install sklego\n"
      ]
    },
    {
      "cell_type": "code",
      "execution_count": 4,
      "metadata": {
        "id": "GTIGzWJevsGS"
      },
      "outputs": [],
      "source": [
        "# global random seed\n",
        "RAND_SEED = 42\n",
        "\n",
        "ziReg = ZeroInflatedRegressor(classifier=LGBMClassifier(random_state=RAND_SEED), regressor=RandomForestRegressor(random_state=RAND_SEED, n_jobs=-1))\n",
        "\n",
        "# initial model with only random seed and not any hyper-parametes\n",
        "initial_model = ziReg\n",
        "\n",
        "# hyper-parameters\n",
        "n_estimators = [x*5 for x in range(15, 41)] \n",
        "max_features = ['sqrt']\n",
        "learning_rate = [0.01,0.1]\n",
        "\n",
        "param_grid = {'classifier__learning_rate' : learning_rate,\n",
        "              'classifier__n_estimators': n_estimators,\n",
        "              'regressor__max_features': max_features,\n",
        "              'regressor__n_estimators': n_estimators\n",
        "}\n",
        "\n",
        "# # variables needed for showEvalGraph_regression() function\n",
        "# MODEL_CLASS = ziReg\n",
        "# x_axis_param_name = 'regressor__n_estimators'\n",
        "# x_axis_vals = n_estimators"
      ]
    },
    {
      "cell_type": "markdown",
      "metadata": {
        "id": "sMvRYb6AQLj9"
      },
      "source": [
        "## 1. Experimentation on the Weather Daily dataset"
      ]
    },
    {
      "cell_type": "code",
      "execution_count": 5,
      "metadata": {
        "id": "bNmGnNV1QPE8"
      },
      "outputs": [],
      "source": [
        "# Load the train dataset\n",
        "weather_daily_train_df = pd.read_csv('https://raw.githubusercontent.com/ferdouszislam/Weather-WaterLevel-Prediction-ML/main/Datasets/brri-datasets/final-dataset/train/brri-weather_train_regression.csv')\n",
        "\n",
        "# Load the test set\n",
        "weather_daily_test_df = pd.read_csv('https://raw.githubusercontent.com/ferdouszislam/Weather-WaterLevel-Prediction-ML/main/Datasets/brri-datasets/final-dataset/test/brri-weather_test_regression.csv')"
      ]
    },
    {
      "cell_type": "code",
      "execution_count": null,
      "metadata": {
        "colab": {
          "base_uri": "https://localhost:8080/"
        },
        "id": "N8lrGQEjMmhO",
        "outputId": "7a6c6833-592f-43a1-b2e1-0e7fdd643e06"
      },
      "outputs": [
        {
          "name": "stdout",
          "output_type": "stream",
          "text": [
            "Selected hyperparameters: {'classifier__learning_rate': 0.01, 'classifier__n_estimators': 185, 'regressor__max_features': 'sqrt', 'regressor__n_estimators': 155}\n",
            "Train set performance: r2-score=0.2313, mae=5.5913, rmse=13.0461\n"
          ]
        }
      ],
      "source": [
        "# train model\n",
        "model, selected_hyperparams, train_r2, train_mae, train_rmse = train_regression(initial_model, param_grid, weather_daily_train_df, cls='Rainfall (mm)')\n",
        "print(f'Selected hyperparameters: {selected_hyperparams}')\n",
        "# performance on the train set\n",
        "print(f'Train set performance: r2-score={train_r2}, mae={train_mae}, rmse={train_rmse}')"
      ]
    },
    {
      "cell_type": "code",
      "execution_count": null,
      "metadata": {
        "id": "_D5Pz_IM2dUj"
      },
      "outputs": [],
      "source": [
        "# # r2-scores graph on the train set\n",
        "\n",
        "# # hyper-parameters selected by GridSearchCV\n",
        "# selected_model_params = selected_hyperparams\n",
        "# #selected_model_params['random_state'] = RAND_SEED\n",
        "\n",
        "# showEvalutationGraph_regression(MODEL_CLASS, weather_daily_train_df, cls='Rainfall (mm)', \n",
        "#                                 x_axis_param_name=x_axis_param_name, x_axis_param_vals=x_axis_vals, \n",
        "#                                 selected_model_params=selected_model_params)"
      ]
    },
    {
      "cell_type": "code",
      "execution_count": null,
      "metadata": {
        "colab": {
          "base_uri": "https://localhost:8080/"
        },
        "id": "fj1I73i2WBYF",
        "outputId": "828cb544-36dd-47cb-90b5-9dcd709ba511"
      },
      "outputs": [
        {
          "name": "stdout",
          "output_type": "stream",
          "text": [
            "Test set performance: r2-score=0.1471, mae=5.983, rmse=15.9686\n"
          ]
        }
      ],
      "source": [
        "# test model\n",
        "test_r2, test_mae, test_rmse = eval_regression(model, weather_daily_test_df, cls='Rainfall (mm)')\n",
        "# performance on the test set\n",
        "print(f'Test set performance: r2-score={test_r2}, mae={test_mae}, rmse={test_rmse}')"
      ]
    },
    {
      "cell_type": "markdown",
      "metadata": {
        "id": "VcGsKgTkDS60"
      },
      "source": [
        "### 1.1 Apply Pearson Feature Selection to Daily Weather Dataset"
      ]
    },
    {
      "cell_type": "code",
      "execution_count": null,
      "metadata": {
        "colab": {
          "base_uri": "https://localhost:8080/"
        },
        "id": "xUGFfg6FDSB3",
        "outputId": "13472bd7-1f43-43ad-c247-d57313d72019"
      },
      "outputs": [
        {
          "output_type": "stream",
          "name": "stdout",
          "text": [
            "dropping Sunshine (hour/day) from (Cloudy (hour/day), Sunshine (hour/day))\n"
          ]
        }
      ],
      "source": [
        "# select features from the train dataset\n",
        "weather_daily_fs1_train_df, cols_to_drop = pearson_correlation_fs(weather_daily_train_df, 'Rainfall (mm)')\n",
        "\n",
        "# keep only selected features on the test dataset\n",
        "weather_daily_fs1_test_df = weather_daily_test_df.drop(columns=cols_to_drop)"
      ]
    },
    {
      "cell_type": "code",
      "execution_count": null,
      "metadata": {
        "colab": {
          "base_uri": "https://localhost:8080/"
        },
        "id": "Z4Aj4bDCEBFE",
        "outputId": "680ddaa6-4899-4374-d6c7-423d545c28a1"
      },
      "outputs": [
        {
          "output_type": "stream",
          "name": "stdout",
          "text": [
            "Selected hyperparameters: {'classifier__learning_rate': 0.01, 'classifier__n_estimators': 200, 'regressor__max_features': 'sqrt', 'regressor__n_estimators': 200}\n",
            "Train set performance: r2-score=0.2152, mae=5.5988, rmse=13.1739\n"
          ]
        }
      ],
      "source": [
        "# train model\n",
        "model, selected_hyperparams, train_r2, train_mae, train_rmse = train_regression(initial_model, param_grid, weather_daily_fs1_train_df, cls='Rainfall (mm)')\n",
        "print(f'Selected hyperparameters: {selected_hyperparams}')\n",
        "# performance on the train set\n",
        "print(f'Train set performance: r2-score={train_r2}, mae={train_mae}, rmse={train_rmse}')"
      ]
    },
    {
      "cell_type": "code",
      "execution_count": null,
      "metadata": {
        "id": "Wnlx9lRX6cOT"
      },
      "outputs": [],
      "source": [
        "# # r2-scores graph on the train set\n",
        "\n",
        "# # hyper-parameters selected by GridSearchCV\n",
        "# selected_model_params = selected_hyperparams\n",
        "# #selected_model_params['random_state'] = RAND_SEED\n",
        "\n",
        "# showEvalutationGraph_regression(MODEL_CLASS, weather_daily_fs1_train_df, cls='Rainfall (mm)', \n",
        "#                                 x_axis_param_name=x_axis_param_name, x_axis_param_vals=x_axis_vals, \n",
        "#                                 selected_model_params=selected_model_params)"
      ]
    },
    {
      "cell_type": "code",
      "execution_count": null,
      "metadata": {
        "colab": {
          "base_uri": "https://localhost:8080/"
        },
        "id": "Q56t8VALEOLV",
        "outputId": "ab1aedfa-2f75-48ab-b9d8-80af12865fa9"
      },
      "outputs": [
        {
          "output_type": "stream",
          "name": "stdout",
          "text": [
            "Test set performance: r2-score=0.1511, mae=5.8962, rmse=15.9308\n"
          ]
        }
      ],
      "source": [
        "# test model\n",
        "test_r2, test_mae, test_rmse = eval_regression(model, weather_daily_fs1_test_df, cls='Rainfall (mm)')\n",
        "# performance on the test set\n",
        "print(f'Test set performance: r2-score={test_r2}, mae={test_mae}, rmse={test_rmse}')"
      ]
    },
    {
      "cell_type": "markdown",
      "metadata": {
        "id": "r0f0shnaTaEd"
      },
      "source": [
        "### 1.2 Apply SelectKBest Feature Selection to Daily Weather Dataset"
      ]
    },
    {
      "cell_type": "code",
      "execution_count": null,
      "metadata": {
        "colab": {
          "base_uri": "https://localhost:8080/"
        },
        "id": "aP0zT8cDTaEe",
        "outputId": "c6804794-8c22-4be1-808e-c5268f8bdab9"
      },
      "outputs": [
        {
          "output_type": "stream",
          "name": "stdout",
          "text": [
            "features dropped: ['Max Temp. (degree Celcius)', 'Solar Radiation (cal/cm^2/day)']\n"
          ]
        }
      ],
      "source": [
        "# select features from the train dataset\n",
        "weather_daily_fs2_train_df, cols_to_drop = seleckKBest_fs(weather_daily_train_df, 'Rainfall (mm)', is_regression=True)\n",
        "\n",
        "print('features dropped:', cols_to_drop)\n",
        "\n",
        "# keep only selected features on the test dataset\n",
        "weather_daily_fs2_test_df = weather_daily_test_df.drop(columns=cols_to_drop)"
      ]
    },
    {
      "cell_type": "code",
      "execution_count": null,
      "metadata": {
        "id": "obBlfL4DTaEg",
        "colab": {
          "base_uri": "https://localhost:8080/"
        },
        "outputId": "b193ace4-c720-4c44-d55e-7248696beeba"
      },
      "outputs": [
        {
          "output_type": "stream",
          "name": "stdout",
          "text": [
            "Selected hyperparameters: {'classifier__learning_rate': 0.01, 'classifier__n_estimators': 200, 'regressor__max_features': 'sqrt', 'regressor__n_estimators': 175}\n",
            "Train set performance: r2-score=0.2287, mae=5.5097, rmse=13.0941\n"
          ]
        }
      ],
      "source": [
        "# train model\n",
        "model, selected_hyperparams, train_r2, train_mae, train_rmse = train_regression(initial_model, param_grid, weather_daily_fs2_train_df, cls='Rainfall (mm)')\n",
        "print(f'Selected hyperparameters: {selected_hyperparams}')\n",
        "# performance on the train set\n",
        "print(f'Train set performance: r2-score={train_r2}, mae={train_mae}, rmse={train_rmse}')"
      ]
    },
    {
      "cell_type": "code",
      "execution_count": null,
      "metadata": {
        "id": "FmIkmj59TaEh"
      },
      "outputs": [],
      "source": [
        "# # r2-scores graph on the train set\n",
        "\n",
        "# # hyper-parameters selected by GridSearchCV\n",
        "# selected_model_params = selected_hyperparams\n",
        "# #selected_model_params['random_state'] = RAND_SEED\n",
        "\n",
        "# showEvalutationGraph_regression(MODEL_CLASS, weather_daily_fs2_train_df, cls='Rainfall (mm)', \n",
        "#                                 x_axis_param_name=x_axis_param_name, x_axis_param_vals=x_axis_vals, \n",
        "#                                 selected_model_params=selected_model_params)"
      ]
    },
    {
      "cell_type": "code",
      "execution_count": null,
      "metadata": {
        "id": "DFeHpfLrTaEh"
      },
      "outputs": [],
      "source": [
        "# test model\n",
        "test_r2, test_mae, test_rmse = eval_regression(model, weather_daily_fs2_test_df, cls='Rainfall (mm)')\n",
        "# performance on the test set\n",
        "print(f'Test set performance: r2-score={test_r2}, mae={test_mae}, rmse={test_rmse}')"
      ]
    },
    {
      "cell_type": "markdown",
      "metadata": {
        "id": "V4Vicl4dUhtA"
      },
      "source": [
        "### 1.3 Apply SelectSequential Feature Selection to Daily Weather Dataset"
      ]
    },
    {
      "cell_type": "code",
      "execution_count": null,
      "metadata": {
        "id": "gmsQWFWtUhtB"
      },
      "outputs": [],
      "source": [
        "# select features from the train dataset\n",
        "weather_daily_fs3_train_df, cols_to_drop = selectSequential_fs(weather_daily_train_df, 'Rainfall (mm)', is_regression=True)\n",
        "\n",
        "print('features dropped:', cols_to_drop)\n",
        "\n",
        "# keep only selected features on the test dataset\n",
        "weather_daily_fs3_test_df = weather_daily_test_df.drop(columns=cols_to_drop)"
      ]
    },
    {
      "cell_type": "code",
      "execution_count": null,
      "metadata": {
        "id": "qTud3d6gUhtB"
      },
      "outputs": [],
      "source": [
        "# train model\n",
        "model, selected_hyperparams, train_r2, train_mae, train_rmse = train_regression(initial_model, param_grid, weather_daily_fs3_train_df, cls='Rainfall (mm)')\n",
        "print(f'Selected hyperparameters: {selected_hyperparams}')\n",
        "# performance on the train set\n",
        "print(f'Train set performance: r2-score={train_r2}, mae={train_mae}, rmse={train_rmse}')"
      ]
    },
    {
      "cell_type": "code",
      "execution_count": null,
      "metadata": {
        "id": "OChWCxcRUhtC"
      },
      "outputs": [],
      "source": [
        "# # r2-scores graph on the train set\n",
        "\n",
        "# # hyper-parameters selected by GridSearchCV\n",
        "# selected_model_params = selected_hyperparams\n",
        "# #selected_model_params['random_state'] = RAND_SEED\n",
        "\n",
        "# showEvalutationGraph_regression(MODEL_CLASS, weather_daily_fs3_train_df, cls='Rainfall (mm)', \n",
        "#                                 x_axis_param_name=x_axis_param_name, x_axis_param_vals=x_axis_vals, \n",
        "#                                 selected_model_params=selected_model_params)"
      ]
    },
    {
      "cell_type": "code",
      "execution_count": null,
      "metadata": {
        "id": "vl3SK-UDUhtD"
      },
      "outputs": [],
      "source": [
        "# # test model\n",
        "test_r2, test_mae, test_rmse = eval_regression(model, weather_daily_fs3_test_df, cls='Rainfall (mm)')\n",
        "# performance on the test set\n",
        "print(f'Test set performance: r2-score={test_r2}, mae={test_mae}, rmse={test_rmse}')"
      ]
    }
  ],
  "metadata": {
    "colab": {
      "collapsed_sections": [],
      "name": "zero-inflated_regression(LGBMC & RFR).ipynb",
      "provenance": []
    },
    "kernelspec": {
      "display_name": "Python 3",
      "language": "python",
      "name": "python3"
    },
    "language_info": {
      "codemirror_mode": {
        "name": "ipython",
        "version": 3
      },
      "file_extension": ".py",
      "mimetype": "text/x-python",
      "name": "python",
      "nbconvert_exporter": "python",
      "pygments_lexer": "ipython3",
      "version": "3.7.10"
    }
  },
  "nbformat": 4,
  "nbformat_minor": 0
}