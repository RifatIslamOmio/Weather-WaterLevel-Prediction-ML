{
  "nbformat": 4,
  "nbformat_minor": 0,
  "metadata": {
    "colab": {
      "name": "zero-inflated_regression(SVC&SVR).ipynb",
      "provenance": [],
      "collapsed_sections": []
    },
    "kernelspec": {
      "display_name": "Python 3",
      "language": "python",
      "name": "python3"
    },
    "language_info": {
      "codemirror_mode": {
        "name": "ipython",
        "version": 3
      },
      "file_extension": ".py",
      "mimetype": "text/x-python",
      "name": "python",
      "nbconvert_exporter": "python",
      "pygments_lexer": "ipython3",
      "version": "3.7.10"
    }
  },
  "cells": [
    {
      "cell_type": "code",
      "metadata": {
        "id": "I95S5GeUMsc-"
      },
      "source": [
        "# # the imports in this cell are required when running on local device\n",
        "# import os, sys\n",
        "# sys.path.append(os.path.join('..', '..'))\n",
        "# from utils.applyML_util import train_regression, eval_regression\n",
        "# from utils.featureSelection_util import (pearson_correlation_fs, \n",
        "#                                          seleckKBest_fs, selectSequential_fs)"
      ],
      "execution_count": 1,
      "outputs": []
    },
    {
      "cell_type": "code",
      "metadata": {
        "id": "oxumaP1_Oxv4"
      },
      "source": [
        "# the imports in this cell are required when running from Cloud (Colab/Kaggle)\n",
        "# before running on cloud you nee to upload the .py files\n",
        "# from 'Notebooks/utils' directory\n",
        "from applyML_util import train_regression, eval_regression, showEvalutationGraph_regression\n",
        "from featureSelection_util import (pearson_correlation_fs, \n",
        "                                   seleckKBest_fs, selectSequential_fs)"
      ],
      "execution_count": 2,
      "outputs": []
    },
    {
      "cell_type": "markdown",
      "metadata": {
        "id": "AqwNJBzumHl2"
      },
      "source": [
        "# SVC & SVR with Minimized Hyperparameters\n"
      ]
    },
    {
      "cell_type": "markdown",
      "metadata": {
        "id": "UJ4-Bu_iQt6r"
      },
      "source": [
        "**SVR Documentation link:** https://scikit-learn.org/stable/modules/generated/sklearn.svm.SVR.html <br>\n",
        "**SVC Documentation link:** https://scikit-learn.org/stable/modules/generated/sklearn.svm.SVC.html <br>\n",
        "**SK-Lego Documentation link:** https://scikit-lego.netlify.app/meta.html#Zero-Inflated-Regressor"
      ]
    },
    {
      "cell_type": "code",
      "metadata": {
        "id": "p0UKkvHXy2Sh"
      },
      "source": [
        "!pip install sklego"
      ],
      "execution_count": null,
      "outputs": []
    },
    {
      "cell_type": "code",
      "metadata": {
        "id": "1tVvVKjkQsmG"
      },
      "source": [
        "import pandas as pd\n",
        "import numpy as np\n",
        "import matplotlib.pyplot as plt\n",
        "from sklearn.linear_model import LinearRegression\n",
        "from sklego.meta import ZeroInflatedRegressor #!pip install sklego\n",
        "from sklearn.svm import SVR\n",
        "from sklearn.svm import SVC"
      ],
      "execution_count": 4,
      "outputs": []
    },
    {
      "cell_type": "code",
      "metadata": {
        "id": "6KT8DZiidBKH"
      },
      "source": [
        "# global random seed\n",
        "RAND_SEED = 42\n",
        "\n",
        "ziReg = ZeroInflatedRegressor(classifier=SVC(), regressor=SVR())\n",
        "\n",
        "# initial model with only random seed and not any hyper-parametes\n",
        "initial_model = ziReg\n",
        "\n",
        "# hyper-parameters\n",
        "regressor__kernel = ['poly']\n",
        "regressor__degree = [5]\n",
        "regressor__epsilon = [0.5]\n",
        "regressor__C = [6,7,8,9]\n",
        "\n",
        "classifier__kernel = ['poly']\n",
        "classifier__C = regressor__C\n",
        "classifier__degree = [5]\n",
        "classifier__gamma = [1,0.1]\n",
        "\n",
        "\n",
        "param_grid = {'classifier__kernel':classifier__kernel,'classifier__gamma':classifier__gamma,'classifier__degree': classifier__degree,'classifier__C':classifier__C,'regressor__kernel': regressor__kernel,'regressor__C': regressor__C, 'regressor__epsilon': regressor__epsilon, 'regressor__degree': regressor__degree}\n",
        "\n",
        "# variables needed for showEvalGraph_regression() function\n",
        "MODEL_CLASS = ziReg\n",
        "x_axis_param_name = 'regressor__C' #???classifier__C\n",
        "x_axis_vals = regressor__C"
      ],
      "execution_count": 5,
      "outputs": []
    },
    {
      "cell_type": "code",
      "metadata": {
        "id": "1sPzmUjRmU7c",
        "colab": {
          "base_uri": "https://localhost:8080/"
        },
        "outputId": "c60da3e6-20b4-4f6d-9621-f1c00efa393b"
      },
      "source": [
        "ziReg.get_params().keys()\n"
      ],
      "execution_count": 6,
      "outputs": [
        {
          "output_type": "execute_result",
          "data": {
            "text/plain": [
              "dict_keys(['classifier__C', 'classifier__break_ties', 'classifier__cache_size', 'classifier__class_weight', 'classifier__coef0', 'classifier__decision_function_shape', 'classifier__degree', 'classifier__gamma', 'classifier__kernel', 'classifier__max_iter', 'classifier__probability', 'classifier__random_state', 'classifier__shrinking', 'classifier__tol', 'classifier__verbose', 'classifier', 'regressor__C', 'regressor__cache_size', 'regressor__coef0', 'regressor__degree', 'regressor__epsilon', 'regressor__gamma', 'regressor__kernel', 'regressor__max_iter', 'regressor__shrinking', 'regressor__tol', 'regressor__verbose', 'regressor'])"
            ]
          },
          "metadata": {},
          "execution_count": 6
        }
      ]
    },
    {
      "cell_type": "markdown",
      "metadata": {
        "id": "sMvRYb6AQLj9"
      },
      "source": [
        "## 1. Experimentation on the Weather Daily dataset"
      ]
    },
    {
      "cell_type": "code",
      "metadata": {
        "id": "bNmGnNV1QPE8"
      },
      "source": [
        "# Load the train dataset\n",
        "weather_daily_train_df = pd.read_csv('https://raw.githubusercontent.com/ferdouszislam/Weather-WaterLevel-Prediction-ML/main/Datasets/brri-datasets/final-dataset/train/brri-weather_train_regression.csv')\n",
        "\n",
        "# Load the test set\n",
        "weather_daily_test_df = pd.read_csv('https://raw.githubusercontent.com/ferdouszislam/Weather-WaterLevel-Prediction-ML/main/Datasets/brri-datasets/final-dataset/test/brri-weather_test_regression.csv')"
      ],
      "execution_count": 7,
      "outputs": []
    },
    {
      "cell_type": "code",
      "metadata": {
        "id": "N8lrGQEjMmhO",
        "colab": {
          "base_uri": "https://localhost:8080/"
        },
        "outputId": "7ae40179-a9b7-4a1a-beb1-946745ec903c"
      },
      "source": [
        "# train model\n",
        "model, selected_hyperparams, train_r2, train_mae, train_rmse = train_regression(initial_model, param_grid, weather_daily_train_df, cls='Rainfall (mm)')\n",
        "print(f'Selected hyperparameters: {selected_hyperparams}')\n",
        "# performance on the train set\n",
        "print(f'Train set performance: r2-score={train_r2}, mae={train_mae}, rmse={train_rmse}')"
      ],
      "execution_count": 8,
      "outputs": [
        {
          "output_type": "stream",
          "name": "stdout",
          "text": [
            "Selected hyperparameters: {'classifier__C': 8, 'classifier__degree': 5, 'classifier__gamma': 1, 'classifier__kernel': 'poly', 'regressor__C': 7, 'regressor__degree': 5, 'regressor__epsilon': 0.5, 'regressor__kernel': 'poly'}\n",
            "Train set performance: r2-score=0.1909, mae=5.2048, rmse=13.4731\n"
          ]
        }
      ]
    },
    {
      "cell_type": "code",
      "metadata": {
        "id": "_D5Pz_IM2dUj"
      },
      "source": [
        "# # r2-scores graph on the train set\n",
        "\n",
        "# # hyper-parameters selected by GridSearchCV\n",
        "# selected_model_params = selected_hyperparams\n",
        "# #selected_model_params['random_state'] = RAND_SEED\n",
        "\n",
        "# showEvalutationGraph_regression(MODEL_CLASS, weather_daily_train_df, cls='Rainfall (mm)', \n",
        "#                                 x_axis_param_name=x_axis_param_name, x_axis_param_vals=x_axis_vals, \n",
        "#                                 selected_model_params=selected_model_params)"
      ],
      "execution_count": 9,
      "outputs": []
    },
    {
      "cell_type": "code",
      "metadata": {
        "id": "fj1I73i2WBYF",
        "colab": {
          "base_uri": "https://localhost:8080/"
        },
        "outputId": "a1f54445-4bb3-4ffc-cf54-68e7a5198120"
      },
      "source": [
        "# test model\n",
        "test_r2, test_mae, test_rmse = eval_regression(model, weather_daily_test_df, cls='Rainfall (mm)')\n",
        "# performance on the test set\n",
        "print(f'Test set performance: r2-score={test_r2}, mae={test_mae}, rmse={test_rmse}')"
      ],
      "execution_count": 10,
      "outputs": [
        {
          "output_type": "stream",
          "name": "stdout",
          "text": [
            "Test set performance: r2-score=0.1359, mae=5.4906, rmse=16.0731\n"
          ]
        }
      ]
    },
    {
      "cell_type": "markdown",
      "metadata": {
        "id": "VcGsKgTkDS60"
      },
      "source": [
        "### 1.1 Apply Pearson Feature Selection to Daily Weather Dataset"
      ]
    },
    {
      "cell_type": "code",
      "metadata": {
        "id": "xUGFfg6FDSB3",
        "colab": {
          "base_uri": "https://localhost:8080/"
        },
        "outputId": "a3c68cf8-1357-4991-d3fb-478677310f74"
      },
      "source": [
        "# select features from the train dataset\n",
        "weather_daily_fs1_train_df, cols_to_drop = pearson_correlation_fs(weather_daily_train_df, 'Rainfall (mm)')\n",
        "\n",
        "# keep only selected features on the test dataset\n",
        "weather_daily_fs1_test_df = weather_daily_test_df.drop(columns=cols_to_drop)"
      ],
      "execution_count": 11,
      "outputs": [
        {
          "output_type": "stream",
          "name": "stdout",
          "text": [
            "dropping Sunshine (hour/day) from (Cloudy (hour/day), Sunshine (hour/day))\n"
          ]
        }
      ]
    },
    {
      "cell_type": "code",
      "metadata": {
        "id": "Z4Aj4bDCEBFE",
        "colab": {
          "base_uri": "https://localhost:8080/"
        },
        "outputId": "838a3530-8faf-4cfd-8ea0-0d2918276272"
      },
      "source": [
        "# train model\n",
        "model, selected_hyperparams, train_r2, train_mae, train_rmse = train_regression(initial_model, param_grid, weather_daily_fs1_train_df, cls='Rainfall (mm)')\n",
        "print(f'Selected hyperparameters: {selected_hyperparams}')\n",
        "# performance on the train set\n",
        "print(f'Train set performance: r2-score={train_r2}, mae={train_mae}, rmse={train_rmse}')"
      ],
      "execution_count": 12,
      "outputs": [
        {
          "output_type": "stream",
          "name": "stdout",
          "text": [
            "Selected hyperparameters: {'classifier__C': 8, 'classifier__degree': 5, 'classifier__gamma': 1, 'classifier__kernel': 'poly', 'regressor__C': 9, 'regressor__degree': 5, 'regressor__epsilon': 0.5, 'regressor__kernel': 'poly'}\n",
            "Train set performance: r2-score=0.2021, mae=5.1403, rmse=13.3844\n"
          ]
        }
      ]
    },
    {
      "cell_type": "code",
      "metadata": {
        "id": "Wnlx9lRX6cOT"
      },
      "source": [
        "# # r2-scores graph on the train set\n",
        "\n",
        "# # hyper-parameters selected by GridSearchCV\n",
        "# selected_model_params = selected_hyperparams\n",
        "# #selected_model_params['random_state'] = RAND_SEED\n",
        "\n",
        "# showEvalutationGraph_regression(MODEL_CLASS, weather_daily_fs1_train_df, cls='Rainfall (mm)', \n",
        "#                                 x_axis_param_name=x_axis_param_name, x_axis_param_vals=x_axis_vals, \n",
        "#                                 selected_model_params=selected_model_params)"
      ],
      "execution_count": 13,
      "outputs": []
    },
    {
      "cell_type": "code",
      "metadata": {
        "id": "Q56t8VALEOLV",
        "colab": {
          "base_uri": "https://localhost:8080/"
        },
        "outputId": "bc311f15-0ee0-4ac4-cc2c-e5254c6a9403"
      },
      "source": [
        "# test model\n",
        "test_r2, test_mae, test_rmse = eval_regression(model, weather_daily_fs1_test_df, cls='Rainfall (mm)')\n",
        "# performance on the test set\n",
        "print(f'Test set performance: r2-score={test_r2}, mae={test_mae}, rmse={test_rmse}')"
      ],
      "execution_count": 14,
      "outputs": [
        {
          "output_type": "stream",
          "name": "stdout",
          "text": [
            "Test set performance: r2-score=0.1487, mae=5.3964, rmse=15.9535\n"
          ]
        }
      ]
    },
    {
      "cell_type": "markdown",
      "metadata": {
        "id": "r0f0shnaTaEd"
      },
      "source": [
        "### 1.2 Apply SelectKBest Feature Selection to Daily Weather Dataset"
      ]
    },
    {
      "cell_type": "code",
      "metadata": {
        "id": "aP0zT8cDTaEe",
        "colab": {
          "base_uri": "https://localhost:8080/"
        },
        "outputId": "e6cfd1bb-5479-4899-a8c3-0381b16e6125"
      },
      "source": [
        "# select features from the train dataset\n",
        "weather_daily_fs2_train_df, cols_to_drop = seleckKBest_fs(weather_daily_train_df, 'Rainfall (mm)', is_regression=True)\n",
        "\n",
        "print('features dropped:', cols_to_drop)\n",
        "\n",
        "# keep only selected features on the test dataset\n",
        "weather_daily_fs2_test_df = weather_daily_test_df.drop(columns=cols_to_drop)"
      ],
      "execution_count": 15,
      "outputs": [
        {
          "output_type": "stream",
          "name": "stdout",
          "text": [
            "features dropped: ['Max Temp. (degree Celcius)', 'Solar Radiation (cal/cm^2/day)']\n"
          ]
        }
      ]
    },
    {
      "cell_type": "code",
      "metadata": {
        "id": "obBlfL4DTaEg",
        "colab": {
          "base_uri": "https://localhost:8080/"
        },
        "outputId": "e758f545-53d7-48ad-f5f3-9be5f83563b7"
      },
      "source": [
        "# train model\n",
        "model, selected_hyperparams, train_r2, train_mae, train_rmse = train_regression(initial_model, param_grid, weather_daily_fs2_train_df, cls='Rainfall (mm)')\n",
        "print(f'Selected hyperparameters: {selected_hyperparams}')\n",
        "# performance on the train set\n",
        "print(f'Train set performance: r2-score={train_r2}, mae={train_mae}, rmse={train_rmse}')"
      ],
      "execution_count": 16,
      "outputs": [
        {
          "output_type": "stream",
          "name": "stdout",
          "text": [
            "Selected hyperparameters: {'classifier__C': 8, 'classifier__degree': 5, 'classifier__gamma': 1, 'classifier__kernel': 'poly', 'regressor__C': 7, 'regressor__degree': 5, 'regressor__epsilon': 0.5, 'regressor__kernel': 'poly'}\n",
            "Train set performance: r2-score=0.1818, mae=5.1461, rmse=13.5553\n"
          ]
        }
      ]
    },
    {
      "cell_type": "code",
      "metadata": {
        "id": "FmIkmj59TaEh"
      },
      "source": [
        "# r2-scores graph on the train set\n",
        "\n",
        "# # hyper-parameters selected by GridSearchCV\n",
        "# selected_model_params = selected_hyperparams\n",
        "# #selected_model_params['random_state'] = RAND_SEED\n",
        "\n",
        "# showEvalutationGraph_regression(MODEL_CLASS, weather_daily_fs2_train_df, cls='Rainfall (mm)', \n",
        "#                                 x_axis_param_name=x_axis_param_name, x_axis_param_vals=x_axis_vals, \n",
        "#                                 selected_model_params=selected_model_params)"
      ],
      "execution_count": 17,
      "outputs": []
    },
    {
      "cell_type": "code",
      "metadata": {
        "id": "DFeHpfLrTaEh",
        "colab": {
          "base_uri": "https://localhost:8080/"
        },
        "outputId": "4d60959a-da37-4009-d5f3-e2a6f24a9157"
      },
      "source": [
        "# test model\n",
        "test_r2, test_mae, test_rmse = eval_regression(model, weather_daily_fs2_test_df, cls='Rainfall (mm)')\n",
        "# performance on the test set\n",
        "print(f'Test set performance: r2-score={test_r2}, mae={test_mae}, rmse={test_rmse}')"
      ],
      "execution_count": 18,
      "outputs": [
        {
          "output_type": "stream",
          "name": "stdout",
          "text": [
            "Test set performance: r2-score=0.148, mae=5.2718, rmse=15.9603\n"
          ]
        }
      ]
    },
    {
      "cell_type": "markdown",
      "metadata": {
        "id": "V4Vicl4dUhtA"
      },
      "source": [
        "### 1.3 Apply SelectSequential Feature Selection to Daily Weather Dataset"
      ]
    },
    {
      "cell_type": "code",
      "metadata": {
        "id": "gmsQWFWtUhtB",
        "colab": {
          "base_uri": "https://localhost:8080/"
        },
        "outputId": "cd8b9aeb-080d-4275-f299-6f2d10bac808"
      },
      "source": [
        "# select features from the train dataset\n",
        "weather_daily_fs3_train_df, cols_to_drop = selectSequential_fs(weather_daily_train_df, 'Rainfall (mm)', is_regression=True)\n",
        "\n",
        "print('features dropped:', cols_to_drop)\n",
        "\n",
        "# keep only selected features on the test dataset\n",
        "weather_daily_fs3_test_df = weather_daily_test_df.drop(columns=cols_to_drop)"
      ],
      "execution_count": 19,
      "outputs": [
        {
          "output_type": "stream",
          "name": "stdout",
          "text": [
            "features dropped: ['Actual Evaporation (mm)', 'Relative Humidity (morning, %)']\n"
          ]
        }
      ]
    },
    {
      "cell_type": "code",
      "metadata": {
        "id": "qTud3d6gUhtB",
        "colab": {
          "base_uri": "https://localhost:8080/"
        },
        "outputId": "96d57913-c99a-4e9c-8841-902a47d35fd8"
      },
      "source": [
        "# train model\n",
        "model, selected_hyperparams, train_r2, train_mae, train_rmse = train_regression(initial_model, param_grid, weather_daily_fs3_train_df, cls='Rainfall (mm)')\n",
        "print(f'Selected hyperparameters: {selected_hyperparams}')\n",
        "# performance on the train set\n",
        "print(f'Train set performance: r2-score={train_r2}, mae={train_mae}, rmse={train_rmse}')"
      ],
      "execution_count": 20,
      "outputs": [
        {
          "output_type": "stream",
          "name": "stdout",
          "text": [
            "Selected hyperparameters: {'classifier__C': 7, 'classifier__degree': 5, 'classifier__gamma': 1, 'classifier__kernel': 'poly', 'regressor__C': 9, 'regressor__degree': 5, 'regressor__epsilon': 0.5, 'regressor__kernel': 'poly'}\n",
            "Train set performance: r2-score=0.1901, mae=5.1796, rmse=13.489\n"
          ]
        }
      ]
    },
    {
      "cell_type": "code",
      "metadata": {
        "id": "OChWCxcRUhtC"
      },
      "source": [
        "# r2-scores graph on the train set\n",
        "\n",
        "# # hyper-parameters selected by GridSearchCV\n",
        "# selected_model_params = selected_hyperparams\n",
        "# #selected_model_params['random_state'] = RAND_SEED\n",
        "\n",
        "# showEvalutationGraph_regression(MODEL_CLASS, weather_daily_fs3_train_df, cls='Rainfall (mm)', \n",
        "#                                 x_axis_param_name=x_axis_param_name, x_axis_param_vals=x_axis_vals, \n",
        "#                                 selected_model_params=selected_model_params)"
      ],
      "execution_count": 21,
      "outputs": []
    },
    {
      "cell_type": "code",
      "metadata": {
        "id": "vl3SK-UDUhtD",
        "colab": {
          "base_uri": "https://localhost:8080/"
        },
        "outputId": "bd213814-65d6-41fc-a759-ce6f16366d7d"
      },
      "source": [
        "# test model\n",
        "test_r2, test_mae, test_rmse = eval_regression(model, weather_daily_fs3_test_df, cls='Rainfall (mm)')\n",
        "# performance on the test set\n",
        "print(f'Test set performance: r2-score={test_r2}, mae={test_mae}, rmse={test_rmse}')"
      ],
      "execution_count": 22,
      "outputs": [
        {
          "output_type": "stream",
          "name": "stdout",
          "text": [
            "Test set performance: r2-score=0.1297, mae=5.4658, rmse=16.1304\n"
          ]
        }
      ]
    }
  ]
}