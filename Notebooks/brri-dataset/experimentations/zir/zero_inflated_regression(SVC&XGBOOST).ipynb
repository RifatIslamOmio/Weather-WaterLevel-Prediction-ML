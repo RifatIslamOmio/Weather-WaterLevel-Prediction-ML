{
  "nbformat": 4,
  "nbformat_minor": 0,
  "metadata": {
    "colab": {
      "name": "zero-inflated_regression(SVC&XGBOOST).ipynb",
      "provenance": [],
      "collapsed_sections": []
    },
    "kernelspec": {
      "display_name": "Python 3",
      "language": "python",
      "name": "python3"
    },
    "language_info": {
      "codemirror_mode": {
        "name": "ipython",
        "version": 3
      },
      "file_extension": ".py",
      "mimetype": "text/x-python",
      "name": "python",
      "nbconvert_exporter": "python",
      "pygments_lexer": "ipython3",
      "version": "3.7.10"
    }
  },
  "cells": [
    {
      "cell_type": "code",
      "metadata": {
        "id": "I95S5GeUMsc-"
      },
      "source": [
        "# # the imports in this cell are required when running on local device\n",
        "# import os, sys\n",
        "# sys.path.append(os.path.join('..', '..'))\n",
        "# from utils.applyML_util import train_regression, eval_regression\n",
        "# from utils.featureSelection_util import (pearson_correlation_fs, \n",
        "#                                          seleckKBest_fs, selectSequential_fs)"
      ],
      "execution_count": null,
      "outputs": []
    },
    {
      "cell_type": "code",
      "metadata": {
        "id": "oxumaP1_Oxv4"
      },
      "source": [
        "# the imports in this cell are required when running from Cloud (Colab/Kaggle)\n",
        "# before running on cloud you nee to upload the .py files\n",
        "# from 'Notebooks/utils' directory\n",
        "from applyML_util import train_regression, eval_regression, showEvalutationGraph_regression\n",
        "from featureSelection_util import (pearson_correlation_fs, \n",
        "                                   seleckKBest_fs, selectSequential_fs)"
      ],
      "execution_count": 10,
      "outputs": []
    },
    {
      "cell_type": "markdown",
      "metadata": {
        "id": "AqwNJBzumHl2"
      },
      "source": [
        "# New Section"
      ]
    },
    {
      "cell_type": "markdown",
      "metadata": {
        "id": "UJ4-Bu_iQt6r"
      },
      "source": [
        "**XGBoost Documentation link:** https://xgboost.readthedocs.io/en/latest/python/python_api.html#xgboost.XGBRegressor <br>\n",
        "**SK-Lego Documentation link:** https://scikit-lego.netlify.app/meta.html#Zero-Inflated-Regressor"
      ]
    },
    {
      "cell_type": "code",
      "metadata": {
        "id": "p0UKkvHXy2Sh"
      },
      "source": [
        "!pip install sklego"
      ],
      "execution_count": null,
      "outputs": []
    },
    {
      "cell_type": "code",
      "metadata": {
        "id": "1tVvVKjkQsmG"
      },
      "source": [
        "import pandas as pd\n",
        "import numpy as np\n",
        "import matplotlib.pyplot as plt\n",
        "from sklearn.linear_model import LinearRegression\n",
        "from sklego.meta import ZeroInflatedRegressor #!pip install sklego\n",
        "from sklearn.svm import SVC\n",
        "from xgboost.sklearn import XGBRegressor"
      ],
      "execution_count": 4,
      "outputs": []
    },
    {
      "cell_type": "code",
      "metadata": {
        "id": "6KT8DZiidBKH"
      },
      "source": [
        "# global random seed\n",
        "RAND_SEED = 42\n",
        "\n",
        "ziReg = ZeroInflatedRegressor(classifier=SVC(), regressor=XGBRegressor(random_state=RAND_SEED, n_jobs=-1, objective ='reg:squarederror'))\n",
        "\n",
        "# initial model with only random seed and not any hyper-parametes\n",
        "initial_model = ziReg\n",
        "\n",
        "# hyper-parameters\n",
        "classifier__kernel = ['poly']\n",
        "classifier__C = [8]\n",
        "classifier__degree = [5]\n",
        "classifier__gamma = [1]\n",
        "\n",
        "regressor__n_estimators = [1, 5, 10]\n",
        "#regressor__max_depth = [max(1, x*3) for x in range(0, 11)]\n",
        "regressor__early_stopping_rounds = [5]\n",
        "regressor__learning_rate = [0.1, 1.0]\n",
        "regressor__gamma = [0, 5, 10]\n",
        "regressor__subsample = [ 0.5, 1.0]\n",
        "\n",
        "\n",
        "param_grid = {'classifier__kernel':classifier__kernel,'classifier__gamma':classifier__gamma,'classifier__degree': classifier__degree,'classifier__C':classifier__C,\n",
        "              'regressor__n_estimators':regressor__n_estimators, 'regressor__learning_rate':regressor__learning_rate,\n",
        "              'regressor__gamma': regressor__gamma, 'regressor__subsample': regressor__subsample, 'regressor__early_stopping_rounds': regressor__early_stopping_rounds}\n",
        "\n",
        "# variables needed for showEvalGraph_regression() function\n",
        "# MODEL_CLASS = ziReg\n",
        "# x_axis_param_name = 'regressor__C' #???classifier__C\n",
        "# x_axis_vals = regressor__C"
      ],
      "execution_count": 6,
      "outputs": []
    },
    {
      "cell_type": "code",
      "metadata": {
        "id": "1sPzmUjRmU7c",
        "colab": {
          "base_uri": "https://localhost:8080/"
        },
        "outputId": "d7208423-1eee-4e8e-825d-a3060cd2f865"
      },
      "source": [
        "ziReg.get_params().keys()\n"
      ],
      "execution_count": null,
      "outputs": [
        {
          "output_type": "execute_result",
          "data": {
            "text/plain": [
              "dict_keys(['classifier__C', 'classifier__break_ties', 'classifier__cache_size', 'classifier__class_weight', 'classifier__coef0', 'classifier__decision_function_shape', 'classifier__degree', 'classifier__gamma', 'classifier__kernel', 'classifier__max_iter', 'classifier__probability', 'classifier__random_state', 'classifier__shrinking', 'classifier__tol', 'classifier__verbose', 'classifier', 'regressor__base_score', 'regressor__booster', 'regressor__colsample_bylevel', 'regressor__colsample_bynode', 'regressor__colsample_bytree', 'regressor__gamma', 'regressor__importance_type', 'regressor__learning_rate', 'regressor__max_delta_step', 'regressor__max_depth', 'regressor__min_child_weight', 'regressor__missing', 'regressor__n_estimators', 'regressor__n_jobs', 'regressor__nthread', 'regressor__objective', 'regressor__random_state', 'regressor__reg_alpha', 'regressor__reg_lambda', 'regressor__scale_pos_weight', 'regressor__seed', 'regressor__silent', 'regressor__subsample', 'regressor__verbosity', 'regressor'])"
            ]
          },
          "metadata": {},
          "execution_count": 6
        }
      ]
    },
    {
      "cell_type": "markdown",
      "metadata": {
        "id": "sMvRYb6AQLj9"
      },
      "source": [
        "## 1. Experimentation on the Weather Daily dataset"
      ]
    },
    {
      "cell_type": "code",
      "metadata": {
        "id": "bNmGnNV1QPE8"
      },
      "source": [
        "# Load the train dataset\n",
        "weather_daily_train_df = pd.read_csv('https://raw.githubusercontent.com/ferdouszislam/Weather-WaterLevel-Prediction-ML/main/Datasets/brri-datasets/final-dataset/train/brri-weather_train_regression.csv')\n",
        "\n",
        "# Load the test set\n",
        "weather_daily_test_df = pd.read_csv('https://raw.githubusercontent.com/ferdouszislam/Weather-WaterLevel-Prediction-ML/main/Datasets/brri-datasets/final-dataset/test/brri-weather_test_regression.csv')"
      ],
      "execution_count": 7,
      "outputs": []
    },
    {
      "cell_type": "code",
      "metadata": {
        "id": "N8lrGQEjMmhO",
        "colab": {
          "base_uri": "https://localhost:8080/"
        },
        "outputId": "92856805-b45d-465b-d04d-21310c438083"
      },
      "source": [
        "# train model\n",
        "model, selected_hyperparams, train_r2, train_mae, train_rmse = train_regression(initial_model, param_grid, weather_daily_train_df, cls='Rainfall (mm)')\n",
        "print(f'Selected hyperparameters: {selected_hyperparams}')\n",
        "# performance on the train set\n",
        "print(f'Train set performance: r2-score={train_r2}, mae={train_mae}, rmse={train_rmse}')"
      ],
      "execution_count": null,
      "outputs": [
        {
          "output_type": "stream",
          "name": "stdout",
          "text": [
            "Selected hyperparameters: {'classifier__C': 8, 'classifier__degree': 5, 'classifier__gamma': 1, 'classifier__kernel': 'poly', 'regressor__early_stopping_rounds': 5, 'regressor__gamma': 0, 'regressor__learning_rate': 0.1, 'regressor__n_estimators': 10, 'regressor__subsample': 1.0}\n",
            "Train set performance: r2-score=0.1807, mae=5.3438, rmse=13.5484\n"
          ]
        }
      ]
    },
    {
      "cell_type": "code",
      "metadata": {
        "id": "_D5Pz_IM2dUj"
      },
      "source": [
        "# # r2-scores graph on the train set\n",
        "\n",
        "# # hyper-parameters selected by GridSearchCV\n",
        "# selected_model_params = selected_hyperparams\n",
        "# #selected_model_params['random_state'] = RAND_SEED\n",
        "\n",
        "# showEvalutationGraph_regression(MODEL_CLASS, weather_daily_train_df, cls='Rainfall (mm)', \n",
        "#                                 x_axis_param_name=x_axis_param_name, x_axis_param_vals=x_axis_vals, \n",
        "#                                 selected_model_params=selected_model_params)"
      ],
      "execution_count": null,
      "outputs": []
    },
    {
      "cell_type": "code",
      "metadata": {
        "id": "fj1I73i2WBYF",
        "colab": {
          "base_uri": "https://localhost:8080/"
        },
        "outputId": "987999ff-8a6c-4862-c242-79a13f7b59e3"
      },
      "source": [
        "# test model\n",
        "test_r2, test_mae, test_rmse = eval_regression(model, weather_daily_test_df, cls='Rainfall (mm)')\n",
        "# performance on the test set\n",
        "print(f'Test set performance: r2-score={test_r2}, mae={test_mae}, rmse={test_rmse}')"
      ],
      "execution_count": null,
      "outputs": [
        {
          "output_type": "stream",
          "name": "stdout",
          "text": [
            "Test set performance: r2-score=0.1159, mae=5.6485, rmse=16.2581\n"
          ]
        }
      ]
    },
    {
      "cell_type": "markdown",
      "metadata": {
        "id": "VcGsKgTkDS60"
      },
      "source": [
        "### 1.1 Apply Pearson Feature Selection to Daily Weather Dataset"
      ]
    },
    {
      "cell_type": "code",
      "metadata": {
        "id": "xUGFfg6FDSB3",
        "colab": {
          "base_uri": "https://localhost:8080/"
        },
        "outputId": "ff8b02d5-1d44-40a6-c350-182f7d1dc377"
      },
      "source": [
        "# select features from the train dataset\n",
        "weather_daily_fs1_train_df, cols_to_drop = pearson_correlation_fs(weather_daily_train_df, 'Rainfall (mm)')\n",
        "\n",
        "# keep only selected features on the test dataset\n",
        "weather_daily_fs1_test_df = weather_daily_test_df.drop(columns=cols_to_drop)"
      ],
      "execution_count": null,
      "outputs": [
        {
          "output_type": "stream",
          "name": "stdout",
          "text": [
            "dropping Sunshine (hour/day) from (Cloudy (hour/day), Sunshine (hour/day))\n"
          ]
        }
      ]
    },
    {
      "cell_type": "code",
      "metadata": {
        "id": "Z4Aj4bDCEBFE",
        "colab": {
          "base_uri": "https://localhost:8080/"
        },
        "outputId": "e7638042-3d14-47a8-a80a-aed0ce21f85b"
      },
      "source": [
        "# train model\n",
        "model, selected_hyperparams, train_r2, train_mae, train_rmse = train_regression(initial_model, param_grid, weather_daily_fs1_train_df, cls='Rainfall (mm)')\n",
        "print(f'Selected hyperparameters: {selected_hyperparams}')\n",
        "# performance on the train set\n",
        "print(f'Train set performance: r2-score={train_r2}, mae={train_mae}, rmse={train_rmse}')"
      ],
      "execution_count": null,
      "outputs": [
        {
          "metadata": {
            "tags": null
          },
          "name": "stdout",
          "output_type": "stream",
          "text": [
            "Selected hyperparameters: {'classifier__C': 8, 'classifier__degree': 5, 'classifier__gamma': 1, 'classifier__kernel': 'poly', 'regressor__early_stopping_rounds': 5, 'regressor__gamma': 0, 'regressor__learning_rate': 0.1, 'regressor__n_estimators': 10, 'regressor__subsample': 0.5}\n",
            "Train set performance: r2-score=0.1963, mae=5.2991, rmse=13.4239\n"
          ]
        }
      ]
    },
    {
      "cell_type": "code",
      "metadata": {
        "id": "Wnlx9lRX6cOT"
      },
      "source": [
        "# # r2-scores graph on the train set\n",
        "\n",
        "# # hyper-parameters selected by GridSearchCV\n",
        "# selected_model_params = selected_hyperparams\n",
        "# #selected_model_params['random_state'] = RAND_SEED\n",
        "\n",
        "# showEvalutationGraph_regression(MODEL_CLASS, weather_daily_fs1_train_df, cls='Rainfall (mm)', \n",
        "#                                 x_axis_param_name=x_axis_param_name, x_axis_param_vals=x_axis_vals, \n",
        "#                                 selected_model_params=selected_model_params)"
      ],
      "execution_count": null,
      "outputs": []
    },
    {
      "cell_type": "code",
      "metadata": {
        "id": "Q56t8VALEOLV",
        "colab": {
          "base_uri": "https://localhost:8080/"
        },
        "outputId": "2d1e5aac-89fb-432b-988d-304510da603c"
      },
      "source": [
        "# test model\n",
        "test_r2, test_mae, test_rmse = eval_regression(model, weather_daily_fs1_test_df, cls='Rainfall (mm)')\n",
        "# performance on the test set\n",
        "print(f'Test set performance: r2-score={test_r2}, mae={test_mae}, rmse={test_rmse}')"
      ],
      "execution_count": null,
      "outputs": [
        {
          "metadata": {
            "tags": null
          },
          "name": "stdout",
          "output_type": "stream",
          "text": [
            "Test set performance: r2-score=0.1229, mae=5.5577, rmse=16.194\n"
          ]
        }
      ]
    },
    {
      "cell_type": "markdown",
      "metadata": {
        "id": "r0f0shnaTaEd"
      },
      "source": [
        "### 1.2 Apply SelectKBest Feature Selection to Daily Weather Dataset"
      ]
    },
    {
      "cell_type": "code",
      "metadata": {
        "id": "aP0zT8cDTaEe",
        "colab": {
          "base_uri": "https://localhost:8080/"
        },
        "outputId": "300830cc-c3b9-4b12-d9ab-2fce98866d11"
      },
      "source": [
        "# select features from the train dataset\n",
        "weather_daily_fs2_train_df, cols_to_drop = seleckKBest_fs(weather_daily_train_df, 'Rainfall (mm)', is_regression=True)\n",
        "\n",
        "print('features dropped:', cols_to_drop)\n",
        "\n",
        "# keep only selected features on the test dataset\n",
        "weather_daily_fs2_test_df = weather_daily_test_df.drop(columns=cols_to_drop)"
      ],
      "execution_count": null,
      "outputs": [
        {
          "metadata": {
            "tags": null
          },
          "name": "stdout",
          "output_type": "stream",
          "text": [
            "features dropped: ['Max Temp. (degree Celcius)', 'Relative Humidity (morning, %)']\n"
          ]
        }
      ]
    },
    {
      "cell_type": "code",
      "metadata": {
        "id": "obBlfL4DTaEg",
        "colab": {
          "base_uri": "https://localhost:8080/"
        },
        "outputId": "791cd00e-44f7-476a-849e-96ad3698af0a"
      },
      "source": [
        "# train model\n",
        "model, selected_hyperparams, train_r2, train_mae, train_rmse = train_regression(initial_model, param_grid, weather_daily_fs2_train_df, cls='Rainfall (mm)')\n",
        "print(f'Selected hyperparameters: {selected_hyperparams}')\n",
        "# performance on the train set\n",
        "print(f'Train set performance: r2-score={train_r2}, mae={train_mae}, rmse={train_rmse}')"
      ],
      "execution_count": null,
      "outputs": [
        {
          "output_type": "stream",
          "name": "stdout",
          "text": [
            "Selected hyperparameters: {'classifier__C': 8, 'classifier__degree': 5, 'classifier__gamma': 1, 'classifier__kernel': 'poly', 'regressor__early_stopping_rounds': 5, 'regressor__gamma': 0, 'regressor__learning_rate': 0.1, 'regressor__n_estimators': 10, 'regressor__subsample': 1.0}\n",
            "Train set performance: r2-score=0.1848, mae=5.302, rmse=13.5114\n"
          ]
        }
      ]
    },
    {
      "cell_type": "code",
      "metadata": {
        "id": "FmIkmj59TaEh"
      },
      "source": [
        "# r2-scores graph on the train set\n",
        "\n",
        "# # hyper-parameters selected by GridSearchCV\n",
        "# selected_model_params = selected_hyperparams\n",
        "# #selected_model_params['random_state'] = RAND_SEED\n",
        "\n",
        "# showEvalutationGraph_regression(MODEL_CLASS, weather_daily_fs2_train_df, cls='Rainfall (mm)', \n",
        "#                                 x_axis_param_name=x_axis_param_name, x_axis_param_vals=x_axis_vals, \n",
        "#                                 selected_model_params=selected_model_params)"
      ],
      "execution_count": null,
      "outputs": []
    },
    {
      "cell_type": "code",
      "metadata": {
        "id": "DFeHpfLrTaEh",
        "colab": {
          "base_uri": "https://localhost:8080/"
        },
        "outputId": "17b648cf-b596-414d-a6d0-8758c6485d77"
      },
      "source": [
        "# test model\n",
        "test_r2, test_mae, test_rmse = eval_regression(model, weather_daily_fs2_test_df, cls='Rainfall (mm)')\n",
        "# performance on the test set\n",
        "print(f'Test set performance: r2-score={test_r2}, mae={test_mae}, rmse={test_rmse}')"
      ],
      "execution_count": null,
      "outputs": [
        {
          "output_type": "stream",
          "name": "stdout",
          "text": [
            "Test set performance: r2-score=0.1226, mae=5.4867, rmse=16.1964\n"
          ]
        }
      ]
    },
    {
      "cell_type": "markdown",
      "metadata": {
        "id": "V4Vicl4dUhtA"
      },
      "source": [
        "### 1.3 Apply SelectSequential Feature Selection to Daily Weather Dataset"
      ]
    },
    {
      "cell_type": "code",
      "metadata": {
        "id": "gmsQWFWtUhtB",
        "colab": {
          "base_uri": "https://localhost:8080/"
        },
        "outputId": "5338614b-571c-4aec-cd0c-db65e6ba3486"
      },
      "source": [
        "# select features from the train dataset\n",
        "weather_daily_fs3_train_df, cols_to_drop = selectSequential_fs(weather_daily_train_df, 'Rainfall (mm)', is_regression=True)\n",
        "\n",
        "print('features dropped:', cols_to_drop)\n",
        "\n",
        "# keep only selected features on the test dataset\n",
        "weather_daily_fs3_test_df = weather_daily_test_df.drop(columns=cols_to_drop)"
      ],
      "execution_count": 11,
      "outputs": [
        {
          "output_type": "stream",
          "name": "stdout",
          "text": [
            "features dropped: ['Actual Evaporation (mm)', 'Relative Humidity (morning, %)']\n"
          ]
        }
      ]
    },
    {
      "cell_type": "code",
      "metadata": {
        "id": "qTud3d6gUhtB",
        "colab": {
          "base_uri": "https://localhost:8080/"
        },
        "outputId": "85470802-5a5b-4e53-b9b0-08dda3b34eab"
      },
      "source": [
        "# train model\n",
        "model, selected_hyperparams, train_r2, train_mae, train_rmse = train_regression(initial_model, param_grid, weather_daily_fs3_train_df, cls='Rainfall (mm)')\n",
        "print(f'Selected hyperparameters: {selected_hyperparams}')\n",
        "# performance on the train set\n",
        "print(f'Train set performance: r2-score={train_r2}, mae={train_mae}, rmse={train_rmse}')"
      ],
      "execution_count": 12,
      "outputs": [
        {
          "output_type": "stream",
          "name": "stdout",
          "text": [
            "Selected hyperparameters: {'classifier__C': 8, 'classifier__degree': 5, 'classifier__gamma': 1, 'classifier__kernel': 'poly', 'regressor__early_stopping_rounds': 5, 'regressor__gamma': 0, 'regressor__learning_rate': 0.1, 'regressor__n_estimators': 10, 'regressor__subsample': 0.5}\n",
            "Train set performance: r2-score=0.1831, mae=5.3077, rmse=13.5454\n"
          ]
        }
      ]
    },
    {
      "cell_type": "code",
      "metadata": {
        "id": "OChWCxcRUhtC"
      },
      "source": [
        "# r2-scores graph on the train set\n",
        "\n",
        "# # hyper-parameters selected by GridSearchCV\n",
        "# selected_model_params = selected_hyperparams\n",
        "# #selected_model_params['random_state'] = RAND_SEED\n",
        "\n",
        "# showEvalutationGraph_regression(MODEL_CLASS, weather_daily_fs3_train_df, cls='Rainfall (mm)', \n",
        "#                                 x_axis_param_name=x_axis_param_name, x_axis_param_vals=x_axis_vals, \n",
        "#                                 selected_model_params=selected_model_params)"
      ],
      "execution_count": null,
      "outputs": []
    },
    {
      "cell_type": "code",
      "metadata": {
        "id": "vl3SK-UDUhtD",
        "colab": {
          "base_uri": "https://localhost:8080/"
        },
        "outputId": "d96f65df-aac3-429e-bc34-e98583f42dae"
      },
      "source": [
        "# test model\n",
        "test_r2, test_mae, test_rmse = eval_regression(model, weather_daily_fs3_test_df, cls='Rainfall (mm)')\n",
        "# performance on the test set\n",
        "print(f'Test set performance: r2-score={test_r2}, mae={test_mae}, rmse={test_rmse}')"
      ],
      "execution_count": 13,
      "outputs": [
        {
          "output_type": "stream",
          "name": "stdout",
          "text": [
            "Test set performance: r2-score=0.1101, mae=5.6359, rmse=16.311\n"
          ]
        }
      ]
    }
  ]
}