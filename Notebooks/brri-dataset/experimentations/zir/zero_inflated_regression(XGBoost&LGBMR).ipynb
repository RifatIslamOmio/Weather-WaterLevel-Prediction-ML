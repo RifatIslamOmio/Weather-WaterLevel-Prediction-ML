{
  "cells": [
    {
      "cell_type": "code",
      "execution_count": 21,
      "metadata": {
        "id": "oxumaP1_Oxv4"
      },
      "outputs": [],
      "source": [
        "# the imports in this cell are required when running from Cloud (Colab/Kaggle)\n",
        "# before running on cloud you nee to upload the .py files \n",
        "# from 'Notebooks/utils' directory\n",
        "from applyML_util import train_regression, eval_regression, showEvalutationGraph_regression\n",
        "from featureSelection_util import (pearson_correlation_fs, \n",
        "                                   seleckKBest_fs, selectSequential_fs)"
      ]
    },
    {
      "cell_type": "markdown",
      "metadata": {
        "id": "AqwNJBzumHl2"
      },
      "source": [
        "# New Section"
      ]
    },
    {
      "cell_type": "markdown",
      "metadata": {
        "id": "UJ4-Bu_iQt6r"
      },
      "source": [
        "**LGBMR Documentation link:** https://lightgbm.readthedocs.io/en/latest/pythonapi/lightgbm.LGBMRegressor.html\n",
        "\n",
        "**XGBoost Documentation link:** https://xgboost.readthedocs.io/en/latest/python/python_api.html#xgboost.XGBClassifier\n",
        "\n",
        "**SK-Lego Documentation link:** https://scikit-lego.netlify.app/meta.html"
      ]
    },
    {
      "cell_type": "code",
      "execution_count": null,
      "metadata": {
        "id": "p0UKkvHXy2Sh"
      },
      "outputs": [],
      "source": [
        "!pip install sklego"
      ]
    },
    {
      "cell_type": "code",
      "execution_count": 22,
      "metadata": {
        "id": "1tVvVKjkQsmG"
      },
      "outputs": [],
      "source": [
        "import pandas as pd\n",
        "import numpy as np\n",
        "import matplotlib.pyplot as plt\n",
        "from sklearn.linear_model import LinearRegression\n",
        "from sklego.meta import ZeroInflatedRegressor #!pip install sklego\n",
        "from xgboost.sklearn import XGBClassifier\n",
        "from lightgbm import LGBMRegressor"
      ]
    },
    {
      "cell_type": "code",
      "execution_count": null,
      "metadata": {
        "id": "6KT8DZiidBKH"
      },
      "outputs": [],
      "source": [
        "# global random seed\n",
        "RAND_SEED = 42\n",
        "\n",
        "ziReg = ZeroInflatedRegressor(classifier=XGBClassifier(random_state=RAND_SEED,tree_method='hist'), regressor=LGBMRegressor(random_state=RAND_SEED))\n",
        "\n",
        "# initial model with only random seed and not any hyper-parametes\n",
        "initial_model = ziReg\n",
        "\n",
        "# hyper-parameters\n",
        "#LGBM\n",
        "n_estimators = [x*5 for x in range(20, 41)] \n",
        "learning_rate = [0.01]\n",
        "#XGB\n",
        "subsample = [0.5]\n",
        "\n",
        "param_grid = { 'classifier__subsample' :subsample,\n",
        "              'classifier__n_estimators': n_estimators,\n",
        "              'regressor__learning_rate': learning_rate,\n",
        "              'regressor__n_estimators': n_estimators\n",
        "              }\n",
        "\n",
        "# variables needed for showEvalGraph_regression() function\n",
        "# MODEL_CLASS = ziReg\n",
        "# x_axis_param_name = 'regressor__C'\n",
        "# x_axis_vals = regressor__C"
      ]
    },
    {
      "cell_type": "markdown",
      "metadata": {
        "id": "sMvRYb6AQLj9"
      },
      "source": [
        "## 1. Experimentation on the Weather Daily dataset"
      ]
    },
    {
      "cell_type": "code",
      "execution_count": null,
      "metadata": {
        "id": "bNmGnNV1QPE8"
      },
      "outputs": [],
      "source": [
        "# Load the train dataset\n",
        "weather_daily_train_df = pd.read_csv('https://raw.githubusercontent.com/ferdouszislam/Weather-WaterLevel-Prediction-ML/main/Datasets/brri-datasets/final-dataset/train/brri-weather_train_regression.csv')\n",
        "\n",
        "# Load the test set\n",
        "weather_daily_test_df = pd.read_csv('https://raw.githubusercontent.com/ferdouszislam/Weather-WaterLevel-Prediction-ML/main/Datasets/brri-datasets/final-dataset/test/brri-weather_test_regression.csv')"
      ]
    },
    {
      "cell_type": "code",
      "execution_count": null,
      "metadata": {
        "colab": {
          "background_save": true
        },
        "id": "N8lrGQEjMmhO",
        "outputId": "d635186e-ce33-44c9-cae2-733d0af3639d"
      },
      "outputs": [
        {
          "name": "stdout",
          "output_type": "stream",
          "text": [
            "Selected hyperparameters: {'classifier__n_estimators': 175, 'classifier__subsample': 0.5, 'regressor__learning_rate': 0.01, 'regressor__n_estimators': 175}\n",
            "Train set performance: r2-score=0.2506, mae=5.519, rmse=12.9369\n"
          ]
        }
      ],
      "source": [
        "# train model\n",
        "model, selected_hyperparams, train_r2, train_mae, train_rmse = train_regression(initial_model, param_grid, weather_daily_train_df, cls='Rainfall (mm)')\n",
        "print(f'Selected hyperparameters: {selected_hyperparams}')\n",
        "# performance on the train set\n",
        "print(f'Train set performance: r2-score={train_r2}, mae={train_mae}, rmse={train_rmse}')"
      ]
    },
    {
      "cell_type": "code",
      "execution_count": null,
      "metadata": {
        "id": "_D5Pz_IM2dUj"
      },
      "outputs": [],
      "source": [
        "# # r2-scores graph on the train set\n",
        "\n",
        "# # hyper-parameters selected by GridSearchCV\n",
        "# selected_model_params = selected_hyperparams\n",
        "# #selected_model_params['random_state'] = RAND_SEED\n",
        "\n",
        "# showEvalutationGraph_regression(MODEL_CLASS, weather_daily_train_df, cls='Rainfall (mm)', \n",
        "#                                 x_axis_param_name=x_axis_param_name, x_axis_param_vals=x_axis_vals, \n",
        "#                                 selected_model_params=selected_model_params)"
      ]
    },
    {
      "cell_type": "code",
      "execution_count": null,
      "metadata": {
        "colab": {
          "background_save": true
        },
        "id": "fj1I73i2WBYF",
        "outputId": "87f73119-e8a1-42fd-9806-86717b654a80"
      },
      "outputs": [
        {
          "name": "stdout",
          "output_type": "stream",
          "text": [
            "Test set performance: r2-score=0.1886, mae=5.7885, rmse=15.5752\n"
          ]
        }
      ],
      "source": [
        "# test model\n",
        "test_r2, test_mae, test_rmse = eval_regression(model, weather_daily_test_df, cls='Rainfall (mm)')\n",
        "# performance on the test set\n",
        "print(f'Test set performance: r2-score={test_r2}, mae={test_mae}, rmse={test_rmse}')"
      ]
    },
    {
      "cell_type": "markdown",
      "metadata": {
        "id": "VcGsKgTkDS60"
      },
      "source": [
        "### 1.1 Apply Pearson Feature Selection to Daily Weather Dataset"
      ]
    },
    {
      "cell_type": "code",
      "execution_count": null,
      "metadata": {
        "colab": {
          "background_save": true
        },
        "id": "xUGFfg6FDSB3",
        "outputId": "0927b5b5-3056-4243-f46f-937253c94678"
      },
      "outputs": [
        {
          "name": "stdout",
          "output_type": "stream",
          "text": [
            "dropping Sunshine (hour/day) from (Cloudy (hour/day), Sunshine (hour/day))\n"
          ]
        }
      ],
      "source": [
        "# select features from the train dataset\n",
        "weather_daily_fs1_train_df, cols_to_drop = pearson_correlation_fs(weather_daily_train_df, 'Rainfall (mm)')\n",
        "\n",
        "# keep only selected features on the test dataset\n",
        "weather_daily_fs1_test_df = weather_daily_test_df.drop(columns=cols_to_drop)"
      ]
    },
    {
      "cell_type": "code",
      "execution_count": null,
      "metadata": {
        "id": "Z4Aj4bDCEBFE",
        "colab": {
          "base_uri": "https://localhost:8080/"
        },
        "outputId": "28da51f4-b1b4-4f3d-ee48-f08f9df9d9aa"
      },
      "outputs": [
        {
          "output_type": "stream",
          "name": "stdout",
          "text": [
            "Selected hyperparameters: {'classifier__n_estimators': 175, 'classifier__subsample': 0.5, 'regressor__learning_rate': 0.01, 'regressor__n_estimators': 200}\n",
            "Train set performance: r2-score=0.2543, mae=5.5168, rmse=12.9129\n"
          ]
        }
      ],
      "source": [
        "# train model\n",
        "model, selected_hyperparams, train_r2, train_mae, train_rmse = train_regression(initial_model, param_grid, weather_daily_fs1_train_df, cls='Rainfall (mm)')\n",
        "print(f'Selected hyperparameters: {selected_hyperparams}')\n",
        "# performance on the train set\n",
        "print(f'Train set performance: r2-score={train_r2}, mae={train_mae}, rmse={train_rmse}')"
      ]
    },
    {
      "cell_type": "code",
      "execution_count": null,
      "metadata": {
        "id": "Wnlx9lRX6cOT"
      },
      "outputs": [],
      "source": [
        "# # r2-scores graph on the train set\n",
        "\n",
        "# # hyper-parameters selected by GridSearchCV\n",
        "# selected_model_params = selected_hyperparams\n",
        "# #selected_model_params['random_state'] = RAND_SEED\n",
        "\n",
        "# showEvalutationGraph_regression(MODEL_CLASS, weather_daily_fs1_train_df, cls='Rainfall (mm)', \n",
        "#                                 x_axis_param_name=x_axis_param_name, x_axis_param_vals=x_axis_vals, \n",
        "#                                 selected_model_params=selected_model_params)"
      ]
    },
    {
      "cell_type": "code",
      "execution_count": null,
      "metadata": {
        "id": "Q56t8VALEOLV",
        "colab": {
          "base_uri": "https://localhost:8080/"
        },
        "outputId": "b3166fa5-6891-40ea-871a-e2abae18c210"
      },
      "outputs": [
        {
          "output_type": "stream",
          "name": "stdout",
          "text": [
            "Test set performance: r2-score=0.1854, mae=5.7485, rmse=15.6055\n"
          ]
        }
      ],
      "source": [
        "# test model\n",
        "test_r2, test_mae, test_rmse = eval_regression(model, weather_daily_fs1_test_df, cls='Rainfall (mm)')\n",
        "# performance on the test set\n",
        "print(f'Test set performance: r2-score={test_r2}, mae={test_mae}, rmse={test_rmse}')"
      ]
    },
    {
      "cell_type": "markdown",
      "metadata": {
        "id": "r0f0shnaTaEd"
      },
      "source": [
        "### 1.2 Apply SelectKBest Feature Selection to Daily Weather Dataset"
      ]
    },
    {
      "cell_type": "code",
      "execution_count": null,
      "metadata": {
        "id": "aP0zT8cDTaEe",
        "colab": {
          "base_uri": "https://localhost:8080/"
        },
        "outputId": "a634ab4f-52fb-408d-b71e-af294f38a779"
      },
      "outputs": [
        {
          "output_type": "stream",
          "name": "stdout",
          "text": [
            "features dropped: ['Max Temp. (degree Celcius)', 'Solar Radiation (cal/cm^2/day)']\n"
          ]
        }
      ],
      "source": [
        "# select features from the train dataset\n",
        "weather_daily_fs2_train_df, cols_to_drop = seleckKBest_fs(weather_daily_train_df, 'Rainfall (mm)', is_regression=True)\n",
        "\n",
        "print('features dropped:', cols_to_drop)\n",
        "\n",
        "# keep only selected features on the test dataset\n",
        "weather_daily_fs2_test_df = weather_daily_test_df.drop(columns=cols_to_drop)"
      ]
    },
    {
      "cell_type": "code",
      "execution_count": null,
      "metadata": {
        "id": "obBlfL4DTaEg",
        "colab": {
          "base_uri": "https://localhost:8080/"
        },
        "outputId": "9bf8c3bc-a90a-4a9c-8110-35c546b7afb0"
      },
      "outputs": [
        {
          "output_type": "stream",
          "name": "stdout",
          "text": [
            "Selected hyperparameters: {'classifier__n_estimators': 180, 'classifier__subsample': 0.5, 'regressor__learning_rate': 0.01, 'regressor__n_estimators': 180}\n",
            "Train set performance: r2-score=0.2403, mae=5.5091, rmse=13.0274\n"
          ]
        }
      ],
      "source": [
        "# train model\n",
        "model, selected_hyperparams, train_r2, train_mae, train_rmse = train_regression(initial_model, param_grid, weather_daily_fs2_train_df, cls='Rainfall (mm)')\n",
        "print(f'Selected hyperparameters: {selected_hyperparams}')\n",
        "# performance on the train set\n",
        "print(f'Train set performance: r2-score={train_r2}, mae={train_mae}, rmse={train_rmse}')"
      ]
    },
    {
      "cell_type": "code",
      "execution_count": null,
      "metadata": {
        "id": "FmIkmj59TaEh"
      },
      "outputs": [],
      "source": [
        "# # r2-scores graph on the train set\n",
        "\n",
        "# # hyper-parameters selected by GridSearchCV\n",
        "# selected_model_params = selected_hyperparams\n",
        "# #selected_model_params['random_state'] = RAND_SEED\n",
        "\n",
        "# showEvalutationGraph_regression(MODEL_CLASS, weather_daily_fs2_train_df, cls='Rainfall (mm)', \n",
        "#                                 x_axis_param_name=x_axis_param_name, x_axis_param_vals=x_axis_vals, \n",
        "#                                 selected_model_params=selected_model_params)"
      ]
    },
    {
      "cell_type": "code",
      "execution_count": 23,
      "metadata": {
        "id": "DFeHpfLrTaEh",
        "colab": {
          "base_uri": "https://localhost:8080/"
        },
        "outputId": "c18a1916-db03-4348-80cd-3dc681c506f8"
      },
      "outputs": [
        {
          "output_type": "stream",
          "name": "stdout",
          "text": [
            "Test set performance: r2-score=-0.1305, mae=6.2186, rmse=18.3845\n"
          ]
        }
      ],
      "source": [
        "# test model\n",
        "test_r2, test_mae, test_rmse = eval_regression(model, weather_daily_fs2_test_df, cls='Rainfall (mm)')\n",
        "# performance on the test set\n",
        "print(f'Test set performance: r2-score={test_r2}, mae={test_mae}, rmse={test_rmse}')"
      ]
    },
    {
      "cell_type": "markdown",
      "metadata": {
        "id": "V4Vicl4dUhtA"
      },
      "source": [
        "### 1.3 Apply SelectSequential Feature Selection to Daily Weather Dataset"
      ]
    },
    {
      "cell_type": "code",
      "execution_count": null,
      "metadata": {
        "id": "gmsQWFWtUhtB"
      },
      "outputs": [],
      "source": [
        "# select features from the train dataset\n",
        "weather_daily_fs3_train_df, cols_to_drop = selectSequential_fs(weather_daily_train_df, 'Rainfall (mm)', is_regression=True)\n",
        "\n",
        "print('features dropped:', cols_to_drop)\n",
        "\n",
        "# keep only selected features on the test dataset\n",
        "weather_daily_fs3_test_df = weather_daily_test_df.drop(columns=cols_to_drop)"
      ]
    },
    {
      "cell_type": "code",
      "execution_count": null,
      "metadata": {
        "id": "qTud3d6gUhtB",
        "colab": {
          "base_uri": "https://localhost:8080/"
        },
        "outputId": "090fb86c-e5e8-49cc-8220-007a68150967"
      },
      "outputs": [
        {
          "output_type": "stream",
          "name": "stdout",
          "text": [
            "Selected hyperparameters: {'classifier__n_estimators': 105, 'classifier__subsample': 0.5, 'regressor__learning_rate': 0.01, 'regressor__n_estimators': 160}\n",
            "Train set performance: r2-score=0.2129, mae=5.6948, rmse=13.2398\n"
          ]
        }
      ],
      "source": [
        "# train model\n",
        "model, selected_hyperparams, train_r2, train_mae, train_rmse = train_regression(initial_model, param_grid, weather_daily_fs3_train_df, cls='Rainfall (mm)')\n",
        "print(f'Selected hyperparameters: {selected_hyperparams}')\n",
        "# performance on the train set\n",
        "print(f'Train set performance: r2-score={train_r2}, mae={train_mae}, rmse={train_rmse}')"
      ]
    },
    {
      "cell_type": "code",
      "execution_count": null,
      "metadata": {
        "id": "OChWCxcRUhtC"
      },
      "outputs": [],
      "source": [
        "# # r2-scores graph on the train set\n",
        "\n",
        "# # hyper-parameters selected by GridSearchCV\n",
        "# selected_model_params = selected_hyperparams\n",
        "# #selected_model_params['random_state'] = RAND_SEED\n",
        "\n",
        "# showEvalutationGraph_regression(MODEL_CLASS, weather_daily_fs3_train_df, cls='Rainfall (mm)', \n",
        "#                                 x_axis_param_name=x_axis_param_name, x_axis_param_vals=x_axis_vals, \n",
        "#                                 selected_model_params=selected_model_params)"
      ]
    },
    {
      "cell_type": "code",
      "execution_count": 24,
      "metadata": {
        "id": "vl3SK-UDUhtD",
        "colab": {
          "base_uri": "https://localhost:8080/"
        },
        "outputId": "9272e944-7883-4930-cb3b-b517d97ca637"
      },
      "outputs": [
        {
          "output_type": "stream",
          "name": "stdout",
          "text": [
            "Test set performance: r2-score=0.1152, mae=6.1534, rmse=16.2643\n"
          ]
        }
      ],
      "source": [
        "# # test model\n",
        "test_r2, test_mae, test_rmse = eval_regression(model, weather_daily_fs3_test_df, cls='Rainfall (mm)')\n",
        "# performance on the test set\n",
        "print(f'Test set performance: r2-score={test_r2}, mae={test_mae}, rmse={test_rmse}')"
      ]
    }
  ],
  "metadata": {
    "colab": {
      "collapsed_sections": [],
      "name": "zero-inflated_regression(XGBoost&LGBMR).ipynb",
      "provenance": []
    },
    "kernelspec": {
      "display_name": "Python 3",
      "language": "python",
      "name": "python3"
    },
    "language_info": {
      "codemirror_mode": {
        "name": "ipython",
        "version": 3
      },
      "file_extension": ".py",
      "mimetype": "text/x-python",
      "name": "python",
      "nbconvert_exporter": "python",
      "pygments_lexer": "ipython3",
      "version": "3.7.10"
    }
  },
  "nbformat": 4,
  "nbformat_minor": 0
}