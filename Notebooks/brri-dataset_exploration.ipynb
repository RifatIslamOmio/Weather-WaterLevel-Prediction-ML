{
 "cells": [
  {
   "cell_type": "code",
   "execution_count": 1,
   "id": "eef76479",
   "metadata": {},
   "outputs": [],
   "source": [
    "# required for jupyter notebook\n",
    "%matplotlib inline \n",
    "\n",
    "import pandas as pd\n",
    "import numpy as np\n",
    "import matplotlib.pyplot as plt\n",
    "\n",
    "import seaborn as sns\n",
    "sns.set(rc={'figure.figsize':(8,6)}) # set sns figure size\n",
    "\n",
    "import os\n",
    "import math"
   ]
  },
  {
   "cell_type": "code",
   "execution_count": 2,
   "id": "3b338ae2",
   "metadata": {},
   "outputs": [
    {
     "data": {
      "text/html": [
       "<div>\n",
       "<style scoped>\n",
       "    .dataframe tbody tr th:only-of-type {\n",
       "        vertical-align: middle;\n",
       "    }\n",
       "\n",
       "    .dataframe tbody tr th {\n",
       "        vertical-align: top;\n",
       "    }\n",
       "\n",
       "    .dataframe thead th {\n",
       "        text-align: right;\n",
       "    }\n",
       "</style>\n",
       "<table border=\"1\" class=\"dataframe\">\n",
       "  <thead>\n",
       "    <tr style=\"text-align: right;\">\n",
       "      <th></th>\n",
       "      <th>Station</th>\n",
       "      <th>Year</th>\n",
       "      <th>Month</th>\n",
       "      <th>Day</th>\n",
       "      <th>Max Temp. (degree Celcius)</th>\n",
       "      <th>Min Temp. (degree Celcius)</th>\n",
       "      <th>Rainfall (mm)</th>\n",
       "      <th>Actual Evaporation (mm)</th>\n",
       "      <th>Relative Humidity (morning, %)</th>\n",
       "      <th>Relative Humidity (afternoon, %)</th>\n",
       "      <th>Sunshine (hour/day)</th>\n",
       "      <th>Cloudy (hour/day)</th>\n",
       "      <th>Solar Radiation (cal/cm^2/day)</th>\n",
       "    </tr>\n",
       "  </thead>\n",
       "  <tbody>\n",
       "    <tr>\n",
       "      <th>0</th>\n",
       "      <td>Barisal</td>\n",
       "      <td>2017</td>\n",
       "      <td>1</td>\n",
       "      <td>1</td>\n",
       "      <td>25.2</td>\n",
       "      <td>13.8</td>\n",
       "      <td>0.0</td>\n",
       "      <td>1.0</td>\n",
       "      <td>94.0</td>\n",
       "      <td>62.0</td>\n",
       "      <td>6.3</td>\n",
       "      <td>4.5</td>\n",
       "      <td>277.72</td>\n",
       "    </tr>\n",
       "    <tr>\n",
       "      <th>1</th>\n",
       "      <td>Barisal</td>\n",
       "      <td>2017</td>\n",
       "      <td>1</td>\n",
       "      <td>2</td>\n",
       "      <td>25.4</td>\n",
       "      <td>13.8</td>\n",
       "      <td>0.0</td>\n",
       "      <td>1.0</td>\n",
       "      <td>94.0</td>\n",
       "      <td>62.0</td>\n",
       "      <td>5.5</td>\n",
       "      <td>5.3</td>\n",
       "      <td>257.52</td>\n",
       "    </tr>\n",
       "    <tr>\n",
       "      <th>2</th>\n",
       "      <td>Barisal</td>\n",
       "      <td>2017</td>\n",
       "      <td>1</td>\n",
       "      <td>3</td>\n",
       "      <td>25.6</td>\n",
       "      <td>13.4</td>\n",
       "      <td>0.0</td>\n",
       "      <td>1.0</td>\n",
       "      <td>94.0</td>\n",
       "      <td>61.0</td>\n",
       "      <td>6.2</td>\n",
       "      <td>4.6</td>\n",
       "      <td>275.2</td>\n",
       "    </tr>\n",
       "    <tr>\n",
       "      <th>3</th>\n",
       "      <td>Barisal</td>\n",
       "      <td>2017</td>\n",
       "      <td>1</td>\n",
       "      <td>4</td>\n",
       "      <td>25.4</td>\n",
       "      <td>14.0</td>\n",
       "      <td>0.0</td>\n",
       "      <td>1.0</td>\n",
       "      <td>94.0</td>\n",
       "      <td>64.0</td>\n",
       "      <td>6.3</td>\n",
       "      <td>4.5</td>\n",
       "      <td>277.72</td>\n",
       "    </tr>\n",
       "    <tr>\n",
       "      <th>4</th>\n",
       "      <td>Barisal</td>\n",
       "      <td>2017</td>\n",
       "      <td>1</td>\n",
       "      <td>5</td>\n",
       "      <td>23.0</td>\n",
       "      <td>13.0</td>\n",
       "      <td>0.0</td>\n",
       "      <td>1.0</td>\n",
       "      <td>94.0</td>\n",
       "      <td>68.0</td>\n",
       "      <td>4.0</td>\n",
       "      <td>6.8</td>\n",
       "      <td>219.63</td>\n",
       "    </tr>\n",
       "  </tbody>\n",
       "</table>\n",
       "</div>"
      ],
      "text/plain": [
       "   Station  Year  Month  Day  Max Temp. (degree Celcius)  \\\n",
       "0  Barisal  2017      1    1                        25.2   \n",
       "1  Barisal  2017      1    2                        25.4   \n",
       "2  Barisal  2017      1    3                        25.6   \n",
       "3  Barisal  2017      1    4                        25.4   \n",
       "4  Barisal  2017      1    5                        23.0   \n",
       "\n",
       "   Min Temp. (degree Celcius)  Rainfall (mm)  Actual Evaporation (mm)  \\\n",
       "0                        13.8            0.0                      1.0   \n",
       "1                        13.8            0.0                      1.0   \n",
       "2                        13.4            0.0                      1.0   \n",
       "3                        14.0            0.0                      1.0   \n",
       "4                        13.0            0.0                      1.0   \n",
       "\n",
       "   Relative Humidity (morning, %)  Relative Humidity (afternoon, %)  \\\n",
       "0                            94.0                              62.0   \n",
       "1                            94.0                              62.0   \n",
       "2                            94.0                              61.0   \n",
       "3                            94.0                              64.0   \n",
       "4                            94.0                              68.0   \n",
       "\n",
       "   Sunshine (hour/day)  Cloudy (hour/day) Solar Radiation (cal/cm^2/day)  \n",
       "0                  6.3                4.5                         277.72  \n",
       "1                  5.5                5.3                         257.52  \n",
       "2                  6.2                4.6                          275.2  \n",
       "3                  6.3                4.5                         277.72  \n",
       "4                  4.0                6.8                         219.63  "
      ]
     },
     "execution_count": 2,
     "metadata": {},
     "output_type": "execute_result"
    }
   ],
   "source": [
    "# read raw csv by marking dropping missing values\n",
    "missing_values = ['NIL', 'nil', '']\n",
    "raw_df = pd.read_csv(os.path.join('..', 'Datasets', 'brri-datasets', 'all-station_raw.csv'), \n",
    "                     na_values=missing_values)\n",
    "\n",
    "raw_df.head()"
   ]
  },
  {
   "cell_type": "code",
   "execution_count": 3,
   "id": "27ea3c87",
   "metadata": {},
   "outputs": [
    {
     "name": "stdout",
     "output_type": "stream",
     "text": [
      "<class 'pandas.core.frame.DataFrame'>\n",
      "RangeIndex: 4954 entries, 0 to 4953\n",
      "Data columns (total 13 columns):\n",
      " #   Column                            Non-Null Count  Dtype  \n",
      "---  ------                            --------------  -----  \n",
      " 0   Station                           4954 non-null   object \n",
      " 1   Year                              4954 non-null   int64  \n",
      " 2   Month                             4954 non-null   int64  \n",
      " 3   Day                               4954 non-null   int64  \n",
      " 4   Max Temp. (degree Celcius)        4948 non-null   float64\n",
      " 5   Min Temp. (degree Celcius)        4948 non-null   float64\n",
      " 6   Rainfall (mm)                     4820 non-null   float64\n",
      " 7   Actual Evaporation (mm)           4436 non-null   float64\n",
      " 8   Relative Humidity (morning, %)    4950 non-null   float64\n",
      " 9   Relative Humidity (afternoon, %)  4918 non-null   float64\n",
      " 10  Sunshine (hour/day)               4939 non-null   float64\n",
      " 11  Cloudy (hour/day)                 4767 non-null   float64\n",
      " 12  Solar Radiation (cal/cm^2/day)    4948 non-null   object \n",
      "dtypes: float64(8), int64(3), object(2)\n",
      "memory usage: 503.3+ KB\n"
     ]
    }
   ],
   "source": [
    "raw_df.info()"
   ]
  },
  {
   "cell_type": "code",
   "execution_count": 4,
   "id": "b9261045",
   "metadata": {},
   "outputs": [
    {
     "data": {
      "text/html": [
       "<div>\n",
       "<style scoped>\n",
       "    .dataframe tbody tr th:only-of-type {\n",
       "        vertical-align: middle;\n",
       "    }\n",
       "\n",
       "    .dataframe tbody tr th {\n",
       "        vertical-align: top;\n",
       "    }\n",
       "\n",
       "    .dataframe thead th {\n",
       "        text-align: right;\n",
       "    }\n",
       "</style>\n",
       "<table border=\"1\" class=\"dataframe\">\n",
       "  <thead>\n",
       "    <tr style=\"text-align: right;\">\n",
       "      <th></th>\n",
       "      <th>Station</th>\n",
       "      <th>Year</th>\n",
       "      <th>Month</th>\n",
       "      <th>Day</th>\n",
       "      <th>Max Temp. (degree Celcius)</th>\n",
       "      <th>Min Temp. (degree Celcius)</th>\n",
       "      <th>Rainfall (mm)</th>\n",
       "      <th>Actual Evaporation (mm)</th>\n",
       "      <th>Relative Humidity (morning, %)</th>\n",
       "      <th>Relative Humidity (afternoon, %)</th>\n",
       "      <th>...</th>\n",
       "      <th>Unnamed: 28</th>\n",
       "      <th>Unnamed: 29</th>\n",
       "      <th>Unnamed: 30</th>\n",
       "      <th>Unnamed: 31</th>\n",
       "      <th>Unnamed: 32</th>\n",
       "      <th>Unnamed: 33</th>\n",
       "      <th>Unnamed: 34</th>\n",
       "      <th>Unnamed: 35</th>\n",
       "      <th>Unnamed: 36</th>\n",
       "      <th>Unnamed: 37</th>\n",
       "    </tr>\n",
       "  </thead>\n",
       "  <tbody>\n",
       "    <tr>\n",
       "      <th>0</th>\n",
       "      <td>Gazipur</td>\n",
       "      <td>2016</td>\n",
       "      <td>1</td>\n",
       "      <td>1</td>\n",
       "      <td>27.2</td>\n",
       "      <td>14.2</td>\n",
       "      <td>0.0</td>\n",
       "      <td>1.0</td>\n",
       "      <td>89.0</td>\n",
       "      <td>58.0</td>\n",
       "      <td>...</td>\n",
       "      <td>NaN</td>\n",
       "      <td>NaN</td>\n",
       "      <td>NaN</td>\n",
       "      <td>NaN</td>\n",
       "      <td>NaN</td>\n",
       "      <td>NaN</td>\n",
       "      <td>NaN</td>\n",
       "      <td>NaN</td>\n",
       "      <td>NaN</td>\n",
       "      <td>NaN</td>\n",
       "    </tr>\n",
       "    <tr>\n",
       "      <th>1</th>\n",
       "      <td>NaN</td>\n",
       "      <td>2016</td>\n",
       "      <td>1</td>\n",
       "      <td>2</td>\n",
       "      <td>27.6</td>\n",
       "      <td>13.0</td>\n",
       "      <td>0.0</td>\n",
       "      <td>2.0</td>\n",
       "      <td>71.0</td>\n",
       "      <td>52.0</td>\n",
       "      <td>...</td>\n",
       "      <td>NaN</td>\n",
       "      <td>NaN</td>\n",
       "      <td>NaN</td>\n",
       "      <td>NaN</td>\n",
       "      <td>NaN</td>\n",
       "      <td>NaN</td>\n",
       "      <td>NaN</td>\n",
       "      <td>NaN</td>\n",
       "      <td>NaN</td>\n",
       "      <td>NaN</td>\n",
       "    </tr>\n",
       "    <tr>\n",
       "      <th>2</th>\n",
       "      <td>NaN</td>\n",
       "      <td>2016</td>\n",
       "      <td>1</td>\n",
       "      <td>3</td>\n",
       "      <td>25.7</td>\n",
       "      <td>12.8</td>\n",
       "      <td>0.0</td>\n",
       "      <td>2.0</td>\n",
       "      <td>89.0</td>\n",
       "      <td>58.0</td>\n",
       "      <td>...</td>\n",
       "      <td>NaN</td>\n",
       "      <td>NaN</td>\n",
       "      <td>NaN</td>\n",
       "      <td>NaN</td>\n",
       "      <td>NaN</td>\n",
       "      <td>NaN</td>\n",
       "      <td>NaN</td>\n",
       "      <td>NaN</td>\n",
       "      <td>NaN</td>\n",
       "      <td>NaN</td>\n",
       "    </tr>\n",
       "    <tr>\n",
       "      <th>3</th>\n",
       "      <td>NaN</td>\n",
       "      <td>2016</td>\n",
       "      <td>1</td>\n",
       "      <td>4</td>\n",
       "      <td>26.8</td>\n",
       "      <td>14.0</td>\n",
       "      <td>0.0</td>\n",
       "      <td>2.0</td>\n",
       "      <td>84.0</td>\n",
       "      <td>58.0</td>\n",
       "      <td>...</td>\n",
       "      <td>NaN</td>\n",
       "      <td>NaN</td>\n",
       "      <td>NaN</td>\n",
       "      <td>NaN</td>\n",
       "      <td>NaN</td>\n",
       "      <td>NaN</td>\n",
       "      <td>NaN</td>\n",
       "      <td>NaN</td>\n",
       "      <td>NaN</td>\n",
       "      <td>NaN</td>\n",
       "    </tr>\n",
       "    <tr>\n",
       "      <th>4</th>\n",
       "      <td>NaN</td>\n",
       "      <td>2016</td>\n",
       "      <td>1</td>\n",
       "      <td>5</td>\n",
       "      <td>26.4</td>\n",
       "      <td>14.8</td>\n",
       "      <td>0.0</td>\n",
       "      <td>2.0</td>\n",
       "      <td>78.0</td>\n",
       "      <td>50.0</td>\n",
       "      <td>...</td>\n",
       "      <td>NaN</td>\n",
       "      <td>NaN</td>\n",
       "      <td>NaN</td>\n",
       "      <td>NaN</td>\n",
       "      <td>NaN</td>\n",
       "      <td>NaN</td>\n",
       "      <td>NaN</td>\n",
       "      <td>NaN</td>\n",
       "      <td>NaN</td>\n",
       "      <td>NaN</td>\n",
       "    </tr>\n",
       "  </tbody>\n",
       "</table>\n",
       "<p>5 rows × 38 columns</p>\n",
       "</div>"
      ],
      "text/plain": [
       "   Station  Year  Month  Day  Max Temp. (degree Celcius)  \\\n",
       "0  Gazipur  2016      1    1                        27.2   \n",
       "1      NaN  2016      1    2                        27.6   \n",
       "2      NaN  2016      1    3                        25.7   \n",
       "3      NaN  2016      1    4                        26.8   \n",
       "4      NaN  2016      1    5                        26.4   \n",
       "\n",
       "   Min Temp. (degree Celcius)  Rainfall (mm)  Actual Evaporation (mm)  \\\n",
       "0                        14.2            0.0                      1.0   \n",
       "1                        13.0            0.0                      2.0   \n",
       "2                        12.8            0.0                      2.0   \n",
       "3                        14.0            0.0                      2.0   \n",
       "4                        14.8            0.0                      2.0   \n",
       "\n",
       "   Relative Humidity (morning, %)  Relative Humidity (afternoon, %)  ...  \\\n",
       "0                            89.0                              58.0  ...   \n",
       "1                            71.0                              52.0  ...   \n",
       "2                            89.0                              58.0  ...   \n",
       "3                            84.0                              58.0  ...   \n",
       "4                            78.0                              50.0  ...   \n",
       "\n",
       "   Unnamed: 28  Unnamed: 29  Unnamed: 30  Unnamed: 31  Unnamed: 32  \\\n",
       "0          NaN          NaN          NaN          NaN          NaN   \n",
       "1          NaN          NaN          NaN          NaN          NaN   \n",
       "2          NaN          NaN          NaN          NaN          NaN   \n",
       "3          NaN          NaN          NaN          NaN          NaN   \n",
       "4          NaN          NaN          NaN          NaN          NaN   \n",
       "\n",
       "   Unnamed: 33  Unnamed: 34  Unnamed: 35  Unnamed: 36  Unnamed: 37  \n",
       "0          NaN          NaN          NaN          NaN          NaN  \n",
       "1          NaN          NaN          NaN          NaN          NaN  \n",
       "2          NaN          NaN          NaN          NaN          NaN  \n",
       "3          NaN          NaN          NaN          NaN          NaN  \n",
       "4          NaN          NaN          NaN          NaN          NaN  \n",
       "\n",
       "[5 rows x 38 columns]"
      ]
     },
     "execution_count": 4,
     "metadata": {},
     "output_type": "execute_result"
    }
   ],
   "source": [
    "# read Gazipur raw csv by marking dropping missing values\n",
    "gazipur_raw_df = pd.read_csv(os.path.join('..', 'Datasets', 'brri-datasets', 'gazipur_2016-2020', 'gazipur.csv'), \n",
    "                     na_values=missing_values)\n",
    "\n",
    "gazipur_raw_df.head()"
   ]
  },
  {
   "cell_type": "code",
   "execution_count": 5,
   "id": "b3ac0ee0",
   "metadata": {},
   "outputs": [
    {
     "data": {
      "text/html": [
       "<div>\n",
       "<style scoped>\n",
       "    .dataframe tbody tr th:only-of-type {\n",
       "        vertical-align: middle;\n",
       "    }\n",
       "\n",
       "    .dataframe tbody tr th {\n",
       "        vertical-align: top;\n",
       "    }\n",
       "\n",
       "    .dataframe thead th {\n",
       "        text-align: right;\n",
       "    }\n",
       "</style>\n",
       "<table border=\"1\" class=\"dataframe\">\n",
       "  <thead>\n",
       "    <tr style=\"text-align: right;\">\n",
       "      <th></th>\n",
       "      <th>Station</th>\n",
       "      <th>Year</th>\n",
       "      <th>Month</th>\n",
       "      <th>Day</th>\n",
       "      <th>Max Temp. (degree Celcius)</th>\n",
       "      <th>Min Temp. (degree Celcius)</th>\n",
       "      <th>Rainfall (mm)</th>\n",
       "      <th>Actual Evaporation (mm)</th>\n",
       "      <th>Relative Humidity (morning, %)</th>\n",
       "      <th>Relative Humidity (afternoon, %)</th>\n",
       "      <th>Sunshine (hour/day)</th>\n",
       "      <th>Cloudy (hour/day)</th>\n",
       "      <th>Solar Radiation (cal/cm^2/day)</th>\n",
       "    </tr>\n",
       "  </thead>\n",
       "  <tbody>\n",
       "    <tr>\n",
       "      <th>0</th>\n",
       "      <td>Rangpur</td>\n",
       "      <td>2017</td>\n",
       "      <td>7</td>\n",
       "      <td>1</td>\n",
       "      <td>33.5</td>\n",
       "      <td>25.3</td>\n",
       "      <td>49.0</td>\n",
       "      <td>2.0</td>\n",
       "      <td>95.0</td>\n",
       "      <td>96</td>\n",
       "      <td>0.0</td>\n",
       "      <td>13.5</td>\n",
       "      <td>188.60</td>\n",
       "    </tr>\n",
       "    <tr>\n",
       "      <th>1</th>\n",
       "      <td>NaN</td>\n",
       "      <td>2017</td>\n",
       "      <td>7</td>\n",
       "      <td>2</td>\n",
       "      <td>27.5</td>\n",
       "      <td>25.2</td>\n",
       "      <td>37.6</td>\n",
       "      <td>3.0</td>\n",
       "      <td>91.0</td>\n",
       "      <td>84</td>\n",
       "      <td>6.0</td>\n",
       "      <td>7.5</td>\n",
       "      <td>381.39</td>\n",
       "    </tr>\n",
       "    <tr>\n",
       "      <th>2</th>\n",
       "      <td>NaN</td>\n",
       "      <td>2017</td>\n",
       "      <td>7</td>\n",
       "      <td>3</td>\n",
       "      <td>30.6</td>\n",
       "      <td>26.8</td>\n",
       "      <td>0.0</td>\n",
       "      <td>3.0</td>\n",
       "      <td>83.0</td>\n",
       "      <td>80</td>\n",
       "      <td>2.3</td>\n",
       "      <td>11.2</td>\n",
       "      <td>262.50</td>\n",
       "    </tr>\n",
       "    <tr>\n",
       "      <th>3</th>\n",
       "      <td>NaN</td>\n",
       "      <td>2017</td>\n",
       "      <td>7</td>\n",
       "      <td>4</td>\n",
       "      <td>30.8</td>\n",
       "      <td>26.2</td>\n",
       "      <td>32.3</td>\n",
       "      <td>3.0</td>\n",
       "      <td>96.0</td>\n",
       "      <td>87</td>\n",
       "      <td>0.0</td>\n",
       "      <td>13.5</td>\n",
       "      <td>188.60</td>\n",
       "    </tr>\n",
       "    <tr>\n",
       "      <th>4</th>\n",
       "      <td>NaN</td>\n",
       "      <td>2017</td>\n",
       "      <td>7</td>\n",
       "      <td>5</td>\n",
       "      <td>28.8</td>\n",
       "      <td>26.4</td>\n",
       "      <td>0.0</td>\n",
       "      <td>3.0</td>\n",
       "      <td>87.0</td>\n",
       "      <td>80</td>\n",
       "      <td>3.3</td>\n",
       "      <td>10.2</td>\n",
       "      <td>294.63</td>\n",
       "    </tr>\n",
       "  </tbody>\n",
       "</table>\n",
       "</div>"
      ],
      "text/plain": [
       "   Station  Year  Month  Day  Max Temp. (degree Celcius)  \\\n",
       "0  Rangpur  2017      7    1                        33.5   \n",
       "1      NaN  2017      7    2                        27.5   \n",
       "2      NaN  2017      7    3                        30.6   \n",
       "3      NaN  2017      7    4                        30.8   \n",
       "4      NaN  2017      7    5                        28.8   \n",
       "\n",
       "   Min Temp. (degree Celcius)  Rainfall (mm)  Actual Evaporation (mm)  \\\n",
       "0                        25.3           49.0                      2.0   \n",
       "1                        25.2           37.6                      3.0   \n",
       "2                        26.8            0.0                      3.0   \n",
       "3                        26.2           32.3                      3.0   \n",
       "4                        26.4            0.0                      3.0   \n",
       "\n",
       "   Relative Humidity (morning, %)  Relative Humidity (afternoon, %)  \\\n",
       "0                            95.0                                96   \n",
       "1                            91.0                                84   \n",
       "2                            83.0                                80   \n",
       "3                            96.0                                87   \n",
       "4                            87.0                                80   \n",
       "\n",
       "   Sunshine (hour/day)  Cloudy (hour/day)  Solar Radiation (cal/cm^2/day)  \n",
       "0                  0.0               13.5                          188.60  \n",
       "1                  6.0                7.5                          381.39  \n",
       "2                  2.3               11.2                          262.50  \n",
       "3                  0.0               13.5                          188.60  \n",
       "4                  3.3               10.2                          294.63  "
      ]
     },
     "execution_count": 5,
     "metadata": {},
     "output_type": "execute_result"
    }
   ],
   "source": [
    "# read Rangpur raw csv by marking dropping missing values\n",
    "rangpur_raw_df = pd.read_csv(os.path.join('..', 'Datasets', 'brri-datasets', 'rangpur_mid2017-2020', 'rangpur.csv'), \n",
    "                     na_values=missing_values)\n",
    "\n",
    "rangpur_raw_df.head()"
   ]
  },
  {
   "cell_type": "code",
   "execution_count": 6,
   "id": "4c50d186",
   "metadata": {},
   "outputs": [
    {
     "data": {
      "text/html": [
       "<div>\n",
       "<style scoped>\n",
       "    .dataframe tbody tr th:only-of-type {\n",
       "        vertical-align: middle;\n",
       "    }\n",
       "\n",
       "    .dataframe tbody tr th {\n",
       "        vertical-align: top;\n",
       "    }\n",
       "\n",
       "    .dataframe thead th {\n",
       "        text-align: right;\n",
       "    }\n",
       "</style>\n",
       "<table border=\"1\" class=\"dataframe\">\n",
       "  <thead>\n",
       "    <tr style=\"text-align: right;\">\n",
       "      <th></th>\n",
       "      <th>Station</th>\n",
       "      <th>Year</th>\n",
       "      <th>Month</th>\n",
       "      <th>Day</th>\n",
       "      <th>Max Temp. (degree Celcius)</th>\n",
       "      <th>Min Temp. (degree Celcius)</th>\n",
       "      <th>Rainfall (mm)</th>\n",
       "      <th>Actual Evaporation (mm)</th>\n",
       "      <th>Relative Humidity (morning, %)</th>\n",
       "      <th>Relative Humidity (afternoon, %)</th>\n",
       "      <th>Sunshine (hour/day)</th>\n",
       "      <th>Cloudy (hour/day)</th>\n",
       "      <th>Solar Radiation (cal/cm^2/day)</th>\n",
       "    </tr>\n",
       "  </thead>\n",
       "  <tbody>\n",
       "    <tr>\n",
       "      <th>0</th>\n",
       "      <td>Barisal</td>\n",
       "      <td>2017</td>\n",
       "      <td>1</td>\n",
       "      <td>1</td>\n",
       "      <td>25.2</td>\n",
       "      <td>13.8</td>\n",
       "      <td>0.0</td>\n",
       "      <td>1.0</td>\n",
       "      <td>94</td>\n",
       "      <td>62.0</td>\n",
       "      <td>6.3</td>\n",
       "      <td>4.5</td>\n",
       "      <td>277.72</td>\n",
       "    </tr>\n",
       "    <tr>\n",
       "      <th>1</th>\n",
       "      <td>NaN</td>\n",
       "      <td>2017</td>\n",
       "      <td>1</td>\n",
       "      <td>2</td>\n",
       "      <td>25.4</td>\n",
       "      <td>13.8</td>\n",
       "      <td>0.0</td>\n",
       "      <td>1.0</td>\n",
       "      <td>94</td>\n",
       "      <td>62.0</td>\n",
       "      <td>5.5</td>\n",
       "      <td>5.3</td>\n",
       "      <td>257.52</td>\n",
       "    </tr>\n",
       "    <tr>\n",
       "      <th>2</th>\n",
       "      <td>NaN</td>\n",
       "      <td>2017</td>\n",
       "      <td>1</td>\n",
       "      <td>3</td>\n",
       "      <td>25.6</td>\n",
       "      <td>13.4</td>\n",
       "      <td>0.0</td>\n",
       "      <td>1.0</td>\n",
       "      <td>94</td>\n",
       "      <td>61.0</td>\n",
       "      <td>6.2</td>\n",
       "      <td>4.6</td>\n",
       "      <td>275.2</td>\n",
       "    </tr>\n",
       "    <tr>\n",
       "      <th>3</th>\n",
       "      <td>NaN</td>\n",
       "      <td>2017</td>\n",
       "      <td>1</td>\n",
       "      <td>4</td>\n",
       "      <td>25.4</td>\n",
       "      <td>14.0</td>\n",
       "      <td>0.0</td>\n",
       "      <td>1.0</td>\n",
       "      <td>94</td>\n",
       "      <td>64.0</td>\n",
       "      <td>6.3</td>\n",
       "      <td>4.5</td>\n",
       "      <td>277.72</td>\n",
       "    </tr>\n",
       "    <tr>\n",
       "      <th>4</th>\n",
       "      <td>NaN</td>\n",
       "      <td>2017</td>\n",
       "      <td>1</td>\n",
       "      <td>5</td>\n",
       "      <td>23.0</td>\n",
       "      <td>13.0</td>\n",
       "      <td>0.0</td>\n",
       "      <td>1.0</td>\n",
       "      <td>94</td>\n",
       "      <td>68.0</td>\n",
       "      <td>4.0</td>\n",
       "      <td>6.8</td>\n",
       "      <td>219.63</td>\n",
       "    </tr>\n",
       "  </tbody>\n",
       "</table>\n",
       "</div>"
      ],
      "text/plain": [
       "   Station  Year  Month  Day  Max Temp. (degree Celcius)  \\\n",
       "0  Barisal  2017      1    1                        25.2   \n",
       "1      NaN  2017      1    2                        25.4   \n",
       "2      NaN  2017      1    3                        25.6   \n",
       "3      NaN  2017      1    4                        25.4   \n",
       "4      NaN  2017      1    5                        23.0   \n",
       "\n",
       "   Min Temp. (degree Celcius)  Rainfall (mm)  Actual Evaporation (mm)  \\\n",
       "0                        13.8            0.0                      1.0   \n",
       "1                        13.8            0.0                      1.0   \n",
       "2                        13.4            0.0                      1.0   \n",
       "3                        14.0            0.0                      1.0   \n",
       "4                        13.0            0.0                      1.0   \n",
       "\n",
       "   Relative Humidity (morning, %)  Relative Humidity (afternoon, %)  \\\n",
       "0                              94                              62.0   \n",
       "1                              94                              62.0   \n",
       "2                              94                              61.0   \n",
       "3                              94                              64.0   \n",
       "4                              94                              68.0   \n",
       "\n",
       "   Sunshine (hour/day)  Cloudy (hour/day) Solar Radiation (cal/cm^2/day)  \n",
       "0                  6.3                4.5                         277.72  \n",
       "1                  5.5                5.3                         257.52  \n",
       "2                  6.2                4.6                          275.2  \n",
       "3                  6.3                4.5                         277.72  \n",
       "4                  4.0                6.8                         219.63  "
      ]
     },
     "execution_count": 6,
     "metadata": {},
     "output_type": "execute_result"
    }
   ],
   "source": [
    "# read Barisal raw csv by marking dropping missing values\n",
    "barisal_raw_df = pd.read_csv(os.path.join('..', 'Datasets', 'brri-datasets', 'barisal_2017-2020', 'barisal.csv'), \n",
    "                     na_values=missing_values)\n",
    "\n",
    "barisal_raw_df.head()"
   ]
  },
  {
   "cell_type": "code",
   "execution_count": 7,
   "id": "d00c6490",
   "metadata": {},
   "outputs": [
    {
     "data": {
      "text/html": [
       "<div>\n",
       "<style scoped>\n",
       "    .dataframe tbody tr th:only-of-type {\n",
       "        vertical-align: middle;\n",
       "    }\n",
       "\n",
       "    .dataframe tbody tr th {\n",
       "        vertical-align: top;\n",
       "    }\n",
       "\n",
       "    .dataframe thead th {\n",
       "        text-align: right;\n",
       "    }\n",
       "</style>\n",
       "<table border=\"1\" class=\"dataframe\">\n",
       "  <thead>\n",
       "    <tr style=\"text-align: right;\">\n",
       "      <th></th>\n",
       "      <th>Station</th>\n",
       "      <th>Year</th>\n",
       "      <th>Month</th>\n",
       "      <th>Day</th>\n",
       "      <th>Max Temp. (degree Celcius)</th>\n",
       "      <th>Min Temp. (degree Celcius)</th>\n",
       "      <th>Rainfall (mm)</th>\n",
       "      <th>Actual Evaporation (mm)</th>\n",
       "      <th>Relative Humidity (morning, %)</th>\n",
       "      <th>Relative Humidity (afternoon, %)</th>\n",
       "      <th>Sunshine (hour/day)</th>\n",
       "      <th>Cloudy (hour/day)</th>\n",
       "      <th>Solar Radiation (cal/cm^2/day)</th>\n",
       "      <th>Unnamed: 13</th>\n",
       "      <th>Unnamed: 14</th>\n",
       "    </tr>\n",
       "  </thead>\n",
       "  <tbody>\n",
       "    <tr>\n",
       "      <th>0</th>\n",
       "      <td>Habiganj</td>\n",
       "      <td>2019</td>\n",
       "      <td>1</td>\n",
       "      <td>1</td>\n",
       "      <td>27.8</td>\n",
       "      <td>12.8</td>\n",
       "      <td>0.0</td>\n",
       "      <td>NaN</td>\n",
       "      <td>84</td>\n",
       "      <td>72</td>\n",
       "      <td>8.8</td>\n",
       "      <td>1.9</td>\n",
       "      <td>331.38</td>\n",
       "      <td>NaN</td>\n",
       "      <td>NaN</td>\n",
       "    </tr>\n",
       "    <tr>\n",
       "      <th>1</th>\n",
       "      <td>NaN</td>\n",
       "      <td>2019</td>\n",
       "      <td>1</td>\n",
       "      <td>2</td>\n",
       "      <td>27.1</td>\n",
       "      <td>13.2</td>\n",
       "      <td>0.0</td>\n",
       "      <td>NaN</td>\n",
       "      <td>89</td>\n",
       "      <td>74</td>\n",
       "      <td>7.8</td>\n",
       "      <td>2.9</td>\n",
       "      <td>306.74</td>\n",
       "      <td>NaN</td>\n",
       "      <td>NaN</td>\n",
       "    </tr>\n",
       "    <tr>\n",
       "      <th>2</th>\n",
       "      <td>NaN</td>\n",
       "      <td>2019</td>\n",
       "      <td>1</td>\n",
       "      <td>3</td>\n",
       "      <td>27.2</td>\n",
       "      <td>13.5</td>\n",
       "      <td>0.0</td>\n",
       "      <td>NaN</td>\n",
       "      <td>94</td>\n",
       "      <td>59</td>\n",
       "      <td>8.5</td>\n",
       "      <td>2.2</td>\n",
       "      <td>323.98</td>\n",
       "      <td>NaN</td>\n",
       "      <td>NaN</td>\n",
       "    </tr>\n",
       "    <tr>\n",
       "      <th>3</th>\n",
       "      <td>NaN</td>\n",
       "      <td>2019</td>\n",
       "      <td>1</td>\n",
       "      <td>4</td>\n",
       "      <td>26.2</td>\n",
       "      <td>15.5</td>\n",
       "      <td>0.0</td>\n",
       "      <td>NaN</td>\n",
       "      <td>89</td>\n",
       "      <td>70</td>\n",
       "      <td>8.4</td>\n",
       "      <td>2.3</td>\n",
       "      <td>321.52</td>\n",
       "      <td>NaN</td>\n",
       "      <td>NaN</td>\n",
       "    </tr>\n",
       "    <tr>\n",
       "      <th>4</th>\n",
       "      <td>NaN</td>\n",
       "      <td>2019</td>\n",
       "      <td>1</td>\n",
       "      <td>5</td>\n",
       "      <td>20.5</td>\n",
       "      <td>12.8</td>\n",
       "      <td>0.0</td>\n",
       "      <td>NaN</td>\n",
       "      <td>84</td>\n",
       "      <td>58</td>\n",
       "      <td>8.7</td>\n",
       "      <td>2.0</td>\n",
       "      <td>328.91</td>\n",
       "      <td>NaN</td>\n",
       "      <td>NaN</td>\n",
       "    </tr>\n",
       "  </tbody>\n",
       "</table>\n",
       "</div>"
      ],
      "text/plain": [
       "    Station  Year  Month  Day  Max Temp. (degree Celcius)  \\\n",
       "0  Habiganj  2019      1    1                        27.8   \n",
       "1       NaN  2019      1    2                        27.1   \n",
       "2       NaN  2019      1    3                        27.2   \n",
       "3       NaN  2019      1    4                        26.2   \n",
       "4       NaN  2019      1    5                        20.5   \n",
       "\n",
       "   Min Temp. (degree Celcius)  Rainfall (mm)  Actual Evaporation (mm)  \\\n",
       "0                        12.8            0.0                      NaN   \n",
       "1                        13.2            0.0                      NaN   \n",
       "2                        13.5            0.0                      NaN   \n",
       "3                        15.5            0.0                      NaN   \n",
       "4                        12.8            0.0                      NaN   \n",
       "\n",
       "   Relative Humidity (morning, %)  Relative Humidity (afternoon, %)  \\\n",
       "0                              84                                72   \n",
       "1                              89                                74   \n",
       "2                              94                                59   \n",
       "3                              89                                70   \n",
       "4                              84                                58   \n",
       "\n",
       "   Sunshine (hour/day)  Cloudy (hour/day)  Solar Radiation (cal/cm^2/day)  \\\n",
       "0                  8.8                1.9                          331.38   \n",
       "1                  7.8                2.9                          306.74   \n",
       "2                  8.5                2.2                          323.98   \n",
       "3                  8.4                2.3                          321.52   \n",
       "4                  8.7                2.0                          328.91   \n",
       "\n",
       "   Unnamed: 13  Unnamed: 14  \n",
       "0          NaN          NaN  \n",
       "1          NaN          NaN  \n",
       "2          NaN          NaN  \n",
       "3          NaN          NaN  \n",
       "4          NaN          NaN  "
      ]
     },
     "execution_count": 7,
     "metadata": {},
     "output_type": "execute_result"
    }
   ],
   "source": [
    "# read Habiganj raw csv by marking dropping missing values\n",
    "habiganj_raw_df = pd.read_csv(os.path.join('..', 'Datasets', 'brri-datasets', 'habiganj_2019-2020', 'habiganj.csv'), \n",
    "                     na_values=missing_values)\n",
    "\n",
    "habiganj_raw_df.head()"
   ]
  },
  {
   "cell_type": "code",
   "execution_count": 8,
   "id": "0d9da850",
   "metadata": {},
   "outputs": [],
   "source": [
    "def get_val_freq_map(df, column):\n",
    "    '''\n",
    "    get map of value counts of a dataframe for a particular column\n",
    "    '''\n",
    "    mp = {}\n",
    "    for val in raw_df[column]:\n",
    "        if val in mp:\n",
    "            mp[val]+=1\n",
    "        else:\n",
    "            mp[val]=1\n",
    "    return mp"
   ]
  },
  {
   "cell_type": "markdown",
   "id": "261d2799",
   "metadata": {},
   "source": [
    "# Analyze all station Rainfall data"
   ]
  },
  {
   "cell_type": "code",
   "execution_count": 9,
   "id": "95bd838e",
   "metadata": {},
   "outputs": [],
   "source": [
    "rainfall_column = 'Rainfall (mm)'"
   ]
  },
  {
   "cell_type": "code",
   "execution_count": 10,
   "id": "4fbddc67",
   "metadata": {},
   "outputs": [
    {
     "data": {
      "text/html": [
       "<div>\n",
       "<style scoped>\n",
       "    .dataframe tbody tr th:only-of-type {\n",
       "        vertical-align: middle;\n",
       "    }\n",
       "\n",
       "    .dataframe tbody tr th {\n",
       "        vertical-align: top;\n",
       "    }\n",
       "\n",
       "    .dataframe thead th {\n",
       "        text-align: right;\n",
       "    }\n",
       "</style>\n",
       "<table border=\"1\" class=\"dataframe\">\n",
       "  <thead>\n",
       "    <tr style=\"text-align: right;\">\n",
       "      <th></th>\n",
       "      <th>Rainfall (mm)</th>\n",
       "    </tr>\n",
       "  </thead>\n",
       "  <tbody>\n",
       "    <tr>\n",
       "      <th>0</th>\n",
       "      <td>0.0</td>\n",
       "    </tr>\n",
       "    <tr>\n",
       "      <th>1</th>\n",
       "      <td>0.0</td>\n",
       "    </tr>\n",
       "    <tr>\n",
       "      <th>2</th>\n",
       "      <td>0.0</td>\n",
       "    </tr>\n",
       "    <tr>\n",
       "      <th>3</th>\n",
       "      <td>0.0</td>\n",
       "    </tr>\n",
       "    <tr>\n",
       "      <th>4</th>\n",
       "      <td>0.0</td>\n",
       "    </tr>\n",
       "  </tbody>\n",
       "</table>\n",
       "</div>"
      ],
      "text/plain": [
       "   Rainfall (mm)\n",
       "0            0.0\n",
       "1            0.0\n",
       "2            0.0\n",
       "3            0.0\n",
       "4            0.0"
      ]
     },
     "execution_count": 10,
     "metadata": {},
     "output_type": "execute_result"
    }
   ],
   "source": [
    "rainfall_df = raw_df[[rainfall_column]].copy()\n",
    "rainfall_df.head()"
   ]
  },
  {
   "cell_type": "code",
   "execution_count": 11,
   "id": "5953d494",
   "metadata": {},
   "outputs": [
    {
     "data": {
      "text/plain": [
       "Rainfall (mm)\n",
       "0.0              3280\n",
       "2.0                46\n",
       "1.0                36\n",
       "1.2                34\n",
       "0.6                32\n",
       "                 ... \n",
       "39.2                1\n",
       "39.6                1\n",
       "39.8                1\n",
       "40.2                1\n",
       "265.0               1\n",
       "Length: 391, dtype: int64"
      ]
     },
     "execution_count": 11,
     "metadata": {},
     "output_type": "execute_result"
    }
   ],
   "source": [
    "rainfall_df.value_counts()"
   ]
  },
  {
   "cell_type": "code",
   "execution_count": 12,
   "id": "6d3f40d1",
   "metadata": {},
   "outputs": [
    {
     "name": "stdout",
     "output_type": "stream",
     "text": [
      "Rainfall (mm)    265.0\n",
      "dtype: float64\n"
     ]
    }
   ],
   "source": [
    "print(rainfall_df.max())"
   ]
  },
  {
   "cell_type": "code",
   "execution_count": 13,
   "id": "30fa46e5",
   "metadata": {},
   "outputs": [
    {
     "data": {
      "text/plain": [
       "<AxesSubplot:>"
      ]
     },
     "execution_count": 13,
     "metadata": {},
     "output_type": "execute_result"
    },
    {
     "data": {
      "image/png": "[encoded data removed]",
      "text/plain": [
       "<Figure size 576x432 with 1 Axes>"
      ]
     },
     "metadata": {},
     "output_type": "display_data"
    }
   ],
   "source": [
    "rainfall_df[rainfall_column].hist(bins=10)"
   ]
  },
  {
   "cell_type": "code",
   "execution_count": 14,
   "id": "c2ab9caf",
   "metadata": {},
   "outputs": [],
   "source": [
    "def group_column_vals(df, column, diff=10):\n",
    "    group_labels = []\n",
    "    group_freqs = []\n",
    "\n",
    "    length = math.ceil(df[column].max()/diff)\n",
    "\n",
    "    for i in range(length+1):\n",
    "        group_freqs.append(0)\n",
    "        if i==0:\n",
    "            group_labels.append('0')\n",
    "        else:\n",
    "            group_labels.append(str(1+(i-1)*diff) + '-' + str(i*diff))\n",
    "\n",
    "    for val in df[column]:\n",
    "        if math.isnan(val):\n",
    "            continue\n",
    "        group_freqs[math.ceil(val/diff)]+=1\n",
    "    \n",
    "    mp = {}\n",
    "    total_freq = sum(group_freqs)\n",
    "    for i in range(length+1):\n",
    "        # store percantage of each group\n",
    "        mp[group_labels[i]] = round((group_freqs[i]/total_freq) * 100, 2) \n",
    "        \n",
    "    return mp"
   ]
  },
  {
   "cell_type": "code",
   "execution_count": 15,
   "id": "e0288311",
   "metadata": {},
   "outputs": [
    {
     "data": {
      "text/plain": [
       "{'0': 68.05,\n",
       " '1-20': 22.76,\n",
       " '21-40': 5.48,\n",
       " '41-60': 1.8,\n",
       " '61-80': 1.0,\n",
       " '81-100': 0.44,\n",
       " '101-120': 0.25,\n",
       " '121-140': 0.1,\n",
       " '141-160': 0.06,\n",
       " '161-180': 0.02,\n",
       " '181-200': 0.02,\n",
       " '201-220': 0.0,\n",
       " '221-240': 0.0,\n",
       " '241-260': 0.0,\n",
       " '261-280': 0.02}"
      ]
     },
     "execution_count": 15,
     "metadata": {},
     "output_type": "execute_result"
    }
   ],
   "source": [
    "group_column_vals(df=rainfall_df, column=rainfall_column, diff=20)"
   ]
  },
  {
   "cell_type": "markdown",
   "id": "006b29e2",
   "metadata": {},
   "source": [
    "## Analyze Staion-wise Rainfall"
   ]
  },
  {
   "cell_type": "markdown",
   "id": "b75b4f4b",
   "metadata": {},
   "source": [
    "### Gazipur"
   ]
  },
  {
   "cell_type": "code",
   "execution_count": 16,
   "id": "248e06a5",
   "metadata": {},
   "outputs": [
    {
     "data": {
      "text/html": [
       "<div>\n",
       "<style scoped>\n",
       "    .dataframe tbody tr th:only-of-type {\n",
       "        vertical-align: middle;\n",
       "    }\n",
       "\n",
       "    .dataframe tbody tr th {\n",
       "        vertical-align: top;\n",
       "    }\n",
       "\n",
       "    .dataframe thead th {\n",
       "        text-align: right;\n",
       "    }\n",
       "</style>\n",
       "<table border=\"1\" class=\"dataframe\">\n",
       "  <thead>\n",
       "    <tr style=\"text-align: right;\">\n",
       "      <th></th>\n",
       "      <th>Rainfall (mm)</th>\n",
       "    </tr>\n",
       "  </thead>\n",
       "  <tbody>\n",
       "    <tr>\n",
       "      <th>0</th>\n",
       "      <td>0.0</td>\n",
       "    </tr>\n",
       "    <tr>\n",
       "      <th>1</th>\n",
       "      <td>0.0</td>\n",
       "    </tr>\n",
       "    <tr>\n",
       "      <th>2</th>\n",
       "      <td>0.0</td>\n",
       "    </tr>\n",
       "    <tr>\n",
       "      <th>3</th>\n",
       "      <td>0.0</td>\n",
       "    </tr>\n",
       "    <tr>\n",
       "      <th>4</th>\n",
       "      <td>0.0</td>\n",
       "    </tr>\n",
       "  </tbody>\n",
       "</table>\n",
       "</div>"
      ],
      "text/plain": [
       "   Rainfall (mm)\n",
       "0            0.0\n",
       "1            0.0\n",
       "2            0.0\n",
       "3            0.0\n",
       "4            0.0"
      ]
     },
     "execution_count": 16,
     "metadata": {},
     "output_type": "execute_result"
    }
   ],
   "source": [
    "gazipur_rainfall_df = gazipur_raw_df[[rainfall_column]].copy()\n",
    "gazipur_rainfall_df.head()"
   ]
  },
  {
   "cell_type": "code",
   "execution_count": 17,
   "id": "f4d080ad",
   "metadata": {},
   "outputs": [
    {
     "data": {
      "text/plain": [
       "<AxesSubplot:>"
      ]
     },
     "execution_count": 17,
     "metadata": {},
     "output_type": "execute_result"
    },
    {
     "data": {
      "image/png": "[encoded data removed]",
      "text/plain": [
       "<Figure size 576x432 with 1 Axes>"
      ]
     },
     "metadata": {},
     "output_type": "display_data"
    }
   ],
   "source": [
    "gazipur_rainfall_df[rainfall_column].hist(bins=10)"
   ]
  },
  {
   "cell_type": "code",
   "execution_count": 18,
   "id": "cb9f7017",
   "metadata": {},
   "outputs": [
    {
     "data": {
      "text/plain": [
       "{'0': 66.23,\n",
       " '1-20': 25.32,\n",
       " '21-40': 5.22,\n",
       " '41-60': 1.81,\n",
       " '61-80': 0.71,\n",
       " '81-100': 0.38,\n",
       " '101-120': 0.16,\n",
       " '121-140': 0.11,\n",
       " '141-160': 0.05}"
      ]
     },
     "execution_count": 18,
     "metadata": {},
     "output_type": "execute_result"
    }
   ],
   "source": [
    "group_column_vals(gazipur_rainfall_df, rainfall_column, 20)"
   ]
  },
  {
   "cell_type": "markdown",
   "id": "8042c05b",
   "metadata": {},
   "source": [
    "### Rangpur"
   ]
  },
  {
   "cell_type": "code",
   "execution_count": 19,
   "id": "3999d390",
   "metadata": {},
   "outputs": [
    {
     "data": {
      "text/html": [
       "<div>\n",
       "<style scoped>\n",
       "    .dataframe tbody tr th:only-of-type {\n",
       "        vertical-align: middle;\n",
       "    }\n",
       "\n",
       "    .dataframe tbody tr th {\n",
       "        vertical-align: top;\n",
       "    }\n",
       "\n",
       "    .dataframe thead th {\n",
       "        text-align: right;\n",
       "    }\n",
       "</style>\n",
       "<table border=\"1\" class=\"dataframe\">\n",
       "  <thead>\n",
       "    <tr style=\"text-align: right;\">\n",
       "      <th></th>\n",
       "      <th>Rainfall (mm)</th>\n",
       "    </tr>\n",
       "  </thead>\n",
       "  <tbody>\n",
       "    <tr>\n",
       "      <th>0</th>\n",
       "      <td>49.0</td>\n",
       "    </tr>\n",
       "    <tr>\n",
       "      <th>1</th>\n",
       "      <td>37.6</td>\n",
       "    </tr>\n",
       "    <tr>\n",
       "      <th>2</th>\n",
       "      <td>0.0</td>\n",
       "    </tr>\n",
       "    <tr>\n",
       "      <th>3</th>\n",
       "      <td>32.3</td>\n",
       "    </tr>\n",
       "    <tr>\n",
       "      <th>4</th>\n",
       "      <td>0.0</td>\n",
       "    </tr>\n",
       "  </tbody>\n",
       "</table>\n",
       "</div>"
      ],
      "text/plain": [
       "   Rainfall (mm)\n",
       "0           49.0\n",
       "1           37.6\n",
       "2            0.0\n",
       "3           32.3\n",
       "4            0.0"
      ]
     },
     "execution_count": 19,
     "metadata": {},
     "output_type": "execute_result"
    }
   ],
   "source": [
    "rangpur_rainfall_df = rangpur_raw_df[[rainfall_column]].copy()\n",
    "rangpur_rainfall_df.head()"
   ]
  },
  {
   "cell_type": "code",
   "execution_count": 20,
   "id": "aa0cea00",
   "metadata": {},
   "outputs": [
    {
     "data": {
      "text/plain": [
       "<AxesSubplot:>"
      ]
     },
     "execution_count": 20,
     "metadata": {},
     "output_type": "execute_result"
    },
    {
     "data": {
      "image/png": "[encoded data removed]",
      "text/plain": [
       "<Figure size 576x432 with 1 Axes>"
      ]
     },
     "metadata": {},
     "output_type": "display_data"
    }
   ],
   "source": [
    "rangpur_rainfall_df[rainfall_column].hist(bins=10)"
   ]
  },
  {
   "cell_type": "code",
   "execution_count": 21,
   "id": "0dd5611b",
   "metadata": {},
   "outputs": [
    {
     "data": {
      "text/plain": [
       "{'0': 71.52,\n",
       " '1-20': 17.92,\n",
       " '21-40': 6.21,\n",
       " '41-60': 1.95,\n",
       " '61-80': 1.24,\n",
       " '81-100': 0.62,\n",
       " '101-120': 0.27,\n",
       " '121-140': 0.09,\n",
       " '141-160': 0.09,\n",
       " '161-180': 0.0,\n",
       " '181-200': 0.0,\n",
       " '201-220': 0.0,\n",
       " '221-240': 0.0,\n",
       " '241-260': 0.0,\n",
       " '261-280': 0.09}"
      ]
     },
     "execution_count": 21,
     "metadata": {},
     "output_type": "execute_result"
    }
   ],
   "source": [
    "group_column_vals(rangpur_rainfall_df, rainfall_column, 20)"
   ]
  },
  {
   "cell_type": "markdown",
   "id": "3c7f632d",
   "metadata": {},
   "source": [
    "### Barisal"
   ]
  },
  {
   "cell_type": "code",
   "execution_count": 22,
   "id": "766faab0",
   "metadata": {},
   "outputs": [
    {
     "data": {
      "text/html": [
       "<div>\n",
       "<style scoped>\n",
       "    .dataframe tbody tr th:only-of-type {\n",
       "        vertical-align: middle;\n",
       "    }\n",
       "\n",
       "    .dataframe tbody tr th {\n",
       "        vertical-align: top;\n",
       "    }\n",
       "\n",
       "    .dataframe thead th {\n",
       "        text-align: right;\n",
       "    }\n",
       "</style>\n",
       "<table border=\"1\" class=\"dataframe\">\n",
       "  <thead>\n",
       "    <tr style=\"text-align: right;\">\n",
       "      <th></th>\n",
       "      <th>Rainfall (mm)</th>\n",
       "    </tr>\n",
       "  </thead>\n",
       "  <tbody>\n",
       "    <tr>\n",
       "      <th>0</th>\n",
       "      <td>0.0</td>\n",
       "    </tr>\n",
       "    <tr>\n",
       "      <th>1</th>\n",
       "      <td>0.0</td>\n",
       "    </tr>\n",
       "    <tr>\n",
       "      <th>2</th>\n",
       "      <td>0.0</td>\n",
       "    </tr>\n",
       "    <tr>\n",
       "      <th>3</th>\n",
       "      <td>0.0</td>\n",
       "    </tr>\n",
       "    <tr>\n",
       "      <th>4</th>\n",
       "      <td>0.0</td>\n",
       "    </tr>\n",
       "  </tbody>\n",
       "</table>\n",
       "</div>"
      ],
      "text/plain": [
       "   Rainfall (mm)\n",
       "0            0.0\n",
       "1            0.0\n",
       "2            0.0\n",
       "3            0.0\n",
       "4            0.0"
      ]
     },
     "execution_count": 22,
     "metadata": {},
     "output_type": "execute_result"
    }
   ],
   "source": [
    "barisal_rainfall_df = barisal_raw_df[[rainfall_column]].copy()\n",
    "barisal_rainfall_df.head()"
   ]
  },
  {
   "cell_type": "code",
   "execution_count": 23,
   "id": "1fbd8e5b",
   "metadata": {},
   "outputs": [
    {
     "data": {
      "text/plain": [
       "<AxesSubplot:>"
      ]
     },
     "execution_count": 23,
     "metadata": {},
     "output_type": "execute_result"
    },
    {
     "data": {
      "image/png": "[encoded data removed]",
      "text/plain": [
       "<Figure size 576x432 with 1 Axes>"
      ]
     },
     "metadata": {},
     "output_type": "display_data"
    }
   ],
   "source": [
    "barisal_rainfall_df[rainfall_column].hist(bins=10)"
   ]
  },
  {
   "cell_type": "code",
   "execution_count": 24,
   "id": "45a372e0",
   "metadata": {},
   "outputs": [
    {
     "data": {
      "text/plain": [
       "{'0': 64.45,\n",
       " '1-20': 26.49,\n",
       " '21-40': 5.66,\n",
       " '41-60': 1.74,\n",
       " '61-80': 0.91,\n",
       " '81-100': 0.3,\n",
       " '101-120': 0.23,\n",
       " '121-140': 0.08,\n",
       " '141-160': 0.08,\n",
       " '161-180': 0.0,\n",
       " '181-200': 0.08}"
      ]
     },
     "execution_count": 24,
     "metadata": {},
     "output_type": "execute_result"
    }
   ],
   "source": [
    "group_column_vals(barisal_rainfall_df, rainfall_column, 20)"
   ]
  },
  {
   "cell_type": "markdown",
   "id": "bbabd8ae",
   "metadata": {},
   "source": [
    "### Habiganj"
   ]
  },
  {
   "cell_type": "code",
   "execution_count": 25,
   "id": "7e751a43",
   "metadata": {},
   "outputs": [
    {
     "data": {
      "text/html": [
       "<div>\n",
       "<style scoped>\n",
       "    .dataframe tbody tr th:only-of-type {\n",
       "        vertical-align: middle;\n",
       "    }\n",
       "\n",
       "    .dataframe tbody tr th {\n",
       "        vertical-align: top;\n",
       "    }\n",
       "\n",
       "    .dataframe thead th {\n",
       "        text-align: right;\n",
       "    }\n",
       "</style>\n",
       "<table border=\"1\" class=\"dataframe\">\n",
       "  <thead>\n",
       "    <tr style=\"text-align: right;\">\n",
       "      <th></th>\n",
       "      <th>Rainfall (mm)</th>\n",
       "    </tr>\n",
       "  </thead>\n",
       "  <tbody>\n",
       "    <tr>\n",
       "      <th>0</th>\n",
       "      <td>0.0</td>\n",
       "    </tr>\n",
       "    <tr>\n",
       "      <th>1</th>\n",
       "      <td>0.0</td>\n",
       "    </tr>\n",
       "    <tr>\n",
       "      <th>2</th>\n",
       "      <td>0.0</td>\n",
       "    </tr>\n",
       "    <tr>\n",
       "      <th>3</th>\n",
       "      <td>0.0</td>\n",
       "    </tr>\n",
       "    <tr>\n",
       "      <th>4</th>\n",
       "      <td>0.0</td>\n",
       "    </tr>\n",
       "  </tbody>\n",
       "</table>\n",
       "</div>"
      ],
      "text/plain": [
       "   Rainfall (mm)\n",
       "0            0.0\n",
       "1            0.0\n",
       "2            0.0\n",
       "3            0.0\n",
       "4            0.0"
      ]
     },
     "execution_count": 25,
     "metadata": {},
     "output_type": "execute_result"
    }
   ],
   "source": [
    "habiganj_rainfall_df = habiganj_raw_df[[rainfall_column]].copy()\n",
    "habiganj_rainfall_df.head()"
   ]
  },
  {
   "cell_type": "code",
   "execution_count": 26,
   "id": "f49a8cfa",
   "metadata": {},
   "outputs": [
    {
     "data": {
      "text/plain": [
       "<AxesSubplot:>"
      ]
     },
     "execution_count": 26,
     "metadata": {},
     "output_type": "execute_result"
    },
    {
     "data": {
      "image/png": "[encoded data removed]",
      "text/plain": [
       "<Figure size 576x432 with 1 Axes>"
      ]
     },
     "metadata": {},
     "output_type": "display_data"
    }
   ],
   "source": [
    "habiganj_rainfall_df[rainfall_column].hist(bins=10)"
   ]
  },
  {
   "cell_type": "code",
   "execution_count": 27,
   "id": "3b6d3a89",
   "metadata": {},
   "outputs": [
    {
     "data": {
      "text/plain": [
       "{'0': 75.69,\n",
       " '1-20': 15.17,\n",
       " '21-40': 4.39,\n",
       " '41-60': 1.65,\n",
       " '61-80': 1.65,\n",
       " '81-100': 0.55,\n",
       " '101-120': 0.55,\n",
       " '121-140': 0.18,\n",
       " '141-160': 0.0,\n",
       " '161-180': 0.18}"
      ]
     },
     "execution_count": 27,
     "metadata": {},
     "output_type": "execute_result"
    }
   ],
   "source": [
    "group_column_vals(habiganj_rainfall_df, rainfall_column, 20)"
   ]
  },
  {
   "cell_type": "markdown",
   "id": "1e262ef1",
   "metadata": {},
   "source": [
    "# Correlation Heatmap"
   ]
  },
  {
   "cell_type": "code",
   "execution_count": 28,
   "id": "1e70ee59",
   "metadata": {},
   "outputs": [
    {
     "data": {
      "image/png": "[encoded data removed]",
      "text/plain": [
       "<Figure size 1440x720 with 2 Axes>"
      ]
     },
     "metadata": {},
     "output_type": "display_data"
    }
   ],
   "source": [
    "# https://medium.com/@szabo.bibor/how-to-create-a-seaborn-correlation-heatmap-in-python-834c0686b88e\n",
    "\n",
    "plt.figure(figsize=(20, 10))\n",
    "\n",
    "corr_matrix = raw_df.corr()\n",
    "\n",
    "# mask to hide the upper triangle of the symmetric corr-matrix\n",
    "# mask = np.triu(np.ones_like(corr_matrix, dtype=np.bool))\n",
    "\n",
    "heatmap = sns.heatmap(\n",
    "            \n",
    "    # correlation matrix\n",
    "    corr_matrix,\n",
    "\n",
    "    # mask the top triangle of the matrix\n",
    "    # mask=mask,\n",
    "    \n",
    "    # two-contrast color, different color for + -\n",
    "    cmap=\"PiYG\",\n",
    "    \n",
    "    # color map range\n",
    "    vmin=-1, vmax=1,\n",
    "    \n",
    "    # show corr values in the cells\n",
    "    annot=True\n",
    ")\n",
    "\n",
    "# set a title\n",
    "heatmap.set_title('Correlation Heatmap', fontdict={'fontsize':20}, pad=16);\n",
    "\n",
    "plt.show()"
   ]
  },
  {
   "cell_type": "markdown",
   "id": "46170041",
   "metadata": {},
   "source": [
    "# Scatter plots"
   ]
  },
  {
   "cell_type": "code",
   "execution_count": 34,
   "id": "c9d9fb88",
   "metadata": {},
   "outputs": [
    {
     "data": {
      "image/png": "[encoded data removed]",
      "text/plain": [
       "<Figure size 576x432 with 1 Axes>"
      ]
     },
     "metadata": {},
     "output_type": "display_data"
    }
   ],
   "source": [
    "_=sns.scatterplot(data=raw_df, x='Month', y=rainfall_column, hue='Station')"
   ]
  },
  {
   "cell_type": "code",
   "execution_count": 31,
   "id": "141cb186",
   "metadata": {},
   "outputs": [],
   "source": [
    "# sns.pairplot(raw_df[['Rainfall (mm)', 'Month', 'Station']], hue = 'Station', height = 5)"
   ]
  }
 ],
 "metadata": {
  "kernelspec": {
   "display_name": "Python 3",
   "language": "python",
   "name": "python3"
  },
  "language_info": {
   "codemirror_mode": {
    "name": "ipython",
    "version": 3
   },
   "file_extension": ".py",
   "mimetype": "text/x-python",
   "name": "python",
   "nbconvert_exporter": "python",
   "pygments_lexer": "ipython3",
   "version": "3.8.8"
  }
 },
 "nbformat": 4,
 "nbformat_minor": 5
}
