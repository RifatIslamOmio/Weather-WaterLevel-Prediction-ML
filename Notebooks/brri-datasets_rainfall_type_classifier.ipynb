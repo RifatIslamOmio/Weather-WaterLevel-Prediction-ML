{
  "nbformat": 4,
  "nbformat_minor": 0,
  "metadata": {
    "colab": {
      "name": "rainfall_type_classifier.ipynb",
      "provenance": [],
      "collapsed_sections": []
    },
    "kernelspec": {
      "name": "python3",
      "display_name": "Python 3"
    },
    "language_info": {
      "name": "python"
    }
  },
  "cells": [
    {
      "cell_type": "code",
      "metadata": {
        "id": "PU8n36Ksk-Hy"
      },
      "source": [
        "import pandas as pd"
      ],
      "execution_count": 20,
      "outputs": []
    },
    {
      "cell_type": "code",
      "metadata": {
        "id": "RHAd5fXjlafK"
      },
      "source": [
        "df = pd.read_csv(\"/content/drive/MyDrive/all-station_raw.csv\")"
      ],
      "execution_count": 21,
      "outputs": []
    },
    {
      "cell_type": "code",
      "metadata": {
        "id": "pl51Aq4fuLYn"
      },
      "source": [
        "def rain_classifier(dataframe):\n",
        "  data = dataframe['Rainfall (mm)']\n",
        "  arr = []\n",
        "  for x in data:\n",
        "    if x=='NIL':\n",
        "      arr.append('NIL')\n",
        "    else:\n",
        "      if float(x)==0:\n",
        "        arr.append('no rain')\n",
        "      elif float(x)>=1 and float(x)<=20:\n",
        "        arr.append('mild rain')\n",
        "      else:\n",
        "        arr.append('medium to heavy rain')\n",
        "  df['Rainfall Type'] = arr"
      ],
      "execution_count": 22,
      "outputs": []
    },
    {
      "cell_type": "code",
      "metadata": {
        "id": "DCM4ffuTuVU1"
      },
      "source": [
        "rain_classifier(df)"
      ],
      "execution_count": 23,
      "outputs": []
    },
    {
      "cell_type": "code",
      "metadata": {
        "colab": {
          "base_uri": "https://localhost:8080/"
        },
        "id": "kBF2ydlCxG2o",
        "outputId": "1033a337-af96-4f70-8344-457df22c0fd1"
      },
      "source": [
        "df.info()"
      ],
      "execution_count": 24,
      "outputs": [
        {
          "output_type": "stream",
          "name": "stdout",
          "text": [
            "<class 'pandas.core.frame.DataFrame'>\n",
            "RangeIndex: 4954 entries, 0 to 4953\n",
            "Data columns (total 14 columns):\n",
            " #   Column                            Non-Null Count  Dtype \n",
            "---  ------                            --------------  ----- \n",
            " 0   Station                           4954 non-null   object\n",
            " 1   Year                              4954 non-null   int64 \n",
            " 2   Month                             4954 non-null   int64 \n",
            " 3   Day                               4954 non-null   int64 \n",
            " 4   Max Temp. (degree Celcius)        4954 non-null   object\n",
            " 5   Min Temp. (degree Celcius)        4954 non-null   object\n",
            " 6   Rainfall (mm)                     4954 non-null   object\n",
            " 7   Actual Evaporation (mm)           4954 non-null   object\n",
            " 8   Relative Humidity (morning, %)    4954 non-null   object\n",
            " 9   Relative Humidity (afternoon, %)  4954 non-null   object\n",
            " 10  Sunshine (hour/day)               4954 non-null   object\n",
            " 11  Cloudy (hour/day)                 4954 non-null   object\n",
            " 12  Solar Radiation (cal/cm^2/day)    4954 non-null   object\n",
            " 13  Rainfall Type                     4954 non-null   object\n",
            "dtypes: int64(3), object(11)\n",
            "memory usage: 542.0+ KB\n"
          ]
        }
      ]
    },
    {
      "cell_type": "code",
      "metadata": {
        "colab": {
          "base_uri": "https://localhost:8080/"
        },
        "id": "mlkbspf5xH7j",
        "outputId": "985c9488-352d-4fe9-a7cf-80352f0fb641"
      },
      "source": [
        "df['Rainfall Type'].value_counts()"
      ],
      "execution_count": 27,
      "outputs": [
        {
          "output_type": "execute_result",
          "data": {
            "text/plain": [
              "no rain                 3280\n",
              "mild rain               1004\n",
              "medium to heavy rain     536\n",
              "NIL                      134\n",
              "Name: Rainfall Type, dtype: int64"
            ]
          },
          "metadata": {},
          "execution_count": 27
        }
      ]
    },
    {
      "cell_type": "code",
      "metadata": {
        "id": "ZYqjip0XzfDi"
      },
      "source": [
        ""
      ],
      "execution_count": null,
      "outputs": []
    }
  ]
}