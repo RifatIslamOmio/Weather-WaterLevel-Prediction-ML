{
  "nbformat": 4,
  "nbformat_minor": 0,
  "metadata": {
    "colab": {
      "name": "brri-datasets_rainfall_type_classifier.ipynb",
      "provenance": [],
      "collapsed_sections": []
    },
    "kernelspec": {
      "name": "python3",
      "display_name": "Python 3"
    },
    "language_info": {
      "name": "python"
    }
  },
  "cells": [
    {
      "cell_type": "code",
      "metadata": {
        "id": "PU8n36Ksk-Hy"
      },
      "source": [
        "import pandas as pd"
      ],
      "execution_count": 28,
      "outputs": []
    },
    {
      "cell_type": "code",
      "metadata": {
        "id": "RHAd5fXjlafK"
      },
      "source": [
        "df = pd.read_csv(\"/content/drive/MyDrive/all-station_raw.csv\")"
      ],
      "execution_count": 29,
      "outputs": []
    },
    {
      "cell_type": "code",
      "metadata": {
        "id": "pl51Aq4fuLYn"
      },
      "source": [
        "def rain_classifier(dataframe):\n",
        "  data = dataframe['Rainfall (mm)']\n",
        "  arr = []\n",
        "  arr_enc = []\n",
        "  for x in data:\n",
        "    if x=='NIL':\n",
        "      arr.append('NIL')\n",
        "      arr_enc.append('NIL')\n",
        "    else:\n",
        "      if float(x)==0:\n",
        "        arr.append('no rain')\n",
        "        arr_enc.append(0)\n",
        "      elif float(x)>=1 and float(x)<=20:\n",
        "        arr.append('mild rain')\n",
        "        arr_enc.append(1)\n",
        "      else:\n",
        "        arr.append('medium to heavy rain')\n",
        "        arr_enc.append(2)\n",
        "  df['Rainfall Type'] = arr\n",
        "  df['Rainfall Type (encoded)'] = arr_enc"
      ],
      "execution_count": 30,
      "outputs": []
    },
    {
      "cell_type": "code",
      "metadata": {
        "id": "DCM4ffuTuVU1"
      },
      "source": [
        "rain_classifier(df)"
      ],
      "execution_count": 31,
      "outputs": []
    },
    {
      "cell_type": "code",
      "metadata": {
        "colab": {
          "base_uri": "https://localhost:8080/"
        },
        "id": "kBF2ydlCxG2o",
        "outputId": "1eba3db6-2bb2-495d-8c2a-1dded7336fee"
      },
      "source": [
        "df.info()"
      ],
      "execution_count": 32,
      "outputs": [
        {
          "output_type": "stream",
          "name": "stdout",
          "text": [
            "<class 'pandas.core.frame.DataFrame'>\n",
            "RangeIndex: 4954 entries, 0 to 4953\n",
            "Data columns (total 15 columns):\n",
            " #   Column                            Non-Null Count  Dtype \n",
            "---  ------                            --------------  ----- \n",
            " 0   Station                           4954 non-null   object\n",
            " 1   Year                              4954 non-null   int64 \n",
            " 2   Month                             4954 non-null   int64 \n",
            " 3   Day                               4954 non-null   int64 \n",
            " 4   Max Temp. (degree Celcius)        4954 non-null   object\n",
            " 5   Min Temp. (degree Celcius)        4954 non-null   object\n",
            " 6   Rainfall (mm)                     4954 non-null   object\n",
            " 7   Actual Evaporation (mm)           4954 non-null   object\n",
            " 8   Relative Humidity (morning, %)    4954 non-null   object\n",
            " 9   Relative Humidity (afternoon, %)  4954 non-null   object\n",
            " 10  Sunshine (hour/day)               4954 non-null   object\n",
            " 11  Cloudy (hour/day)                 4954 non-null   object\n",
            " 12  Solar Radiation (cal/cm^2/day)    4954 non-null   object\n",
            " 13  Rainfall Type                     4954 non-null   object\n",
            " 14  Rainfall Type (encoded)           4954 non-null   object\n",
            "dtypes: int64(3), object(12)\n",
            "memory usage: 580.7+ KB\n"
          ]
        }
      ]
    },
    {
      "cell_type": "code",
      "metadata": {
        "colab": {
          "base_uri": "https://localhost:8080/"
        },
        "id": "mlkbspf5xH7j",
        "outputId": "482ceda9-a46b-415e-a377-b8c57800f606"
      },
      "source": [
        "df['Rainfall Type'].value_counts()"
      ],
      "execution_count": 33,
      "outputs": [
        {
          "output_type": "execute_result",
          "data": {
            "text/plain": [
              "no rain                 3280\n",
              "mild rain               1004\n",
              "medium to heavy rain     536\n",
              "NIL                      134\n",
              "Name: Rainfall Type, dtype: int64"
            ]
          },
          "metadata": {},
          "execution_count": 33
        }
      ]
    },
    {
      "cell_type": "code",
      "metadata": {
        "id": "ZYqjip0XzfDi",
        "colab": {
          "base_uri": "https://localhost:8080/"
        },
        "outputId": "f435aabf-7f9c-499e-9326-9d921b841856"
      },
      "source": [
        "df['Rainfall Type (encoded)'].value_counts()"
      ],
      "execution_count": 34,
      "outputs": [
        {
          "output_type": "execute_result",
          "data": {
            "text/plain": [
              "0      3280\n",
              "1      1004\n",
              "2       536\n",
              "NIL     134\n",
              "Name: Rainfall Type (encoded), dtype: int64"
            ]
          },
          "metadata": {},
          "execution_count": 34
        }
      ]
    },
    {
      "cell_type": "code",
      "metadata": {
        "id": "fo-PQEyH5PyQ"
      },
      "source": [
        ""
      ],
      "execution_count": null,
      "outputs": []
    }
  ]
}