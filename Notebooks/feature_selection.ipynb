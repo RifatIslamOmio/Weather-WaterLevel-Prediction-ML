{
 "cells": [
  {
   "cell_type": "markdown",
   "id": "2bc7bea5",
   "metadata": {
    "colab_type": "text",
    "id": "view-in-github"
   },
   "source": [
    "<a href=\"https://colab.research.google.com/github/ferdouszislam/Weather-WaterLevel-Prediction-ML/blob/main/Notebooks/feature_selection.ipynb\" target=\"_parent\"><img src=\"https://colab.research.google.com/assets/colab-badge.svg\" alt=\"Open In Colab\"/></a>"
   ]
  },
  {
   "cell_type": "code",
   "execution_count": 1,
   "id": "c999dc66",
   "metadata": {
    "id": "c999dc66"
   },
   "outputs": [],
   "source": [
    "import pandas as pd\n",
    "import numpy as np\n",
    "import matplotlib.pyplot as plt"
   ]
  },
  {
   "cell_type": "code",
   "execution_count": 2,
   "id": "Et2rG7nNchTe",
   "metadata": {
    "colab": {
     "base_uri": "https://localhost:8080/",
     "height": 295
    },
    "id": "Et2rG7nNchTe",
    "outputId": "afbfeb7d-3012-49db-92c4-ebcdbc778477"
   },
   "outputs": [
    {
     "data": {
      "text/html": [
       "<div>\n",
       "<style scoped>\n",
       "    .dataframe tbody tr th:only-of-type {\n",
       "        vertical-align: middle;\n",
       "    }\n",
       "\n",
       "    .dataframe tbody tr th {\n",
       "        vertical-align: top;\n",
       "    }\n",
       "\n",
       "    .dataframe thead th {\n",
       "        text-align: right;\n",
       "    }\n",
       "</style>\n",
       "<table border=\"1\" class=\"dataframe\">\n",
       "  <thead>\n",
       "    <tr style=\"text-align: right;\">\n",
       "      <th></th>\n",
       "      <th>Month</th>\n",
       "      <th>Avg Min Temp. (degree Celcius)</th>\n",
       "      <th>Avg Max Temp. (degree Celcius)</th>\n",
       "      <th>Avg Rainfall (mm)</th>\n",
       "      <th>Avg Actual Evaporation (mm)</th>\n",
       "      <th>Avg Relative Humidity (morning, %)</th>\n",
       "      <th>Avg Relative Humidity (afternoon, %)</th>\n",
       "      <th>Avg Sunshine (hour/day)</th>\n",
       "      <th>Avg Cloudy (hour/day)</th>\n",
       "      <th>Avg Solar Radiation (cal/cm^2/day)</th>\n",
       "      <th>Station_Barisal</th>\n",
       "      <th>Station_Gazipur</th>\n",
       "      <th>Station_Habiganj</th>\n",
       "      <th>Station_Rangpur</th>\n",
       "      <th>Rainfall (mm)</th>\n",
       "    </tr>\n",
       "  </thead>\n",
       "  <tbody>\n",
       "    <tr>\n",
       "      <th>2705</th>\n",
       "      <td>0.727273</td>\n",
       "      <td>0.741602</td>\n",
       "      <td>0.658974</td>\n",
       "      <td>0.011367</td>\n",
       "      <td>0.115450</td>\n",
       "      <td>0.95000</td>\n",
       "      <td>0.732394</td>\n",
       "      <td>0.528125</td>\n",
       "      <td>0.437333</td>\n",
       "      <td>0.497420</td>\n",
       "      <td>1.0</td>\n",
       "      <td>0.0</td>\n",
       "      <td>0.0</td>\n",
       "      <td>0.0</td>\n",
       "      <td>0.0</td>\n",
       "    </tr>\n",
       "    <tr>\n",
       "      <th>3605</th>\n",
       "      <td>0.545455</td>\n",
       "      <td>0.816537</td>\n",
       "      <td>0.653846</td>\n",
       "      <td>0.000000</td>\n",
       "      <td>0.169779</td>\n",
       "      <td>0.69000</td>\n",
       "      <td>0.605634</td>\n",
       "      <td>0.415625</td>\n",
       "      <td>0.637333</td>\n",
       "      <td>0.488128</td>\n",
       "      <td>0.0</td>\n",
       "      <td>0.0</td>\n",
       "      <td>0.0</td>\n",
       "      <td>1.0</td>\n",
       "      <td>0.0</td>\n",
       "    </tr>\n",
       "    <tr>\n",
       "      <th>2098</th>\n",
       "      <td>0.818182</td>\n",
       "      <td>0.696382</td>\n",
       "      <td>0.652564</td>\n",
       "      <td>0.000000</td>\n",
       "      <td>0.169779</td>\n",
       "      <td>0.75625</td>\n",
       "      <td>0.521127</td>\n",
       "      <td>0.590625</td>\n",
       "      <td>0.328000</td>\n",
       "      <td>0.471810</td>\n",
       "      <td>0.0</td>\n",
       "      <td>0.0</td>\n",
       "      <td>0.0</td>\n",
       "      <td>1.0</td>\n",
       "      <td>0.0</td>\n",
       "    </tr>\n",
       "    <tr>\n",
       "      <th>117</th>\n",
       "      <td>0.818182</td>\n",
       "      <td>0.801034</td>\n",
       "      <td>0.769231</td>\n",
       "      <td>0.014957</td>\n",
       "      <td>0.135823</td>\n",
       "      <td>0.84375</td>\n",
       "      <td>0.661972</td>\n",
       "      <td>0.653125</td>\n",
       "      <td>0.282667</td>\n",
       "      <td>0.528753</td>\n",
       "      <td>1.0</td>\n",
       "      <td>0.0</td>\n",
       "      <td>0.0</td>\n",
       "      <td>0.0</td>\n",
       "      <td>0.0</td>\n",
       "    </tr>\n",
       "    <tr>\n",
       "      <th>2492</th>\n",
       "      <td>0.181818</td>\n",
       "      <td>0.452196</td>\n",
       "      <td>0.548718</td>\n",
       "      <td>0.005085</td>\n",
       "      <td>0.169779</td>\n",
       "      <td>0.66875</td>\n",
       "      <td>0.507042</td>\n",
       "      <td>0.509375</td>\n",
       "      <td>0.421333</td>\n",
       "      <td>0.494545</td>\n",
       "      <td>0.0</td>\n",
       "      <td>0.0</td>\n",
       "      <td>0.0</td>\n",
       "      <td>1.0</td>\n",
       "      <td>0.0</td>\n",
       "    </tr>\n",
       "  </tbody>\n",
       "</table>\n",
       "</div>"
      ],
      "text/plain": [
       "         Month  Avg Min Temp. (degree Celcius)  \\\n",
       "2705  0.727273                        0.741602   \n",
       "3605  0.545455                        0.816537   \n",
       "2098  0.818182                        0.696382   \n",
       "117   0.818182                        0.801034   \n",
       "2492  0.181818                        0.452196   \n",
       "\n",
       "      Avg Max Temp. (degree Celcius)  Avg Rainfall (mm)  \\\n",
       "2705                        0.658974           0.011367   \n",
       "3605                        0.653846           0.000000   \n",
       "2098                        0.652564           0.000000   \n",
       "117                         0.769231           0.014957   \n",
       "2492                        0.548718           0.005085   \n",
       "\n",
       "      Avg Actual Evaporation (mm)  Avg Relative Humidity (morning, %)  \\\n",
       "2705                     0.115450                             0.95000   \n",
       "3605                     0.169779                             0.69000   \n",
       "2098                     0.169779                             0.75625   \n",
       "117                      0.135823                             0.84375   \n",
       "2492                     0.169779                             0.66875   \n",
       "\n",
       "      Avg Relative Humidity (afternoon, %)  Avg Sunshine (hour/day)  \\\n",
       "2705                              0.732394                 0.528125   \n",
       "3605                              0.605634                 0.415625   \n",
       "2098                              0.521127                 0.590625   \n",
       "117                               0.661972                 0.653125   \n",
       "2492                              0.507042                 0.509375   \n",
       "\n",
       "      Avg Cloudy (hour/day)  Avg Solar Radiation (cal/cm^2/day)  \\\n",
       "2705               0.437333                            0.497420   \n",
       "3605               0.637333                            0.488128   \n",
       "2098               0.328000                            0.471810   \n",
       "117                0.282667                            0.528753   \n",
       "2492               0.421333                            0.494545   \n",
       "\n",
       "      Station_Barisal  Station_Gazipur  Station_Habiganj  Station_Rangpur  \\\n",
       "2705              1.0              0.0               0.0              0.0   \n",
       "3605              0.0              0.0               0.0              1.0   \n",
       "2098              0.0              0.0               0.0              1.0   \n",
       "117               1.0              0.0               0.0              0.0   \n",
       "2492              0.0              0.0               0.0              1.0   \n",
       "\n",
       "      Rainfall (mm)  \n",
       "2705            0.0  \n",
       "3605            0.0  \n",
       "2098            0.0  \n",
       "117             0.0  \n",
       "2492            0.0  "
      ]
     },
     "execution_count": 2,
     "metadata": {},
     "output_type": "execute_result"
    }
   ],
   "source": [
    "weather_avg_train_df = pd.read_csv('https://raw.githubusercontent.com/ferdouszislam/Weather-WaterLevel-Prediction-ML/main/Datasets/brri-datasets/final-dataset/train/brri-weather_avg_train_regression.csv')\n",
    "weather_avg_train_df.sample(5)"
   ]
  },
  {
   "cell_type": "markdown",
   "id": "3c5c4910",
   "metadata": {
    "id": "3c5c4910"
   },
   "source": [
    "## 1. Pearson Correlation based Feature Selection"
   ]
  },
  {
   "cell_type": "code",
   "execution_count": 3,
   "id": "9b5a2008",
   "metadata": {
    "id": "9b5a2008"
   },
   "outputs": [],
   "source": [
    "def pearson_correlation_fs(_df, cls, threshold_corr=0.8):\n",
    "    \"\"\"\n",
    "    function to check correlation of each pair of features a\n",
    "    and discard the one from the pair with corr > 'threshold_corr' \n",
    "    among the pair, the one with lower corr with the 'cls' is dropped \n",
    "    \"\"\"\n",
    "    \n",
    "    df = _df.copy()\n",
    "    \n",
    "    corr_matrix = df.corr()\n",
    "    cols_to_drop = set() # keep only unique features\n",
    "    \n",
    "    # get the class column index\n",
    "    for idx in range(len(corr_matrix.columns)):\n",
    "        if corr_matrix.columns[idx]==cls :\n",
    "            cls_col_idx = idx\n",
    "            break\n",
    "    \n",
    "    # find the features to drop\n",
    "    for col1_idx in range(len(corr_matrix.columns)):\n",
    "        for col2_idx in range(col1_idx):\n",
    "            col1 = corr_matrix.columns[col1_idx]\n",
    "            col2 = corr_matrix.columns[col2_idx]\n",
    "            \n",
    "            if col1 == cls or col2 == cls or col1 in cols_to_drop or col2 in cols_to_drop:\n",
    "                continue\n",
    "                \n",
    "            if abs(corr_matrix.iloc[col1_idx, col2_idx]) > threshold_corr:\n",
    "                if abs(corr_matrix.iloc[col1_idx, cls_col_idx]) < abs(corr_matrix.iloc[col2_idx, cls_col_idx]): \n",
    "                    col_to_drop = col1 \n",
    "                else:\n",
    "                    col_to_drop = col2\n",
    "                \n",
    "                print(f'dropping {col_to_drop} from ({col1}, {col2})')\n",
    "                \n",
    "                cols_to_drop.add(col_to_drop)\n",
    "    \n",
    "    cols_to_drop = list(cols_to_drop)\n",
    "    df.drop(columns=cols_to_drop, inplace=True)\n",
    "    \n",
    "    return _df, cols_to_drop"
   ]
  },
  {
   "cell_type": "code",
   "execution_count": 4,
   "id": "79ca7c95",
   "metadata": {
    "colab": {
     "base_uri": "https://localhost:8080/"
    },
    "id": "79ca7c95",
    "outputId": "5a3c5f4e-1173-4062-bcde-b6f6c8ddb6b9"
   },
   "outputs": [
    {
     "name": "stdout",
     "output_type": "stream",
     "text": [
      "dropping Avg Max Temp. (degree Celcius) from (Avg Max Temp. (degree Celcius), Avg Min Temp. (degree Celcius))\n",
      "dropping Avg Cloudy (hour/day) from (Avg Cloudy (hour/day), Avg Relative Humidity (afternoon, %))\n",
      "dropping Avg Sunshine (hour/day) from (Avg Solar Radiation (cal/cm^2/day), Avg Sunshine (hour/day))\n"
     ]
    },
    {
     "data": {
      "text/plain": [
       "['Avg Sunshine (hour/day)',\n",
       " 'Avg Cloudy (hour/day)',\n",
       " 'Avg Max Temp. (degree Celcius)']"
      ]
     },
     "execution_count": 4,
     "metadata": {},
     "output_type": "execute_result"
    }
   ],
   "source": [
    "_, cols_to_drop = pearson_correlation_fs(weather_avg_train_df, cls='Rainfall (mm)', threshold_corr=0.75)\n",
    "cols_to_drop"
   ]
  },
  {
   "cell_type": "markdown",
   "id": "f17d4f52",
   "metadata": {
    "id": "f17d4f52"
   },
   "source": [
    "## 2. Feature Selection using SeleckKBest\n",
    "\n",
    "Useful links: \n",
    "- https://scikit-learn.org/stable/modules/generated/sklearn.feature_selection.SelectKBest.html\n",
    "- https://scikit-learn.org/stable/modules/feature_selection.html\n",
    "- https://towardsdatascience.com/5-feature-selection-method-from-scikit-learn-you-should-know-ed4d116e4172"
   ]
  },
  {
   "cell_type": "code",
   "execution_count": 5,
   "id": "eadd4030",
   "metadata": {
    "id": "eadd4030"
   },
   "outputs": [],
   "source": [
    "from sklearn.feature_selection import SelectKBest, f_regression, mutual_info_regression, mutual_info_classif\n",
    "\n",
    "\n",
    "def seleckKBest_fs(_df, cls, is_regression,\n",
    "                   fixed_cols=['Station_Barisal', 'Station_Gazipur', 'Station_Rangpur', 'Station_Habiganj'], \n",
    "                   num_features=7, \n",
    "                   fs_method=mutual_info_regression):\n",
    "    \"\"\"\n",
    "    parameters- training dataframe, class name, boolean to specify regression or classification\n",
    "    returns dataframe and list of dropped columns\n",
    "    \"\"\"\n",
    "    df = _df.copy()\n",
    "\n",
    "    fixed_cols.append(cls)\n",
    "    X = df.drop(columns=fixed_cols)\n",
    "    y = df[cls]\n",
    "    \n",
    "    if is_regression:\n",
    "      fs_method = mutual_info_regression\n",
    "    else:\n",
    "      fs_method = mutual_info_classif\n",
    "\n",
    "    # select top 'num_features' features based on mutual info regression\n",
    "    # total features would be 'num_features' + 1(station column) \n",
    "    selector = SelectKBest(fs_method, k=num_features)\n",
    "    selector.fit(X, y)\n",
    "    selected_cols = list(X.columns[selector.get_support()])\n",
    "\n",
    "    cols_to_drop = []\n",
    "    for col in df.columns:\n",
    "        if col in [cls, 'Station_Barisal', 'Station_Gazipur', 'Station_Rangpur', 'Station_Habiganj']:\n",
    "            continue\n",
    "        elif col not in selected_cols:\n",
    "            cols_to_drop.append(col)\n",
    "            \n",
    "    df.drop(columns=cols_to_drop, inplace=True)\n",
    "    \n",
    "    return df, cols_to_drop"
   ]
  },
  {
   "cell_type": "code",
   "execution_count": 6,
   "id": "133f89c9",
   "metadata": {
    "colab": {
     "base_uri": "https://localhost:8080/"
    },
    "id": "133f89c9",
    "outputId": "ff3b8dc0-7e55-4d07-999b-cd9ad256e722"
   },
   "outputs": [
    {
     "data": {
      "text/plain": [
       "['Avg Sunshine (hour/day)',\n",
       " 'Avg Cloudy (hour/day)',\n",
       " 'Avg Solar Radiation (cal/cm^2/day)']"
      ]
     },
     "execution_count": 6,
     "metadata": {},
     "output_type": "execute_result"
    }
   ],
   "source": [
    "_, cols_to_drop = seleckKBest_fs(_df=weather_avg_train_df, cls='Rainfall (mm)', is_regression=True)\n",
    "cols_to_drop"
   ]
  },
  {
   "cell_type": "markdown",
   "id": "s655zLhdclOl",
   "metadata": {
    "id": "s655zLhdclOl"
   },
   "source": [
    "## 3. Selection Sequential Feature Selection (SFS) \n",
    "Useful links:  \n",
    "- https://scikit-learn.org/stable/modules/generated/sklearn.feature_selection.SequentialFeatureSelector.html#sklearn.feature_selection.SequentialFeatureSelector\n",
    "- https://scikit-learn.org/stable/modules/feature_selection.html\n",
    "- https://towardsdatascience.com/5-feature-selection-method-from-scikit-learn-you-should-know-ed4d116e4172"
   ]
  },
  {
   "cell_type": "code",
   "execution_count": 7,
   "id": "sIqaEIexk0dZ",
   "metadata": {
    "id": "sIqaEIexk0dZ"
   },
   "outputs": [],
   "source": [
    "from sklearn.feature_selection import SequentialFeatureSelector\n",
    "from sklearn.svm import LinearSVC, LinearSVR\n",
    "\n",
    "from sklearn.feature_selection import SelectKBest, f_regression, mutual_info_regression\n",
    "\n",
    "\n",
    "def selectSequential_fs(_df, cls, is_regression,\n",
    "                        fixed_cols=['Station_Barisal', 'Station_Gazipur', 'Station_Rangpur', 'Station_Habiganj'], \n",
    "                        num_features=7, \n",
    "                        fs_method='forward'):\n",
    "    \"\"\"\n",
    "    parameters- training dataframe, class name, boolean to specify regression or classification\n",
    "    returns dataframe and list of dropped columns\n",
    "    \"\"\"\n",
    "    df = _df.copy()\n",
    "\n",
    "    fixed_cols.append(cls)\n",
    "    X = df.drop(columns=fixed_cols)\n",
    "    y = df[cls]\n",
    " \n",
    "    if is_regression:\n",
    "      estimator = LinearSVR(C=0.01, random_state=42)\n",
    "      scoring='r2'\n",
    "    else:\n",
    "      estimator = LinearSVC(C=0.01, penalty=\"l1\", dual=False, random_state=42)\n",
    "      scoring = 'accuracy'\n",
    "    \n",
    "    # select top 'num_features' features based on mutual info regression\n",
    "    # total features would be 'num_features' + 1(station column) \n",
    "    selector = SequentialFeatureSelector(estimator=estimator, n_features_to_select=num_features, cv=10, direction=fs_method, scoring=scoring)\n",
    "    selector.fit(X, y)\n",
    "    selected_cols = list(X.columns[selector.get_support()])\n",
    "\n",
    "    cols_to_drop = []\n",
    "    for col in df.columns:\n",
    "        if col in [cls, 'Station_Barisal', 'Station_Gazipur', 'Station_Rangpur', 'Station_Habiganj']:\n",
    "            continue\n",
    "        elif col not in selected_cols:\n",
    "            cols_to_drop.append(col)\n",
    "            \n",
    "    df.drop(columns=cols_to_drop, inplace=True)\n",
    "    \n",
    "    return df, cols_to_drop"
   ]
  },
  {
   "cell_type": "code",
   "execution_count": 8,
   "id": "XdYKvUDcmFNq",
   "metadata": {
    "colab": {
     "base_uri": "https://localhost:8080/"
    },
    "id": "XdYKvUDcmFNq",
    "outputId": "05bc054c-9ab0-4974-a801-caa7e6e92345"
   },
   "outputs": [
    {
     "data": {
      "text/plain": [
       "['Avg Min Temp. (degree Celcius)',\n",
       " 'Avg Max Temp. (degree Celcius)',\n",
       " 'Avg Relative Humidity (afternoon, %)']"
      ]
     },
     "execution_count": 8,
     "metadata": {},
     "output_type": "execute_result"
    }
   ],
   "source": [
    "_, cols_to_drop = selectSequential_fs(_df=weather_avg_train_df, cls='Rainfall (mm)', is_regression=True)\n",
    "cols_to_drop"
   ]
  }
 ],
 "metadata": {
  "colab": {
   "include_colab_link": true,
   "name": "feature_selection.ipynb",
   "provenance": []
  },
  "kernelspec": {
   "display_name": "Python 3",
   "language": "python",
   "name": "python3"
  },
  "language_info": {
   "codemirror_mode": {
    "name": "ipython",
    "version": 3
   },
   "file_extension": ".py",
   "mimetype": "text/x-python",
   "name": "python",
   "nbconvert_exporter": "python",
   "pygments_lexer": "ipython3",
   "version": "3.8.8"
  }
 },
 "nbformat": 4,
 "nbformat_minor": 5
}
