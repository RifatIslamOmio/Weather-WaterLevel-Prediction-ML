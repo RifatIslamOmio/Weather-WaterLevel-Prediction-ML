{
  "nbformat": 4,
  "nbformat_minor": 5,
  "metadata": {
    "kernelspec": {
      "display_name": "Python 3",
      "language": "python",
      "name": "python3"
    },
    "language_info": {
      "codemirror_mode": {
        "name": "ipython",
        "version": 3
      },
      "file_extension": ".py",
      "mimetype": "text/x-python",
      "name": "python",
      "nbconvert_exporter": "python",
      "pygments_lexer": "ipython3",
      "version": "3.8.8"
    },
    "colab": {
      "name": "feature_selection.ipynb",
      "provenance": [],
      "include_colab_link": true
    }
  },
  "cells": [
    {
      "cell_type": "markdown",
      "metadata": {
        "id": "view-in-github",
        "colab_type": "text"
      },
      "source": [
        "<a href=\"https://colab.research.google.com/github/ferdouszislam/Weather-WaterLevel-Prediction-ML/blob/main/Notebooks/feature_selection.ipynb\" target=\"_parent\"><img src=\"https://colab.research.google.com/assets/colab-badge.svg\" alt=\"Open In Colab\"/></a>"
      ]
    },
    {
      "cell_type": "code",
      "metadata": {
        "id": "c999dc66"
      },
      "source": [
        "import pandas as pd\n",
        "import numpy as np\n",
        "import matplotlib.pyplot as plt"
      ],
      "id": "c999dc66",
      "execution_count": 1,
      "outputs": []
    },
    {
      "cell_type": "code",
      "metadata": {
        "id": "Et2rG7nNchTe",
        "outputId": "afbfeb7d-3012-49db-92c4-ebcdbc778477",
        "colab": {
          "base_uri": "https://localhost:8080/",
          "height": 295
        }
      },
      "source": [
        "weather_avg_train_df = pd.read_csv('https://raw.githubusercontent.com/ferdouszislam/Weather-WaterLevel-Prediction-ML/main/Datasets/brri-datasets/final-dataset/train/brri-weather_avg_train_regression.csv')\n",
        "weather_avg_train_df.sample(5)"
      ],
      "id": "Et2rG7nNchTe",
      "execution_count": 2,
      "outputs": [
        {
          "output_type": "execute_result",
          "data": {
            "text/html": [
              "<div>\n",
              "<style scoped>\n",
              "    .dataframe tbody tr th:only-of-type {\n",
              "        vertical-align: middle;\n",
              "    }\n",
              "\n",
              "    .dataframe tbody tr th {\n",
              "        vertical-align: top;\n",
              "    }\n",
              "\n",
              "    .dataframe thead th {\n",
              "        text-align: right;\n",
              "    }\n",
              "</style>\n",
              "<table border=\"1\" class=\"dataframe\">\n",
              "  <thead>\n",
              "    <tr style=\"text-align: right;\">\n",
              "      <th></th>\n",
              "      <th>Month</th>\n",
              "      <th>Avg Min Temp. (degree Celcius)</th>\n",
              "      <th>Avg Max Temp. (degree Celcius)</th>\n",
              "      <th>Avg Rainfall (mm)</th>\n",
              "      <th>Avg Actual Evaporation (mm)</th>\n",
              "      <th>Avg Relative Humidity (morning, %)</th>\n",
              "      <th>Avg Relative Humidity (afternoon, %)</th>\n",
              "      <th>Avg Sunshine (hour/day)</th>\n",
              "      <th>Avg Cloudy (hour/day)</th>\n",
              "      <th>Avg Solar Radiation (cal/cm^2/day)</th>\n",
              "      <th>Station_Barisal</th>\n",
              "      <th>Station_Gazipur</th>\n",
              "      <th>Station_Habiganj</th>\n",
              "      <th>Station_Rangpur</th>\n",
              "      <th>Rainfall (mm)</th>\n",
              "    </tr>\n",
              "  </thead>\n",
              "  <tbody>\n",
              "    <tr>\n",
              "      <th>3660</th>\n",
              "      <td>0.636364</td>\n",
              "      <td>0.813953</td>\n",
              "      <td>0.674359</td>\n",
              "      <td>0.013162</td>\n",
              "      <td>0.193548</td>\n",
              "      <td>0.90000</td>\n",
              "      <td>0.535211</td>\n",
              "      <td>0.793750</td>\n",
              "      <td>0.258667</td>\n",
              "      <td>0.776135</td>\n",
              "      <td>1.0</td>\n",
              "      <td>0.0</td>\n",
              "      <td>0.0</td>\n",
              "      <td>0.0</td>\n",
              "      <td>10.788696</td>\n",
              "    </tr>\n",
              "    <tr>\n",
              "      <th>2228</th>\n",
              "      <td>0.000000</td>\n",
              "      <td>0.320413</td>\n",
              "      <td>0.460256</td>\n",
              "      <td>0.000000</td>\n",
              "      <td>0.101868</td>\n",
              "      <td>0.69375</td>\n",
              "      <td>0.370892</td>\n",
              "      <td>0.531250</td>\n",
              "      <td>0.278774</td>\n",
              "      <td>0.323509</td>\n",
              "      <td>0.0</td>\n",
              "      <td>1.0</td>\n",
              "      <td>0.0</td>\n",
              "      <td>0.0</td>\n",
              "      <td>0.000000</td>\n",
              "    </tr>\n",
              "    <tr>\n",
              "      <th>2833</th>\n",
              "      <td>0.727273</td>\n",
              "      <td>0.789406</td>\n",
              "      <td>0.692308</td>\n",
              "      <td>0.000000</td>\n",
              "      <td>0.135823</td>\n",
              "      <td>0.75625</td>\n",
              "      <td>0.615023</td>\n",
              "      <td>0.331250</td>\n",
              "      <td>0.605333</td>\n",
              "      <td>0.347516</td>\n",
              "      <td>0.0</td>\n",
              "      <td>0.0</td>\n",
              "      <td>0.0</td>\n",
              "      <td>1.0</td>\n",
              "      <td>0.000000</td>\n",
              "    </tr>\n",
              "    <tr>\n",
              "      <th>3465</th>\n",
              "      <td>0.818182</td>\n",
              "      <td>0.611111</td>\n",
              "      <td>0.434615</td>\n",
              "      <td>0.072988</td>\n",
              "      <td>0.118846</td>\n",
              "      <td>0.87500</td>\n",
              "      <td>0.741784</td>\n",
              "      <td>0.321875</td>\n",
              "      <td>0.557333</td>\n",
              "      <td>0.291866</td>\n",
              "      <td>0.0</td>\n",
              "      <td>0.0</td>\n",
              "      <td>0.0</td>\n",
              "      <td>1.0</td>\n",
              "      <td>0.000000</td>\n",
              "    </tr>\n",
              "    <tr>\n",
              "      <th>2783</th>\n",
              "      <td>0.363636</td>\n",
              "      <td>0.741602</td>\n",
              "      <td>0.620513</td>\n",
              "      <td>0.126832</td>\n",
              "      <td>0.189009</td>\n",
              "      <td>0.92500</td>\n",
              "      <td>0.802817</td>\n",
              "      <td>0.178125</td>\n",
              "      <td>0.816000</td>\n",
              "      <td>0.307461</td>\n",
              "      <td>1.0</td>\n",
              "      <td>0.0</td>\n",
              "      <td>0.0</td>\n",
              "      <td>0.0</td>\n",
              "      <td>6.702752</td>\n",
              "    </tr>\n",
              "  </tbody>\n",
              "</table>\n",
              "</div>"
            ],
            "text/plain": [
              "         Month  Avg Min Temp. (degree Celcius)  ...  Station_Rangpur  Rainfall (mm)\n",
              "3660  0.636364                        0.813953  ...              0.0      10.788696\n",
              "2228  0.000000                        0.320413  ...              0.0       0.000000\n",
              "2833  0.727273                        0.789406  ...              1.0       0.000000\n",
              "3465  0.818182                        0.611111  ...              1.0       0.000000\n",
              "2783  0.363636                        0.741602  ...              0.0       6.702752\n",
              "\n",
              "[5 rows x 15 columns]"
            ]
          },
          "metadata": {},
          "execution_count": 2
        }
      ]
    },
    {
      "cell_type": "markdown",
      "metadata": {
        "id": "3c5c4910"
      },
      "source": [
        "## 1. Pearson Correlation based Feature Selection"
      ],
      "id": "3c5c4910"
    },
    {
      "cell_type": "code",
      "metadata": {
        "id": "9b5a2008"
      },
      "source": [
        "def pearson_correlation_fs(_df, cls, threshold_corr=0.8):\n",
        "    \"\"\"\n",
        "    function to check correlation of each pair of features a\n",
        "    and discard the one from the pair with corr > 'threshold_corr' \n",
        "    among the pair, the one with lower corr with the 'cls' is dropped \n",
        "    \"\"\"\n",
        "    \n",
        "    df = _df.copy()\n",
        "    \n",
        "    corr_matrix = df.corr()\n",
        "    cols_to_drop = set() # keep only unique features\n",
        "    \n",
        "    # get the class column index\n",
        "    for idx in range(len(corr_matrix.columns)):\n",
        "        if corr_matrix.columns[idx]==cls :\n",
        "            cls_col_idx = idx\n",
        "            break\n",
        "    \n",
        "    # find the features to drop\n",
        "    for col1_idx in range(len(corr_matrix.columns)):\n",
        "        for col2_idx in range(col1_idx):\n",
        "            if corr_matrix.columns[col1_idx] == cls or corr_matrix.columns[col2_idx] == cls:\n",
        "                continue\n",
        "                \n",
        "            if abs(corr_matrix.iloc[col1_idx, col2_idx]) > threshold_corr:\n",
        "                if abs(corr_matrix.iloc[col1_idx, cls_col_idx]) < abs(corr_matrix.iloc[col2_idx, cls_col_idx]): \n",
        "                    col_to_drop = corr_matrix.columns[col1_idx] \n",
        "                else:\n",
        "                    col_to_drop = corr_matrix.columns[col2_idx]\n",
        "                \n",
        "                print(f'dropping {col_to_drop} from ({corr_matrix.columns[col1_idx]}, {corr_matrix.columns[col2_idx]})')\n",
        "                \n",
        "                cols_to_drop.add(col_to_drop)\n",
        "    \n",
        "    cols_to_drop = list(cols_to_drop)\n",
        "    _df.drop(columns=cols_to_drop)\n",
        "    \n",
        "    return _df, cols_to_drop"
      ],
      "id": "9b5a2008",
      "execution_count": 3,
      "outputs": []
    },
    {
      "cell_type": "code",
      "metadata": {
        "id": "79ca7c95",
        "outputId": "5a3c5f4e-1173-4062-bcde-b6f6c8ddb6b9",
        "colab": {
          "base_uri": "https://localhost:8080/"
        }
      },
      "source": [
        "_, cols_to_drop = pearson_correlation_fs(weather_avg_train_df, cls='Rainfall (mm)', threshold_corr=0.75)\n",
        "cols_to_drop"
      ],
      "id": "79ca7c95",
      "execution_count": 4,
      "outputs": [
        {
          "output_type": "stream",
          "name": "stdout",
          "text": [
            "dropping Avg Max Temp. (degree Celcius) from (Avg Max Temp. (degree Celcius), Avg Min Temp. (degree Celcius))\n",
            "dropping Avg Cloudy (hour/day) from (Avg Cloudy (hour/day), Avg Relative Humidity (afternoon, %))\n",
            "dropping Avg Sunshine (hour/day) from (Avg Cloudy (hour/day), Avg Sunshine (hour/day))\n",
            "dropping Avg Sunshine (hour/day) from (Avg Solar Radiation (cal/cm^2/day), Avg Sunshine (hour/day))\n"
          ]
        },
        {
          "output_type": "execute_result",
          "data": {
            "text/plain": [
              "['Avg Sunshine (hour/day)',\n",
              " 'Avg Cloudy (hour/day)',\n",
              " 'Avg Max Temp. (degree Celcius)']"
            ]
          },
          "metadata": {},
          "execution_count": 4
        }
      ]
    },
    {
      "cell_type": "markdown",
      "metadata": {
        "id": "f17d4f52"
      },
      "source": [
        "## 2. Feature Selection using SeleckKBest\n",
        "\n",
        "Useful links: \n",
        "- https://scikit-learn.org/stable/modules/generated/sklearn.feature_selection.SelectKBest.html\n",
        "- https://scikit-learn.org/stable/modules/feature_selection.html\n",
        "- https://towardsdatascience.com/5-feature-selection-method-from-scikit-learn-you-should-know-ed4d116e4172"
      ],
      "id": "f17d4f52"
    },
    {
      "cell_type": "code",
      "metadata": {
        "id": "eadd4030"
      },
      "source": [
        "from sklearn.feature_selection import SelectKBest, f_regression, mutual_info_regression, mutual_info_classif\n",
        "\n",
        "\n",
        "def seleckKBest_fs(_df, cls, is_regression,\n",
        "                   fixed_cols=['Station_Barisal', 'Station_Gazipur', 'Station_Rangpur', 'Station_Habiganj'], \n",
        "                   num_features=7, \n",
        "                   fs_method=mutual_info_regression):\n",
        "    \"\"\"\n",
        "    parameters- training dataframe, class name, boolean to specify regression or classification\n",
        "    returns dataframe and list of dropped columns\n",
        "    \"\"\"\n",
        "    df = _df.copy()\n",
        "\n",
        "    fixed_cols.append(cls)\n",
        "    X = df.drop(columns=fixed_cols)\n",
        "    y = df[cls]\n",
        "    \n",
        "    if is_regression:\n",
        "      fs_method = mutual_info_regression\n",
        "    else:\n",
        "      fs_method = mutual_info_classif\n",
        "\n",
        "    # select top 'num_features' features based on mutual info regression\n",
        "    # total features would be 'num_features' + 1(station column) \n",
        "    selector = SelectKBest(fs_method, k=num_features)\n",
        "    selector.fit(X, y)\n",
        "    selected_cols = list(X.columns[selector.get_support()])\n",
        "\n",
        "    cols_to_drop = []\n",
        "    for col in df.columns:\n",
        "        if col in [cls, 'Station_Barisal', 'Station_Gazipur', 'Station_Rangpur', 'Station_Habiganj']:\n",
        "            continue\n",
        "        elif col not in selected_cols:\n",
        "            cols_to_drop.append(col)\n",
        "            \n",
        "    df.drop(columns=cols_to_drop)\n",
        "    \n",
        "    return df, cols_to_drop"
      ],
      "id": "eadd4030",
      "execution_count": 5,
      "outputs": []
    },
    {
      "cell_type": "code",
      "metadata": {
        "id": "133f89c9",
        "outputId": "ff3b8dc0-7e55-4d07-999b-cd9ad256e722",
        "colab": {
          "base_uri": "https://localhost:8080/"
        }
      },
      "source": [
        "_, cols_to_drop = seleckKBest_fs(_df=weather_avg_train_df, cls='Rainfall (mm)', is_regression=True)\n",
        "cols_to_drop"
      ],
      "id": "133f89c9",
      "execution_count": 6,
      "outputs": [
        {
          "output_type": "execute_result",
          "data": {
            "text/plain": [
              "['Avg Sunshine (hour/day)',\n",
              " 'Avg Cloudy (hour/day)',\n",
              " 'Avg Solar Radiation (cal/cm^2/day)']"
            ]
          },
          "metadata": {},
          "execution_count": 6
        }
      ]
    },
    {
      "cell_type": "markdown",
      "metadata": {
        "id": "s655zLhdclOl"
      },
      "source": [
        "## 3. Selection Sequential Feature Selection (SFS) \n",
        "Useful links:  \n",
        "- https://scikit-learn.org/stable/modules/generated/sklearn.feature_selection.SequentialFeatureSelector.html#sklearn.feature_selection.SequentialFeatureSelector\n",
        "- https://scikit-learn.org/stable/modules/feature_selection.html\n",
        "- https://towardsdatascience.com/5-feature-selection-method-from-scikit-learn-you-should-know-ed4d116e4172"
      ],
      "id": "s655zLhdclOl"
    },
    {
      "cell_type": "code",
      "metadata": {
        "id": "sIqaEIexk0dZ"
      },
      "source": [
        "from sklearn.feature_selection import SequentialFeatureSelector\n",
        "from sklearn.svm import LinearSVC, LinearSVR\n",
        "\n",
        "from sklearn.feature_selection import SelectKBest, f_regression, mutual_info_regression\n",
        "\n",
        "\n",
        "def selectSequential_fs(_df, cls, is_regression,\n",
        "                        fixed_cols=['Station_Barisal', 'Station_Gazipur', 'Station_Rangpur', 'Station_Habiganj'], \n",
        "                        num_features=7, \n",
        "                        fs_method='forward'):\n",
        "    \"\"\"\n",
        "    parameters- training dataframe, class name, boolean to specify regression or classification\n",
        "    returns dataframe and list of dropped columns\n",
        "    \"\"\"\n",
        "    df = _df.copy()\n",
        "\n",
        "    fixed_cols.append(cls)\n",
        "    X = df.drop(columns=fixed_cols)\n",
        "    y = df[cls]\n",
        " \n",
        "    if is_regression:\n",
        "      estimator = LinearSVR(C=0.01, random_state=42)\n",
        "      scoring='r2'\n",
        "    else:\n",
        "      estimator = LinearSVC(C=0.01, penalty=\"l1\", dual=False, random_state=42)\n",
        "      scoring = 'accuracy'\n",
        "    \n",
        "    # select top 'num_features' features based on mutual info regression\n",
        "    # total features would be 'num_features' + 1(station column) \n",
        "    selector = SequentialFeatureSelector(estimator=estimator, n_features_to_select=num_features, cv=10, direction=fs_method, scoring=scoring)\n",
        "    selector.fit(X, y)\n",
        "    selected_cols = list(X.columns[selector.get_support()])\n",
        "\n",
        "    cols_to_drop = []\n",
        "    for col in df.columns:\n",
        "        if col in [cls, 'Station_Barisal', 'Station_Gazipur', 'Station_Rangpur', 'Station_Habiganj']:\n",
        "            continue\n",
        "        elif col not in selected_cols:\n",
        "            cols_to_drop.append(col)\n",
        "            \n",
        "    df.drop(columns=cols_to_drop)\n",
        "    \n",
        "    return df, cols_to_drop"
      ],
      "id": "sIqaEIexk0dZ",
      "execution_count": 7,
      "outputs": []
    },
    {
      "cell_type": "code",
      "metadata": {
        "id": "XdYKvUDcmFNq",
        "outputId": "05bc054c-9ab0-4974-a801-caa7e6e92345",
        "colab": {
          "base_uri": "https://localhost:8080/"
        }
      },
      "source": [
        "_, cols_to_drop = selectSequential_fs(_df=weather_avg_train_df, cls='Rainfall (mm)', is_regression=True)\n",
        "cols_to_drop"
      ],
      "id": "XdYKvUDcmFNq",
      "execution_count": 8,
      "outputs": [
        {
          "output_type": "execute_result",
          "data": {
            "text/plain": [
              "['Avg Min Temp. (degree Celcius)',\n",
              " 'Avg Max Temp. (degree Celcius)',\n",
              " 'Avg Relative Humidity (afternoon, %)']"
            ]
          },
          "metadata": {},
          "execution_count": 8
        }
      ]
    }
  ]
}