{
 "cells": [
  {
   "cell_type": "code",
   "execution_count": 1,
   "id": "b58fa20a",
   "metadata": {},
   "outputs": [],
   "source": [
    "# required for jupyter notebook\n",
    "%matplotlib inline \n",
    "\n",
    "import pandas as pd\n",
    "import numpy as np\n",
    "import matplotlib.pyplot as plt\n",
    "\n",
    "import seaborn as sns\n",
    "sns.set(rc={'figure.figsize':(8,6)}) # set sns figure size\n",
    "\n",
    "import os\n",
    "import math"
   ]
  },
  {
   "cell_type": "code",
   "execution_count": 2,
   "id": "4c8d70a8",
   "metadata": {},
   "outputs": [
    {
     "data": {
      "text/html": [
       "<div>\n",
       "<style scoped>\n",
       "    .dataframe tbody tr th:only-of-type {\n",
       "        vertical-align: middle;\n",
       "    }\n",
       "\n",
       "    .dataframe tbody tr th {\n",
       "        vertical-align: top;\n",
       "    }\n",
       "\n",
       "    .dataframe thead th {\n",
       "        text-align: right;\n",
       "    }\n",
       "</style>\n",
       "<table border=\"1\" class=\"dataframe\">\n",
       "  <thead>\n",
       "    <tr style=\"text-align: right;\">\n",
       "      <th></th>\n",
       "      <th>Station</th>\n",
       "      <th>Year</th>\n",
       "      <th>Month</th>\n",
       "      <th>Day</th>\n",
       "      <th>Max Temp. (degree Celcius)</th>\n",
       "      <th>Min Temp. (degree Celcius)</th>\n",
       "      <th>Rainfall (mm)</th>\n",
       "      <th>Actual Evaporation (mm)</th>\n",
       "      <th>Relative Humidity (morning, %)</th>\n",
       "      <th>Relative Humidity (afternoon, %)</th>\n",
       "      <th>Sunshine (hour/day)</th>\n",
       "      <th>Cloudy (hour/day)</th>\n",
       "      <th>Solar Radiation (cal/cm^2/day)</th>\n",
       "      <th>MAX_WL(m)</th>\n",
       "      <th>MIN_WL(m)</th>\n",
       "      <th>AVE_WL(m)</th>\n",
       "    </tr>\n",
       "  </thead>\n",
       "  <tbody>\n",
       "    <tr>\n",
       "      <th>0</th>\n",
       "      <td>Barisal</td>\n",
       "      <td>2017</td>\n",
       "      <td>1</td>\n",
       "      <td>1</td>\n",
       "      <td>25.2</td>\n",
       "      <td>13.8</td>\n",
       "      <td>0.0</td>\n",
       "      <td>1.0</td>\n",
       "      <td>94</td>\n",
       "      <td>62.0</td>\n",
       "      <td>6.3</td>\n",
       "      <td>4.5</td>\n",
       "      <td>277.72</td>\n",
       "      <td>1.17</td>\n",
       "      <td>0.13</td>\n",
       "      <td>0.65</td>\n",
       "    </tr>\n",
       "    <tr>\n",
       "      <th>1</th>\n",
       "      <td>Barisal</td>\n",
       "      <td>2017</td>\n",
       "      <td>1</td>\n",
       "      <td>2</td>\n",
       "      <td>25.4</td>\n",
       "      <td>13.8</td>\n",
       "      <td>0.0</td>\n",
       "      <td>1.0</td>\n",
       "      <td>94</td>\n",
       "      <td>62.0</td>\n",
       "      <td>5.5</td>\n",
       "      <td>5.3</td>\n",
       "      <td>257.52</td>\n",
       "      <td>1.10</td>\n",
       "      <td>0.11</td>\n",
       "      <td>0.65</td>\n",
       "    </tr>\n",
       "    <tr>\n",
       "      <th>2</th>\n",
       "      <td>Barisal</td>\n",
       "      <td>2017</td>\n",
       "      <td>1</td>\n",
       "      <td>3</td>\n",
       "      <td>25.6</td>\n",
       "      <td>13.4</td>\n",
       "      <td>0.0</td>\n",
       "      <td>1.0</td>\n",
       "      <td>94</td>\n",
       "      <td>61.0</td>\n",
       "      <td>6.2</td>\n",
       "      <td>4.6</td>\n",
       "      <td>275.20</td>\n",
       "      <td>1.05</td>\n",
       "      <td>0.08</td>\n",
       "      <td>0.65</td>\n",
       "    </tr>\n",
       "    <tr>\n",
       "      <th>3</th>\n",
       "      <td>Barisal</td>\n",
       "      <td>2017</td>\n",
       "      <td>1</td>\n",
       "      <td>4</td>\n",
       "      <td>25.4</td>\n",
       "      <td>14.0</td>\n",
       "      <td>0.0</td>\n",
       "      <td>1.0</td>\n",
       "      <td>94</td>\n",
       "      <td>64.0</td>\n",
       "      <td>6.3</td>\n",
       "      <td>4.5</td>\n",
       "      <td>277.72</td>\n",
       "      <td>0.99</td>\n",
       "      <td>0.04</td>\n",
       "      <td>0.60</td>\n",
       "    </tr>\n",
       "    <tr>\n",
       "      <th>4</th>\n",
       "      <td>Barisal</td>\n",
       "      <td>2017</td>\n",
       "      <td>1</td>\n",
       "      <td>5</td>\n",
       "      <td>23.0</td>\n",
       "      <td>13.0</td>\n",
       "      <td>0.0</td>\n",
       "      <td>1.0</td>\n",
       "      <td>94</td>\n",
       "      <td>68.0</td>\n",
       "      <td>4.0</td>\n",
       "      <td>6.8</td>\n",
       "      <td>219.63</td>\n",
       "      <td>0.95</td>\n",
       "      <td>0.02</td>\n",
       "      <td>0.55</td>\n",
       "    </tr>\n",
       "  </tbody>\n",
       "</table>\n",
       "</div>"
      ],
      "text/plain": [
       "   Station  Year  Month  Day  Max Temp. (degree Celcius)  \\\n",
       "0  Barisal  2017      1    1                        25.2   \n",
       "1  Barisal  2017      1    2                        25.4   \n",
       "2  Barisal  2017      1    3                        25.6   \n",
       "3  Barisal  2017      1    4                        25.4   \n",
       "4  Barisal  2017      1    5                        23.0   \n",
       "\n",
       "   Min Temp. (degree Celcius)  Rainfall (mm)  Actual Evaporation (mm)  \\\n",
       "0                        13.8            0.0                      1.0   \n",
       "1                        13.8            0.0                      1.0   \n",
       "2                        13.4            0.0                      1.0   \n",
       "3                        14.0            0.0                      1.0   \n",
       "4                        13.0            0.0                      1.0   \n",
       "\n",
       "   Relative Humidity (morning, %)  Relative Humidity (afternoon, %)  \\\n",
       "0                              94                              62.0   \n",
       "1                              94                              62.0   \n",
       "2                              94                              61.0   \n",
       "3                              94                              64.0   \n",
       "4                              94                              68.0   \n",
       "\n",
       "   Sunshine (hour/day)  Cloudy (hour/day)  Solar Radiation (cal/cm^2/day)  \\\n",
       "0                  6.3                4.5                          277.72   \n",
       "1                  5.5                5.3                          257.52   \n",
       "2                  6.2                4.6                          275.20   \n",
       "3                  6.3                4.5                          277.72   \n",
       "4                  4.0                6.8                          219.63   \n",
       "\n",
       "   MAX_WL(m)  MIN_WL(m)  AVE_WL(m)  \n",
       "0       1.17       0.13       0.65  \n",
       "1       1.10       0.11       0.65  \n",
       "2       1.05       0.08       0.65  \n",
       "3       0.99       0.04       0.60  \n",
       "4       0.95       0.02       0.55  "
      ]
     },
     "execution_count": 2,
     "metadata": {},
     "output_type": "execute_result"
    }
   ],
   "source": [
    "# read raw csv by marking dropping missing values\n",
    "missing_values = ['NIL', 'nil', '']\n",
    "raw_df = pd.read_csv(os.path.join('..', '..', 'Datasets', 'water-level', 'barisal-weather-waterlevel_merged.csv'), \n",
    "                     na_values=missing_values)\n",
    "\n",
    "raw_df.head()"
   ]
  },
  {
   "cell_type": "markdown",
   "id": "3d8c4d20",
   "metadata": {},
   "source": [
    "## Pre-process on the daily dataset"
   ]
  },
  {
   "cell_type": "code",
   "execution_count": 3,
   "id": "c35fc304",
   "metadata": {},
   "outputs": [],
   "source": [
    "preProcessed_df = raw_df.copy()"
   ]
  },
  {
   "cell_type": "markdown",
   "id": "780829b3",
   "metadata": {},
   "source": [
    "### 1. Put NaN for invalid column values\n",
    "\n",
    "**2017 June 24 and 2019 whole December contains invalid values for Cloudy > 24.0**"
   ]
  },
  {
   "cell_type": "code",
   "execution_count": 4,
   "id": "955c894f",
   "metadata": {},
   "outputs": [],
   "source": [
    "preProcessed_df.loc[preProcessed_df['Cloudy (hour/day)'] > 24.0, 'Cloudy (hour/day)'] = math.nan"
   ]
  },
  {
   "cell_type": "markdown",
   "id": "cb6031b5",
   "metadata": {},
   "source": [
    "### 2. Fill missing values with mean of monthly values"
   ]
  },
  {
   "cell_type": "code",
   "execution_count": 5,
   "id": "5cf499d2",
   "metadata": {},
   "outputs": [
    {
     "name": "stdout",
     "output_type": "stream",
     "text": [
      "Total instances=1453, missing=212(14.59%)\n"
     ]
    }
   ],
   "source": [
    "def show_missing_data(_df):\n",
    "    df = _df.copy()\n",
    "    total_cnt = df.shape[0]\n",
    "    missing_cnt = df.shape[0]-df.dropna().shape[0]\n",
    "    print(f'Total instances={total_cnt}, missing={missing_cnt}({round(missing_cnt*100.0/total_cnt, 2)}%)')\n",
    "\n",
    "show_missing_data(preProcessed_df)"
   ]
  },
  {
   "cell_type": "code",
   "execution_count": 6,
   "id": "bf544d45",
   "metadata": {},
   "outputs": [
    {
     "name": "stdout",
     "output_type": "stream",
     "text": [
      "Total instances=1453, missing=90(6.19%)\n"
     ]
    }
   ],
   "source": [
    "for column in preProcessed_df.columns:\n",
    "    if column in ['Station', 'Year', 'Month', 'Day']:\n",
    "        continue\n",
    "        \n",
    "    preProcessed_df[column] = preProcessed_df.groupby(['Month', 'Year'])[column].transform(\n",
    "        lambda grp: grp.fillna(np.mean(grp))\n",
    "    )\n",
    "    \n",
    "show_missing_data(preProcessed_df)"
   ]
  },
  {
   "cell_type": "code",
   "execution_count": 7,
   "id": "b801086f",
   "metadata": {},
   "outputs": [],
   "source": [
    "# preProcessed_df[preProcessed_df.isna().any(axis=1)]"
   ]
  },
  {
   "cell_type": "markdown",
   "id": "31a1830c",
   "metadata": {},
   "source": [
    "**Some weather data for whole month of December 2019, February 2018 and May 2018 are still missing. Dropping them.**  "
   ]
  },
  {
   "cell_type": "code",
   "execution_count": 8,
   "id": "219b5935",
   "metadata": {},
   "outputs": [
    {
     "name": "stdout",
     "output_type": "stream",
     "text": [
      "Total instances=1363, missing=0(0.0%)\n"
     ]
    }
   ],
   "source": [
    "preProcessed_df.dropna(inplace=True)\n",
    "show_missing_data(preProcessed_df)"
   ]
  },
  {
   "cell_type": "markdown",
   "id": "2268d086",
   "metadata": {},
   "source": [
    "### 3. Drop unnecessary columns: Station, Year, Day"
   ]
  },
  {
   "cell_type": "code",
   "execution_count": 9,
   "id": "c8a41fcd",
   "metadata": {},
   "outputs": [
    {
     "data": {
      "text/html": [
       "<div>\n",
       "<style scoped>\n",
       "    .dataframe tbody tr th:only-of-type {\n",
       "        vertical-align: middle;\n",
       "    }\n",
       "\n",
       "    .dataframe tbody tr th {\n",
       "        vertical-align: top;\n",
       "    }\n",
       "\n",
       "    .dataframe thead th {\n",
       "        text-align: right;\n",
       "    }\n",
       "</style>\n",
       "<table border=\"1\" class=\"dataframe\">\n",
       "  <thead>\n",
       "    <tr style=\"text-align: right;\">\n",
       "      <th></th>\n",
       "      <th>Month</th>\n",
       "      <th>Max Temp. (degree Celcius)</th>\n",
       "      <th>Min Temp. (degree Celcius)</th>\n",
       "      <th>Rainfall (mm)</th>\n",
       "      <th>Actual Evaporation (mm)</th>\n",
       "      <th>Relative Humidity (morning, %)</th>\n",
       "      <th>Relative Humidity (afternoon, %)</th>\n",
       "      <th>Sunshine (hour/day)</th>\n",
       "      <th>Cloudy (hour/day)</th>\n",
       "      <th>Solar Radiation (cal/cm^2/day)</th>\n",
       "      <th>MAX_WL(m)</th>\n",
       "      <th>MIN_WL(m)</th>\n",
       "      <th>AVE_WL(m)</th>\n",
       "    </tr>\n",
       "  </thead>\n",
       "  <tbody>\n",
       "    <tr>\n",
       "      <th>0</th>\n",
       "      <td>1</td>\n",
       "      <td>25.2</td>\n",
       "      <td>13.8</td>\n",
       "      <td>0.0</td>\n",
       "      <td>1.0</td>\n",
       "      <td>94</td>\n",
       "      <td>62.0</td>\n",
       "      <td>6.3</td>\n",
       "      <td>4.5</td>\n",
       "      <td>277.72</td>\n",
       "      <td>1.17</td>\n",
       "      <td>0.13</td>\n",
       "      <td>0.65</td>\n",
       "    </tr>\n",
       "    <tr>\n",
       "      <th>1</th>\n",
       "      <td>1</td>\n",
       "      <td>25.4</td>\n",
       "      <td>13.8</td>\n",
       "      <td>0.0</td>\n",
       "      <td>1.0</td>\n",
       "      <td>94</td>\n",
       "      <td>62.0</td>\n",
       "      <td>5.5</td>\n",
       "      <td>5.3</td>\n",
       "      <td>257.52</td>\n",
       "      <td>1.10</td>\n",
       "      <td>0.11</td>\n",
       "      <td>0.65</td>\n",
       "    </tr>\n",
       "    <tr>\n",
       "      <th>2</th>\n",
       "      <td>1</td>\n",
       "      <td>25.6</td>\n",
       "      <td>13.4</td>\n",
       "      <td>0.0</td>\n",
       "      <td>1.0</td>\n",
       "      <td>94</td>\n",
       "      <td>61.0</td>\n",
       "      <td>6.2</td>\n",
       "      <td>4.6</td>\n",
       "      <td>275.20</td>\n",
       "      <td>1.05</td>\n",
       "      <td>0.08</td>\n",
       "      <td>0.65</td>\n",
       "    </tr>\n",
       "    <tr>\n",
       "      <th>3</th>\n",
       "      <td>1</td>\n",
       "      <td>25.4</td>\n",
       "      <td>14.0</td>\n",
       "      <td>0.0</td>\n",
       "      <td>1.0</td>\n",
       "      <td>94</td>\n",
       "      <td>64.0</td>\n",
       "      <td>6.3</td>\n",
       "      <td>4.5</td>\n",
       "      <td>277.72</td>\n",
       "      <td>0.99</td>\n",
       "      <td>0.04</td>\n",
       "      <td>0.60</td>\n",
       "    </tr>\n",
       "    <tr>\n",
       "      <th>4</th>\n",
       "      <td>1</td>\n",
       "      <td>23.0</td>\n",
       "      <td>13.0</td>\n",
       "      <td>0.0</td>\n",
       "      <td>1.0</td>\n",
       "      <td>94</td>\n",
       "      <td>68.0</td>\n",
       "      <td>4.0</td>\n",
       "      <td>6.8</td>\n",
       "      <td>219.63</td>\n",
       "      <td>0.95</td>\n",
       "      <td>0.02</td>\n",
       "      <td>0.55</td>\n",
       "    </tr>\n",
       "  </tbody>\n",
       "</table>\n",
       "</div>"
      ],
      "text/plain": [
       "   Month  Max Temp. (degree Celcius)  Min Temp. (degree Celcius)  \\\n",
       "0      1                        25.2                        13.8   \n",
       "1      1                        25.4                        13.8   \n",
       "2      1                        25.6                        13.4   \n",
       "3      1                        25.4                        14.0   \n",
       "4      1                        23.0                        13.0   \n",
       "\n",
       "   Rainfall (mm)  Actual Evaporation (mm)  Relative Humidity (morning, %)  \\\n",
       "0            0.0                      1.0                              94   \n",
       "1            0.0                      1.0                              94   \n",
       "2            0.0                      1.0                              94   \n",
       "3            0.0                      1.0                              94   \n",
       "4            0.0                      1.0                              94   \n",
       "\n",
       "   Relative Humidity (afternoon, %)  Sunshine (hour/day)  Cloudy (hour/day)  \\\n",
       "0                              62.0                  6.3                4.5   \n",
       "1                              62.0                  5.5                5.3   \n",
       "2                              61.0                  6.2                4.6   \n",
       "3                              64.0                  6.3                4.5   \n",
       "4                              68.0                  4.0                6.8   \n",
       "\n",
       "   Solar Radiation (cal/cm^2/day)  MAX_WL(m)  MIN_WL(m)  AVE_WL(m)  \n",
       "0                          277.72       1.17       0.13       0.65  \n",
       "1                          257.52       1.10       0.11       0.65  \n",
       "2                          275.20       1.05       0.08       0.65  \n",
       "3                          277.72       0.99       0.04       0.60  \n",
       "4                          219.63       0.95       0.02       0.55  "
      ]
     },
     "execution_count": 9,
     "metadata": {},
     "output_type": "execute_result"
    }
   ],
   "source": [
    "preProcessed_df.drop(columns=['Station', 'Year', 'Day'], inplace=True)\n",
    "preProcessed_df.head()"
   ]
  },
  {
   "cell_type": "markdown",
   "id": "ffb19e9e",
   "metadata": {},
   "source": [
    "## Pre-process the forecast-with-avg dataset"
   ]
  },
  {
   "cell_type": "code",
   "execution_count": 10,
   "id": "ac8cf509",
   "metadata": {},
   "outputs": [],
   "source": [
    "from custom_utils import get_avg_df"
   ]
  },
  {
   "cell_type": "code",
   "execution_count": 11,
   "id": "e4d12693",
   "metadata": {},
   "outputs": [],
   "source": [
    "preProcessed_forecastAvg_df = raw_df.copy()\n",
    "\n",
    "# put NaN where invalid data for the column 'Cloudy'\n",
    "preProcessed_forecastAvg_df.loc[preProcessed_forecastAvg_df['Cloudy (hour/day)']>24.0, 'Cloudy (hour/day)'] = math.nan\n",
    "\n",
    "# fill NaN values with monthly mean before forming the forecast-with-avg dataset\n",
    "for column in preProcessed_forecastAvg_df.columns:\n",
    "    if column in ['Station', 'Year', 'Month', 'Day']:\n",
    "        continue\n",
    "        \n",
    "    preProcessed_forecastAvg_df[column] = preProcessed_forecastAvg_df.groupby(['Month', 'Year'])[column].transform(\n",
    "        lambda grp: grp.fillna(np.mean(grp))\n",
    "    )\n",
    "\n",
    "preProcessed_forecastAvg_df = get_avg_df(preProcessed_forecastAvg_df)"
   ]
  },
  {
   "cell_type": "code",
   "execution_count": 12,
   "id": "f44cbae8",
   "metadata": {},
   "outputs": [
    {
     "name": "stdout",
     "output_type": "stream",
     "text": [
      "Total instances=1443, missing=84(5.82%)\n"
     ]
    }
   ],
   "source": [
    "show_missing_data(preProcessed_forecastAvg_df)"
   ]
  },
  {
   "cell_type": "code",
   "execution_count": 13,
   "id": "31a1c5e0",
   "metadata": {},
   "outputs": [
    {
     "name": "stdout",
     "output_type": "stream",
     "text": [
      "Total instances=1359, missing=0(0.0%)\n"
     ]
    }
   ],
   "source": [
    "preProcessed_forecastAvg_df.dropna(inplace=True)\n",
    "show_missing_data(preProcessed_forecastAvg_df)"
   ]
  },
  {
   "cell_type": "code",
   "execution_count": 14,
   "id": "aacc99d2",
   "metadata": {},
   "outputs": [
    {
     "name": "stdout",
     "output_type": "stream",
     "text": [
      "<class 'pandas.core.frame.DataFrame'>\n",
      "Int64Index: 1359 entries, 0 to 1442\n",
      "Data columns (total 12 columns):\n",
      " #   Column                                Non-Null Count  Dtype  \n",
      "---  ------                                --------------  -----  \n",
      " 0   Month                                 1359 non-null   int64  \n",
      " 1   Avg Max Temp. (degree Celcius)        1359 non-null   float64\n",
      " 2   Avg Min Temp. (degree Celcius)        1359 non-null   float64\n",
      " 3   Avg Rainfall (mm)                     1359 non-null   float64\n",
      " 4   Avg Actual Evaporation (mm)           1359 non-null   float64\n",
      " 5   Avg Relative Humidity (morning, %)    1359 non-null   float64\n",
      " 6   Avg Relative Humidity (afternoon, %)  1359 non-null   float64\n",
      " 7   Avg Sunshine (hour/day)               1359 non-null   float64\n",
      " 8   Avg Cloudy (hour/day)                 1359 non-null   float64\n",
      " 9   Avg Solar Radiation (cal/cm^2/day)    1359 non-null   float64\n",
      " 10  MAX_WL(m)                             1359 non-null   float64\n",
      " 11  AVE_WL(m)                             1359 non-null   float64\n",
      "dtypes: float64(11), int64(1)\n",
      "memory usage: 138.0 KB\n"
     ]
    }
   ],
   "source": [
    "preProcessed_forecastAvg_df.info()"
   ]
  },
  {
   "cell_type": "markdown",
   "id": "8a56406f",
   "metadata": {},
   "source": [
    "## Save the pre-processed datasets"
   ]
  },
  {
   "cell_type": "code",
   "execution_count": 15,
   "id": "9db483f6",
   "metadata": {},
   "outputs": [],
   "source": [
    "preProcessed_df.to_csv(os.path.join('..', '..', 'Datasets', 'water-level', 'pre-processed', 'weather-waterlevel_preprocessed.csv'), index=False)\n",
    "preProcessed_forecastAvg_df.to_csv(os.path.join('..', '..', 'Datasets', 'water-level', 'pre-processed', 'weather-waterlevel-forecast-avg_preprocessed.csv'), index=False)"
   ]
  }
 ],
 "metadata": {
  "kernelspec": {
   "display_name": "Python 3",
   "language": "python",
   "name": "python3"
  },
  "language_info": {
   "codemirror_mode": {
    "name": "ipython",
    "version": 3
   },
   "file_extension": ".py",
   "mimetype": "text/x-python",
   "name": "python",
   "nbconvert_exporter": "python",
   "pygments_lexer": "ipython3",
   "version": "3.8.8"
  }
 },
 "nbformat": 4,
 "nbformat_minor": 5
}
