{
 "cells": [
  {
   "cell_type": "code",
   "execution_count": 1,
   "id": "b58fa20a",
   "metadata": {},
   "outputs": [],
   "source": [
    "# required for jupyter notebook\n",
    "%matplotlib inline \n",
    "\n",
    "import pandas as pd\n",
    "import numpy as np\n",
    "import matplotlib.pyplot as plt\n",
    "\n",
    "import seaborn as sns\n",
    "sns.set(rc={'figure.figsize':(8,6)}) # set sns figure size\n",
    "\n",
    "import os\n",
    "import math"
   ]
  },
  {
   "cell_type": "code",
   "execution_count": 2,
   "id": "4c8d70a8",
   "metadata": {},
   "outputs": [
    {
     "data": {
      "text/html": [
       "<div>\n",
       "<style scoped>\n",
       "    .dataframe tbody tr th:only-of-type {\n",
       "        vertical-align: middle;\n",
       "    }\n",
       "\n",
       "    .dataframe tbody tr th {\n",
       "        vertical-align: top;\n",
       "    }\n",
       "\n",
       "    .dataframe thead th {\n",
       "        text-align: right;\n",
       "    }\n",
       "</style>\n",
       "<table border=\"1\" class=\"dataframe\">\n",
       "  <thead>\n",
       "    <tr style=\"text-align: right;\">\n",
       "      <th></th>\n",
       "      <th>Station</th>\n",
       "      <th>Year</th>\n",
       "      <th>Month</th>\n",
       "      <th>Day</th>\n",
       "      <th>Max Temp. (degree Celcius)</th>\n",
       "      <th>Min Temp. (degree Celcius)</th>\n",
       "      <th>Rainfall (mm)</th>\n",
       "      <th>Actual Evaporation (mm)</th>\n",
       "      <th>Relative Humidity (morning, %)</th>\n",
       "      <th>Relative Humidity (afternoon, %)</th>\n",
       "      <th>Sunshine (hour/day)</th>\n",
       "      <th>Cloudy (hour/day)</th>\n",
       "      <th>Solar Radiation (cal/cm^2/day)</th>\n",
       "      <th>MAX_WL(m)</th>\n",
       "      <th>MIN_WL(m)</th>\n",
       "      <th>AVE_WL(m)</th>\n",
       "    </tr>\n",
       "  </thead>\n",
       "  <tbody>\n",
       "    <tr>\n",
       "      <th>0</th>\n",
       "      <td>Barisal</td>\n",
       "      <td>2017</td>\n",
       "      <td>1</td>\n",
       "      <td>1</td>\n",
       "      <td>25.2</td>\n",
       "      <td>13.8</td>\n",
       "      <td>0.0</td>\n",
       "      <td>1.0</td>\n",
       "      <td>94</td>\n",
       "      <td>62.0</td>\n",
       "      <td>6.3</td>\n",
       "      <td>4.5</td>\n",
       "      <td>277.72</td>\n",
       "      <td>1.17</td>\n",
       "      <td>0.13</td>\n",
       "      <td>0.65</td>\n",
       "    </tr>\n",
       "    <tr>\n",
       "      <th>1</th>\n",
       "      <td>Barisal</td>\n",
       "      <td>2017</td>\n",
       "      <td>1</td>\n",
       "      <td>2</td>\n",
       "      <td>25.4</td>\n",
       "      <td>13.8</td>\n",
       "      <td>0.0</td>\n",
       "      <td>1.0</td>\n",
       "      <td>94</td>\n",
       "      <td>62.0</td>\n",
       "      <td>5.5</td>\n",
       "      <td>5.3</td>\n",
       "      <td>257.52</td>\n",
       "      <td>1.10</td>\n",
       "      <td>0.11</td>\n",
       "      <td>0.65</td>\n",
       "    </tr>\n",
       "    <tr>\n",
       "      <th>2</th>\n",
       "      <td>Barisal</td>\n",
       "      <td>2017</td>\n",
       "      <td>1</td>\n",
       "      <td>3</td>\n",
       "      <td>25.6</td>\n",
       "      <td>13.4</td>\n",
       "      <td>0.0</td>\n",
       "      <td>1.0</td>\n",
       "      <td>94</td>\n",
       "      <td>61.0</td>\n",
       "      <td>6.2</td>\n",
       "      <td>4.6</td>\n",
       "      <td>275.20</td>\n",
       "      <td>1.05</td>\n",
       "      <td>0.08</td>\n",
       "      <td>0.65</td>\n",
       "    </tr>\n",
       "    <tr>\n",
       "      <th>3</th>\n",
       "      <td>Barisal</td>\n",
       "      <td>2017</td>\n",
       "      <td>1</td>\n",
       "      <td>4</td>\n",
       "      <td>25.4</td>\n",
       "      <td>14.0</td>\n",
       "      <td>0.0</td>\n",
       "      <td>1.0</td>\n",
       "      <td>94</td>\n",
       "      <td>64.0</td>\n",
       "      <td>6.3</td>\n",
       "      <td>4.5</td>\n",
       "      <td>277.72</td>\n",
       "      <td>0.99</td>\n",
       "      <td>0.04</td>\n",
       "      <td>0.60</td>\n",
       "    </tr>\n",
       "    <tr>\n",
       "      <th>4</th>\n",
       "      <td>Barisal</td>\n",
       "      <td>2017</td>\n",
       "      <td>1</td>\n",
       "      <td>5</td>\n",
       "      <td>23.0</td>\n",
       "      <td>13.0</td>\n",
       "      <td>0.0</td>\n",
       "      <td>1.0</td>\n",
       "      <td>94</td>\n",
       "      <td>68.0</td>\n",
       "      <td>4.0</td>\n",
       "      <td>6.8</td>\n",
       "      <td>219.63</td>\n",
       "      <td>0.95</td>\n",
       "      <td>0.02</td>\n",
       "      <td>0.55</td>\n",
       "    </tr>\n",
       "  </tbody>\n",
       "</table>\n",
       "</div>"
      ],
      "text/plain": [
       "   Station  Year  Month  Day  Max Temp. (degree Celcius)  \\\n",
       "0  Barisal  2017      1    1                        25.2   \n",
       "1  Barisal  2017      1    2                        25.4   \n",
       "2  Barisal  2017      1    3                        25.6   \n",
       "3  Barisal  2017      1    4                        25.4   \n",
       "4  Barisal  2017      1    5                        23.0   \n",
       "\n",
       "   Min Temp. (degree Celcius)  Rainfall (mm)  Actual Evaporation (mm)  \\\n",
       "0                        13.8            0.0                      1.0   \n",
       "1                        13.8            0.0                      1.0   \n",
       "2                        13.4            0.0                      1.0   \n",
       "3                        14.0            0.0                      1.0   \n",
       "4                        13.0            0.0                      1.0   \n",
       "\n",
       "   Relative Humidity (morning, %)  Relative Humidity (afternoon, %)  \\\n",
       "0                              94                              62.0   \n",
       "1                              94                              62.0   \n",
       "2                              94                              61.0   \n",
       "3                              94                              64.0   \n",
       "4                              94                              68.0   \n",
       "\n",
       "   Sunshine (hour/day)  Cloudy (hour/day)  Solar Radiation (cal/cm^2/day)  \\\n",
       "0                  6.3                4.5                          277.72   \n",
       "1                  5.5                5.3                          257.52   \n",
       "2                  6.2                4.6                          275.20   \n",
       "3                  6.3                4.5                          277.72   \n",
       "4                  4.0                6.8                          219.63   \n",
       "\n",
       "   MAX_WL(m)  MIN_WL(m)  AVE_WL(m)  \n",
       "0       1.17       0.13       0.65  \n",
       "1       1.10       0.11       0.65  \n",
       "2       1.05       0.08       0.65  \n",
       "3       0.99       0.04       0.60  \n",
       "4       0.95       0.02       0.55  "
      ]
     },
     "execution_count": 2,
     "metadata": {},
     "output_type": "execute_result"
    }
   ],
   "source": [
    "# read raw csv by marking dropping missing values\n",
    "missing_values = ['NIL', 'nil', '']\n",
    "raw_df = pd.read_csv(os.path.join('..', '..', 'Datasets', 'water-level', 'barisal-weather-waterlevel_merged.csv'), \n",
    "                     na_values=missing_values)\n",
    "\n",
    "raw_df.head()"
   ]
  },
  {
   "cell_type": "markdown",
   "id": "3d8c4d20",
   "metadata": {},
   "source": [
    "## Pre-process on the daily dataset"
   ]
  },
  {
   "cell_type": "code",
   "execution_count": 3,
   "id": "c35fc304",
   "metadata": {},
   "outputs": [],
   "source": [
    "preProcessed_df = raw_df.copy()"
   ]
  },
  {
   "cell_type": "markdown",
   "id": "780829b3",
   "metadata": {},
   "source": [
    "### 1. Put NaN for invalid column values\n",
    "\n",
    "**2017 June 24 and 2019 whole December contains invalid values for Cloudy > 24.0**"
   ]
  },
  {
   "cell_type": "code",
   "execution_count": 4,
   "id": "955c894f",
   "metadata": {},
   "outputs": [],
   "source": [
    "preProcessed_df.loc[preProcessed_df['Cloudy (hour/day)'] > 24.0, 'Cloudy (hour/day)'] = math.nan"
   ]
  },
  {
   "cell_type": "markdown",
   "id": "cb6031b5",
   "metadata": {},
   "source": [
    "### 2. Fill missing values with mean of monthly values"
   ]
  },
  {
   "cell_type": "code",
   "execution_count": 5,
   "id": "5cf499d2",
   "metadata": {},
   "outputs": [
    {
     "name": "stdout",
     "output_type": "stream",
     "text": [
      "Total instances=1453, missing=212(14.59%)\n"
     ]
    }
   ],
   "source": [
    "def show_missing_data(_df):\n",
    "    df = _df.copy()\n",
    "    total_cnt = df.shape[0]\n",
    "    missing_cnt = df.shape[0]-df.dropna().shape[0]\n",
    "    print(f'Total instances={total_cnt}, missing={missing_cnt}({round(missing_cnt*100.0/total_cnt, 2)}%)')\n",
    "\n",
    "show_missing_data(preProcessed_df)"
   ]
  },
  {
   "cell_type": "code",
   "execution_count": 6,
   "id": "bf544d45",
   "metadata": {},
   "outputs": [
    {
     "name": "stdout",
     "output_type": "stream",
     "text": [
      "Total instances=1453, missing=90(6.19%)\n"
     ]
    }
   ],
   "source": [
    "for column in preProcessed_df.columns:\n",
    "    if column in ['Station', 'Year', 'Month', 'Day']:\n",
    "        continue\n",
    "        \n",
    "    preProcessed_df[column] = preProcessed_df.groupby(['Month', 'Year'])[column].transform(\n",
    "        lambda grp: grp.fillna(np.mean(grp))\n",
    "    )\n",
    "    \n",
    "show_missing_data(preProcessed_df)"
   ]
  },
  {
   "cell_type": "code",
   "execution_count": 7,
   "id": "b801086f",
   "metadata": {},
   "outputs": [],
   "source": [
    "# preProcessed_df[preProcessed_df.isna().any(axis=1)]"
   ]
  },
  {
   "cell_type": "markdown",
   "id": "31a1830c",
   "metadata": {},
   "source": [
    "**Some weather data for whole month of December 2019, February 2018 and May 2018 are still missing. Dropping them.**  "
   ]
  },
  {
   "cell_type": "code",
   "execution_count": 8,
   "id": "219b5935",
   "metadata": {},
   "outputs": [
    {
     "name": "stdout",
     "output_type": "stream",
     "text": [
      "Total instances=1363, missing=0(0.0%)\n"
     ]
    }
   ],
   "source": [
    "preProcessed_df.dropna(inplace=True)\n",
    "show_missing_data(preProcessed_df)"
   ]
  },
  {
   "cell_type": "markdown",
   "id": "2268d086",
   "metadata": {},
   "source": [
    "### 3. Drop unnecessary columns: Station, Year, Day"
   ]
  },
  {
   "cell_type": "code",
   "execution_count": 9,
   "id": "c8a41fcd",
   "metadata": {},
   "outputs": [
    {
     "data": {
      "text/html": [
       "<div>\n",
       "<style scoped>\n",
       "    .dataframe tbody tr th:only-of-type {\n",
       "        vertical-align: middle;\n",
       "    }\n",
       "\n",
       "    .dataframe tbody tr th {\n",
       "        vertical-align: top;\n",
       "    }\n",
       "\n",
       "    .dataframe thead th {\n",
       "        text-align: right;\n",
       "    }\n",
       "</style>\n",
       "<table border=\"1\" class=\"dataframe\">\n",
       "  <thead>\n",
       "    <tr style=\"text-align: right;\">\n",
       "      <th></th>\n",
       "      <th>Month</th>\n",
       "      <th>Max Temp. (degree Celcius)</th>\n",
       "      <th>Min Temp. (degree Celcius)</th>\n",
       "      <th>Rainfall (mm)</th>\n",
       "      <th>Actual Evaporation (mm)</th>\n",
       "      <th>Relative Humidity (morning, %)</th>\n",
       "      <th>Relative Humidity (afternoon, %)</th>\n",
       "      <th>Sunshine (hour/day)</th>\n",
       "      <th>Cloudy (hour/day)</th>\n",
       "      <th>Solar Radiation (cal/cm^2/day)</th>\n",
       "      <th>MAX_WL(m)</th>\n",
       "      <th>MIN_WL(m)</th>\n",
       "      <th>AVE_WL(m)</th>\n",
       "    </tr>\n",
       "  </thead>\n",
       "  <tbody>\n",
       "    <tr>\n",
       "      <th>0</th>\n",
       "      <td>1</td>\n",
       "      <td>25.2</td>\n",
       "      <td>13.8</td>\n",
       "      <td>0.0</td>\n",
       "      <td>1.0</td>\n",
       "      <td>94</td>\n",
       "      <td>62.0</td>\n",
       "      <td>6.3</td>\n",
       "      <td>4.5</td>\n",
       "      <td>277.72</td>\n",
       "      <td>1.17</td>\n",
       "      <td>0.13</td>\n",
       "      <td>0.65</td>\n",
       "    </tr>\n",
       "    <tr>\n",
       "      <th>1</th>\n",
       "      <td>1</td>\n",
       "      <td>25.4</td>\n",
       "      <td>13.8</td>\n",
       "      <td>0.0</td>\n",
       "      <td>1.0</td>\n",
       "      <td>94</td>\n",
       "      <td>62.0</td>\n",
       "      <td>5.5</td>\n",
       "      <td>5.3</td>\n",
       "      <td>257.52</td>\n",
       "      <td>1.10</td>\n",
       "      <td>0.11</td>\n",
       "      <td>0.65</td>\n",
       "    </tr>\n",
       "    <tr>\n",
       "      <th>2</th>\n",
       "      <td>1</td>\n",
       "      <td>25.6</td>\n",
       "      <td>13.4</td>\n",
       "      <td>0.0</td>\n",
       "      <td>1.0</td>\n",
       "      <td>94</td>\n",
       "      <td>61.0</td>\n",
       "      <td>6.2</td>\n",
       "      <td>4.6</td>\n",
       "      <td>275.20</td>\n",
       "      <td>1.05</td>\n",
       "      <td>0.08</td>\n",
       "      <td>0.65</td>\n",
       "    </tr>\n",
       "    <tr>\n",
       "      <th>3</th>\n",
       "      <td>1</td>\n",
       "      <td>25.4</td>\n",
       "      <td>14.0</td>\n",
       "      <td>0.0</td>\n",
       "      <td>1.0</td>\n",
       "      <td>94</td>\n",
       "      <td>64.0</td>\n",
       "      <td>6.3</td>\n",
       "      <td>4.5</td>\n",
       "      <td>277.72</td>\n",
       "      <td>0.99</td>\n",
       "      <td>0.04</td>\n",
       "      <td>0.60</td>\n",
       "    </tr>\n",
       "    <tr>\n",
       "      <th>4</th>\n",
       "      <td>1</td>\n",
       "      <td>23.0</td>\n",
       "      <td>13.0</td>\n",
       "      <td>0.0</td>\n",
       "      <td>1.0</td>\n",
       "      <td>94</td>\n",
       "      <td>68.0</td>\n",
       "      <td>4.0</td>\n",
       "      <td>6.8</td>\n",
       "      <td>219.63</td>\n",
       "      <td>0.95</td>\n",
       "      <td>0.02</td>\n",
       "      <td>0.55</td>\n",
       "    </tr>\n",
       "  </tbody>\n",
       "</table>\n",
       "</div>"
      ],
      "text/plain": [
       "   Month  Max Temp. (degree Celcius)  Min Temp. (degree Celcius)  \\\n",
       "0      1                        25.2                        13.8   \n",
       "1      1                        25.4                        13.8   \n",
       "2      1                        25.6                        13.4   \n",
       "3      1                        25.4                        14.0   \n",
       "4      1                        23.0                        13.0   \n",
       "\n",
       "   Rainfall (mm)  Actual Evaporation (mm)  Relative Humidity (morning, %)  \\\n",
       "0            0.0                      1.0                              94   \n",
       "1            0.0                      1.0                              94   \n",
       "2            0.0                      1.0                              94   \n",
       "3            0.0                      1.0                              94   \n",
       "4            0.0                      1.0                              94   \n",
       "\n",
       "   Relative Humidity (afternoon, %)  Sunshine (hour/day)  Cloudy (hour/day)  \\\n",
       "0                              62.0                  6.3                4.5   \n",
       "1                              62.0                  5.5                5.3   \n",
       "2                              61.0                  6.2                4.6   \n",
       "3                              64.0                  6.3                4.5   \n",
       "4                              68.0                  4.0                6.8   \n",
       "\n",
       "   Solar Radiation (cal/cm^2/day)  MAX_WL(m)  MIN_WL(m)  AVE_WL(m)  \n",
       "0                          277.72       1.17       0.13       0.65  \n",
       "1                          257.52       1.10       0.11       0.65  \n",
       "2                          275.20       1.05       0.08       0.65  \n",
       "3                          277.72       0.99       0.04       0.60  \n",
       "4                          219.63       0.95       0.02       0.55  "
      ]
     },
     "execution_count": 9,
     "metadata": {},
     "output_type": "execute_result"
    }
   ],
   "source": [
    "preProcessed_df.drop(columns=['Station', 'Year', 'Day'], inplace=True)\n",
    "preProcessed_df.head()"
   ]
  },
  {
   "cell_type": "markdown",
   "id": "ffb19e9e",
   "metadata": {},
   "source": [
    "## Pre-process the forecast-with-avg dataset"
   ]
  },
  {
   "cell_type": "code",
   "execution_count": 10,
   "id": "ac8cf509",
   "metadata": {},
   "outputs": [],
   "source": [
    "from custom_utils import get_avg_df"
   ]
  },
  {
   "cell_type": "code",
   "execution_count": 11,
   "id": "e4d12693",
   "metadata": {},
   "outputs": [],
   "source": [
    "preProcessed_forecastAvg_df = raw_df.copy()\n",
    "\n",
    "# put NaN where invalid data for the column 'Cloudy'\n",
    "preProcessed_forecastAvg_df.loc[preProcessed_forecastAvg_df['Cloudy (hour/day)']>24.0, 'Cloudy (hour/day)'] = math.nan\n",
    "\n",
    "# fill NaN values with monthly mean before forming the forecast-with-avg dataset\n",
    "for column in preProcessed_forecastAvg_df.columns:\n",
    "    if column in ['Station', 'Year', 'Month', 'Day']:\n",
    "        continue\n",
    "        \n",
    "    preProcessed_forecastAvg_df[column] = preProcessed_forecastAvg_df.groupby(['Month', 'Year'])[column].transform(\n",
    "        lambda grp: grp.fillna(np.mean(grp))\n",
    "    )\n",
    "\n",
    "preProcessed_forecastAvg_df = get_avg_df(preProcessed_forecastAvg_df)"
   ]
  },
  {
   "cell_type": "code",
   "execution_count": 12,
   "id": "f44cbae8",
   "metadata": {},
   "outputs": [
    {
     "name": "stdout",
     "output_type": "stream",
     "text": [
      "Total instances=1443, missing=84(5.82%)\n"
     ]
    }
   ],
   "source": [
    "show_missing_data(preProcessed_forecastAvg_df)"
   ]
  },
  {
   "cell_type": "code",
   "execution_count": 13,
   "id": "31a1c5e0",
   "metadata": {},
   "outputs": [
    {
     "name": "stdout",
     "output_type": "stream",
     "text": [
      "Total instances=1359, missing=0(0.0%)\n"
     ]
    }
   ],
   "source": [
    "preProcessed_forecastAvg_df.dropna(inplace=True)\n",
    "show_missing_data(preProcessed_forecastAvg_df)"
   ]
  },
  {
   "cell_type": "code",
   "execution_count": 14,
   "id": "e5858c2e",
   "metadata": {},
   "outputs": [
    {
     "name": "stdout",
     "output_type": "stream",
     "text": [
      "<class 'pandas.core.frame.DataFrame'>\n",
      "Int64Index: 1359 entries, 0 to 1442\n",
      "Data columns (total 12 columns):\n",
      " #   Column                                Non-Null Count  Dtype  \n",
      "---  ------                                --------------  -----  \n",
      " 0   Month                                 1359 non-null   int64  \n",
      " 1   Avg Max Temp. (degree Celcius)        1359 non-null   float64\n",
      " 2   Avg Min Temp. (degree Celcius)        1359 non-null   float64\n",
      " 3   Avg Rainfall (mm)                     1359 non-null   float64\n",
      " 4   Avg Actual Evaporation (mm)           1359 non-null   float64\n",
      " 5   Avg Relative Humidity (morning, %)    1359 non-null   float64\n",
      " 6   Avg Relative Humidity (afternoon, %)  1359 non-null   float64\n",
      " 7   Avg Sunshine (hour/day)               1359 non-null   float64\n",
      " 8   Avg Cloudy (hour/day)                 1359 non-null   float64\n",
      " 9   Avg Solar Radiation (cal/cm^2/day)    1359 non-null   float64\n",
      " 10  MAX_WL(m)                             1359 non-null   float64\n",
      " 11  AVE_WL(m)                             1359 non-null   float64\n",
      "dtypes: float64(11), int64(1)\n",
      "memory usage: 138.0 KB\n"
     ]
    }
   ],
   "source": [
    "preProcessed_forecastAvg_df.info()"
   ]
  },
  {
   "cell_type": "markdown",
   "id": "bb063e16",
   "metadata": {},
   "source": [
    "## Dropping Max Water Level and Min Water Level, will predict Average Water Level"
   ]
  },
  {
   "cell_type": "code",
   "execution_count": 15,
   "id": "e20a8152",
   "metadata": {},
   "outputs": [],
   "source": [
    "preProcessed_df.drop(columns=['MAX_WL(m)'], inplace=True)\n",
    "preProcessed_forecastAvg_df.drop(columns=['MAX_WL(m)'], inplace=True)\n",
    "\n",
    "preProcessed_df.drop(columns=['MIN_WL(m)'], inplace=True)"
   ]
  },
  {
   "cell_type": "markdown",
   "id": "8a56406f",
   "metadata": {},
   "source": [
    "## Save the pre-processed datasets"
   ]
  },
  {
   "cell_type": "code",
   "execution_count": 16,
   "id": "9db483f6",
   "metadata": {},
   "outputs": [],
   "source": [
    "preProcessed_df.to_csv(os.path.join('..', '..', 'Datasets', 'water-level', 'pre-processed', 'weather-waterlevel_preprocessed_regression.csv'), index=False)\n",
    "preProcessed_forecastAvg_df.to_csv(os.path.join('..', '..', 'Datasets', 'water-level', 'pre-processed', 'weather-waterlevel-forecast-avg_preprocessed_regression.csv'), index=False)"
   ]
  },
  {
   "cell_type": "markdown",
   "id": "4828b13c",
   "metadata": {},
   "source": [
    "## Form the classification dataset and save\n",
    "- class0: (0.0289, 0.75]\n",
    "- class1: (0.75, 1.4]\n",
    "- class2: (1.4, 2.64]"
   ]
  },
  {
   "cell_type": "code",
   "execution_count": 17,
   "id": "ffb9a034",
   "metadata": {},
   "outputs": [
    {
     "data": {
      "text/plain": [
       "(0.028999999999999998, 0.75]    458\n",
       "(0.75, 1.4]                     453\n",
       "(1.4, 2.64]                     452\n",
       "Name: AVE_WL(m), dtype: int64"
      ]
     },
     "execution_count": 17,
     "metadata": {},
     "output_type": "execute_result"
    }
   ],
   "source": [
    "bins = pd.qcut(preProcessed_df['AVE_WL(m)'], 3)\n",
    "bins.value_counts()"
   ]
  },
  {
   "cell_type": "code",
   "execution_count": 18,
   "id": "e6eda0f1",
   "metadata": {},
   "outputs": [
    {
     "data": {
      "text/html": [
       "<div>\n",
       "<style scoped>\n",
       "    .dataframe tbody tr th:only-of-type {\n",
       "        vertical-align: middle;\n",
       "    }\n",
       "\n",
       "    .dataframe tbody tr th {\n",
       "        vertical-align: top;\n",
       "    }\n",
       "\n",
       "    .dataframe thead th {\n",
       "        text-align: right;\n",
       "    }\n",
       "</style>\n",
       "<table border=\"1\" class=\"dataframe\">\n",
       "  <thead>\n",
       "    <tr style=\"text-align: right;\">\n",
       "      <th></th>\n",
       "      <th>Month</th>\n",
       "      <th>Max Temp. (degree Celcius)</th>\n",
       "      <th>Min Temp. (degree Celcius)</th>\n",
       "      <th>Rainfall (mm)</th>\n",
       "      <th>Actual Evaporation (mm)</th>\n",
       "      <th>Relative Humidity (morning, %)</th>\n",
       "      <th>Relative Humidity (afternoon, %)</th>\n",
       "      <th>Sunshine (hour/day)</th>\n",
       "      <th>Cloudy (hour/day)</th>\n",
       "      <th>Solar Radiation (cal/cm^2/day)</th>\n",
       "      <th>AVE_WL(m)</th>\n",
       "    </tr>\n",
       "  </thead>\n",
       "  <tbody>\n",
       "    <tr>\n",
       "      <th>788</th>\n",
       "      <td>3</td>\n",
       "      <td>29.0</td>\n",
       "      <td>19.0</td>\n",
       "      <td>0.0</td>\n",
       "      <td>3.0</td>\n",
       "      <td>77</td>\n",
       "      <td>53.0</td>\n",
       "      <td>9.0</td>\n",
       "      <td>2.9</td>\n",
       "      <td>450.92</td>\n",
       "      <td>0</td>\n",
       "    </tr>\n",
       "    <tr>\n",
       "      <th>1366</th>\n",
       "      <td>10</td>\n",
       "      <td>28.0</td>\n",
       "      <td>25.2</td>\n",
       "      <td>2.0</td>\n",
       "      <td>1.0</td>\n",
       "      <td>91</td>\n",
       "      <td>91.0</td>\n",
       "      <td>0.0</td>\n",
       "      <td>11.6</td>\n",
       "      <td>146.80</td>\n",
       "      <td>2</td>\n",
       "    </tr>\n",
       "    <tr>\n",
       "      <th>1290</th>\n",
       "      <td>7</td>\n",
       "      <td>30.0</td>\n",
       "      <td>25.0</td>\n",
       "      <td>9.0</td>\n",
       "      <td>1.0</td>\n",
       "      <td>91</td>\n",
       "      <td>84.0</td>\n",
       "      <td>1.3</td>\n",
       "      <td>12.1</td>\n",
       "      <td>229.46</td>\n",
       "      <td>2</td>\n",
       "    </tr>\n",
       "    <tr>\n",
       "      <th>652</th>\n",
       "      <td>10</td>\n",
       "      <td>32.0</td>\n",
       "      <td>22.8</td>\n",
       "      <td>0.0</td>\n",
       "      <td>2.0</td>\n",
       "      <td>95</td>\n",
       "      <td>59.0</td>\n",
       "      <td>7.0</td>\n",
       "      <td>4.6</td>\n",
       "      <td>350.55</td>\n",
       "      <td>1</td>\n",
       "    </tr>\n",
       "    <tr>\n",
       "      <th>673</th>\n",
       "      <td>11</td>\n",
       "      <td>29.2</td>\n",
       "      <td>18.0</td>\n",
       "      <td>3.2</td>\n",
       "      <td>2.0</td>\n",
       "      <td>95</td>\n",
       "      <td>57.0</td>\n",
       "      <td>7.0</td>\n",
       "      <td>4.0</td>\n",
       "      <td>305.98</td>\n",
       "      <td>1</td>\n",
       "    </tr>\n",
       "  </tbody>\n",
       "</table>\n",
       "</div>"
      ],
      "text/plain": [
       "      Month  Max Temp. (degree Celcius)  Min Temp. (degree Celcius)  \\\n",
       "788       3                        29.0                        19.0   \n",
       "1366     10                        28.0                        25.2   \n",
       "1290      7                        30.0                        25.0   \n",
       "652      10                        32.0                        22.8   \n",
       "673      11                        29.2                        18.0   \n",
       "\n",
       "      Rainfall (mm)  Actual Evaporation (mm)  Relative Humidity (morning, %)  \\\n",
       "788             0.0                      3.0                              77   \n",
       "1366            2.0                      1.0                              91   \n",
       "1290            9.0                      1.0                              91   \n",
       "652             0.0                      2.0                              95   \n",
       "673             3.2                      2.0                              95   \n",
       "\n",
       "      Relative Humidity (afternoon, %)  Sunshine (hour/day)  \\\n",
       "788                               53.0                  9.0   \n",
       "1366                              91.0                  0.0   \n",
       "1290                              84.0                  1.3   \n",
       "652                               59.0                  7.0   \n",
       "673                               57.0                  7.0   \n",
       "\n",
       "      Cloudy (hour/day)  Solar Radiation (cal/cm^2/day) AVE_WL(m)  \n",
       "788                 2.9                          450.92         0  \n",
       "1366               11.6                          146.80         2  \n",
       "1290               12.1                          229.46         2  \n",
       "652                 4.6                          350.55         1  \n",
       "673                 4.0                          305.98         1  "
      ]
     },
     "execution_count": 18,
     "metadata": {},
     "output_type": "execute_result"
    }
   ],
   "source": [
    "preProcessed_classification_df = preProcessed_df.copy()\n",
    "preProcessed_classification_df['AVE_WL(m)'] = pd.cut(x=preProcessed_classification_df['AVE_WL(m)'], \\\n",
    "                                                     bins=[0.028, 0.75, 1.4, 2.64], \\\n",
    "                                                     labels=[0, 1, 2])\n",
    "preProcessed_classification_df.sample(5)"
   ]
  },
  {
   "cell_type": "code",
   "execution_count": 19,
   "id": "11a4f62d",
   "metadata": {},
   "outputs": [
    {
     "data": {
      "text/html": [
       "<div>\n",
       "<style scoped>\n",
       "    .dataframe tbody tr th:only-of-type {\n",
       "        vertical-align: middle;\n",
       "    }\n",
       "\n",
       "    .dataframe tbody tr th {\n",
       "        vertical-align: top;\n",
       "    }\n",
       "\n",
       "    .dataframe thead th {\n",
       "        text-align: right;\n",
       "    }\n",
       "</style>\n",
       "<table border=\"1\" class=\"dataframe\">\n",
       "  <thead>\n",
       "    <tr style=\"text-align: right;\">\n",
       "      <th></th>\n",
       "      <th>Month</th>\n",
       "      <th>Avg Max Temp. (degree Celcius)</th>\n",
       "      <th>Avg Min Temp. (degree Celcius)</th>\n",
       "      <th>Avg Rainfall (mm)</th>\n",
       "      <th>Avg Actual Evaporation (mm)</th>\n",
       "      <th>Avg Relative Humidity (morning, %)</th>\n",
       "      <th>Avg Relative Humidity (afternoon, %)</th>\n",
       "      <th>Avg Sunshine (hour/day)</th>\n",
       "      <th>Avg Cloudy (hour/day)</th>\n",
       "      <th>Avg Solar Radiation (cal/cm^2/day)</th>\n",
       "      <th>AVE_WL(m)</th>\n",
       "    </tr>\n",
       "  </thead>\n",
       "  <tbody>\n",
       "    <tr>\n",
       "      <th>610</th>\n",
       "      <td>9</td>\n",
       "      <td>31.866667</td>\n",
       "      <td>26.600000</td>\n",
       "      <td>1.733333</td>\n",
       "      <td>2.066667</td>\n",
       "      <td>96.000000</td>\n",
       "      <td>79.666667</td>\n",
       "      <td>4.000000</td>\n",
       "      <td>8.200000</td>\n",
       "      <td>285.216667</td>\n",
       "      <td>2</td>\n",
       "    </tr>\n",
       "    <tr>\n",
       "      <th>341</th>\n",
       "      <td>12</td>\n",
       "      <td>25.066667</td>\n",
       "      <td>14.333333</td>\n",
       "      <td>0.000000</td>\n",
       "      <td>1.000000</td>\n",
       "      <td>94.000000</td>\n",
       "      <td>63.666667</td>\n",
       "      <td>5.800000</td>\n",
       "      <td>4.900000</td>\n",
       "      <td>254.779065</td>\n",
       "      <td>0</td>\n",
       "    </tr>\n",
       "    <tr>\n",
       "      <th>230</th>\n",
       "      <td>8</td>\n",
       "      <td>34.733333</td>\n",
       "      <td>27.066667</td>\n",
       "      <td>1.333333</td>\n",
       "      <td>3.000000</td>\n",
       "      <td>96.000000</td>\n",
       "      <td>76.666667</td>\n",
       "      <td>5.766667</td>\n",
       "      <td>7.033333</td>\n",
       "      <td>373.438698</td>\n",
       "      <td>2</td>\n",
       "    </tr>\n",
       "    <tr>\n",
       "      <th>1287</th>\n",
       "      <td>7</td>\n",
       "      <td>29.533333</td>\n",
       "      <td>26.400000</td>\n",
       "      <td>27.000000</td>\n",
       "      <td>1.000000</td>\n",
       "      <td>91.666667</td>\n",
       "      <td>83.000000</td>\n",
       "      <td>1.233333</td>\n",
       "      <td>12.166667</td>\n",
       "      <td>227.313333</td>\n",
       "      <td>2</td>\n",
       "    </tr>\n",
       "    <tr>\n",
       "      <th>828</th>\n",
       "      <td>4</td>\n",
       "      <td>33.933333</td>\n",
       "      <td>24.000000</td>\n",
       "      <td>0.000000</td>\n",
       "      <td>4.666667</td>\n",
       "      <td>90.000000</td>\n",
       "      <td>53.000000</td>\n",
       "      <td>8.866667</td>\n",
       "      <td>3.733333</td>\n",
       "      <td>464.003333</td>\n",
       "      <td>0</td>\n",
       "    </tr>\n",
       "  </tbody>\n",
       "</table>\n",
       "</div>"
      ],
      "text/plain": [
       "      Month  Avg Max Temp. (degree Celcius)  Avg Min Temp. (degree Celcius)  \\\n",
       "610       9                       31.866667                       26.600000   \n",
       "341      12                       25.066667                       14.333333   \n",
       "230       8                       34.733333                       27.066667   \n",
       "1287      7                       29.533333                       26.400000   \n",
       "828       4                       33.933333                       24.000000   \n",
       "\n",
       "      Avg Rainfall (mm)  Avg Actual Evaporation (mm)  \\\n",
       "610            1.733333                     2.066667   \n",
       "341            0.000000                     1.000000   \n",
       "230            1.333333                     3.000000   \n",
       "1287          27.000000                     1.000000   \n",
       "828            0.000000                     4.666667   \n",
       "\n",
       "      Avg Relative Humidity (morning, %)  \\\n",
       "610                            96.000000   \n",
       "341                            94.000000   \n",
       "230                            96.000000   \n",
       "1287                           91.666667   \n",
       "828                            90.000000   \n",
       "\n",
       "      Avg Relative Humidity (afternoon, %)  Avg Sunshine (hour/day)  \\\n",
       "610                              79.666667                 4.000000   \n",
       "341                              63.666667                 5.800000   \n",
       "230                              76.666667                 5.766667   \n",
       "1287                             83.000000                 1.233333   \n",
       "828                              53.000000                 8.866667   \n",
       "\n",
       "      Avg Cloudy (hour/day)  Avg Solar Radiation (cal/cm^2/day) AVE_WL(m)  \n",
       "610                8.200000                          285.216667         2  \n",
       "341                4.900000                          254.779065         0  \n",
       "230                7.033333                          373.438698         2  \n",
       "1287              12.166667                          227.313333         2  \n",
       "828                3.733333                          464.003333         0  "
      ]
     },
     "execution_count": 19,
     "metadata": {},
     "output_type": "execute_result"
    }
   ],
   "source": [
    "preProcessed_forecastAvg_classification_df = preProcessed_forecastAvg_df.copy()\n",
    "preProcessed_forecastAvg_classification_df['AVE_WL(m)'] = pd.cut(x=preProcessed_forecastAvg_df['AVE_WL(m)'], \\\n",
    "                                                     bins=[0.028, 0.74, 1.37, 2.64], \\\n",
    "                                                     labels=[0, 1, 2])\n",
    "preProcessed_forecastAvg_classification_df.sample(5)"
   ]
  },
  {
   "cell_type": "code",
   "execution_count": 20,
   "id": "2eb7d6be",
   "metadata": {},
   "outputs": [],
   "source": [
    "preProcessed_classification_df.to_csv(os.path.join('..', '..', 'Datasets', 'water-level', 'pre-processed', 'weather-waterlevel_preprocessed_classification.csv'), index=False)\n",
    "preProcessed_forecastAvg_classification_df.to_csv(os.path.join('..', '..', 'Datasets', 'water-level', 'pre-processed', 'weather-waterlevel-forecast-avg_preprocessed_classification.csv'), index=False)"
   ]
  },
  {
   "cell_type": "markdown",
   "id": "42203b0d",
   "metadata": {},
   "source": [
    "## Create separate train test datasets (ratio=80:20) and save"
   ]
  },
  {
   "cell_type": "code",
   "execution_count": 21,
   "id": "feffbd86",
   "metadata": {},
   "outputs": [],
   "source": [
    "def splitTrainTest_and_scale(_df, class_label, is_regression=False):\n",
    "    from sklearn.model_selection import train_test_split\n",
    "    from sklearn.preprocessing import MinMaxScaler\n",
    "    \n",
    "    df = _df.copy()\n",
    "    \n",
    "    X_all = df.drop(columns=class_label)\n",
    "    y_all = df[class_label]\n",
    "\n",
    "    if(is_regression):\n",
    "        X_train, X_test, y_train, y_test = train_test_split(X_all, y_all, test_size=0.2, random_state=42, shuffle=True)\n",
    "    else:    \n",
    "        X_train, X_test, y_train, y_test = train_test_split(X_all, y_all, test_size=0.2, random_state=42, stratify=y_all)\n",
    "    \n",
    "    # scale the dataset\n",
    "    scaler = MinMaxScaler()\n",
    "    X_train_scaled = scaler.fit_transform(X_train)\n",
    "    X_train = pd.DataFrame(X_train_scaled, index=X_train.index, columns=X_train.columns)\n",
    "    X_test_scaled = scaler.transform(X_test)\n",
    "    X_test = pd.DataFrame(X_test_scaled, index=X_test.index, columns=X_test.columns)\n",
    "    \n",
    "    # concat X, y\n",
    "    train_df = pd.concat([X_train, y_train], axis=1).reset_index(drop=True)\n",
    "    test_df = pd.concat([X_test, y_test], axis=1).reset_index(drop=True)\n",
    "    \n",
    "    return train_df, test_df"
   ]
  },
  {
   "cell_type": "code",
   "execution_count": 22,
   "id": "aa873ea5",
   "metadata": {},
   "outputs": [],
   "source": [
    "preProcessed_train_df, preProcessed_test_df = splitTrainTest_and_scale(preProcessed_df, 'AVE_WL(m)', is_regression=True)\n",
    "\n",
    "preProcessed_forecastAvg_train_df, preProcessed_forecastAvg_test_df = splitTrainTest_and_scale(preProcessed_forecastAvg_df, \\\n",
    "                                                                                       class_label='AVE_WL(m)', \\\n",
    "                                                                                       is_regression=True)"
   ]
  },
  {
   "cell_type": "code",
   "execution_count": 23,
   "id": "4b5b4409",
   "metadata": {},
   "outputs": [],
   "source": [
    "preProcessed_train_df.to_csv(os.path.join('..', '..', 'Datasets', 'water-level', 'final-datasets', 'train', 'weather-waterlevel_train_regression.csv'), index=False)\n",
    "preProcessed_forecastAvg_train_df.to_csv(os.path.join('..', '..', 'Datasets', 'water-level', 'final-datasets', 'train', 'weather-waterlevel-forecast-avg_train_regression.csv'), index=False)\n",
    "\n",
    "preProcessed_test_df.to_csv(os.path.join('..', '..', 'Datasets', 'water-level', 'final-datasets', 'test', 'weather-waterlevel_test_regression.csv'), index=False)\n",
    "preProcessed_forecastAvg_test_df.to_csv(os.path.join('..', '..', 'Datasets', 'water-level', 'final-datasets', 'test', 'weather-waterlevel-forecast-avg_test_regression.csv'), index=False)"
   ]
  },
  {
   "cell_type": "code",
   "execution_count": 24,
   "id": "b8cb393b",
   "metadata": {},
   "outputs": [],
   "source": [
    "preProcessed_classification_train_df, preProcessed_classification_test_df \\\n",
    "= splitTrainTest_and_scale(preProcessed_classification_df, class_label='AVE_WL(m)')\n",
    "\n",
    "preProcessed_forecastAvg_classification_train_df, preProcessed_forecastAvg_classification_test_df \\\n",
    "= splitTrainTest_and_scale(preProcessed_forecastAvg_classification_df, class_label='AVE_WL(m)')"
   ]
  },
  {
   "cell_type": "code",
   "execution_count": 25,
   "id": "acb6e8fc",
   "metadata": {},
   "outputs": [],
   "source": [
    "preProcessed_classification_train_df.to_csv(os.path.join('..', '..', 'Datasets', 'water-level', 'final-datasets', 'train', 'weather-waterlevel_train_classification.csv'), index=False)\n",
    "preProcessed_forecastAvg_classification_train_df.to_csv(os.path.join('..', '..', 'Datasets', 'water-level', 'final-datasets', 'train', 'weather-waterlevel-forecast-avg_train_classification.csv'), index=False)\n",
    "\n",
    "preProcessed_classification_test_df.to_csv(os.path.join('..', '..', 'Datasets', 'water-level', 'final-datasets', 'test', 'weather-waterlevel_test_classification.csv'), index=False)\n",
    "preProcessed_forecastAvg_classification_test_df.to_csv(os.path.join('..', '..', 'Datasets', 'water-level', 'final-datasets', 'test', 'weather-waterlevel-forecast-avg_test_classification.csv'), index=False)"
   ]
  }
 ],
 "metadata": {
  "kernelspec": {
   "display_name": "Python 3",
   "language": "python",
   "name": "python3"
  },
  "language_info": {
   "codemirror_mode": {
    "name": "ipython",
    "version": 3
   },
   "file_extension": ".py",
   "mimetype": "text/x-python",
   "name": "python",
   "nbconvert_exporter": "python",
   "pygments_lexer": "ipython3",
   "version": "3.8.8"
  }
 },
 "nbformat": 4,
 "nbformat_minor": 5
}
